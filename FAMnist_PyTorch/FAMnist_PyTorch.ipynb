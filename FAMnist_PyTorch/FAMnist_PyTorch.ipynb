{
  "nbformat": 4,
  "nbformat_minor": 0,
  "metadata": {
    "colab": {
      "name": "FAMnist_PyTorch.ipynb",
      "provenance": [],
      "collapsed_sections": [],
      "include_colab_link": true
    },
    "kernelspec": {
      "name": "python3",
      "display_name": "Python 3"
    },
    "language_info": {
      "name": "python"
    },
    "accelerator": "GPU"
  },
  "cells": [
    {
      "cell_type": "markdown",
      "metadata": {
        "id": "view-in-github",
        "colab_type": "text"
      },
      "source": [
        "<a href=\"https://colab.research.google.com/github/maheravi/Deep-Learning/blob/main/FAMnist_PyTorch/FAMnist_PyTorch.ipynb\" target=\"_parent\"><img src=\"https://colab.research.google.com/assets/colab-badge.svg\" alt=\"Open In Colab\"/></a>"
      ]
    },
    {
      "cell_type": "code",
      "metadata": {
        "id": "bAltkQau1eOm"
      },
      "source": [
        "import torch\n",
        "from torch import nn\n",
        "from torch.utils.data import DataLoader\n",
        "from torchvision.datasets import FashionMNIST"
      ],
      "execution_count": 26,
      "outputs": []
    },
    {
      "cell_type": "code",
      "source": [
        "# hyperparameters\n",
        "latent_size = 10\n",
        "disc_inp_sz = 28*28\n",
        "img_size = 28\n",
        "epochs = 10\n",
        "batch_size = 32\n",
        "lr = 0.001"
      ],
      "metadata": {
        "id": "7fUp_60YTSUx"
      },
      "execution_count": 87,
      "outputs": []
    },
    {
      "cell_type": "code",
      "metadata": {
        "id": "WH1WREd42OM7"
      },
      "source": [
        "class MyModel(nn.Module):\n",
        "    def __init__(self, input_dims, output_dims):\n",
        "        super(MyModel, self).__init__()\n",
        "        self.fc = nn.Sequential(\n",
        "            nn.Linear(input_dims, 256),\n",
        "            nn.ReLU(),\n",
        "            nn.BatchNorm1d(256),\n",
        "            nn.Dropout(0.25),\n",
        "            \n",
        "            nn.Linear(256, 128),\n",
        "            nn.ReLU(),\n",
        "            nn.BatchNorm1d(128),\n",
        "            nn.Dropout(0.5),\n",
        "\n",
        "            nn.Linear(128, 64),\n",
        "            nn.ReLU(),\n",
        "            nn.BatchNorm1d(64),\n",
        "            nn.Dropout(0.5),\n",
        "            \n",
        "            nn.Linear(64, output_dims),\n",
        "            nn.Sigmoid(),\n",
        "                        )\n",
        "        \n",
        "    def forward(self, input_t):\n",
        "      input_t = input_t.reshape((input_t.shape[0], 784))\n",
        "      return self.fc(input_t)"
      ],
      "execution_count": 94,
      "outputs": []
    },
    {
      "cell_type": "code",
      "metadata": {
        "id": "ISS2sL_Y7U7u",
        "colab": {
          "base_uri": "https://localhost:8080/"
        },
        "outputId": "77590ca8-46d8-47c3-e0f4-9c9b200f5c3c"
      },
      "source": [
        " device = torch.device(\"cuda\")\n",
        "# device = torch.device(\"cpu\")\n",
        "\n",
        "model = MyModel(disc_inp_sz, latent_size).to(device)\n",
        "\n",
        "model = model.to(device)\n",
        "model.train(True)"
      ],
      "execution_count": 89,
      "outputs": [
        {
          "output_type": "execute_result",
          "data": {
            "text/plain": [
              "MyModel(\n",
              "  (fc): Sequential(\n",
              "    (0): Linear(in_features=784, out_features=256, bias=True)\n",
              "    (1): ReLU()\n",
              "    (2): BatchNorm1d(256, eps=1e-05, momentum=0.1, affine=True, track_running_stats=True)\n",
              "    (3): Dropout(p=0.25, inplace=False)\n",
              "    (4): Linear(in_features=256, out_features=128, bias=True)\n",
              "    (5): ReLU()\n",
              "    (6): BatchNorm1d(128, eps=1e-05, momentum=0.1, affine=True, track_running_stats=True)\n",
              "    (7): Dropout(p=0.5, inplace=False)\n",
              "    (8): Linear(in_features=128, out_features=64, bias=True)\n",
              "    (9): ReLU()\n",
              "    (10): BatchNorm1d(64, eps=1e-05, momentum=0.1, affine=True, track_running_stats=True)\n",
              "    (11): Dropout(p=0.5, inplace=False)\n",
              "    (12): Linear(in_features=64, out_features=10, bias=True)\n",
              "    (13): Sigmoid()\n",
              "  )\n",
              ")"
            ]
          },
          "metadata": {},
          "execution_count": 89
        }
      ]
    },
    {
      "cell_type": "code",
      "metadata": {
        "id": "FvjhjgX-JWGH"
      },
      "source": [
        "def calc_acc(preds, labels):\n",
        "    _, preds_max = torch.max(preds, 1)\n",
        "    acc = torch.sum(preds_max == labels.data, dtype=torch.float64) / len(preds)\n",
        "    return acc"
      ],
      "execution_count": 90,
      "outputs": []
    },
    {
      "cell_type": "code",
      "metadata": {
        "id": "fRwKLl1H8lNu"
      },
      "source": [
        "# Data Preparing\n",
        "\n",
        "transform = torchvision.transforms.Compose([\n",
        "        torchvision.transforms.ToTensor(),\n",
        "        torchvision.transforms.Normalize((0), (1))\n",
        "])\n",
        "\n",
        "dataset = torchvision.datasets.FashionMNIST(\"./dataset\", train=True, download=True, transform=transform)\n",
        "train_data_loader = torch.utils.data.DataLoader(dataset, batch_size=batch_size, shuffle=True)"
      ],
      "execution_count": 91,
      "outputs": []
    },
    {
      "cell_type": "code",
      "metadata": {
        "id": "_FXbdTDBC1AZ"
      },
      "source": [
        " # compile\n",
        "optimizer = torch.optim.Adam(model.parameters(), lr=lr)\n",
        "loss_function = torch.nn.CrossEntropyLoss()"
      ],
      "execution_count": 92,
      "outputs": []
    },
    {
      "cell_type": "code",
      "metadata": {
        "colab": {
          "base_uri": "https://localhost:8080/"
        },
        "id": "08p9Lp_kD4tW",
        "outputId": "a85d2c15-30c5-43c7-c5c4-48e4ceb272d7"
      },
      "source": [
        "# train\n",
        "\n",
        "for epoch in range(epochs):\n",
        "    train_loss = 0.0\n",
        "    train_acc = 0.0\n",
        "    for images, labels in train_data_loader:\n",
        "        images = images.to(device)\n",
        "        labels = labels.to(device)\n",
        "        optimizer.zero_grad()\n",
        "        # 1- forwarding\n",
        "        preds = model(images)\n",
        "        # 2- backwarding \n",
        "        loss = loss_function(preds, labels)\n",
        "        loss.backward()\n",
        "        # 3- Update\n",
        "        optimizer.step()\n",
        "\n",
        "        train_loss += loss\n",
        "        train_acc += calc_acc(preds, labels)\n",
        "    \n",
        "    total_loss = train_loss / len(train_data_loader)\n",
        "    total_acc = train_acc / len(train_data_loader)\n",
        "\n",
        "    print(f\"Epoch: {epoch}, Loss: {total_loss}, Acc: {total_acc}\")"
      ],
      "execution_count": 93,
      "outputs": [
        {
          "output_type": "stream",
          "name": "stdout",
          "text": [
            "Epoch: 0, Loss: 1.7172375917434692, Acc: 0.6479833333333334\n",
            "Epoch: 1, Loss: 1.6353857517242432, Acc: 0.7182333333333334\n",
            "Epoch: 2, Loss: 1.613921880722046, Acc: 0.7676000000000001\n",
            "Epoch: 3, Loss: 1.6077899932861328, Acc: 0.7765833333333334\n",
            "Epoch: 4, Loss: 1.6020374298095703, Acc: 0.7958500000000001\n",
            "Epoch: 5, Loss: 1.5956372022628784, Acc: 0.8069500000000001\n",
            "Epoch: 6, Loss: 1.5943416357040405, Acc: 0.8101166666666667\n",
            "Epoch: 7, Loss: 1.5956722497940063, Acc: 0.8080333333333334\n",
            "Epoch: 8, Loss: 1.5932137966156006, Acc: 0.81045\n",
            "Epoch: 9, Loss: 1.5891281366348267, Acc: 0.8163333333333334\n"
          ]
        }
      ]
    },
    {
      "cell_type": "code",
      "metadata": {
        "id": "YvK38m2ALXRi"
      },
      "source": [
        "# save\n",
        "torch.save(model.state_dict(), \"FAMnist.pth\")"
      ],
      "execution_count": 95,
      "outputs": []
    },
    {
      "cell_type": "code",
      "metadata": {
        "colab": {
          "base_uri": "https://localhost:8080/"
        },
        "id": "7c20DbHl8TH2",
        "outputId": "a1547faa-87c4-420b-e960-5aed114fa1e0"
      },
      "source": [
        "# inference\n",
        "\n",
        "import cv2\n",
        "import numpy as np\n",
        "\n",
        "\n",
        "# model.train(False)\n",
        "model.eval()\n",
        "\n",
        "# preprocess\n",
        "img = cv2.imread(\"3.jpg\")\n",
        "img = cv2.cvtColor(img, cv2.COLOR_BGR2GRAY)\n",
        "img = cv2.resize(img, (28, 28))\n",
        "tensor = transform(img).unsqueeze(0).to(device)\n",
        "\n",
        "# process\n",
        "preds = model(tensor)\n",
        "\n",
        "# postprocess\n",
        "preds = preds.cpu().detach().numpy()\n",
        "output = np.argmax(preds)\n",
        "output"
      ],
      "execution_count": null,
      "outputs": [
        {
          "output_type": "execute_result",
          "data": {
            "text/plain": [
              "3"
            ]
          },
          "metadata": {},
          "execution_count": 35
        }
      ]
    },
    {
      "cell_type": "code",
      "metadata": {
        "id": "xliTDWEROZ97"
      },
      "source": [
        ""
      ],
      "execution_count": null,
      "outputs": []
    }
  ]
}