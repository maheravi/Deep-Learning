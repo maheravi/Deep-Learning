{
  "nbformat": 4,
  "nbformat_minor": 0,
  "metadata": {
    "colab": {
      "name": "Joon_Del.ipynb",
      "provenance": [],
      "mount_file_id": "1ZvD8wCMHE1XtjrtnMKk2QazHLDD_YeMy",
      "authorship_tag": "ABX9TyPTAb9dx78EzHY0Hf6lzoJc",
      "include_colab_link": true
    },
    "kernelspec": {
      "name": "python3",
      "display_name": "Python 3"
    },
    "language_info": {
      "name": "python"
    },
    "accelerator": "GPU"
  },
  "cells": [
    {
      "cell_type": "markdown",
      "metadata": {
        "id": "view-in-github",
        "colab_type": "text"
      },
      "source": [
        "<a href=\"https://colab.research.google.com/github/maheravi/Deep-Learning/blob/main/Recurrent%20Neural%20Network/Joon_Del.ipynb\" target=\"_parent\"><img src=\"https://colab.research.google.com/assets/colab-badge.svg\" alt=\"Open In Colab\"/></a>"
      ]
    },
    {
      "cell_type": "code",
      "execution_count": 1,
      "metadata": {
        "id": "-v7ARgTK2zqf"
      },
      "outputs": [],
      "source": [
        "import numpy as np\n",
        "import tensorflow as tf\n",
        "import cv2\n",
        "import os\n",
        "from tensorflow.keras.layers import Conv2D, MaxPooling2D, SimpleRNN, GRU, LSTM, Dense, Flatten, TimeDistributed\n",
        "from matplotlib import pyplot as plt"
      ]
    },
    {
      "cell_type": "code",
      "source": [
        "batch_size = 12\n",
        "epoch = 10\n",
        "lr = 0.001\n",
        "width = height = 50"
      ],
      "metadata": {
        "id": "SVGPUtgE3Jy-"
      },
      "execution_count": 2,
      "outputs": []
    },
    {
      "cell_type": "code",
      "source": [
        "path = \"/content/drive/MyDrive/joon_del/\"\n",
        "dirs = os.listdir(path)\n",
        "dirs"
      ],
      "metadata": {
        "colab": {
          "base_uri": "https://localhost:8080/"
        },
        "id": "7ZpKkF1WYcXp",
        "outputId": "c4ebd22c-1604-446a-d434-728b3d3b0088"
      },
      "execution_count": 3,
      "outputs": [
        {
          "output_type": "execute_result",
          "data": {
            "text/plain": [
              "['0', '1']"
            ]
          },
          "metadata": {},
          "execution_count": 3
        }
      ]
    },
    {
      "cell_type": "code",
      "source": [
        "path = \"/content/drive/MyDrive/joon_del/\"\n",
        "dirs = os.listdir(path)\n",
        "\n",
        "File=[]\n",
        "label=[]\n",
        "\n",
        "for dir in dirs:\n",
        "  subfolder = f\"/content/drive/MyDrive/joon_del/{dir}\"\n",
        "  files = os.listdir(subfolder)\n",
        "  for f in files:\n",
        "    cap = cv2.VideoCapture(f'/content/drive/MyDrive/joon_del/{dir}/{f}')\n",
        "    video=[]\n",
        "    while(True):\n",
        "      ret, frame = cap.read()\n",
        "      if ret == False:\n",
        "          break\n",
        "      frame_gray = cv2.cvtColor(frame, cv2.COLOR_BGR2GRAY)\n",
        "      img = cv2.resize(frame_gray, dsize=(width, height))\n",
        "      video.append(img)\n",
        "    File.append(video)\n",
        "    label.append(float(dir))\n",
        "\n",
        "\n"
      ],
      "metadata": {
        "id": "Bx1FwV5CYu3k"
      },
      "execution_count": 4,
      "outputs": []
    },
    {
      "cell_type": "code",
      "source": [
        "longest_list = max(len(f) for f in File)\n",
        "longest_list"
      ],
      "metadata": {
        "colab": {
          "base_uri": "https://localhost:8080/"
        },
        "id": "_trfqRQuUAS9",
        "outputId": "1acf902d-67dd-4080-fd36-0acc7760e1ef"
      },
      "execution_count": 5,
      "outputs": [
        {
          "output_type": "execute_result",
          "data": {
            "text/plain": [
              "313"
            ]
          },
          "metadata": {},
          "execution_count": 5
        }
      ]
    },
    {
      "cell_type": "code",
      "source": [
        "for i, f in enumerate(File):\n",
        "  if len (f) < longest_list:\n",
        "    for j in range(longest_list-len(f)):\n",
        "      File[i].append(np.zeros((width, height)))"
      ],
      "metadata": {
        "id": "0oBAwR7pUSeW"
      },
      "execution_count": 6,
      "outputs": []
    },
    {
      "cell_type": "code",
      "source": [
        "File = np.asarray(File)\n",
        "label = np.asarray(label)\n",
        "File = File[..., np.newaxis]\n",
        "label = label[..., np.newaxis]"
      ],
      "metadata": {
        "id": "B55aisduU-1P"
      },
      "execution_count": 7,
      "outputs": []
    },
    {
      "cell_type": "code",
      "source": [
        "from sklearn.model_selection import train_test_split\n",
        "X_train, X_test, y_train, y_test = train_test_split(File, label, test_size=0.2, random_state=42)"
      ],
      "metadata": {
        "id": "ncDGNRqkUlNF"
      },
      "execution_count": 8,
      "outputs": []
    },
    {
      "cell_type": "code",
      "source": [
        "print('train data size:', X_train.shape)\n",
        "print('train label size:', y_train.shape)\n"
      ],
      "metadata": {
        "colab": {
          "base_uri": "https://localhost:8080/"
        },
        "id": "AJ3P8GJQUxzl",
        "outputId": "dd2d99c2-f66c-47c9-ee86-ae3bc5ff9258"
      },
      "execution_count": 9,
      "outputs": [
        {
          "output_type": "stream",
          "name": "stdout",
          "text": [
            "train data size: (50, 313, 50, 50, 1)\n",
            "train label size: (50, 1)\n"
          ]
        }
      ]
    },
    {
      "cell_type": "code",
      "source": [
        "crnn = tf.keras.models.Sequential([\n",
        "                  # CNN\n",
        "                  TimeDistributed(Conv2D(16, (3, 3), activation=\"relu\", input_shape=(None, width, height, 1))),\n",
        "                  TimeDistributed(MaxPooling2D(pool_size=(2, 2))),\n",
        "                  TimeDistributed(Conv2D(8, (3, 3), activation=\"relu\")),\n",
        "                  TimeDistributed(MaxPooling2D(pool_size=(2, 2))),\n",
        "                  TimeDistributed(Conv2D(4, (3, 3), activation=\"relu\")),\n",
        "                  TimeDistributed(MaxPooling2D(pool_size=(2, 2))),\n",
        "                  TimeDistributed(Conv2D(2, (3, 3), activation=\"relu\")),\n",
        "                  TimeDistributed(MaxPooling2D(pool_size=(2, 2))),\n",
        "\n",
        "                  TimeDistributed(Flatten()),\n",
        "\n",
        "                  # RNN\n",
        "                  SimpleRNN(50),\n",
        "                  Dense(2, activation=\"softmax\")\n",
        "])"
      ],
      "metadata": {
        "id": "iuRXn8gUU6jt"
      },
      "execution_count": 10,
      "outputs": []
    },
    {
      "cell_type": "code",
      "source": [
        "crnn.compile(optimizer=tf.keras.optimizers.Adam(),\n",
        "              loss=tf.keras.losses.sparse_categorical_crossentropy,\n",
        "              metrics=[\"accuracy\"])\n",
        "\n",
        "crnn.fit(X_train, y_train, batch_size=batch_size, epochs=epoch)"
      ],
      "metadata": {
        "colab": {
          "base_uri": "https://localhost:8080/"
        },
        "id": "EXwysUTpXF3y",
        "outputId": "b6215ff8-6c11-4c46-e9b9-a060613689e5"
      },
      "execution_count": 11,
      "outputs": [
        {
          "output_type": "stream",
          "name": "stdout",
          "text": [
            "Epoch 1/10\n",
            "5/5 [==============================] - 16s 427ms/step - loss: 0.6775 - accuracy: 0.5000\n",
            "Epoch 2/10\n",
            "5/5 [==============================] - 2s 363ms/step - loss: 0.7626 - accuracy: 0.4400\n",
            "Epoch 3/10\n",
            "5/5 [==============================] - 2s 378ms/step - loss: 0.7609 - accuracy: 0.4400\n",
            "Epoch 4/10\n",
            "5/5 [==============================] - 2s 394ms/step - loss: 0.6854 - accuracy: 0.5600\n",
            "Epoch 5/10\n",
            "5/5 [==============================] - 2s 366ms/step - loss: 0.6975 - accuracy: 0.5200\n",
            "Epoch 6/10\n",
            "5/5 [==============================] - 2s 339ms/step - loss: 0.6957 - accuracy: 0.5400\n",
            "Epoch 7/10\n",
            "5/5 [==============================] - 2s 351ms/step - loss: 0.6902 - accuracy: 0.5000\n",
            "Epoch 8/10\n",
            "5/5 [==============================] - 2s 386ms/step - loss: 0.6902 - accuracy: 0.5600\n",
            "Epoch 9/10\n",
            "5/5 [==============================] - 2s 365ms/step - loss: 0.6909 - accuracy: 0.5400\n",
            "Epoch 10/10\n",
            "5/5 [==============================] - 2s 360ms/step - loss: 0.6958 - accuracy: 0.5400\n"
          ]
        },
        {
          "output_type": "execute_result",
          "data": {
            "text/plain": [
              "<keras.callbacks.History at 0x7f455060b850>"
            ]
          },
          "metadata": {},
          "execution_count": 11
        }
      ]
    },
    {
      "cell_type": "code",
      "source": [
        "crnn_eval = crnn.evaluate(X_test, y_test)\n"
      ],
      "metadata": {
        "colab": {
          "base_uri": "https://localhost:8080/"
        },
        "id": "bYtl8BdoXbyN",
        "outputId": "b16e5ad7-8692-4a0b-f022-913fb30cc5fb"
      },
      "execution_count": 12,
      "outputs": [
        {
          "output_type": "stream",
          "name": "stdout",
          "text": [
            "1/1 [==============================] - 1s 782ms/step - loss: 0.7065 - accuracy: 0.4615\n"
          ]
        }
      ]
    },
    {
      "cell_type": "code",
      "source": [
        ""
      ],
      "metadata": {
        "id": "YSfXNPMCYArl"
      },
      "execution_count": null,
      "outputs": []
    }
  ]
}