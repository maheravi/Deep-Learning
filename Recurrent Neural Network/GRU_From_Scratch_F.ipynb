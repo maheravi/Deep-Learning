{
  "nbformat": 4,
  "nbformat_minor": 0,
  "metadata": {
    "colab": {
      "name": "GRU_From_Scratch_F.ipynb",
      "provenance": [],
      "authorship_tag": "ABX9TyMNt9fcipUHIkGkXKqF7gHW",
      "include_colab_link": true
    },
    "kernelspec": {
      "name": "python3",
      "display_name": "Python 3"
    },
    "language_info": {
      "name": "python"
    }
  },
  "cells": [
    {
      "cell_type": "markdown",
      "metadata": {
        "id": "view-in-github",
        "colab_type": "text"
      },
      "source": [
        "<a href=\"https://colab.research.google.com/github/maheravi/Deep-Learning/blob/main/Recurrent%20Neural%20Network/GRU_From_Scratch_F.ipynb\" target=\"_parent\"><img src=\"https://colab.research.google.com/assets/colab-badge.svg\" alt=\"Open In Colab\"/></a>"
      ]
    },
    {
      "cell_type": "code",
      "source": [
        "import tensorflow as tf\n",
        "import numpy as np\n",
        "import matplotlib.pyplot as plt\n",
        "import torch\n",
        "from torch import nn"
      ],
      "metadata": {
        "id": "QwnCwvlHlBa-"
      },
      "execution_count": 31,
      "outputs": []
    },
    {
      "cell_type": "code",
      "execution_count": 32,
      "metadata": {
        "id": "mYcp6IE5ijHj"
      },
      "outputs": [],
      "source": [
        "def get_params(input_nodes, hidden_unit, output_nodes):\n",
        "\n",
        "    def normal(shape):\n",
        "        return torch.randn(size=shape)*0.01\n",
        "\n",
        "    def init_mat():\n",
        "        return (normal((input_nodes, hidden_unit)),\n",
        "                normal((hidden_unit, hidden_unit)),\n",
        "                torch.zeros(hidden_unit))\n",
        "\n",
        "    W_xz, W_hz, b_z = init_mat()  # Update door parameters\n",
        "    W_xr, W_hr, b_r = init_mat()  # Reset door parameters   \n",
        "    W_xh, W_hh, b_h = init_mat()  # Candidate hidden state parameters\n",
        "\n",
        "    # Output layer parameters\n",
        "    W_hq = normal((hidden_unit, output_nodes))\n",
        "    b_q = torch.zeros(output_nodes, )\n",
        "    \n",
        "    # Additional gradient\n",
        "    params = [W_xz, W_hz, b_z, W_xr, W_hr, b_r, W_xh, W_hh, b_h, W_hq, b_q]\n",
        "\n",
        "    return params"
      ]
    },
    {
      "cell_type": "code",
      "source": [
        "def gru(inputs, params):\n",
        "    W_xz, W_hz, b_z, W_xr, W_hr, b_r, W_xh, W_hh, b_h, W_hq, b_q = params \n",
        "    # H, = state\n",
        "    H = torch.randn((input_nodes, hidden_unit))*0.01\n",
        "    outputs = []\n",
        "    for X in inputs: \n",
        "        \n",
        "        Z = torch.sigmoid((X @ W_xz) + (H @ W_hz) + b_z)\n",
        "        R = torch.sigmoid((X @ W_xr) + (H @ W_hr) + b_r)\n",
        "        H_tilda = torch.tanh((X @ W_xh) + ((R * H) @ W_hh) + b_h)\n",
        "        H = Z * H + (1 - Z) * H_tilda\n",
        "        Y = H @ W_hq + b_q\n",
        "    \n",
        "    return H"
      ],
      "metadata": {
        "id": "tk8GhdeDp9z-"
      },
      "execution_count": 33,
      "outputs": []
    },
    {
      "cell_type": "code",
      "source": [
        "N = 1500\n",
        "t = np.arange(0,N)"
      ],
      "metadata": {
        "id": "1i6kCyOLk_rD"
      },
      "execution_count": 34,
      "outputs": []
    },
    {
      "cell_type": "code",
      "source": [
        "data_sin = np.sin(0.02 * t) + np.random.uniform(-0.05, 0.05, N)\n",
        "plt.plot(data_sin)"
      ],
      "metadata": {
        "colab": {
          "base_uri": "https://localhost:8080/",
          "height": 282
        },
        "id": "tyXJ8_wZmcOW",
        "outputId": "da0a9286-e753-4453-f3d1-ce25958a6896"
      },
      "execution_count": 35,
      "outputs": [
        {
          "output_type": "execute_result",
          "data": {
            "text/plain": [
              "[<matplotlib.lines.Line2D at 0x7feb782bda90>]"
            ]
          },
          "metadata": {},
          "execution_count": 35
        },
        {
          "output_type": "display_data",
          "data": {
            "text/plain": [
              "<Figure size 432x288 with 1 Axes>"
            ],
            "image/png": "[encoded data removed]"
          },
          "metadata": {
            "needs_background": "light"
          }
        }
      ]
    },
    {
      "cell_type": "code",
      "source": [
        "def ConvertSignalToDataset(signal, step):\n",
        "  X = []\n",
        "  y = []\n",
        "  for i in range(len(signal)-step):\n",
        "    j = i + step\n",
        "    X.append(signal[i:j])\n",
        "    y.append(signal[j])\n",
        "\n",
        "  return np.array(X), np.array(y)"
      ],
      "metadata": {
        "id": "7zr80jdlmgUm"
      },
      "execution_count": 36,
      "outputs": []
    },
    {
      "cell_type": "code",
      "source": [
        "seq_length = 20\n",
        "X, y = ConvertSignalToDataset(data_sin, seq_length)\n",
        "X = torch.Tensor(X)"
      ],
      "metadata": {
        "id": "J0TTDs3amnow"
      },
      "execution_count": 37,
      "outputs": []
    },
    {
      "cell_type": "code",
      "source": [
        "input_nodes = 20\n",
        "hidden_unit = 64\n",
        "output_nodes = 1"
      ],
      "metadata": {
        "id": "G8zKVf7pnI_A"
      },
      "execution_count": 38,
      "outputs": []
    },
    {
      "cell_type": "code",
      "source": [
        "params = get_params(input_nodes, hidden_unit, output_nodes)"
      ],
      "metadata": {
        "id": "rkr6wZArrnC5"
      },
      "execution_count": 39,
      "outputs": []
    },
    {
      "cell_type": "code",
      "source": [
        "GRU = gru(X, params)"
      ],
      "metadata": {
        "id": "CwGBkZtprvy4"
      },
      "execution_count": 40,
      "outputs": []
    },
    {
      "cell_type": "code",
      "source": [
        "output = torch.matmul(GRU[1], params[9]) + params[10]\n",
        "output"
      ],
      "metadata": {
        "colab": {
          "base_uri": "https://localhost:8080/"
        },
        "id": "jvp0-Jh6uZhv",
        "outputId": "c060ecc7-d512-4ab7-cad7-78fedf86ab4e"
      },
      "execution_count": 41,
      "outputs": [
        {
          "output_type": "execute_result",
          "data": {
            "text/plain": [
              "tensor([0.0049])"
            ]
          },
          "metadata": {},
          "execution_count": 41
        }
      ]
    },
    {
      "cell_type": "code",
      "source": [
        ""
      ],
      "metadata": {
        "id": "fUwwXKwqz0B7"
      },
      "execution_count": null,
      "outputs": []
    }
  ]
}