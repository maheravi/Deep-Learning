{
  "nbformat": 4,
  "nbformat_minor": 0,
  "metadata": {
    "colab": {
      "name": "ball_movement.ipynb",
      "provenance": [],
      "authorship_tag": "ABX9TyP2NJ1toYeZPJ8ylpy6Kj/a",
      "include_colab_link": true
    },
    "kernelspec": {
      "name": "python3",
      "display_name": "Python 3"
    },
    "language_info": {
      "name": "python"
    },
    "accelerator": "GPU"
  },
  "cells": [
    {
      "cell_type": "markdown",
      "metadata": {
        "id": "view-in-github",
        "colab_type": "text"
      },
      "source": [
        "<a href=\"https://colab.research.google.com/github/maheravi/Deep-Learning/blob/main/Recurrent%20Neural%20Network/ball_movement.ipynb\" target=\"_parent\"><img src=\"https://colab.research.google.com/assets/colab-badge.svg\" alt=\"Open In Colab\"/></a>"
      ]
    },
    {
      "cell_type": "code",
      "execution_count": 1,
      "metadata": {
        "id": "-U1BxfUa3ZYI"
      },
      "outputs": [],
      "source": [
        "import numpy as np\n",
        "import cv2\n",
        "import random\n",
        "import matplotlib.pyplot as plt\n",
        "import tensorflow as tf\n",
        "from tensorflow.keras.layers import Conv2D, MaxPooling2D, SimpleRNN, GRU, LSTM, Dense, Flatten, TimeDistributed"
      ]
    },
    {
      "cell_type": "code",
      "source": [
        "from google.colab.patches import cv2_imshow"
      ],
      "metadata": {
        "id": "LhrkW4qq5MoX"
      },
      "execution_count": 2,
      "outputs": []
    },
    {
      "cell_type": "code",
      "source": [
        "def balldata(height, width, dataset_size, frame_num):\n",
        "  \n",
        "  data = []\n",
        "  labels = []\n",
        "  height, width = height, width\n",
        "  dx, dy = 10, 5\n",
        "  # x = random.randint(0, width)\n",
        "\n",
        "  for b in range(dataset_size):\n",
        "    label = random.choice((0, 1))\n",
        "    frames = []\n",
        "\n",
        "    if label == 0:\n",
        "\n",
        "        x = random.randint(0, 10)\n",
        "        y = height\n",
        "\n",
        "        for i in range(frame_num):\n",
        "          img = np.zeros((height, width))\n",
        "          cv2.circle(img, (x, y), 10, (255), -1)\n",
        "          x = x + dx\n",
        "          y = y - dy\n",
        "          # labels.append(label)\n",
        "          frames.append(img)\n",
        "\n",
        "    elif label == 1:\n",
        "\n",
        "        x = random.randint(width-10, width)\n",
        "        y = 10\n",
        "\n",
        "        for i in range(frame_num):\n",
        "          img = np.zeros((height, width))\n",
        "          cv2.circle(img, (x, y), 10, (255), -1)\n",
        "          x = x - dx\n",
        "          y = y + dy\n",
        "          # labels.append(label)\n",
        "          frames.append(img)\n",
        "    labels.append(label)\n",
        "    data.append(frames)\n",
        "\n",
        "  return data, labels"
      ],
      "metadata": {
        "id": "xz1ANzhAP7UQ"
      },
      "execution_count": 3,
      "outputs": []
    },
    {
      "cell_type": "code",
      "source": [
        "data, labels = balldata(50, 100, 100, 50)\n",
        "\n",
        "data = np.array(data)\n",
        "labels = np.array(labels)\n",
        "data = data[..., np.newaxis]\n",
        "labels = labels[..., np.newaxis]\n",
        "\n",
        "print(data.shape)\n",
        "print(labels.shape)"
      ],
      "metadata": {
        "colab": {
          "base_uri": "https://localhost:8080/"
        },
        "id": "AqRVi8Mz8DMs",
        "outputId": "6d6062e9-5904-4f30-b145-629f97e14bf6"
      },
      "execution_count": 4,
      "outputs": [
        {
          "output_type": "stream",
          "name": "stdout",
          "text": [
            "(100, 50, 50, 100, 1)\n",
            "(100, 1)\n"
          ]
        }
      ]
    },
    {
      "cell_type": "markdown",
      "source": [
        "#RNN Models"
      ],
      "metadata": {
        "id": "aaNR21SUH7G_"
      }
    },
    {
      "cell_type": "code",
      "source": [
        "rnn = tf.keras.models.Sequential([\n",
        "                  # CNN\n",
        "                  TimeDistributed(Conv2D(2, (3, 3), activation=\"relu\", input_shape=(None, 50, 100, 1))),\n",
        "                  TimeDistributed(MaxPooling2D(pool_size=(2, 2))),\n",
        "\n",
        "                  TimeDistributed(Flatten()),\n",
        "\n",
        "                  # RNN\n",
        "                  SimpleRNN(20),\n",
        "                  Dense(2, activation=\"softmax\")\n",
        "])"
      ],
      "metadata": {
        "id": "8AojlmJmSDbe"
      },
      "execution_count": 5,
      "outputs": []
    },
    {
      "cell_type": "code",
      "source": [
        "rnn.compile(optimizer=tf.keras.optimizers.Adam(),\n",
        "              loss=tf.keras.losses.sparse_categorical_crossentropy,\n",
        "              metrics=[\"accuracy\"])\n",
        "\n",
        "rnn.fit(data, labels, batch_size=32, epochs=5)"
      ],
      "metadata": {
        "colab": {
          "base_uri": "https://localhost:8080/"
        },
        "id": "_AkE8It48ZzW",
        "outputId": "188b561a-7ddd-4519-c16b-bc309eea17a0"
      },
      "execution_count": 6,
      "outputs": [
        {
          "output_type": "stream",
          "name": "stdout",
          "text": [
            "Epoch 1/5\n",
            "4/4 [==============================] - 5s 108ms/step - loss: 0.6240 - accuracy: 0.7400\n",
            "Epoch 2/5\n",
            "4/4 [==============================] - 0s 74ms/step - loss: 0.4678 - accuracy: 1.0000\n",
            "Epoch 3/5\n",
            "4/4 [==============================] - 0s 76ms/step - loss: 0.3500 - accuracy: 1.0000\n",
            "Epoch 4/5\n",
            "4/4 [==============================] - 0s 64ms/step - loss: 0.2634 - accuracy: 1.0000\n",
            "Epoch 5/5\n",
            "4/4 [==============================] - 0s 80ms/step - loss: 0.2113 - accuracy: 1.0000\n"
          ]
        },
        {
          "output_type": "execute_result",
          "data": {
            "text/plain": [
              "<keras.callbacks.History at 0x7fa4500a59d0>"
            ]
          },
          "metadata": {},
          "execution_count": 6
        }
      ]
    },
    {
      "cell_type": "markdown",
      "source": [
        "#GRU Models"
      ],
      "metadata": {
        "id": "BjzRvU_h9JZe"
      }
    },
    {
      "cell_type": "code",
      "source": [
        "gru = tf.keras.models.Sequential([\n",
        "                  # CNN\n",
        "                  TimeDistributed(Conv2D(2, (3, 3), activation=\"relu\", input_shape=(None, 50, 100, 1))),\n",
        "                  TimeDistributed(MaxPooling2D(pool_size=(2, 2))),\n",
        "\n",
        "                  TimeDistributed(Flatten()),\n",
        "\n",
        "                  # GRU\n",
        "                  GRU(20),\n",
        "                  Dense(2, activation=\"softmax\")\n",
        "])"
      ],
      "metadata": {
        "id": "J1es4JmX8mwh"
      },
      "execution_count": 7,
      "outputs": []
    },
    {
      "cell_type": "code",
      "source": [
        "gru.compile(optimizer=tf.keras.optimizers.Adam(),\n",
        "              loss=tf.keras.losses.sparse_categorical_crossentropy,\n",
        "              metrics=[\"accuracy\"])\n",
        "\n",
        "gru.fit(data, labels, batch_size=32, epochs=5)"
      ],
      "metadata": {
        "id": "FecgIWFa9aN4",
        "outputId": "ad9b5487-7eb2-4918-f836-e26fc485cfc3",
        "colab": {
          "base_uri": "https://localhost:8080/"
        }
      },
      "execution_count": 8,
      "outputs": [
        {
          "output_type": "stream",
          "name": "stdout",
          "text": [
            "Epoch 1/5\n",
            "4/4 [==============================] - 2s 41ms/step - loss: 0.6928 - accuracy: 0.5900\n",
            "Epoch 2/5\n",
            "4/4 [==============================] - 0s 33ms/step - loss: 0.6907 - accuracy: 0.5900\n",
            "Epoch 3/5\n",
            "4/4 [==============================] - 0s 34ms/step - loss: 0.6873 - accuracy: 0.5900\n",
            "Epoch 4/5\n",
            "4/4 [==============================] - 0s 31ms/step - loss: 0.6841 - accuracy: 0.5900\n",
            "Epoch 5/5\n",
            "4/4 [==============================] - 0s 25ms/step - loss: 0.6818 - accuracy: 0.5900\n"
          ]
        },
        {
          "output_type": "execute_result",
          "data": {
            "text/plain": [
              "<keras.callbacks.History at 0x7fa3cdfbd650>"
            ]
          },
          "metadata": {},
          "execution_count": 8
        }
      ]
    },
    {
      "cell_type": "markdown",
      "source": [
        "#LSTM Models"
      ],
      "metadata": {
        "id": "5INCxrMG9hZY"
      }
    },
    {
      "cell_type": "code",
      "source": [
        "lstm = tf.keras.models.Sequential([\n",
        "                  # CNN\n",
        "                  TimeDistributed(Conv2D(2, (3, 3), activation=\"relu\", input_shape=(None, 50, 100, 1))),\n",
        "                  TimeDistributed(MaxPooling2D(pool_size=(2, 2))),\n",
        "\n",
        "                  TimeDistributed(Flatten()),\n",
        "\n",
        "                  # LSTM\n",
        "                  LSTM(20),\n",
        "                  Dense(2, activation=\"softmax\")\n",
        "])"
      ],
      "metadata": {
        "id": "3a91hyXh9kCB"
      },
      "execution_count": 9,
      "outputs": []
    },
    {
      "cell_type": "code",
      "source": [
        "lstm.compile(optimizer=tf.keras.optimizers.Adam(),\n",
        "              loss=tf.keras.losses.sparse_categorical_crossentropy,\n",
        "              metrics=[\"accuracy\"])\n",
        "\n",
        "lstm.fit(data, labels, batch_size=32, epochs=5)"
      ],
      "metadata": {
        "id": "HNDbeouy9tkJ",
        "outputId": "30d9669a-4c45-48b1-b30b-be203d08d230",
        "colab": {
          "base_uri": "https://localhost:8080/"
        }
      },
      "execution_count": 10,
      "outputs": [
        {
          "output_type": "stream",
          "name": "stdout",
          "text": [
            "Epoch 1/5\n",
            "4/4 [==============================] - 2s 44ms/step - loss: 0.6930 - accuracy: 0.5500\n",
            "Epoch 2/5\n",
            "4/4 [==============================] - 0s 36ms/step - loss: 0.6905 - accuracy: 0.5900\n",
            "Epoch 3/5\n",
            "4/4 [==============================] - 0s 34ms/step - loss: 0.6894 - accuracy: 0.5900\n",
            "Epoch 4/5\n",
            "4/4 [==============================] - 0s 30ms/step - loss: 0.6867 - accuracy: 0.5900\n",
            "Epoch 5/5\n",
            "4/4 [==============================] - 0s 25ms/step - loss: 0.6822 - accuracy: 0.5900\n"
          ]
        },
        {
          "output_type": "execute_result",
          "data": {
            "text/plain": [
              "<keras.callbacks.History at 0x7fa3ddfe8a50>"
            ]
          },
          "metadata": {},
          "execution_count": 10
        }
      ]
    },
    {
      "cell_type": "markdown",
      "source": [
        "# Inference"
      ],
      "metadata": {
        "id": "yatW9LIq_6ZN"
      }
    },
    {
      "cell_type": "code",
      "source": [
        "data, labels = balldata(50, 100, 10, 50)\n",
        "\n",
        "data = np.array(data)\n",
        "labels = np.array(labels)\n",
        "data = data[..., np.newaxis]\n",
        "labels = labels[..., np.newaxis]\n",
        "\n",
        "print(data.shape)\n",
        "print(labels.shape)"
      ],
      "metadata": {
        "id": "YpPG-pQR-3nB",
        "outputId": "95bcf99d-a284-4b4b-f501-77b2e97e013a",
        "colab": {
          "base_uri": "https://localhost:8080/"
        }
      },
      "execution_count": 11,
      "outputs": [
        {
          "output_type": "stream",
          "name": "stdout",
          "text": [
            "(10, 50, 50, 100, 1)\n",
            "(10, 1)\n"
          ]
        }
      ]
    },
    {
      "cell_type": "code",
      "source": [
        "rnn_eval = rnn.evaluate(data, labels)\n",
        "gru_eval = gru.evaluate(data, labels)\n",
        "lstm_eval = lstm.evaluate(data, labels)"
      ],
      "metadata": {
        "id": "m2phhe2I_FeA",
        "outputId": "78669dac-a55a-48e0-915d-b20d3a8bb877",
        "colab": {
          "base_uri": "https://localhost:8080/"
        }
      },
      "execution_count": 12,
      "outputs": [
        {
          "output_type": "stream",
          "name": "stdout",
          "text": [
            "1/1 [==============================] - 0s 298ms/step - loss: 0.1792 - accuracy: 1.0000\n",
            "1/1 [==============================] - 0s 425ms/step - loss: 0.6791 - accuracy: 0.6000\n",
            "1/1 [==============================] - 0s 473ms/step - loss: 0.6746 - accuracy: 0.6000\n"
          ]
        }
      ]
    },
    {
      "cell_type": "code",
      "source": [
        ""
      ],
      "metadata": {
        "id": "hCW7dqHICrCw"
      },
      "execution_count": null,
      "outputs": []
    }
  ]
}