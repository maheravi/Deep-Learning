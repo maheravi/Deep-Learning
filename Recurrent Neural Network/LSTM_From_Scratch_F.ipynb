{
  "nbformat": 4,
  "nbformat_minor": 0,
  "metadata": {
    "colab": {
      "name": "LSTM_From_Scratch_F.ipynb",
      "provenance": [],
      "authorship_tag": "ABX9TyP2vavdGLnM948Cfiqk+M78",
      "include_colab_link": true
    },
    "kernelspec": {
      "name": "python3",
      "display_name": "Python 3"
    },
    "language_info": {
      "name": "python"
    }
  },
  "cells": [
    {
      "cell_type": "markdown",
      "metadata": {
        "id": "view-in-github",
        "colab_type": "text"
      },
      "source": [
        "<a href=\"https://colab.research.google.com/github/maheravi/Deep-Learning/blob/main/Recurrent%20Neural%20Network/LSTM_From_Scratch_F.ipynb\" target=\"_parent\"><img src=\"https://colab.research.google.com/assets/colab-badge.svg\" alt=\"Open In Colab\"/></a>"
      ]
    },
    {
      "cell_type": "code",
      "source": [
        "import tensorflow as tf\n",
        "import numpy as np\n",
        "import matplotlib.pyplot as plt\n",
        "import torch\n",
        "from torch import nn"
      ],
      "metadata": {
        "id": "QwnCwvlHlBa-"
      },
      "execution_count": 1,
      "outputs": []
    },
    {
      "cell_type": "code",
      "execution_count": 8,
      "metadata": {
        "id": "mYcp6IE5ijHj"
      },
      "outputs": [],
      "source": [
        "def get_params(input_nodes, hidden_unit, output_nodes):\n",
        "\n",
        "    def normal(shape):\n",
        "        return torch.randn(size=shape)*0.01\n",
        "\n",
        "    def init_mat():\n",
        "        return (normal((input_nodes, hidden_unit)),\n",
        "                normal((hidden_unit, hidden_unit)),\n",
        "                torch.zeros(hidden_unit))\n",
        "\n",
        "    W_xi, W_hi, b_i = init_mat()  # Enter door parameters\n",
        "    W_xf, W_hf, b_f = init_mat()  # Forgetting gate parameters\n",
        "    W_xo, W_ho, b_o = init_mat()  # Output gate parameters\n",
        "    W_xc, W_hc, b_c = init_mat()  # Candidate memory cell parameters\n",
        "\n",
        "    # Output layer parameters\n",
        "    W_hq = normal((hidden_unit, output_nodes))\n",
        "    b_q = torch.zeros(output_nodes)\n",
        "    \n",
        "    # Additional gradient\n",
        "    params = [W_xi, W_hi, b_i, W_xf, W_hf, b_f, W_xo, W_ho, b_o, W_xc, W_hc,\n",
        "              b_c, W_hq, b_q]\n",
        "\n",
        "    return params"
      ]
    },
    {
      "cell_type": "code",
      "source": [
        "def lstm(inputs, params):\n",
        "\n",
        "    [W_xi, W_hi, b_i, W_xf, W_hf, b_f, W_xo, W_ho, b_o, W_xc, W_hc, b_c, W_hq, b_q] = params\n",
        "     \n",
        "    H = torch.randn((input_nodes, hidden_unit))*0.01\n",
        "    C = torch.randn((input_nodes, hidden_unit))*0.01\n",
        "\n",
        "    outputs = []\n",
        "\n",
        "    for X in inputs:\n",
        "      \n",
        "        I = torch.sigmoid((X @ W_xi) + (H @ W_hi) + b_i)\n",
        "        F = torch.sigmoid((X @ W_xf) + (H @ W_hf) + b_f)\n",
        "        O = torch.sigmoid((X @ W_xo) + (H @ W_ho) + b_o)\n",
        "        C_tilda = torch.tanh((X @ W_xc) + (H @ W_hc) + b_c)\n",
        "        C = F * C + I * C_tilda  \n",
        "        H = O * torch.tanh(C)\n",
        "\n",
        "        Y = H @ W_hq + b_q\n",
        "    \n",
        "    return H"
      ],
      "metadata": {
        "id": "tk8GhdeDp9z-"
      },
      "execution_count": 49,
      "outputs": []
    },
    {
      "cell_type": "code",
      "source": [
        "N = 1500\n",
        "t = np.arange(0,N)"
      ],
      "metadata": {
        "id": "1i6kCyOLk_rD"
      },
      "execution_count": 50,
      "outputs": []
    },
    {
      "cell_type": "code",
      "source": [
        "data_sin = np.sin(0.02 * t) + np.random.uniform(-0.05, 0.05, N)\n",
        "plt.plot(data_sin)"
      ],
      "metadata": {
        "colab": {
          "base_uri": "https://localhost:8080/",
          "height": 282
        },
        "id": "tyXJ8_wZmcOW",
        "outputId": "50f4d78f-d264-4708-eb3a-f408682edf3a"
      },
      "execution_count": 51,
      "outputs": [
        {
          "output_type": "execute_result",
          "data": {
            "text/plain": [
              "[<matplotlib.lines.Line2D at 0x7fb053f6d050>]"
            ]
          },
          "metadata": {},
          "execution_count": 51
        },
        {
          "output_type": "display_data",
          "data": {
            "text/plain": [
              "<Figure size 432x288 with 1 Axes>"
            ],
            "image/png": "[encoded data removed]"
          },
          "metadata": {
            "needs_background": "light"
          }
        }
      ]
    },
    {
      "cell_type": "code",
      "source": [
        "def ConvertSignalToDataset(signal, step):\n",
        "  X = []\n",
        "  y = []\n",
        "  for i in range(len(signal)-step):\n",
        "    j = i + step\n",
        "    X.append(signal[i:j])\n",
        "    y.append(signal[j])\n",
        "\n",
        "  return np.array(X), np.array(y)"
      ],
      "metadata": {
        "id": "7zr80jdlmgUm"
      },
      "execution_count": 52,
      "outputs": []
    },
    {
      "cell_type": "code",
      "source": [
        "seq_length = 20\n",
        "X, y = ConvertSignalToDataset(data_sin, seq_length)\n",
        "X = torch.Tensor(X)"
      ],
      "metadata": {
        "id": "J0TTDs3amnow"
      },
      "execution_count": 53,
      "outputs": []
    },
    {
      "cell_type": "code",
      "source": [
        "input_nodes = 20\n",
        "hidden_unit = 64\n",
        "output_nodes = 1"
      ],
      "metadata": {
        "id": "G8zKVf7pnI_A"
      },
      "execution_count": 54,
      "outputs": []
    },
    {
      "cell_type": "code",
      "source": [
        "params = get_params(input_nodes, hidden_unit, output_nodes)"
      ],
      "metadata": {
        "id": "rkr6wZArrnC5"
      },
      "execution_count": 39,
      "outputs": []
    },
    {
      "cell_type": "code",
      "source": [
        "LSTM = lstm(X, params)"
      ],
      "metadata": {
        "id": "CwGBkZtprvy4"
      },
      "execution_count": 44,
      "outputs": []
    },
    {
      "cell_type": "code",
      "source": [
        "output = torch.matmul(LSTM[1], params[12]) + params[13]\n",
        "output"
      ],
      "metadata": {
        "colab": {
          "base_uri": "https://localhost:8080/"
        },
        "id": "jvp0-Jh6uZhv",
        "outputId": "dee42cc3-03de-438e-b3c4-c6d5e319f751"
      },
      "execution_count": 55,
      "outputs": [
        {
          "output_type": "execute_result",
          "data": {
            "text/plain": [
              "tensor([-0.0025])"
            ]
          },
          "metadata": {},
          "execution_count": 55
        }
      ]
    },
    {
      "cell_type": "code",
      "source": [
        ""
      ],
      "metadata": {
        "id": "8wj2jVTvwjBD"
      },
      "execution_count": null,
      "outputs": []
    }
  ]
}