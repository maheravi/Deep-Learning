{
  "cells": [
    {
      "cell_type": "markdown",
      "metadata": {
        "id": "view-in-github",
        "colab_type": "text"
      },
      "source": [
        "<a href=\"https://colab.research.google.com/github/maheravi/Deep-Learning/blob/main/Recurrent%20Neural%20Network/Joon_Del_Update.ipynb\" target=\"_parent\"><img src=\"https://colab.research.google.com/assets/colab-badge.svg\" alt=\"Open In Colab\"/></a>"
      ]
    },
    {
      "cell_type": "code",
      "execution_count": 1,
      "metadata": {
        "id": "-v7ARgTK2zqf"
      },
      "outputs": [],
      "source": [
        "import numpy as np\n",
        "import tensorflow as tf\n",
        "import cv2\n",
        "import os\n",
        "from tensorflow.keras.layers import Conv2D, MaxPooling2D, SimpleRNN, GRU, LSTM, Dense, Flatten, TimeDistributed\n",
        "from matplotlib import pyplot as plt"
      ]
    },
    {
      "cell_type": "code",
      "execution_count": 20,
      "metadata": {
        "id": "SVGPUtgE3Jy-"
      },
      "outputs": [],
      "source": [
        "batch_size = 12\n",
        "epoch = 10\n",
        "lr = 0.001\n",
        "width = height = 50"
      ]
    },
    {
      "cell_type": "code",
      "execution_count": 21,
      "metadata": {
        "colab": {
          "base_uri": "https://localhost:8080/"
        },
        "id": "7ZpKkF1WYcXp",
        "outputId": "d6fdf2ac-6d5f-4c25-aa8e-404ca491d18c"
      },
      "outputs": [
        {
          "output_type": "execute_result",
          "data": {
            "text/plain": [
              "['0', '1']"
            ]
          },
          "metadata": {},
          "execution_count": 21
        }
      ],
      "source": [
        "path = \"/content/drive/MyDrive/joon_del/\"\n",
        "dirs = os.listdir(path)\n",
        "dirs"
      ]
    },
    {
      "cell_type": "code",
      "execution_count": 22,
      "metadata": {
        "id": "Bx1FwV5CYu3k"
      },
      "outputs": [],
      "source": [
        "path = \"/content/drive/MyDrive/joon_del/\"\n",
        "dirs = os.listdir(path)\n",
        "\n",
        "File=[]\n",
        "label=[]\n",
        "\n",
        "for dir in dirs:\n",
        "  subfolder = f\"/content/drive/MyDrive/joon_del/{dir}\"\n",
        "  files = os.listdir(subfolder)\n",
        "  for f in files:\n",
        "    cap = cv2.VideoCapture(f'/content/drive/MyDrive/joon_del/{dir}/{f}')\n",
        "    video=[]\n",
        "    while(True):\n",
        "      ret, frame = cap.read()\n",
        "      if ret == False:\n",
        "          break\n",
        "      frame = cv2.cvtColor(frame, cv2.COLOR_BGR2RGB)\n",
        "      img = cv2.resize(frame, dsize=(width, height))\n",
        "      img = img / 255.\n",
        "      video.append(img)\n",
        "    File.append(video)\n",
        "    label.append(float(dir))\n",
        "\n",
        "\n"
      ]
    },
    {
      "cell_type": "code",
      "execution_count": 23,
      "metadata": {
        "colab": {
          "base_uri": "https://localhost:8080/"
        },
        "id": "_trfqRQuUAS9",
        "outputId": "84575505-f7a5-43f7-e3e8-2ec4d7a33f75"
      },
      "outputs": [
        {
          "output_type": "execute_result",
          "data": {
            "text/plain": [
              "313"
            ]
          },
          "metadata": {},
          "execution_count": 23
        }
      ],
      "source": [
        "longest_list = max(len(f) for f in File)\n",
        "longest_list"
      ]
    },
    {
      "cell_type": "code",
      "execution_count": 24,
      "metadata": {
        "id": "0oBAwR7pUSeW"
      },
      "outputs": [],
      "source": [
        "for i, f in enumerate(File):\n",
        "  if len (f) < longest_list:\n",
        "    for j in range(longest_list-len(f)):\n",
        "      File[i].append(np.zeros((width, height, 3)))"
      ]
    },
    {
      "cell_type": "code",
      "source": [
        "len(File)"
      ],
      "metadata": {
        "colab": {
          "base_uri": "https://localhost:8080/"
        },
        "id": "jisAymzW8uom",
        "outputId": "54ef3707-d5f2-4500-f6e0-26741579af8f"
      },
      "execution_count": 25,
      "outputs": [
        {
          "output_type": "execute_result",
          "data": {
            "text/plain": [
              "68"
            ]
          },
          "metadata": {},
          "execution_count": 25
        }
      ]
    },
    {
      "cell_type": "code",
      "execution_count": 26,
      "metadata": {
        "id": "B55aisduU-1P"
      },
      "outputs": [],
      "source": [
        "newFile = np.array(File)\n",
        "label = np.array(label)\n",
        "label = label[..., np.newaxis]"
      ]
    },
    {
      "cell_type": "code",
      "execution_count": 27,
      "metadata": {
        "id": "ncDGNRqkUlNF"
      },
      "outputs": [],
      "source": [
        "from sklearn.model_selection import train_test_split\n",
        "X_train, X_test, y_train, y_test = train_test_split(newFile, label, test_size=0.2, random_state=42)"
      ]
    },
    {
      "cell_type": "code",
      "execution_count": 28,
      "metadata": {
        "colab": {
          "base_uri": "https://localhost:8080/"
        },
        "id": "AJ3P8GJQUxzl",
        "outputId": "f16fff33-ed97-4863-c221-cd4e07a37234"
      },
      "outputs": [
        {
          "output_type": "stream",
          "name": "stdout",
          "text": [
            "train data size: (54, 313, 50, 50, 3)\n",
            "train label size: (54, 1)\n"
          ]
        }
      ],
      "source": [
        "print('train data size:', X_train.shape)\n",
        "print('train label size:', y_train.shape)\n"
      ]
    },
    {
      "cell_type": "code",
      "execution_count": 29,
      "metadata": {
        "id": "iuRXn8gUU6jt"
      },
      "outputs": [],
      "source": [
        "crnn = tf.keras.models.Sequential([\n",
        "                  # CNN\n",
        "                  TimeDistributed(Conv2D(16, (3, 3), activation=\"relu\", input_shape=(None, width, height, 3))),\n",
        "                  TimeDistributed(MaxPooling2D(pool_size=(2, 2))),\n",
        "\n",
        "                  TimeDistributed(Flatten()),\n",
        "\n",
        "                  # RNN\n",
        "                  SimpleRNN(50, return_sequences=True),\n",
        "                  SimpleRNN(20),\n",
        "                  Dense(2, activation=\"softmax\")\n",
        "])"
      ]
    },
    {
      "cell_type": "code",
      "execution_count": 30,
      "metadata": {
        "colab": {
          "base_uri": "https://localhost:8080/"
        },
        "id": "EXwysUTpXF3y",
        "outputId": "02ba89d7-b0af-4791-d2a4-58a782f1e4ad"
      },
      "outputs": [
        {
          "output_type": "stream",
          "name": "stdout",
          "text": [
            "Epoch 1/10\n",
            "5/5 [==============================] - 9s 1s/step - loss: 0.7511 - accuracy: 0.5185\n",
            "Epoch 2/10\n",
            "5/5 [==============================] - 6s 1s/step - loss: 0.6312 - accuracy: 0.7593\n",
            "Epoch 3/10\n",
            "5/5 [==============================] - 7s 1s/step - loss: 0.8721 - accuracy: 0.3148\n",
            "Epoch 4/10\n",
            "5/5 [==============================] - 6s 1s/step - loss: 0.7566 - accuracy: 0.4259\n",
            "Epoch 5/10\n",
            "5/5 [==============================] - 6s 1s/step - loss: 0.7430 - accuracy: 0.5185\n",
            "Epoch 6/10\n",
            "5/5 [==============================] - 6s 1s/step - loss: 0.6940 - accuracy: 0.5926\n",
            "Epoch 7/10\n",
            "5/5 [==============================] - 6s 1s/step - loss: 0.7414 - accuracy: 0.5370\n",
            "Epoch 8/10\n",
            "5/5 [==============================] - 6s 1s/step - loss: 0.6902 - accuracy: 0.5556\n",
            "Epoch 9/10\n",
            "5/5 [==============================] - 6s 1s/step - loss: 0.6945 - accuracy: 0.6111\n",
            "Epoch 10/10\n",
            "5/5 [==============================] - 6s 1s/step - loss: 0.7772 - accuracy: 0.4630\n"
          ]
        },
        {
          "output_type": "execute_result",
          "data": {
            "text/plain": [
              "<keras.callbacks.History at 0x7f772ff40590>"
            ]
          },
          "metadata": {},
          "execution_count": 30
        }
      ],
      "source": [
        "crnn.compile(optimizer=tf.keras.optimizers.Adam(),\n",
        "              loss=tf.keras.losses.sparse_categorical_crossentropy,\n",
        "              metrics=[\"accuracy\"])\n",
        "\n",
        "crnn.fit(X_train, y_train, batch_size=batch_size, epochs=epoch)"
      ]
    },
    {
      "cell_type": "code",
      "execution_count": 18,
      "metadata": {
        "colab": {
          "base_uri": "https://localhost:8080/"
        },
        "id": "bYtl8BdoXbyN",
        "outputId": "cdeb0336-53cb-4128-9d4e-11995f2954f0"
      },
      "outputs": [
        {
          "output_type": "stream",
          "name": "stdout",
          "text": [
            "1/1 [==============================] - 1s 643ms/step - loss: 0.8415 - accuracy: 0.2143\n"
          ]
        }
      ],
      "source": [
        "crnn_eval = crnn.evaluate(X_test, y_test)\n"
      ]
    },
    {
      "cell_type": "markdown",
      "source": [
        "#Inference"
      ],
      "metadata": {
        "id": "Sb8hJ6cmHpLV"
      }
    },
    {
      "cell_type": "code",
      "execution_count": 43,
      "metadata": {
        "id": "YSfXNPMCYArl"
      },
      "outputs": [],
      "source": [
        "cap = cv2.VideoCapture(f'/content/drive/MyDrive/joon_del/1/012.mp4')\n",
        "video=[]\n",
        "while(True):\n",
        "  ret, frame = cap.read()\n",
        "  if ret == False:\n",
        "      break\n",
        "  frame = cv2.cvtColor(frame, cv2.COLOR_BGR2RGB)\n",
        "  img = cv2.resize(frame, dsize=(width, height))\n",
        "  img = img / 255.\n",
        "  video.append(img)\n"
      ]
    },
    {
      "cell_type": "code",
      "source": [
        "if len (video) < longest_list:\n",
        "    for j in range(longest_list-len(video)):\n",
        "      video.append(np.zeros((width, height, 3)))"
      ],
      "metadata": {
        "id": "gL-ifbdXIFNs"
      },
      "execution_count": 44,
      "outputs": []
    },
    {
      "cell_type": "code",
      "source": [
        "Video = np.array(video)\n",
        "Video = Video[np.newaxis, ...]"
      ],
      "metadata": {
        "id": "qP-wH18OIZnM"
      },
      "execution_count": 45,
      "outputs": []
    },
    {
      "cell_type": "code",
      "source": [
        "pred = crnn.predict(Video)\n",
        "prediction = np.argmax(pred)\n",
        "if prediction == 1:\n",
        "  print('Khodeshe')\n",
        "else:\n",
        "  print('khodesh nist')"
      ],
      "metadata": {
        "colab": {
          "base_uri": "https://localhost:8080/"
        },
        "id": "7_Tnio9eIeKM",
        "outputId": "5a472e0d-82ca-4809-e130-2e15d9b50400"
      },
      "execution_count": 46,
      "outputs": [
        {
          "output_type": "stream",
          "name": "stdout",
          "text": [
            "Khodeshe\n"
          ]
        }
      ]
    },
    {
      "cell_type": "code",
      "source": [
        ""
      ],
      "metadata": {
        "id": "NmrNT4djJQs8"
      },
      "execution_count": null,
      "outputs": []
    }
  ],
  "metadata": {
    "accelerator": "GPU",
    "colab": {
      "name": "Joon_Del_Update.ipynb",
      "provenance": [],
      "mount_file_id": "114Uv9Ob_xRzJWkBjymVxQs2d0m0ksTxq",
      "authorship_tag": "ABX9TyPWcM0nfpEExiCTXMQ37jPb",
      "include_colab_link": true
    },
    "kernelspec": {
      "display_name": "Python 3",
      "name": "python3"
    },
    "language_info": {
      "name": "python"
    }
  },
  "nbformat": 4,
  "nbformat_minor": 0
}