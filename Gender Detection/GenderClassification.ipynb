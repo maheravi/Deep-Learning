{
  "nbformat": 4,
  "nbformat_minor": 0,
  "metadata": {
    "accelerator": "GPU",
    "colab": {
      "name": "GenderClassification.ipynb",
      "provenance": [],
      "collapsed_sections": [],
      "authorship_tag": "ABX9TyMIYiNyYqOBhyi7jK/yqYCj",
      "include_colab_link": true
    },
    "kernelspec": {
      "display_name": "Python 3",
      "name": "python3"
    },
    "language_info": {
      "name": "python"
    }
  },
  "cells": [
    {
      "cell_type": "markdown",
      "metadata": {
        "id": "view-in-github",
        "colab_type": "text"
      },
      "source": [
        "<a href=\"https://colab.research.google.com/github/maheravi/Deep-Learning/blob/main/Gender%20Detection/GenderClassification.ipynb\" target=\"_parent\"><img src=\"https://colab.research.google.com/assets/colab-badge.svg\" alt=\"Open In Colab\"/></a>"
      ]
    },
    {
      "cell_type": "code",
      "metadata": {
        "colab": {
          "base_uri": "https://localhost:8080/"
        },
        "id": "U5lLft-M-n1o",
        "outputId": "ce117b44-61c0-443e-ee64-dec4b2c20236"
      },
      "source": [
        "!pip install kaggle\n",
        "!mkdir ~/.kaggle\n",
        "!cp kaggle.json ~/.kaggle"
      ],
      "execution_count": null,
      "outputs": [
        {
          "output_type": "stream",
          "name": "stdout",
          "text": [
            "Requirement already satisfied: kaggle in /usr/local/lib/python3.7/dist-packages (1.5.12)\n",
            "Requirement already satisfied: urllib3 in /usr/local/lib/python3.7/dist-packages (from kaggle) (1.24.3)\n",
            "Requirement already satisfied: tqdm in /usr/local/lib/python3.7/dist-packages (from kaggle) (4.62.2)\n",
            "Requirement already satisfied: requests in /usr/local/lib/python3.7/dist-packages (from kaggle) (2.23.0)\n",
            "Requirement already satisfied: python-dateutil in /usr/local/lib/python3.7/dist-packages (from kaggle) (2.8.2)\n",
            "Requirement already satisfied: python-slugify in /usr/local/lib/python3.7/dist-packages (from kaggle) (5.0.2)\n",
            "Requirement already satisfied: certifi in /usr/local/lib/python3.7/dist-packages (from kaggle) (2021.5.30)\n",
            "Requirement already satisfied: six>=1.10 in /usr/local/lib/python3.7/dist-packages (from kaggle) (1.15.0)\n",
            "Requirement already satisfied: text-unidecode>=1.3 in /usr/local/lib/python3.7/dist-packages (from python-slugify->kaggle) (1.3)\n",
            "Requirement already satisfied: idna<3,>=2.5 in /usr/local/lib/python3.7/dist-packages (from requests->kaggle) (2.10)\n",
            "Requirement already satisfied: chardet<4,>=3.0.2 in /usr/local/lib/python3.7/dist-packages (from requests->kaggle) (3.0.4)\n"
          ]
        }
      ]
    },
    {
      "cell_type": "code",
      "metadata": {
        "colab": {
          "base_uri": "https://localhost:8080/"
        },
        "id": "Eo_QNWGR_yVl",
        "outputId": "8ffe9361-4799-4208-9b54-a3c1eb2f6a14"
      },
      "source": [
        "!kaggle datasets download -d ashishjangra27/gender-recognition-200k-images-celeba"
      ],
      "execution_count": null,
      "outputs": [
        {
          "output_type": "stream",
          "name": "stdout",
          "text": [
            "Warning: Your Kaggle API key is readable by other users on this system! To fix this, you can run 'chmod 600 /root/.kaggle/kaggle.json'\n",
            "Downloading gender-recognition-200k-images-celeba.zip to /content\n",
            "100% 1.31G/1.32G [00:23<00:00, 66.7MB/s]\n",
            "100% 1.32G/1.32G [00:23<00:00, 60.5MB/s]\n"
          ]
        }
      ]
    },
    {
      "cell_type": "code",
      "metadata": {
        "id": "GfsgfaPdAwBV"
      },
      "source": [
        "!unzip --qq gender-recognition-200k-images-celeba.zip"
      ],
      "execution_count": null,
      "outputs": []
    },
    {
      "cell_type": "code",
      "metadata": {
        "id": "Qd6EQHmSA9ud"
      },
      "source": [
        "import tensorflow as tf\n",
        "from tensorflow.keras import layers,optimizers, losses\n",
        "from tensorflow.keras.preprocessing.image import ImageDataGenerator\n",
        "from matplotlib import pyplot as plt\n",
        "import numpy as np\n",
        "import os\n",
        "import datetime"
      ],
      "execution_count": null,
      "outputs": []
    },
    {
      "cell_type": "markdown",
      "metadata": {
        "id": "fiy93QQEDXuU"
      },
      "source": [
        "#Hyper Parameter"
      ]
    },
    {
      "cell_type": "code",
      "metadata": {
        "id": "yVMP0qvkDai6"
      },
      "source": [
        "width = 178\n",
        "height = 218\n",
        "batch_size = 32"
      ],
      "execution_count": null,
      "outputs": []
    },
    {
      "cell_type": "markdown",
      "metadata": {
        "id": "J7NG7tfFCtoo"
      },
      "source": [
        "#Data Set\n"
      ]
    },
    {
      "cell_type": "code",
      "metadata": {
        "colab": {
          "base_uri": "https://localhost:8080/"
        },
        "id": "28-thv1WCpMl",
        "outputId": "1169dc6c-3ff9-49a6-c612-38502031391d"
      },
      "source": [
        "data_generator = ImageDataGenerator(\n",
        "    rescale=1./255,\n",
        "    horizontal_flip = True,\n",
        ")\n",
        "\n",
        "train_data = data_generator.flow_from_directory(\n",
        "    '/content/Dataset/Train',\n",
        "    target_size = (width,height),\n",
        "    class_mode = 'categorical',\n",
        "    batch_size = batch_size,\n",
        "    shuffle = True,\n",
        ")\n",
        "\n",
        "val_data = data_generator.flow_from_directory(\n",
        "    '/content/Dataset/Validation',\n",
        "    target_size = (width,height),\n",
        "    class_mode = 'categorical',\n",
        "    batch_size = batch_size,\n",
        "    shuffle = True,\n",
        ")\n",
        "\n",
        "test_data = data_generator.flow_from_directory(\n",
        "    '/content/Dataset/Test',\n",
        "    target_size = (width,height),\n",
        "    class_mode = 'categorical',\n",
        "    batch_size = batch_size,\n",
        "    shuffle = False,\n",
        ")"
      ],
      "execution_count": null,
      "outputs": [
        {
          "output_type": "stream",
          "name": "stdout",
          "text": [
            "Found 160000 images belonging to 2 classes.\n",
            "Found 22598 images belonging to 2 classes.\n",
            "Found 20001 images belonging to 2 classes.\n"
          ]
        }
      ]
    },
    {
      "cell_type": "code",
      "metadata": {
        "colab": {
          "base_uri": "https://localhost:8080/"
        },
        "id": "lxGf2ukMW4Ui",
        "outputId": "6e844a6c-f9da-49f0-99b4-1a1ac40e5879"
      },
      "source": [
        "test_data = data_generator.flow_from_directory(\n",
        "    '/content/Dataset/Test',\n",
        "    target_size = (width,height),\n",
        "    class_mode = 'categorical',\n",
        "    batch_size = batch_size,\n",
        "    shuffle = False,\n",
        ")"
      ],
      "execution_count": null,
      "outputs": [
        {
          "output_type": "stream",
          "name": "stdout",
          "text": [
            "Found 20001 images belonging to 2 classes.\n"
          ]
        }
      ]
    },
    {
      "cell_type": "code",
      "metadata": {
        "id": "Wq05vQY5phn3",
        "colab": {
          "base_uri": "https://localhost:8080/"
        },
        "outputId": "0a1dec63-72a8-49b9-b569-1e28f335db13"
      },
      "source": [
        "ResNet = tf.keras.applications.ResNet50V2(include_top=False, pooling='avg', weights='imagenet',\n",
        "input_shape=(178, 218, 3))"
      ],
      "execution_count": null,
      "outputs": [
        {
          "output_type": "stream",
          "name": "stdout",
          "text": [
            "Downloading data from https://storage.googleapis.com/tensorflow/keras-applications/resnet/resnet50v2_weights_tf_dim_ordering_tf_kernels_notop.h5\n",
            "94674944/94668760 [==============================] - 1s 0us/step\n",
            "94683136/94668760 [==============================] - 1s 0us/step\n"
          ]
        }
      ]
    },
    {
      "cell_type": "code",
      "metadata": {
        "id": "Fm0-ceU9DGjF"
      },
      "source": [
        "model = tf.keras.Sequential([\n",
        "        ResNet,\n",
        "        layers.Flatten(),\n",
        "        layers.Dense(128, activation='relu'),\n",
        "        layers.BatchNormalization(),\n",
        "        layers.Dense(2, activation='sigmoid'),              \n",
        "])"
      ],
      "execution_count": null,
      "outputs": []
    },
    {
      "cell_type": "code",
      "metadata": {
        "id": "X-lkbJMsqSlG"
      },
      "source": [
        "model.compile(optimizer=tf.optimizers.Adam(), loss=tf.losses.binary_crossentropy, metrics=['accuracy'])"
      ],
      "execution_count": null,
      "outputs": []
    },
    {
      "cell_type": "code",
      "metadata": {
        "colab": {
          "base_uri": "https://localhost:8080/"
        },
        "id": "cSiGZqdjrZOd",
        "outputId": "108ecbc2-66fe-4542-f5a2-2b7d5e3230dc"
      },
      "source": [
        "model.fit(\n",
        "    train_data,\n",
        "    epochs=5,\n",
        "    steps_per_epoch=2667,\n",
        "    validation_data=val_data,\n",
        "    validation_steps=667,\n",
        " )"
      ],
      "execution_count": null,
      "outputs": [
        {
          "output_type": "stream",
          "name": "stdout",
          "text": [
            "Epoch 1/5\n",
            "2667/2667 [==============================] - 1619s 592ms/step - loss: 0.1345 - accuracy: 0.9477 - val_loss: 0.1408 - val_accuracy: 0.9463\n",
            "Epoch 2/5\n",
            "2667/2667 [==============================] - 1573s 590ms/step - loss: 0.0920 - accuracy: 0.9653 - val_loss: 0.0913 - val_accuracy: 0.9665\n",
            "Epoch 3/5\n",
            "2667/2667 [==============================] - 1585s 594ms/step - loss: 0.0776 - accuracy: 0.9713 - val_loss: 0.1228 - val_accuracy: 0.9568\n",
            "Epoch 4/5\n",
            "2667/2667 [==============================] - 1590s 596ms/step - loss: 0.0671 - accuracy: 0.9756 - val_loss: 0.0915 - val_accuracy: 0.9690\n",
            "Epoch 5/5\n",
            "2667/2667 [==============================] - 1589s 596ms/step - loss: 0.0616 - accuracy: 0.9777 - val_loss: 0.1928 - val_accuracy: 0.9303\n"
          ]
        },
        {
          "output_type": "execute_result",
          "data": {
            "text/plain": [
              "<keras.callbacks.History at 0x7fbf4c400cd0>"
            ]
          },
          "metadata": {},
          "execution_count": 10
        }
      ]
    },
    {
      "cell_type": "code",
      "metadata": {
        "colab": {
          "base_uri": "https://localhost:8080/"
        },
        "id": "-htUulLmrrVr",
        "outputId": "d441e186-91c0-4e4e-dbc8-c16cbd513463"
      },
      "source": [
        "model.evaluate(test_data)"
      ],
      "execution_count": null,
      "outputs": [
        {
          "output_type": "stream",
          "name": "stdout",
          "text": [
            "626/626 [==============================] - 110s 175ms/step - loss: 0.1821 - accuracy: 0.9314\n"
          ]
        },
        {
          "output_type": "execute_result",
          "data": {
            "text/plain": [
              "[0.18208661675453186, 0.9314034581184387]"
            ]
          },
          "metadata": {},
          "execution_count": 11
        }
      ]
    },
    {
      "cell_type": "code",
      "metadata": {
        "colab": {
          "base_uri": "https://localhost:8080/"
        },
        "id": "GBBpGekr9qK4",
        "outputId": "c71e257d-260f-45ef-f987-31d6fc8abd75"
      },
      "source": [
        "from google.colab import drive\n",
        "drive.mount('/content/drive')"
      ],
      "execution_count": null,
      "outputs": [
        {
          "output_type": "stream",
          "name": "stdout",
          "text": [
            "Mounted at /content/drive\n"
          ]
        }
      ]
    },
    {
      "cell_type": "code",
      "metadata": {
        "colab": {
          "base_uri": "https://localhost:8080/"
        },
        "id": "7opj1ghh9rk-",
        "outputId": "b51246a7-1935-481e-8d5e-e3bd97c46adb"
      },
      "source": [
        "model.save('Gender2.h5')"
      ],
      "execution_count": null,
      "outputs": [
        {
          "output_type": "stream",
          "name": "stderr",
          "text": [
            "/usr/local/lib/python3.7/dist-packages/keras/utils/generic_utils.py:497: CustomMaskWarning: Custom mask layers require a config and must override get_config. When loading, the custom mask layer must be passed to the custom_objects argument.\n",
            "  category=CustomMaskWarning)\n"
          ]
        }
      ]
    },
    {
      "cell_type": "code",
      "metadata": {
        "colab": {
          "base_uri": "https://localhost:8080/"
        },
        "id": "UyvowX-OMoPb",
        "outputId": "5f1c284d-d780-4406-9a7e-ed92bacebe91"
      },
      "source": [
        "from sklearn.metrics import classification_report, confusion_matrix\n",
        "\n",
        "Y_pred = model.predict(test_data)\n",
        "y_pred = np.argmax(Y_pred, axis = 1)\n",
        "print('confusion Matrix')\n",
        "print(confusion_matrix(test_data.classes, y_pred))\n",
        "\n",
        "target_names = list(test_data.class_indices.keys())\n",
        "print('Classification Report')\n",
        "print(classification_report(test_data.classes, y_pred, target_names=target_names))"
      ],
      "execution_count": null,
      "outputs": [
        {
          "output_type": "stream",
          "name": "stdout",
          "text": [
            "confusion Matrix\n",
            "[[11470    72]\n",
            " [ 1284  7175]]\n",
            "Classification Report\n",
            "              precision    recall  f1-score   support\n",
            "\n",
            "      Female       0.90      0.99      0.94     11542\n",
            "        Male       0.99      0.85      0.91      8459\n",
            "\n",
            "    accuracy                           0.93     20001\n",
            "   macro avg       0.94      0.92      0.93     20001\n",
            "weighted avg       0.94      0.93      0.93     20001\n",
            "\n"
          ]
        }
      ]
    },
    {
      "cell_type": "markdown",
      "metadata": {
        "id": "bdJpN4fhkFmf"
      },
      "source": [
        "# Telegram Bot Implementation"
      ]
    },
    {
      "cell_type": "code",
      "metadata": {
        "id": "xTYuVmM7kcaF"
      },
      "source": [
        "!pip install retina-face\n",
        "!pip install telebot"
      ],
      "execution_count": null,
      "outputs": []
    },
    {
      "cell_type": "code",
      "metadata": {
        "id": "IWWplOdGkbkq"
      },
      "source": [
        "import cv2\n",
        "from tensorflow.python.keras.models import load_model\n",
        "import telebot\n",
        "from telebot import types\n",
        "from retinaface import RetinaFace"
      ],
      "execution_count": null,
      "outputs": []
    },
    {
      "cell_type": "code",
      "metadata": {
        "id": "z_JnuNOhPhyT"
      },
      "source": [
        "bot = telebot.TeleBot('Insert Your Token')\n",
        "\n",
        "\n",
        "@bot.message_handler(content_types=['photo'])\n",
        "def photo(message):\n",
        "    print('message.photo =', message.photo)\n",
        "    fileID = message.photo[-1].file_id\n",
        "    print('fileID =', fileID)\n",
        "    file_info = bot.get_file(fileID)\n",
        "    print('file.file_path =', file_info.file_path)\n",
        "    downloaded_file = bot.download_file(file_info.file_path)\n",
        "\n",
        "    with open(f\"BotPhotos/{fileID}.jpg\", 'wb') as new_file:\n",
        "        new_file.write(downloaded_file)\n",
        "\n",
        "    model = load_model('Gender2.h5')\n",
        "\n",
        "    image = cv2.imread(f\"BotPhotos/{fileID}.jpg\")\n",
        "    image = cv2.cvtColor(image, cv2.COLOR_BGR2RGB)\n",
        "    faces = RetinaFace.extract_faces(image, align=True)\n",
        "\n",
        "    for face in faces:\n",
        "        face = cv2.cvtColor(face, cv2.COLOR_BGR2RGB)\n",
        "\n",
        "        image2 = cv2.resize(face, (178, 218))\n",
        "        image2 = image2 / 255\n",
        "        image2 = image2.reshape(1, 178, 218, 3)\n",
        "\n",
        "        pred = model.predict([image2])\n",
        "\n",
        "        result = np.argmax(pred)\n",
        "\n",
        "        if result == 1:\n",
        "            bot.reply_to(message, 'Female')\n",
        "\n",
        "        elif result == 0:\n",
        "            bot.reply_to(message, 'Male')\n",
        "\n",
        "\n",
        "@bot.message_handler(commands=['start'])\n",
        "def say_hello(message):\n",
        "    bot.send_message(message.chat.id, f'wellcome Dear {message.from_user.first_name}')\n",
        "\n",
        "\n",
        "@bot.message_handler(func=lambda message: True)\n",
        "def send_unknown(message):\n",
        "    bot.reply_to(message, 'I do not understand what you are saying')\n",
        "\n",
        "\n",
        "bot.polling()"
      ],
      "execution_count": null,
      "outputs": []
    }
  ]
}