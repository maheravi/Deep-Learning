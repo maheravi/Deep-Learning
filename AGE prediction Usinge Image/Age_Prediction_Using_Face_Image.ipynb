{
  "nbformat": 4,
  "nbformat_minor": 0,
  "metadata": {
    "colab": {
      "name": "Age Prediction Using Face Image.ipynb",
      "provenance": [],
      "authorship_tag": "ABX9TyOBfJXCCjf27+t6wQ/7l66K",
      "include_colab_link": true
    },
    "kernelspec": {
      "name": "python3",
      "display_name": "Python 3"
    },
    "language_info": {
      "name": "python"
    }
  },
  "cells": [
    {
      "cell_type": "markdown",
      "metadata": {
        "id": "view-in-github",
        "colab_type": "text"
      },
      "source": [
        "<a href=\"https://colab.research.google.com/github/maheravi/Deep-Learning/blob/main/AGE%20prediction%20Usinge%20Image/Age_Prediction_Using_Face_Image.ipynb\" target=\"_parent\"><img src=\"https://colab.research.google.com/assets/colab-badge.svg\" alt=\"Open In Colab\"/></a>"
      ]
    },
    {
      "cell_type": "code",
      "metadata": {
        "id": "FpXvrCR8v3R9"
      },
      "source": [
        "!pip install -q kaggle\n",
        "!mkdir ~/.kaggle\n",
        "! cp kaggle.json ~/.kaggle/"
      ],
      "execution_count": null,
      "outputs": []
    },
    {
      "cell_type": "code",
      "metadata": {
        "colab": {
          "base_uri": "https://localhost:8080/"
        },
        "id": "8NoBJZjNw2FG",
        "outputId": "a051a79c-0dc1-4eef-8901-5cb085505e15"
      },
      "source": [
        "!kaggle datasets download -d jangedoo/utkface-new\n"
      ],
      "execution_count": null,
      "outputs": [
        {
          "output_type": "stream",
          "name": "stdout",
          "text": [
            "Warning: Your Kaggle API key is readable by other users on this system! To fix this, you can run 'chmod 600 /root/.kaggle/kaggle.json'\n",
            "Downloading utkface-new.zip to /content\n",
            " 99% 328M/331M [00:02<00:00, 130MB/s]\n",
            "100% 331M/331M [00:02<00:00, 125MB/s]\n"
          ]
        }
      ]
    },
    {
      "cell_type": "code",
      "metadata": {
        "id": "lMpnvQDSw9F9"
      },
      "source": [
        "!unzip -qq utkface-new.zip"
      ],
      "execution_count": null,
      "outputs": []
    },
    {
      "cell_type": "code",
      "metadata": {
        "id": "o5Cv_mGAxETF"
      },
      "source": [
        "import tensorflow as tf\n",
        "import pandas as pd\n",
        "from tensorflow.keras.preprocessing.image import ImageDataGenerator\n",
        "from matplotlib import pyplot as plt\n",
        "from tensorflow.keras.layers import Dense, MaxPool2D, Conv2D, Flatten\n",
        "from tensorflow.keras.optimizers import SGD, Adam\n",
        "from sklearn.model_selection import train_test_split\n",
        "import os\n",
        "import cv2\n",
        "import numpy as np"
      ],
      "execution_count": null,
      "outputs": []
    },
    {
      "cell_type": "code",
      "metadata": {
        "id": "fWEOSR56xbG9"
      },
      "source": [
        "epochs = 12\n",
        "width = height = 224"
      ],
      "execution_count": null,
      "outputs": []
    },
    {
      "cell_type": "code",
      "metadata": {
        "id": "VQqYEWjlxdI8"
      },
      "source": [
        "images = []\n",
        "ages = []\n",
        "\n",
        "for image_name in os.listdir('crop_part1')[0:9000]:\n",
        "    part = image_name.split('_')\n",
        "    ages.append(int(part[0]))\n",
        "\n",
        "    image = cv2.imread(f'crop_part1/{image_name}')\n",
        "    image = cv2.cvtColor(image, cv2.COLOR_BGR2RGB)\n",
        "    images.append(image)"
      ],
      "execution_count": null,
      "outputs": []
    },
    {
      "cell_type": "code",
      "metadata": {
        "colab": {
          "base_uri": "https://localhost:8080/",
          "height": 206
        },
        "id": "Q0ZzY9UHxept",
        "outputId": "8f76e10e-50cf-4865-a41c-23a5864aa800"
      },
      "source": [
        "images = pd.Series(images, name= 'Images')\n",
        "ages = pd.Series(ages, name= 'Ages')\n",
        "\n",
        "df = pd.concat([images, ages], axis= 1)\n",
        "df.head()"
      ],
      "execution_count": null,
      "outputs": [
        {
          "output_type": "execute_result",
          "data": {
            "text/html": [
              "<div>\n",
              "<style scoped>\n",
              "    .dataframe tbody tr th:only-of-type {\n",
              "        vertical-align: middle;\n",
              "    }\n",
              "\n",
              "    .dataframe tbody tr th {\n",
              "        vertical-align: top;\n",
              "    }\n",
              "\n",
              "    .dataframe thead th {\n",
              "        text-align: right;\n",
              "    }\n",
              "</style>\n",
              "<table border=\"1\" class=\"dataframe\">\n",
              "  <thead>\n",
              "    <tr style=\"text-align: right;\">\n",
              "      <th></th>\n",
              "      <th>Images</th>\n",
              "      <th>Ages</th>\n",
              "    </tr>\n",
              "  </thead>\n",
              "  <tbody>\n",
              "    <tr>\n",
              "      <th>0</th>\n",
              "      <td>[[[66, 53, 63], [63, 50, 60], [62, 46, 57], [5...</td>\n",
              "      <td>27</td>\n",
              "    </tr>\n",
              "    <tr>\n",
              "      <th>1</th>\n",
              "      <td>[[[91, 80, 76], [71, 60, 56], [47, 35, 35], [3...</td>\n",
              "      <td>43</td>\n",
              "    </tr>\n",
              "    <tr>\n",
              "      <th>2</th>\n",
              "      <td>[[[211, 213, 208], [211, 213, 208], [211, 213,...</td>\n",
              "      <td>24</td>\n",
              "    </tr>\n",
              "    <tr>\n",
              "      <th>3</th>\n",
              "      <td>[[[104, 70, 60], [107, 73, 63], [112, 78, 68],...</td>\n",
              "      <td>3</td>\n",
              "    </tr>\n",
              "    <tr>\n",
              "      <th>4</th>\n",
              "      <td>[[[128, 89, 84], [130, 91, 86], [131, 90, 86],...</td>\n",
              "      <td>91</td>\n",
              "    </tr>\n",
              "  </tbody>\n",
              "</table>\n",
              "</div>"
            ],
            "text/plain": [
              "                                              Images  Ages\n",
              "0  [[[66, 53, 63], [63, 50, 60], [62, 46, 57], [5...    27\n",
              "1  [[[91, 80, 76], [71, 60, 56], [47, 35, 35], [3...    43\n",
              "2  [[[211, 213, 208], [211, 213, 208], [211, 213,...    24\n",
              "3  [[[104, 70, 60], [107, 73, 63], [112, 78, 68],...     3\n",
              "4  [[[128, 89, 84], [130, 91, 86], [131, 90, 86],...    91"
            ]
          },
          "metadata": {},
          "execution_count": 7
        }
      ]
    },
    {
      "cell_type": "code",
      "metadata": {
        "colab": {
          "base_uri": "https://localhost:8080/",
          "height": 482
        },
        "id": "ajzyIz7TzvPn",
        "outputId": "000ae9cb-3829-4e00-bd53-7d469f0d2a3c"
      },
      "source": [
        "plt.figure(figsize=(24, 8))\n",
        "plt.hist(df['Ages'], bins= 116)\n",
        "plt.show()"
      ],
      "execution_count": null,
      "outputs": [
        {
          "output_type": "display_data",
          "data": {
            "image/png": "[encoded data removed]",
            "text/plain": [
              "<Figure size 1728x576 with 1 Axes>"
            ]
          },
          "metadata": {
            "needs_background": "light"
          }
        }
      ]
    },
    {
      "cell_type": "code",
      "metadata": {
        "id": "7kh60NhSzwyU"
      },
      "source": [
        "under4 = []\n",
        "\n",
        "for i in range(len(df)):\n",
        "    if df['Ages'].iloc[i] <= 4:\n",
        "        under4.append(df.iloc[i])\n",
        "\n",
        "under4 = pd.DataFrame(under4)\n",
        "under4 = under4.sample(frac= 0.3)\n",
        "\n",
        "up4 = df[df['Ages'] > 4]\n",
        "\n",
        "df = pd.concat([under4, up4])"
      ],
      "execution_count": null,
      "outputs": []
    },
    {
      "cell_type": "code",
      "metadata": {
        "id": "dfDeb_L6zyVT"
      },
      "source": [
        "df = df[df['Ages'] < 90]"
      ],
      "execution_count": null,
      "outputs": []
    },
    {
      "cell_type": "code",
      "metadata": {
        "colab": {
          "base_uri": "https://localhost:8080/",
          "height": 482
        },
        "id": "GLFvk0Ipzz3D",
        "outputId": "db471f78-10c1-465c-f4b5-e29352e24d10"
      },
      "source": [
        "plt.figure(figsize=(24, 8))\n",
        "plt.hist(df['Ages'], bins= 89)\n",
        "plt.show()"
      ],
      "execution_count": null,
      "outputs": [
        {
          "output_type": "display_data",
          "data": {
            "image/png": "[encoded data removed]",
            "text/plain": [
              "<Figure size 1728x576 with 1 Axes>"
            ]
          },
          "metadata": {
            "needs_background": "light"
          }
        }
      ]
    },
    {
      "cell_type": "code",
      "metadata": {
        "colab": {
          "base_uri": "https://localhost:8080/"
        },
        "id": "0wSxme9Vz1tj",
        "outputId": "902af8fe-28cb-487d-9c67-4f54ad527ab7"
      },
      "source": [
        "X = []\n",
        "Y = []\n",
        "\n",
        "for i in range(len(df)):\n",
        "    df['Images'].iloc[i] = cv2.resize(df['Images'].iloc[i], (width, height))\n",
        "\n",
        "    X.append(df['Images'].iloc[i])\n",
        "    Y.append(df['Ages'].iloc[i])\n",
        "\n",
        "X = np.array(X)\n",
        "Y = np.array(Y)"
      ],
      "execution_count": null,
      "outputs": [
        {
          "output_type": "stream",
          "name": "stderr",
          "text": [
            "/usr/local/lib/python3.7/dist-packages/pandas/core/indexing.py:670: SettingWithCopyWarning: \n",
            "A value is trying to be set on a copy of a slice from a DataFrame\n",
            "\n",
            "See the caveats in the documentation: https://pandas.pydata.org/pandas-docs/stable/user_guide/indexing.html#returning-a-view-versus-a-copy\n",
            "  iloc._setitem_with_indexer(indexer, value)\n"
          ]
        }
      ]
    },
    {
      "cell_type": "code",
      "metadata": {
        "id": "A0P2fHSaz4RL"
      },
      "source": [
        "X_train, X_val, Y_train, Y_val = train_test_split(X, Y, test_size = 0.2)"
      ],
      "execution_count": null,
      "outputs": []
    },
    {
      "cell_type": "code",
      "metadata": {
        "id": "6E1Ask8dz8ab"
      },
      "source": [
        "data_generator = ImageDataGenerator(\n",
        "                                  rescale = 1./ 255,\n",
        "                                  horizontal_flip = True\n",
        "                                  )\n",
        "\n",
        "train_data = data_generator.flow(X_train,\n",
        "                                 Y_train,\n",
        "                                 batch_size= 32)\n",
        "\n",
        "val_data = data_generator.flow(X_val,\n",
        "                               Y_val,\n",
        "                               batch_size= 32)"
      ],
      "execution_count": null,
      "outputs": []
    },
    {
      "cell_type": "code",
      "metadata": {
        "colab": {
          "base_uri": "https://localhost:8080/"
        },
        "id": "3Ys6Qlnjz-yc",
        "outputId": "99b93d65-4e8d-4b79-ee93-5641ef8f0f5e"
      },
      "source": [
        "base_model = tf.keras.applications.MobileNetV2(\n",
        "    input_shape=(width, height, 3),\n",
        "    include_top = False,\n",
        "    weights = 'imagenet',\n",
        "    pooling = 'avg'\n",
        "    )"
      ],
      "execution_count": null,
      "outputs": [
        {
          "output_type": "stream",
          "name": "stdout",
          "text": [
            "Downloading data from https://storage.googleapis.com/tensorflow/keras-applications/mobilenet_v2/mobilenet_v2_weights_tf_dim_ordering_tf_kernels_1.0_224_no_top.h5\n",
            "9412608/9406464 [==============================] - 0s 0us/step\n",
            "9420800/9406464 [==============================] - 0s 0us/step\n"
          ]
        }
      ]
    },
    {
      "cell_type": "code",
      "metadata": {
        "id": "gY5XATfw0ATm"
      },
      "source": [
        "for layer in base_model.layers[:-4]:\n",
        "  layer.trainable = False"
      ],
      "execution_count": null,
      "outputs": []
    },
    {
      "cell_type": "code",
      "metadata": {
        "id": "xfNvmZc50CYs"
      },
      "source": [
        "model = tf.keras.models.Sequential([\n",
        "    base_model,\n",
        "    Dense(1, activation='relu')                          \n",
        "])"
      ],
      "execution_count": null,
      "outputs": []
    },
    {
      "cell_type": "code",
      "metadata": {
        "id": "BNtXs1aw0EDc"
      },
      "source": [
        "model.compile(optimizer = tf.keras.optimizers.Adam(learning_rate=0.001),\n",
        "              loss = tf.keras.losses.mean_squared_error)"
      ],
      "execution_count": null,
      "outputs": []
    },
    {
      "cell_type": "code",
      "metadata": {
        "colab": {
          "base_uri": "https://localhost:8080/"
        },
        "id": "_ecxLT630F2c",
        "outputId": "6546ca77-6fc7-4ebf-e007-26e3c258cdda"
      },
      "source": [
        "model.fit(train_data,\n",
        "          validation_data = val_data,\n",
        "          epochs = epochs\n",
        ")"
      ],
      "execution_count": null,
      "outputs": [
        {
          "output_type": "stream",
          "name": "stdout",
          "text": [
            "Epoch 1/12\n",
            "188/188 [==============================] - 272s 1s/step - loss: 356.8652 - val_loss: 1905.9962\n",
            "Epoch 2/12\n",
            "188/188 [==============================] - 250s 1s/step - loss: 165.9233 - val_loss: 800.6254\n",
            "Epoch 3/12\n",
            "188/188 [==============================] - 253s 1s/step - loss: 140.0200 - val_loss: 498.3348\n",
            "Epoch 4/12\n",
            "188/188 [==============================] - 258s 1s/step - loss: 125.7414 - val_loss: 262.9617\n",
            "Epoch 5/12\n",
            "188/188 [==============================] - 254s 1s/step - loss: 114.6021 - val_loss: 237.3045\n",
            "Epoch 6/12\n",
            "188/188 [==============================] - 254s 1s/step - loss: 105.1593 - val_loss: 361.1976\n",
            "Epoch 7/12\n",
            "188/188 [==============================] - 258s 1s/step - loss: 101.2909 - val_loss: 180.5868\n",
            "Epoch 8/12\n",
            "188/188 [==============================] - 275s 1s/step - loss: 94.2694 - val_loss: 148.2677\n",
            "Epoch 9/12\n",
            "188/188 [==============================] - 269s 1s/step - loss: 84.6091 - val_loss: 381.2461\n",
            "Epoch 10/12\n",
            "188/188 [==============================] - 256s 1s/step - loss: 76.8344 - val_loss: 178.7257\n",
            "Epoch 11/12\n",
            "188/188 [==============================] - 255s 1s/step - loss: 71.7587 - val_loss: 340.9398\n",
            "Epoch 12/12\n",
            "188/188 [==============================] - 257s 1s/step - loss: 69.4971 - val_loss: 146.3726\n"
          ]
        },
        {
          "output_type": "execute_result",
          "data": {
            "text/plain": [
              "<keras.callbacks.History at 0x7f03bc610050>"
            ]
          },
          "metadata": {},
          "execution_count": 21
        }
      ]
    },
    {
      "cell_type": "code",
      "metadata": {
        "colab": {
          "base_uri": "https://localhost:8080/"
        },
        "id": "jes77SFI0MUs",
        "outputId": "a23feed5-63d2-4d7e-9f7b-a95b5c91ffe0"
      },
      "source": [
        "model.save('AgePredictionModel.h5')"
      ],
      "execution_count": null,
      "outputs": [
        {
          "output_type": "stream",
          "name": "stderr",
          "text": [
            "/usr/local/lib/python3.7/dist-packages/keras/utils/generic_utils.py:497: CustomMaskWarning: Custom mask layers require a config and must override get_config. When loading, the custom mask layer must be passed to the custom_objects argument.\n",
            "  category=CustomMaskWarning)\n"
          ]
        }
      ]
    },
    {
      "cell_type": "code",
      "metadata": {
        "id": "mRjsqeX7Ok_0"
      },
      "source": [
        "import tensorflow as tf\n",
        "from tensorflow.python.keras.models import load_model"
      ],
      "execution_count": 1,
      "outputs": []
    },
    {
      "cell_type": "code",
      "metadata": {
        "id": "Yec_BRD5Aqvr"
      },
      "source": [
        "!pip install retina-face\n",
        "!pip install PyTelegramBotAPI==3.8.0"
      ],
      "execution_count": null,
      "outputs": []
    },
    {
      "cell_type": "code",
      "metadata": {
        "id": "WAmfj_fZN2dC",
        "colab": {
          "base_uri": "https://localhost:8080/"
        },
        "outputId": "a844e1c8-a407-4d2e-eda8-ba6fa44d5afe"
      },
      "source": [
        "import cv2\n",
        "from tensorflow.python.keras.models import load_model\n",
        "import telebot\n",
        "from retinaface import RetinaFace\n",
        "bot = telebot.TeleBot('Input Your Token')\n",
        "\n",
        "\n",
        "@bot.message_handler(content_types=['photo'])\n",
        "def photo(message):\n",
        "    print('message.photo =', message.photo)\n",
        "    fileID = message.photo[-1].file_id\n",
        "    print('fileID =', fileID)\n",
        "    file_info = bot.get_file(fileID)\n",
        "    print('file.file_path =', file_info.file_path)\n",
        "    downloaded_file = bot.download_file(file_info.file_path)\n",
        "\n",
        "    with open(f\"{fileID}.jpg\", 'wb') as new_file:\n",
        "        new_file.write(downloaded_file)\n",
        "\n",
        "    model = load_model('/content/AgePredictionModel.h5')\n",
        "\n",
        "    image = cv2.imread(f\"{fileID}.jpg\")\n",
        "    image = cv2.cvtColor(image, cv2.COLOR_BGR2RGB)\n",
        "    faces = RetinaFace.extract_faces(image, align=True)\n",
        "\n",
        "    for face in faces:\n",
        "        face = cv2.cvtColor(face, cv2.COLOR_BGR2RGB)\n",
        "        image = cv2.resize(face, (224, 224))\n",
        "        image = image / 255\n",
        "        image = image.reshape(1, 224, 224, 3)\n",
        "\n",
        "        pred = model.predict([image])\n",
        "\n",
        "        bot.reply_to(message, pred)\n",
        "\n",
        "\n",
        "@bot.message_handler(commands=['start'])\n",
        "def say_hello(message):\n",
        "    bot.send_message(message.chat.id, f'wellcome {message.from_user.first_name} Joonz')\n",
        "\n",
        "\n",
        "@bot.message_handler(func=lambda message: True)\n",
        "def send_unknown(message):\n",
        "    bot.reply_to(message, 'نمیفهمم چی میگی یره!')\n",
        "\n",
        "\n",
        "bot.polling()"
      ],
      "execution_count": 14,
      "outputs": [
        {
          "output_type": "stream",
          "name": "stdout",
          "text": [
            "message.photo = [<telebot.types.PhotoSize object at 0x7fd020ae7e50>, <telebot.types.PhotoSize object at 0x7fd0202a9b50>, <telebot.types.PhotoSize object at 0x7fd0202a9d50>]\n",
            "fileID = AgACAgQAAxkBAAIBV2FTBJJ8Q-Olslf_g4FkGs9Bqt5AAAL8tjEb1SeZUtjPhVXL8LGcAQADAgADeAADIQQ\n",
            "file.file_path = photos/file_89.jpg\n",
            "Directory  /root /.deepface created\n",
            "Directory  /root /.deepface/weights created\n",
            "retinaface.h5 will be downloaded from the url https://github.com/serengil/deepface_models/releases/download/v1.0/retinaface.h5\n"
          ]
        },
        {
          "output_type": "stream",
          "name": "stderr",
          "text": [
            "Downloading...\n",
            "From: https://github.com/serengil/deepface_models/releases/download/v1.0/retinaface.h5\n",
            "To: /root/.deepface/weights/retinaface.h5\n",
            "100%|██████████| 119M/119M [00:04<00:00, 25.9MB/s]\n"
          ]
        },
        {
          "output_type": "stream",
          "name": "stdout",
          "text": [
            "message.photo = [<telebot.types.PhotoSize object at 0x7fd019cf0850>, <telebot.types.PhotoSize object at 0x7fd01b65aa90>, <telebot.types.PhotoSize object at 0x7fd019d2dd50>]\n",
            "fileID = AgACAgQAAxkBAAIBWWFTBL1hSIULO74vpw5sLZ8Xjs7PAAL9tjEb1SeZUg7idNH9ukRpAQADAgADeAADIQQ\n",
            "file.file_path = photos/file_90.jpg\n",
            "message.photo = [<telebot.types.PhotoSize object at 0x7fd019930410>, <telebot.types.PhotoSize object at 0x7fd019179810>, <telebot.types.PhotoSize object at 0x7fd019179cd0>]\n",
            "fileID = AgACAgQAAxkBAAIBW2FTBPjMseHyxu7pIjLF1jTeK2dgAAIKtzEb1SeZUl38uWNYcB3aAQADAgADeAADIQQ\n",
            "file.file_path = photos/file_91.jpg\n"
          ]
        }
      ]
    },
    {
      "cell_type": "code",
      "metadata": {
        "id": "iTax3oTPP6la"
      },
      "source": [
        ""
      ],
      "execution_count": null,
      "outputs": []
    }
  ]
}