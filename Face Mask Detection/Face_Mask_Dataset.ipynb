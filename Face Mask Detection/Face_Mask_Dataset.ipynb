{
  "nbformat": 4,
  "nbformat_minor": 0,
  "metadata": {
    "colab": {
      "name": "Face Mask Dataset.ipynb",
      "provenance": [],
      "authorship_tag": "ABX9TyM7H1gsKkc9PlPyX93ZmB00",
      "include_colab_link": true
    },
    "kernelspec": {
      "name": "python3",
      "display_name": "Python 3"
    },
    "language_info": {
      "name": "python"
    },
    "accelerator": "GPU"
  },
  "cells": [
    {
      "cell_type": "markdown",
      "metadata": {
        "id": "view-in-github",
        "colab_type": "text"
      },
      "source": [
        "<a href=\"https://colab.research.google.com/github/maheravi/Deep-Learning/blob/main/Face%20Mask%20Detection/Face_Mask_Dataset.ipynb\" target=\"_parent\"><img src=\"https://colab.research.google.com/assets/colab-badge.svg\" alt=\"Open In Colab\"/></a>"
      ]
    },
    {
      "cell_type": "code",
      "metadata": {
        "colab": {
          "base_uri": "https://localhost:8080/"
        },
        "id": "iHQ8UfrHduLl",
        "outputId": "6d82e53a-1ec8-4a2f-841d-10cc4ef562ad"
      },
      "source": [
        "!pip install kaggle\n",
        "!mkdir ~/.kaggle\n",
        "!cp kaggle.json ~/.kaggle"
      ],
      "execution_count": null,
      "outputs": [
        {
          "output_type": "stream",
          "name": "stdout",
          "text": [
            "Requirement already satisfied: kaggle in /usr/local/lib/python3.7/dist-packages (1.5.12)\n",
            "Requirement already satisfied: certifi in /usr/local/lib/python3.7/dist-packages (from kaggle) (2021.5.30)\n",
            "Requirement already satisfied: tqdm in /usr/local/lib/python3.7/dist-packages (from kaggle) (4.62.2)\n",
            "Requirement already satisfied: requests in /usr/local/lib/python3.7/dist-packages (from kaggle) (2.23.0)\n",
            "Requirement already satisfied: python-slugify in /usr/local/lib/python3.7/dist-packages (from kaggle) (5.0.2)\n",
            "Requirement already satisfied: urllib3 in /usr/local/lib/python3.7/dist-packages (from kaggle) (1.24.3)\n",
            "Requirement already satisfied: six>=1.10 in /usr/local/lib/python3.7/dist-packages (from kaggle) (1.15.0)\n",
            "Requirement already satisfied: python-dateutil in /usr/local/lib/python3.7/dist-packages (from kaggle) (2.8.2)\n",
            "Requirement already satisfied: text-unidecode>=1.3 in /usr/local/lib/python3.7/dist-packages (from python-slugify->kaggle) (1.3)\n",
            "Requirement already satisfied: idna<3,>=2.5 in /usr/local/lib/python3.7/dist-packages (from requests->kaggle) (2.10)\n",
            "Requirement already satisfied: chardet<4,>=3.0.2 in /usr/local/lib/python3.7/dist-packages (from requests->kaggle) (3.0.4)\n"
          ]
        }
      ]
    },
    {
      "cell_type": "code",
      "metadata": {
        "colab": {
          "base_uri": "https://localhost:8080/"
        },
        "id": "w1JoWd2-eEmT",
        "outputId": "3dfb3c81-31df-4a84-be6b-2b0e7c614ce2"
      },
      "source": [
        "!kaggle datasets download -d ashishjangra27/face-mask-12k-images-dataset"
      ],
      "execution_count": null,
      "outputs": [
        {
          "output_type": "stream",
          "name": "stdout",
          "text": [
            "Warning: Your Kaggle API key is readable by other users on this system! To fix this, you can run 'chmod 600 /root/.kaggle/kaggle.json'\n",
            "Downloading face-mask-12k-images-dataset.zip to /content\n",
            " 99% 327M/330M [00:02<00:00, 154MB/s]\n",
            "100% 330M/330M [00:02<00:00, 153MB/s]\n"
          ]
        }
      ]
    },
    {
      "cell_type": "code",
      "metadata": {
        "id": "7XtMmpzQeIy4"
      },
      "source": [
        "!unzip --qq face-mask-12k-images-dataset.zip"
      ],
      "execution_count": null,
      "outputs": []
    },
    {
      "cell_type": "code",
      "metadata": {
        "id": "Q_7ru3ImeOtY"
      },
      "source": [
        "import tensorflow as tf\n",
        "from tensorflow.keras import layers,optimizers, losses\n",
        "from tensorflow.keras.preprocessing.image import ImageDataGenerator\n",
        "from matplotlib import pyplot as plt\n",
        "import numpy as np\n",
        "import os\n",
        "import datetime"
      ],
      "execution_count": null,
      "outputs": []
    },
    {
      "cell_type": "code",
      "metadata": {
        "id": "tpbsX7y6eQHY"
      },
      "source": [
        "batch_size = 12\n",
        "epoch = 10\n",
        "lr = 0.001\n",
        "width = height = 178"
      ],
      "execution_count": null,
      "outputs": []
    },
    {
      "cell_type": "code",
      "metadata": {
        "colab": {
          "base_uri": "https://localhost:8080/"
        },
        "id": "QkQ3uo_PeYen",
        "outputId": "403bfef5-4cb4-4c6b-f49f-24c4eeb6498f"
      },
      "source": [
        "data_generator = ImageDataGenerator(\n",
        "    rescale=1./255,\n",
        "    horizontal_flip = True,\n",
        ")\n",
        "\n",
        "train_data = data_generator.flow_from_directory(\n",
        "    '/content/Face Mask Dataset/Train',\n",
        "    target_size = (width,height),\n",
        "    class_mode = 'categorical',\n",
        "    batch_size = batch_size,\n",
        "    shuffle = True,\n",
        ")\n",
        "\n",
        "val_data = data_generator.flow_from_directory(\n",
        "    '/content/Face Mask Dataset/Validation',\n",
        "    target_size = (width,height),\n",
        "    class_mode = 'categorical',\n",
        "    batch_size = batch_size,\n",
        "    shuffle = True,\n",
        ")\n",
        "\n",
        "test_data = data_generator.flow_from_directory(\n",
        "    '/content/Face Mask Dataset/Test',\n",
        "    target_size = (width,height),\n",
        "    class_mode = 'categorical',\n",
        "    batch_size = batch_size,\n",
        "    shuffle = True,\n",
        ")"
      ],
      "execution_count": null,
      "outputs": [
        {
          "output_type": "stream",
          "name": "stdout",
          "text": [
            "Found 10000 images belonging to 2 classes.\n",
            "Found 800 images belonging to 2 classes.\n",
            "Found 992 images belonging to 2 classes.\n"
          ]
        }
      ]
    },
    {
      "cell_type": "code",
      "metadata": {
        "id": "3dC1xXhs4rBH",
        "colab": {
          "base_uri": "https://localhost:8080/"
        },
        "outputId": "b2bbffda-e535-42a5-998e-dc5bd98dc3d6"
      },
      "source": [
        "ResNet = tf.keras.applications.ResNet50V2(include_top=False, pooling='avg', weights='imagenet',\n",
        "input_shape=(width, height, 3))"
      ],
      "execution_count": null,
      "outputs": [
        {
          "output_type": "stream",
          "name": "stdout",
          "text": [
            "Downloading data from https://storage.googleapis.com/tensorflow/keras-applications/resnet/resnet50v2_weights_tf_dim_ordering_tf_kernels_notop.h5\n",
            "94674944/94668760 [==============================] - 1s 0us/step\n",
            "94683136/94668760 [==============================] - 1s 0us/step\n"
          ]
        }
      ]
    },
    {
      "cell_type": "code",
      "metadata": {
        "id": "OVT9XNvCea03"
      },
      "source": [
        "model = tf.keras.Sequential([\n",
        "        ResNet,\n",
        "        layers.Flatten(),\n",
        "        layers.Dense(128, activation='relu'),\n",
        "        layers.BatchNormalization(),\n",
        "        layers.Dense(2, activation='sigmoid'),              \n",
        "])"
      ],
      "execution_count": null,
      "outputs": []
    },
    {
      "cell_type": "code",
      "metadata": {
        "id": "WagIny3geh0H"
      },
      "source": [
        "model.compile(optimizer=tf.keras.optimizers.Adam(learning_rate=0.001),\n",
        "              loss=tf.keras.losses.binary_crossentropy,\n",
        "              metrics=['accuracy'],\n",
        "              )"
      ],
      "execution_count": null,
      "outputs": []
    },
    {
      "cell_type": "code",
      "metadata": {
        "colab": {
          "base_uri": "https://localhost:8080/"
        },
        "id": "AK0ZoSezejRP",
        "outputId": "a880f40d-c7dd-454b-a815-27f92203a40b"
      },
      "source": [
        "model.fit(train_data,\n",
        "          steps_per_epoch = train_data.samples/batch_size,\n",
        "          validation_data = val_data,\n",
        "          validation_steps = val_data.samples/batch_size,\n",
        "          epochs = 10,\n",
        "          )"
      ],
      "execution_count": null,
      "outputs": [
        {
          "output_type": "stream",
          "name": "stdout",
          "text": [
            "Epoch 1/10\n",
            "833/833 [==============================] - 237s 237ms/step - loss: 0.1263 - accuracy: 0.9596 - val_loss: 6.9175 - val_accuracy: 0.7425\n",
            "Epoch 2/10\n",
            "833/833 [==============================] - 195s 233ms/step - loss: 0.0677 - accuracy: 0.9808 - val_loss: 0.0297 - val_accuracy: 0.9912\n",
            "Epoch 3/10\n",
            "833/833 [==============================] - 195s 233ms/step - loss: 0.0548 - accuracy: 0.9840 - val_loss: 1.0115 - val_accuracy: 0.7412\n",
            "Epoch 4/10\n",
            "833/833 [==============================] - 195s 234ms/step - loss: 0.0512 - accuracy: 0.9855 - val_loss: 0.0461 - val_accuracy: 0.9862\n",
            "Epoch 5/10\n",
            "833/833 [==============================] - 196s 236ms/step - loss: 0.0353 - accuracy: 0.9906 - val_loss: 0.0102 - val_accuracy: 0.9962\n",
            "Epoch 6/10\n",
            "833/833 [==============================] - 196s 236ms/step - loss: 0.0479 - accuracy: 0.9845 - val_loss: 0.0208 - val_accuracy: 0.9887\n",
            "Epoch 7/10\n",
            "833/833 [==============================] - 196s 236ms/step - loss: 0.0355 - accuracy: 0.9887 - val_loss: 0.0119 - val_accuracy: 0.9950\n",
            "Epoch 8/10\n",
            "833/833 [==============================] - 196s 236ms/step - loss: 0.0316 - accuracy: 0.9907 - val_loss: 0.0228 - val_accuracy: 0.9912\n",
            "Epoch 9/10\n",
            "833/833 [==============================] - 196s 236ms/step - loss: 0.0281 - accuracy: 0.9921 - val_loss: 0.0597 - val_accuracy: 0.9837\n",
            "Epoch 10/10\n",
            "833/833 [==============================] - 196s 236ms/step - loss: 0.0379 - accuracy: 0.9899 - val_loss: 0.0203 - val_accuracy: 0.9950\n"
          ]
        },
        {
          "output_type": "execute_result",
          "data": {
            "text/plain": [
              "<keras.callbacks.History at 0x7f95d5f87610>"
            ]
          },
          "metadata": {},
          "execution_count": 10
        }
      ]
    },
    {
      "cell_type": "code",
      "metadata": {
        "colab": {
          "base_uri": "https://localhost:8080/"
        },
        "id": "UNf-KUjOelO3",
        "outputId": "701532bf-1b4b-4234-e5a8-760aefceac16"
      },
      "source": [
        "model.evaluate(test_data)"
      ],
      "execution_count": null,
      "outputs": [
        {
          "output_type": "stream",
          "name": "stdout",
          "text": [
            "83/83 [==============================] - 6s 77ms/step - loss: 0.0333 - accuracy: 0.9889\n"
          ]
        },
        {
          "output_type": "execute_result",
          "data": {
            "text/plain": [
              "[0.03331812471151352, 0.9889112710952759]"
            ]
          },
          "metadata": {},
          "execution_count": 11
        }
      ]
    },
    {
      "cell_type": "code",
      "metadata": {
        "id": "Y-7aB2oBkUhO",
        "colab": {
          "base_uri": "https://localhost:8080/"
        },
        "outputId": "6ba3f3a6-a386-41e5-a585-61897d80f2ec"
      },
      "source": [
        "from google.colab import drive\n",
        "drive.mount('/content/drive')"
      ],
      "execution_count": null,
      "outputs": [
        {
          "output_type": "stream",
          "name": "stdout",
          "text": [
            "Mounted at /content/drive\n"
          ]
        }
      ]
    },
    {
      "cell_type": "code",
      "metadata": {
        "id": "DepgXaCfkZ8W",
        "colab": {
          "base_uri": "https://localhost:8080/"
        },
        "outputId": "5b62d67f-e68c-4456-9dab-e13c32c8c91b"
      },
      "source": [
        "model.save('FaceMask.h5')"
      ],
      "execution_count": null,
      "outputs": [
        {
          "output_type": "stream",
          "name": "stderr",
          "text": [
            "/usr/local/lib/python3.7/dist-packages/keras/utils/generic_utils.py:497: CustomMaskWarning: Custom mask layers require a config and must override get_config. When loading, the custom mask layer must be passed to the custom_objects argument.\n",
            "  category=CustomMaskWarning)\n"
          ]
        }
      ]
    },
    {
      "cell_type": "code",
      "metadata": {
        "id": "eUektujeBtPE",
        "colab": {
          "base_uri": "https://localhost:8080/"
        },
        "outputId": "5ff11a76-1326-4bf9-d1fe-a107dd0660ee"
      },
      "source": [
        "from sklearn.metrics import classification_report, confusion_matrix\n",
        "\n",
        "Y_pred = model.predict(test_data)\n",
        "y_pred = np.argmax(Y_pred, axis = 1)\n",
        "print('confusion Matrix')\n",
        "print(confusion_matrix(test_data.classes, y_pred))\n",
        "\n",
        "target_names = list(test_data.class_indices.keys())\n",
        "print('Classification Report')\n",
        "print(classification_report(test_data.classes, y_pred, target_names=target_names))"
      ],
      "execution_count": null,
      "outputs": [
        {
          "output_type": "stream",
          "name": "stdout",
          "text": [
            "confusion Matrix\n",
            "[[241 242]\n",
            " [249 260]]\n",
            "Classification Report\n",
            "              precision    recall  f1-score   support\n",
            "\n",
            "    WithMask       0.49      0.50      0.50       483\n",
            " WithoutMask       0.52      0.51      0.51       509\n",
            "\n",
            "    accuracy                           0.51       992\n",
            "   macro avg       0.50      0.50      0.50       992\n",
            "weighted avg       0.51      0.51      0.51       992\n",
            "\n"
          ]
        }
      ]
    },
    {
      "cell_type": "code",
      "metadata": {
        "id": "owQxkKDIxqHC"
      },
      "source": [
        ""
      ],
      "execution_count": null,
      "outputs": []
    }
  ]
}