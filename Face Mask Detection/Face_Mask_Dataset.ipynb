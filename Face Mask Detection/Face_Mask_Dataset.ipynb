{
  "nbformat": 4,
  "nbformat_minor": 0,
  "metadata": {
    "colab": {
      "name": "Face Mask Dataset.ipynb",
      "provenance": [],
      "include_colab_link": true
    },
    "kernelspec": {
      "name": "python3",
      "display_name": "Python 3"
    },
    "language_info": {
      "name": "python"
    },
    "accelerator": "GPU"
  },
  "cells": [
    {
      "cell_type": "markdown",
      "metadata": {
        "id": "view-in-github",
        "colab_type": "text"
      },
      "source": [
        "<a href=\"https://colab.research.google.com/github/maheravi/Deep-Learning/blob/main/Face%20Mask%20Detection/Face_Mask_Dataset.ipynb\" target=\"_parent\"><img src=\"https://colab.research.google.com/assets/colab-badge.svg\" alt=\"Open In Colab\"/></a>"
      ]
    },
    {
      "cell_type": "code",
      "metadata": {
        "colab": {
          "base_uri": "https://localhost:8080/"
        },
        "id": "iHQ8UfrHduLl",
        "outputId": "d6f5f0d5-221d-42ec-a3b2-474cc515f1f5"
      },
      "source": [
        "!pip install kaggle\n",
        "!mkdir ~/.kaggle\n",
        "!cp kaggle.json ~/.kaggle"
      ],
      "execution_count": null,
      "outputs": [
        {
          "output_type": "stream",
          "name": "stdout",
          "text": [
            "Requirement already satisfied: kaggle in /usr/local/lib/python3.7/dist-packages (1.5.12)\n",
            "Requirement already satisfied: certifi in /usr/local/lib/python3.7/dist-packages (from kaggle) (2021.5.30)\n",
            "Requirement already satisfied: python-slugify in /usr/local/lib/python3.7/dist-packages (from kaggle) (5.0.2)\n",
            "Requirement already satisfied: urllib3 in /usr/local/lib/python3.7/dist-packages (from kaggle) (1.24.3)\n",
            "Requirement already satisfied: tqdm in /usr/local/lib/python3.7/dist-packages (from kaggle) (4.62.2)\n",
            "Requirement already satisfied: requests in /usr/local/lib/python3.7/dist-packages (from kaggle) (2.23.0)\n",
            "Requirement already satisfied: python-dateutil in /usr/local/lib/python3.7/dist-packages (from kaggle) (2.8.2)\n",
            "Requirement already satisfied: six>=1.10 in /usr/local/lib/python3.7/dist-packages (from kaggle) (1.15.0)\n",
            "Requirement already satisfied: text-unidecode>=1.3 in /usr/local/lib/python3.7/dist-packages (from python-slugify->kaggle) (1.3)\n",
            "Requirement already satisfied: idna<3,>=2.5 in /usr/local/lib/python3.7/dist-packages (from requests->kaggle) (2.10)\n",
            "Requirement already satisfied: chardet<4,>=3.0.2 in /usr/local/lib/python3.7/dist-packages (from requests->kaggle) (3.0.4)\n"
          ]
        }
      ]
    },
    {
      "cell_type": "code",
      "metadata": {
        "colab": {
          "base_uri": "https://localhost:8080/"
        },
        "id": "w1JoWd2-eEmT",
        "outputId": "ae0abb04-8d95-4ca6-dc57-f840d0d31af3"
      },
      "source": [
        "!kaggle datasets download -d ashishjangra27/face-mask-12k-images-dataset"
      ],
      "execution_count": null,
      "outputs": [
        {
          "output_type": "stream",
          "name": "stdout",
          "text": [
            "Warning: Your Kaggle API key is readable by other users on this system! To fix this, you can run 'chmod 600 /root/.kaggle/kaggle.json'\n",
            "Downloading face-mask-12k-images-dataset.zip to /content\n",
            " 97% 320M/330M [00:02<00:00, 138MB/s]\n",
            "100% 330M/330M [00:02<00:00, 147MB/s]\n"
          ]
        }
      ]
    },
    {
      "cell_type": "code",
      "metadata": {
        "id": "7XtMmpzQeIy4"
      },
      "source": [
        "!unzip --qq face-mask-12k-images-dataset.zip"
      ],
      "execution_count": null,
      "outputs": []
    },
    {
      "cell_type": "code",
      "metadata": {
        "id": "Q_7ru3ImeOtY"
      },
      "source": [
        "import tensorflow as tf\n",
        "from tensorflow.keras import layers,optimizers, losses\n",
        "from tensorflow.keras.preprocessing.image import ImageDataGenerator\n",
        "from matplotlib import pyplot as plt\n",
        "import numpy as np\n",
        "import os\n",
        "import datetime"
      ],
      "execution_count": null,
      "outputs": []
    },
    {
      "cell_type": "code",
      "metadata": {
        "id": "tpbsX7y6eQHY"
      },
      "source": [
        "batch_size = 12\n",
        "epoch = 10\n",
        "lr = 0.001\n",
        "width = height = 178"
      ],
      "execution_count": null,
      "outputs": []
    },
    {
      "cell_type": "code",
      "metadata": {
        "colab": {
          "base_uri": "https://localhost:8080/"
        },
        "id": "QkQ3uo_PeYen",
        "outputId": "22bf86b4-e003-4c5d-e136-e902f47495f7"
      },
      "source": [
        "data_generator = ImageDataGenerator(\n",
        "    rescale=1./255,\n",
        "    horizontal_flip = True,\n",
        ")\n",
        "\n",
        "train_data = data_generator.flow_from_directory(\n",
        "    '/content/Face Mask Dataset/Train',\n",
        "    target_size = (width,height),\n",
        "    class_mode = 'categorical',\n",
        "    batch_size = batch_size,\n",
        "    shuffle = True,\n",
        ")\n",
        "\n",
        "val_data = data_generator.flow_from_directory(\n",
        "    '/content/Face Mask Dataset/Validation',\n",
        "    target_size = (width,height),\n",
        "    class_mode = 'categorical',\n",
        "    batch_size = batch_size,\n",
        "    shuffle = True,\n",
        ")\n",
        "\n",
        "test_data = data_generator.flow_from_directory(\n",
        "    '/content/Face Mask Dataset/Test',\n",
        "    target_size = (width,height),\n",
        "    class_mode = 'categorical',\n",
        "    batch_size = batch_size,\n",
        "    shuffle = False,\n",
        ")"
      ],
      "execution_count": null,
      "outputs": [
        {
          "output_type": "stream",
          "name": "stdout",
          "text": [
            "Found 10000 images belonging to 2 classes.\n",
            "Found 800 images belonging to 2 classes.\n",
            "Found 992 images belonging to 2 classes.\n"
          ]
        }
      ]
    },
    {
      "cell_type": "code",
      "metadata": {
        "id": "3dC1xXhs4rBH",
        "colab": {
          "base_uri": "https://localhost:8080/"
        },
        "outputId": "ace5387a-8fc2-4343-bb0b-acbf675515a2"
      },
      "source": [
        "ResNet = tf.keras.applications.ResNet50V2(include_top=False, pooling='avg', weights='imagenet',\n",
        "input_shape=(width, height, 3))"
      ],
      "execution_count": null,
      "outputs": [
        {
          "output_type": "stream",
          "name": "stdout",
          "text": [
            "Downloading data from https://storage.googleapis.com/tensorflow/keras-applications/resnet/resnet50v2_weights_tf_dim_ordering_tf_kernels_notop.h5\n",
            "94674944/94668760 [==============================] - 1s 0us/step\n",
            "94683136/94668760 [==============================] - 1s 0us/step\n"
          ]
        }
      ]
    },
    {
      "cell_type": "code",
      "metadata": {
        "id": "OVT9XNvCea03"
      },
      "source": [
        "model = tf.keras.Sequential([\n",
        "        ResNet,\n",
        "        layers.Flatten(),\n",
        "        layers.Dense(128, activation='relu'),\n",
        "        layers.BatchNormalization(),\n",
        "        layers.Dense(2, activation='sigmoid'),              \n",
        "])"
      ],
      "execution_count": null,
      "outputs": []
    },
    {
      "cell_type": "code",
      "metadata": {
        "id": "WagIny3geh0H"
      },
      "source": [
        "model.compile(optimizer=tf.keras.optimizers.Adam(learning_rate=0.001),\n",
        "              loss=tf.keras.losses.binary_crossentropy,\n",
        "              metrics=['accuracy'],\n",
        "              )"
      ],
      "execution_count": null,
      "outputs": []
    },
    {
      "cell_type": "code",
      "metadata": {
        "colab": {
          "base_uri": "https://localhost:8080/"
        },
        "id": "AK0ZoSezejRP",
        "outputId": "b093c986-6331-4509-c214-9219d6f9d36e"
      },
      "source": [
        "model.fit(train_data,\n",
        "          steps_per_epoch = train_data.samples/batch_size,\n",
        "          validation_data = val_data,\n",
        "          validation_steps = val_data.samples/batch_size,\n",
        "          epochs = 1,\n",
        "          )"
      ],
      "execution_count": null,
      "outputs": [
        {
          "output_type": "stream",
          "name": "stdout",
          "text": [
            "833/833 [==============================] - 237s 237ms/step - loss: 0.1293 - accuracy: 0.9557 - val_loss: 0.0322 - val_accuracy: 0.9925\n"
          ]
        },
        {
          "output_type": "execute_result",
          "data": {
            "text/plain": [
              "<keras.callbacks.History at 0x7fc70cc09910>"
            ]
          },
          "metadata": {},
          "execution_count": 11
        }
      ]
    },
    {
      "cell_type": "code",
      "metadata": {
        "colab": {
          "base_uri": "https://localhost:8080/"
        },
        "id": "UNf-KUjOelO3",
        "outputId": "8ec9d4ba-cf3b-4c76-cdce-a8ff34bf3f78"
      },
      "source": [
        "model.evaluate(test_data)"
      ],
      "execution_count": null,
      "outputs": [
        {
          "output_type": "stream",
          "name": "stdout",
          "text": [
            "83/83 [==============================] - 6s 77ms/step - loss: 0.0544 - accuracy: 0.9829\n"
          ]
        },
        {
          "output_type": "execute_result",
          "data": {
            "text/plain": [
              "[0.05435765162110329, 0.9828628897666931]"
            ]
          },
          "metadata": {},
          "execution_count": 12
        }
      ]
    },
    {
      "cell_type": "code",
      "metadata": {
        "id": "Y-7aB2oBkUhO",
        "colab": {
          "base_uri": "https://localhost:8080/"
        },
        "outputId": "77a3029d-c673-43e0-9789-27abe677a60d"
      },
      "source": [
        "from google.colab import drive\n",
        "drive.mount('/content/drive')"
      ],
      "execution_count": null,
      "outputs": [
        {
          "output_type": "stream",
          "name": "stdout",
          "text": [
            "Mounted at /content/drive\n"
          ]
        }
      ]
    },
    {
      "cell_type": "code",
      "metadata": {
        "id": "DepgXaCfkZ8W",
        "colab": {
          "base_uri": "https://localhost:8080/"
        },
        "outputId": "fe948139-8721-4d90-acab-9e08598c6232"
      },
      "source": [
        "model.save('FaceMask.h5')"
      ],
      "execution_count": null,
      "outputs": [
        {
          "output_type": "stream",
          "name": "stderr",
          "text": [
            "/usr/local/lib/python3.7/dist-packages/keras/utils/generic_utils.py:497: CustomMaskWarning: Custom mask layers require a config and must override get_config. When loading, the custom mask layer must be passed to the custom_objects argument.\n",
            "  category=CustomMaskWarning)\n"
          ]
        }
      ]
    },
    {
      "cell_type": "code",
      "metadata": {
        "id": "eUektujeBtPE",
        "colab": {
          "base_uri": "https://localhost:8080/"
        },
        "outputId": "731f2a0e-a20b-4a61-873d-50ad54818248"
      },
      "source": [
        "from sklearn.metrics import classification_report, confusion_matrix\n",
        "\n",
        "Y_pred = model.predict(test_data)\n",
        "y_pred = np.argmax(Y_pred, axis = 1)\n",
        "print('confusion Matrix')\n",
        "print(confusion_matrix(test_data.classes, y_pred))\n",
        "\n",
        "target_names = list(test_data.class_indices.keys())\n",
        "print('Classification Report')\n",
        "print(classification_report(test_data.classes, y_pred, target_names=target_names))"
      ],
      "execution_count": null,
      "outputs": [
        {
          "output_type": "stream",
          "name": "stdout",
          "text": [
            "confusion Matrix\n",
            "[[474   9]\n",
            " [ 10 499]]\n",
            "Classification Report\n",
            "              precision    recall  f1-score   support\n",
            "\n",
            "    WithMask       0.98      0.98      0.98       483\n",
            " WithoutMask       0.98      0.98      0.98       509\n",
            "\n",
            "    accuracy                           0.98       992\n",
            "   macro avg       0.98      0.98      0.98       992\n",
            "weighted avg       0.98      0.98      0.98       992\n",
            "\n"
          ]
        }
      ]
    },
    {
      "cell_type": "markdown",
      "metadata": {
        "id": "gUNN-3yznaDB"
      },
      "source": [
        "# Telegram Bot Implementation"
      ]
    },
    {
      "cell_type": "code",
      "metadata": {
        "id": "owQxkKDIxqHC"
      },
      "source": [
        "bot = telebot.TeleBot('Insert Your Token')\n",
        "\n",
        "\n",
        "@bot.message_handler(content_types=['photo'])\n",
        "def photo(message):\n",
        "    print('message.photo =', message.photo)\n",
        "    fileID = message.photo[-1].file_id\n",
        "    print('fileID =', fileID)\n",
        "    file_info = bot.get_file(fileID)\n",
        "    print('file.file_path =', file_info.file_path)\n",
        "    downloaded_file = bot.download_file(file_info.file_path)\n",
        "\n",
        "    with open(f\"{fileID}.jpg\", 'wb') as new_file:\n",
        "        new_file.write(downloaded_file)\n",
        "\n",
        "    model = load_model('FaceMask.h5')\n",
        "\n",
        "    image = cv2.imread(f\"{fileID}.jpg\")\n",
        "    image = cv2.cvtColor(image, cv2.COLOR_BGR2RGB)\n",
        "    faces = RetinaFace.extract_faces(image, align=True)\n",
        "\n",
        "    for face in faces:\n",
        "        face = cv2.cvtColor(face, cv2.COLOR_BGR2RGB)\n",
        "\n",
        "        image2 = cv2.resize(face, (178, 178))\n",
        "        image2 = image2 / 255\n",
        "        image2 = image2.reshape(1, 178, 178, 3)\n",
        "\n",
        "        pred = model.predict([image2])\n",
        "\n",
        "        result = np.argmax(pred)\n",
        "\n",
        "        if result == 1:\n",
        "            bot.reply_to(message, 'Oops! whitout mask')\n",
        "\n",
        "        elif result == 0:\n",
        "            bot.reply_to(message, 'Perfect! with mask')\n",
        "\n",
        "\n",
        "@bot.message_handler(commands=['start'])\n",
        "def say_hello(message):\n",
        "    bot.send_message(message.chat.id, f'wellcome Dear {message.from_user.first_name}')\n",
        "\n",
        "\n",
        "@bot.message_handler(func=lambda message: True)\n",
        "def send_unknown(message):\n",
        "    bot.reply_to(message, 'I do not understand what you are send')\n",
        "\n",
        "\n",
        "bot.polling()"
      ],
      "execution_count": null,
      "outputs": []
    }
  ]
}