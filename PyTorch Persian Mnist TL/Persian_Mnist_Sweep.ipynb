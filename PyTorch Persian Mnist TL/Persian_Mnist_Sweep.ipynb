{
  "nbformat": 4,
  "nbformat_minor": 0,
  "metadata": {
    "colab": {
      "name": "Persian Mnist Sweep.ipynb",
      "provenance": [],
      "mount_file_id": "https://github.com/maheravi/Deep-Learning/blob/main/PyTorch%20Persian%20Mnist%20TL/Persian_Mnist_Sweep.ipynb",
      "authorship_tag": "ABX9TyPwpkhtPBXLDnQGZm/I7CrQ",
      "include_colab_link": true
    },
    "kernelspec": {
      "name": "python3",
      "display_name": "Python 3"
    },
    "language_info": {
      "name": "python"
    },
    "accelerator": "GPU",
    "widgets": {
      "application/vnd.jupyter.widget-state+json": {
        "de23210c8c2c48678664eddedc28a6f9": {
          "model_module": "@jupyter-widgets/controls",
          "model_name": "VBoxModel",
          "model_module_version": "1.5.0",
          "state": {
            "_view_name": "VBoxView",
            "_dom_classes": [],
            "_model_name": "VBoxModel",
            "_view_module": "@jupyter-widgets/controls",
            "_model_module_version": "1.5.0",
            "_view_count": null,
            "_view_module_version": "1.5.0",
            "box_style": "",
            "layout": "IPY_MODEL_0b14d0325fbe4c74ac48e873d16edace",
            "_model_module": "@jupyter-widgets/controls",
            "children": [
              "IPY_MODEL_a2dc3186d33649b886ba3f76053729a5",
              "IPY_MODEL_caa713f9808c4f859533a76c4eb6455c"
            ]
          }
        },
        "0b14d0325fbe4c74ac48e873d16edace": {
          "model_module": "@jupyter-widgets/base",
          "model_name": "LayoutModel",
          "model_module_version": "1.2.0",
          "state": {
            "_view_name": "LayoutView",
            "grid_template_rows": null,
            "right": null,
            "justify_content": null,
            "_view_module": "@jupyter-widgets/base",
            "overflow": null,
            "_model_module_version": "1.2.0",
            "_view_count": null,
            "flex_flow": null,
            "width": null,
            "min_width": null,
            "border": null,
            "align_items": null,
            "bottom": null,
            "_model_module": "@jupyter-widgets/base",
            "top": null,
            "grid_column": null,
            "overflow_y": null,
            "overflow_x": null,
            "grid_auto_flow": null,
            "grid_area": null,
            "grid_template_columns": null,
            "flex": null,
            "_model_name": "LayoutModel",
            "justify_items": null,
            "grid_row": null,
            "max_height": null,
            "align_content": null,
            "visibility": null,
            "align_self": null,
            "height": null,
            "min_height": null,
            "padding": null,
            "grid_auto_rows": null,
            "grid_gap": null,
            "max_width": null,
            "order": null,
            "_view_module_version": "1.2.0",
            "grid_template_areas": null,
            "object_position": null,
            "object_fit": null,
            "grid_auto_columns": null,
            "margin": null,
            "display": null,
            "left": null
          }
        },
        "a2dc3186d33649b886ba3f76053729a5": {
          "model_module": "@jupyter-widgets/controls",
          "model_name": "LabelModel",
          "model_module_version": "1.5.0",
          "state": {
            "_view_name": "LabelView",
            "style": "IPY_MODEL_a5c5ea881f9d4efe988ca1262616d864",
            "_dom_classes": [],
            "description": "",
            "_model_name": "LabelModel",
            "placeholder": "​",
            "_view_module": "@jupyter-widgets/controls",
            "_model_module_version": "1.5.0",
            "value": " 0.01MB of 0.01MB uploaded (0.00MB deduped)\r",
            "_view_count": null,
            "_view_module_version": "1.5.0",
            "description_tooltip": null,
            "_model_module": "@jupyter-widgets/controls",
            "layout": "IPY_MODEL_d04f786976724c39affeb025e2efbc29"
          }
        },
        "caa713f9808c4f859533a76c4eb6455c": {
          "model_module": "@jupyter-widgets/controls",
          "model_name": "FloatProgressModel",
          "model_module_version": "1.5.0",
          "state": {
            "_view_name": "ProgressView",
            "style": "IPY_MODEL_af579620d8d24f6fb58418a377bb7de7",
            "_dom_classes": [],
            "description": "",
            "_model_name": "FloatProgressModel",
            "bar_style": "",
            "max": 1,
            "_view_module": "@jupyter-widgets/controls",
            "_model_module_version": "1.5.0",
            "value": 1,
            "_view_count": null,
            "_view_module_version": "1.5.0",
            "orientation": "horizontal",
            "min": 0,
            "description_tooltip": null,
            "_model_module": "@jupyter-widgets/controls",
            "layout": "IPY_MODEL_bc60ef500e8545f396212cb4095ee591"
          }
        },
        "a5c5ea881f9d4efe988ca1262616d864": {
          "model_module": "@jupyter-widgets/controls",
          "model_name": "DescriptionStyleModel",
          "model_module_version": "1.5.0",
          "state": {
            "_view_name": "StyleView",
            "_model_name": "DescriptionStyleModel",
            "description_width": "",
            "_view_module": "@jupyter-widgets/base",
            "_model_module_version": "1.5.0",
            "_view_count": null,
            "_view_module_version": "1.2.0",
            "_model_module": "@jupyter-widgets/controls"
          }
        },
        "d04f786976724c39affeb025e2efbc29": {
          "model_module": "@jupyter-widgets/base",
          "model_name": "LayoutModel",
          "model_module_version": "1.2.0",
          "state": {
            "_view_name": "LayoutView",
            "grid_template_rows": null,
            "right": null,
            "justify_content": null,
            "_view_module": "@jupyter-widgets/base",
            "overflow": null,
            "_model_module_version": "1.2.0",
            "_view_count": null,
            "flex_flow": null,
            "width": null,
            "min_width": null,
            "border": null,
            "align_items": null,
            "bottom": null,
            "_model_module": "@jupyter-widgets/base",
            "top": null,
            "grid_column": null,
            "overflow_y": null,
            "overflow_x": null,
            "grid_auto_flow": null,
            "grid_area": null,
            "grid_template_columns": null,
            "flex": null,
            "_model_name": "LayoutModel",
            "justify_items": null,
            "grid_row": null,
            "max_height": null,
            "align_content": null,
            "visibility": null,
            "align_self": null,
            "height": null,
            "min_height": null,
            "padding": null,
            "grid_auto_rows": null,
            "grid_gap": null,
            "max_width": null,
            "order": null,
            "_view_module_version": "1.2.0",
            "grid_template_areas": null,
            "object_position": null,
            "object_fit": null,
            "grid_auto_columns": null,
            "margin": null,
            "display": null,
            "left": null
          }
        },
        "af579620d8d24f6fb58418a377bb7de7": {
          "model_module": "@jupyter-widgets/controls",
          "model_name": "ProgressStyleModel",
          "model_module_version": "1.5.0",
          "state": {
            "_view_name": "StyleView",
            "_model_name": "ProgressStyleModel",
            "description_width": "",
            "_view_module": "@jupyter-widgets/base",
            "_model_module_version": "1.5.0",
            "_view_count": null,
            "_view_module_version": "1.2.0",
            "bar_color": null,
            "_model_module": "@jupyter-widgets/controls"
          }
        },
        "bc60ef500e8545f396212cb4095ee591": {
          "model_module": "@jupyter-widgets/base",
          "model_name": "LayoutModel",
          "model_module_version": "1.2.0",
          "state": {
            "_view_name": "LayoutView",
            "grid_template_rows": null,
            "right": null,
            "justify_content": null,
            "_view_module": "@jupyter-widgets/base",
            "overflow": null,
            "_model_module_version": "1.2.0",
            "_view_count": null,
            "flex_flow": null,
            "width": null,
            "min_width": null,
            "border": null,
            "align_items": null,
            "bottom": null,
            "_model_module": "@jupyter-widgets/base",
            "top": null,
            "grid_column": null,
            "overflow_y": null,
            "overflow_x": null,
            "grid_auto_flow": null,
            "grid_area": null,
            "grid_template_columns": null,
            "flex": null,
            "_model_name": "LayoutModel",
            "justify_items": null,
            "grid_row": null,
            "max_height": null,
            "align_content": null,
            "visibility": null,
            "align_self": null,
            "height": null,
            "min_height": null,
            "padding": null,
            "grid_auto_rows": null,
            "grid_gap": null,
            "max_width": null,
            "order": null,
            "_view_module_version": "1.2.0",
            "grid_template_areas": null,
            "object_position": null,
            "object_fit": null,
            "grid_auto_columns": null,
            "margin": null,
            "display": null,
            "left": null
          }
        },
        "9482f742bb104cb0a9203afeda38dc6f": {
          "model_module": "@jupyter-widgets/controls",
          "model_name": "VBoxModel",
          "model_module_version": "1.5.0",
          "state": {
            "_view_name": "VBoxView",
            "_dom_classes": [],
            "_model_name": "VBoxModel",
            "_view_module": "@jupyter-widgets/controls",
            "_model_module_version": "1.5.0",
            "_view_count": null,
            "_view_module_version": "1.5.0",
            "box_style": "",
            "layout": "IPY_MODEL_65f49f014c0f48198290c7e8e54985df",
            "_model_module": "@jupyter-widgets/controls",
            "children": [
              "IPY_MODEL_9a88a129860f4523bf03a3d2f49e4a5a",
              "IPY_MODEL_77ee46c8fdc14f49b44784c79bffc157"
            ]
          }
        },
        "65f49f014c0f48198290c7e8e54985df": {
          "model_module": "@jupyter-widgets/base",
          "model_name": "LayoutModel",
          "model_module_version": "1.2.0",
          "state": {
            "_view_name": "LayoutView",
            "grid_template_rows": null,
            "right": null,
            "justify_content": null,
            "_view_module": "@jupyter-widgets/base",
            "overflow": null,
            "_model_module_version": "1.2.0",
            "_view_count": null,
            "flex_flow": null,
            "width": null,
            "min_width": null,
            "border": null,
            "align_items": null,
            "bottom": null,
            "_model_module": "@jupyter-widgets/base",
            "top": null,
            "grid_column": null,
            "overflow_y": null,
            "overflow_x": null,
            "grid_auto_flow": null,
            "grid_area": null,
            "grid_template_columns": null,
            "flex": null,
            "_model_name": "LayoutModel",
            "justify_items": null,
            "grid_row": null,
            "max_height": null,
            "align_content": null,
            "visibility": null,
            "align_self": null,
            "height": null,
            "min_height": null,
            "padding": null,
            "grid_auto_rows": null,
            "grid_gap": null,
            "max_width": null,
            "order": null,
            "_view_module_version": "1.2.0",
            "grid_template_areas": null,
            "object_position": null,
            "object_fit": null,
            "grid_auto_columns": null,
            "margin": null,
            "display": null,
            "left": null
          }
        },
        "9a88a129860f4523bf03a3d2f49e4a5a": {
          "model_module": "@jupyter-widgets/controls",
          "model_name": "LabelModel",
          "model_module_version": "1.5.0",
          "state": {
            "_view_name": "LabelView",
            "style": "IPY_MODEL_eb15b561e1794d38bc6bad75023bcc16",
            "_dom_classes": [],
            "description": "",
            "_model_name": "LabelModel",
            "placeholder": "​",
            "_view_module": "@jupyter-widgets/controls",
            "_model_module_version": "1.5.0",
            "value": " 0.01MB of 0.01MB uploaded (0.00MB deduped)\r",
            "_view_count": null,
            "_view_module_version": "1.5.0",
            "description_tooltip": null,
            "_model_module": "@jupyter-widgets/controls",
            "layout": "IPY_MODEL_42056eace5624dc5a4198fa97a804cf7"
          }
        },
        "77ee46c8fdc14f49b44784c79bffc157": {
          "model_module": "@jupyter-widgets/controls",
          "model_name": "FloatProgressModel",
          "model_module_version": "1.5.0",
          "state": {
            "_view_name": "ProgressView",
            "style": "IPY_MODEL_ddfd151ab804478ba1583e789d1b1b74",
            "_dom_classes": [],
            "description": "",
            "_model_name": "FloatProgressModel",
            "bar_style": "",
            "max": 1,
            "_view_module": "@jupyter-widgets/controls",
            "_model_module_version": "1.5.0",
            "value": 1,
            "_view_count": null,
            "_view_module_version": "1.5.0",
            "orientation": "horizontal",
            "min": 0,
            "description_tooltip": null,
            "_model_module": "@jupyter-widgets/controls",
            "layout": "IPY_MODEL_6628c797f1b2447488e8f55e60ccf462"
          }
        },
        "eb15b561e1794d38bc6bad75023bcc16": {
          "model_module": "@jupyter-widgets/controls",
          "model_name": "DescriptionStyleModel",
          "model_module_version": "1.5.0",
          "state": {
            "_view_name": "StyleView",
            "_model_name": "DescriptionStyleModel",
            "description_width": "",
            "_view_module": "@jupyter-widgets/base",
            "_model_module_version": "1.5.0",
            "_view_count": null,
            "_view_module_version": "1.2.0",
            "_model_module": "@jupyter-widgets/controls"
          }
        },
        "42056eace5624dc5a4198fa97a804cf7": {
          "model_module": "@jupyter-widgets/base",
          "model_name": "LayoutModel",
          "model_module_version": "1.2.0",
          "state": {
            "_view_name": "LayoutView",
            "grid_template_rows": null,
            "right": null,
            "justify_content": null,
            "_view_module": "@jupyter-widgets/base",
            "overflow": null,
            "_model_module_version": "1.2.0",
            "_view_count": null,
            "flex_flow": null,
            "width": null,
            "min_width": null,
            "border": null,
            "align_items": null,
            "bottom": null,
            "_model_module": "@jupyter-widgets/base",
            "top": null,
            "grid_column": null,
            "overflow_y": null,
            "overflow_x": null,
            "grid_auto_flow": null,
            "grid_area": null,
            "grid_template_columns": null,
            "flex": null,
            "_model_name": "LayoutModel",
            "justify_items": null,
            "grid_row": null,
            "max_height": null,
            "align_content": null,
            "visibility": null,
            "align_self": null,
            "height": null,
            "min_height": null,
            "padding": null,
            "grid_auto_rows": null,
            "grid_gap": null,
            "max_width": null,
            "order": null,
            "_view_module_version": "1.2.0",
            "grid_template_areas": null,
            "object_position": null,
            "object_fit": null,
            "grid_auto_columns": null,
            "margin": null,
            "display": null,
            "left": null
          }
        },
        "ddfd151ab804478ba1583e789d1b1b74": {
          "model_module": "@jupyter-widgets/controls",
          "model_name": "ProgressStyleModel",
          "model_module_version": "1.5.0",
          "state": {
            "_view_name": "StyleView",
            "_model_name": "ProgressStyleModel",
            "description_width": "",
            "_view_module": "@jupyter-widgets/base",
            "_model_module_version": "1.5.0",
            "_view_count": null,
            "_view_module_version": "1.2.0",
            "bar_color": null,
            "_model_module": "@jupyter-widgets/controls"
          }
        },
        "6628c797f1b2447488e8f55e60ccf462": {
          "model_module": "@jupyter-widgets/base",
          "model_name": "LayoutModel",
          "model_module_version": "1.2.0",
          "state": {
            "_view_name": "LayoutView",
            "grid_template_rows": null,
            "right": null,
            "justify_content": null,
            "_view_module": "@jupyter-widgets/base",
            "overflow": null,
            "_model_module_version": "1.2.0",
            "_view_count": null,
            "flex_flow": null,
            "width": null,
            "min_width": null,
            "border": null,
            "align_items": null,
            "bottom": null,
            "_model_module": "@jupyter-widgets/base",
            "top": null,
            "grid_column": null,
            "overflow_y": null,
            "overflow_x": null,
            "grid_auto_flow": null,
            "grid_area": null,
            "grid_template_columns": null,
            "flex": null,
            "_model_name": "LayoutModel",
            "justify_items": null,
            "grid_row": null,
            "max_height": null,
            "align_content": null,
            "visibility": null,
            "align_self": null,
            "height": null,
            "min_height": null,
            "padding": null,
            "grid_auto_rows": null,
            "grid_gap": null,
            "max_width": null,
            "order": null,
            "_view_module_version": "1.2.0",
            "grid_template_areas": null,
            "object_position": null,
            "object_fit": null,
            "grid_auto_columns": null,
            "margin": null,
            "display": null,
            "left": null
          }
        },
        "f44a910c7abd43eaa806f067d09a6bef": {
          "model_module": "@jupyter-widgets/controls",
          "model_name": "VBoxModel",
          "model_module_version": "1.5.0",
          "state": {
            "_view_name": "VBoxView",
            "_dom_classes": [],
            "_model_name": "VBoxModel",
            "_view_module": "@jupyter-widgets/controls",
            "_model_module_version": "1.5.0",
            "_view_count": null,
            "_view_module_version": "1.5.0",
            "box_style": "",
            "layout": "IPY_MODEL_73c470fa99ac4b41a93b75ed39de8d11",
            "_model_module": "@jupyter-widgets/controls",
            "children": [
              "IPY_MODEL_a9152e9ffbdb480cb69db3bd725d0a71",
              "IPY_MODEL_feaae06e003d4399a1e6ade46bc9e1d5"
            ]
          }
        },
        "73c470fa99ac4b41a93b75ed39de8d11": {
          "model_module": "@jupyter-widgets/base",
          "model_name": "LayoutModel",
          "model_module_version": "1.2.0",
          "state": {
            "_view_name": "LayoutView",
            "grid_template_rows": null,
            "right": null,
            "justify_content": null,
            "_view_module": "@jupyter-widgets/base",
            "overflow": null,
            "_model_module_version": "1.2.0",
            "_view_count": null,
            "flex_flow": null,
            "width": null,
            "min_width": null,
            "border": null,
            "align_items": null,
            "bottom": null,
            "_model_module": "@jupyter-widgets/base",
            "top": null,
            "grid_column": null,
            "overflow_y": null,
            "overflow_x": null,
            "grid_auto_flow": null,
            "grid_area": null,
            "grid_template_columns": null,
            "flex": null,
            "_model_name": "LayoutModel",
            "justify_items": null,
            "grid_row": null,
            "max_height": null,
            "align_content": null,
            "visibility": null,
            "align_self": null,
            "height": null,
            "min_height": null,
            "padding": null,
            "grid_auto_rows": null,
            "grid_gap": null,
            "max_width": null,
            "order": null,
            "_view_module_version": "1.2.0",
            "grid_template_areas": null,
            "object_position": null,
            "object_fit": null,
            "grid_auto_columns": null,
            "margin": null,
            "display": null,
            "left": null
          }
        },
        "a9152e9ffbdb480cb69db3bd725d0a71": {
          "model_module": "@jupyter-widgets/controls",
          "model_name": "LabelModel",
          "model_module_version": "1.5.0",
          "state": {
            "_view_name": "LabelView",
            "style": "IPY_MODEL_9667e5dcea3a4915880c11556e16a433",
            "_dom_classes": [],
            "description": "",
            "_model_name": "LabelModel",
            "placeholder": "​",
            "_view_module": "@jupyter-widgets/controls",
            "_model_module_version": "1.5.0",
            "value": " 0.01MB of 0.01MB uploaded (0.00MB deduped)\r",
            "_view_count": null,
            "_view_module_version": "1.5.0",
            "description_tooltip": null,
            "_model_module": "@jupyter-widgets/controls",
            "layout": "IPY_MODEL_90fb07c7d8024c3493d98d554d1d5a7c"
          }
        },
        "feaae06e003d4399a1e6ade46bc9e1d5": {
          "model_module": "@jupyter-widgets/controls",
          "model_name": "FloatProgressModel",
          "model_module_version": "1.5.0",
          "state": {
            "_view_name": "ProgressView",
            "style": "IPY_MODEL_0bb9dd70c8b54630b55cb290043c764a",
            "_dom_classes": [],
            "description": "",
            "_model_name": "FloatProgressModel",
            "bar_style": "",
            "max": 1,
            "_view_module": "@jupyter-widgets/controls",
            "_model_module_version": "1.5.0",
            "value": 1,
            "_view_count": null,
            "_view_module_version": "1.5.0",
            "orientation": "horizontal",
            "min": 0,
            "description_tooltip": null,
            "_model_module": "@jupyter-widgets/controls",
            "layout": "IPY_MODEL_8109592b79be417db2812a210ae51b0e"
          }
        },
        "9667e5dcea3a4915880c11556e16a433": {
          "model_module": "@jupyter-widgets/controls",
          "model_name": "DescriptionStyleModel",
          "model_module_version": "1.5.0",
          "state": {
            "_view_name": "StyleView",
            "_model_name": "DescriptionStyleModel",
            "description_width": "",
            "_view_module": "@jupyter-widgets/base",
            "_model_module_version": "1.5.0",
            "_view_count": null,
            "_view_module_version": "1.2.0",
            "_model_module": "@jupyter-widgets/controls"
          }
        },
        "90fb07c7d8024c3493d98d554d1d5a7c": {
          "model_module": "@jupyter-widgets/base",
          "model_name": "LayoutModel",
          "model_module_version": "1.2.0",
          "state": {
            "_view_name": "LayoutView",
            "grid_template_rows": null,
            "right": null,
            "justify_content": null,
            "_view_module": "@jupyter-widgets/base",
            "overflow": null,
            "_model_module_version": "1.2.0",
            "_view_count": null,
            "flex_flow": null,
            "width": null,
            "min_width": null,
            "border": null,
            "align_items": null,
            "bottom": null,
            "_model_module": "@jupyter-widgets/base",
            "top": null,
            "grid_column": null,
            "overflow_y": null,
            "overflow_x": null,
            "grid_auto_flow": null,
            "grid_area": null,
            "grid_template_columns": null,
            "flex": null,
            "_model_name": "LayoutModel",
            "justify_items": null,
            "grid_row": null,
            "max_height": null,
            "align_content": null,
            "visibility": null,
            "align_self": null,
            "height": null,
            "min_height": null,
            "padding": null,
            "grid_auto_rows": null,
            "grid_gap": null,
            "max_width": null,
            "order": null,
            "_view_module_version": "1.2.0",
            "grid_template_areas": null,
            "object_position": null,
            "object_fit": null,
            "grid_auto_columns": null,
            "margin": null,
            "display": null,
            "left": null
          }
        },
        "0bb9dd70c8b54630b55cb290043c764a": {
          "model_module": "@jupyter-widgets/controls",
          "model_name": "ProgressStyleModel",
          "model_module_version": "1.5.0",
          "state": {
            "_view_name": "StyleView",
            "_model_name": "ProgressStyleModel",
            "description_width": "",
            "_view_module": "@jupyter-widgets/base",
            "_model_module_version": "1.5.0",
            "_view_count": null,
            "_view_module_version": "1.2.0",
            "bar_color": null,
            "_model_module": "@jupyter-widgets/controls"
          }
        },
        "8109592b79be417db2812a210ae51b0e": {
          "model_module": "@jupyter-widgets/base",
          "model_name": "LayoutModel",
          "model_module_version": "1.2.0",
          "state": {
            "_view_name": "LayoutView",
            "grid_template_rows": null,
            "right": null,
            "justify_content": null,
            "_view_module": "@jupyter-widgets/base",
            "overflow": null,
            "_model_module_version": "1.2.0",
            "_view_count": null,
            "flex_flow": null,
            "width": null,
            "min_width": null,
            "border": null,
            "align_items": null,
            "bottom": null,
            "_model_module": "@jupyter-widgets/base",
            "top": null,
            "grid_column": null,
            "overflow_y": null,
            "overflow_x": null,
            "grid_auto_flow": null,
            "grid_area": null,
            "grid_template_columns": null,
            "flex": null,
            "_model_name": "LayoutModel",
            "justify_items": null,
            "grid_row": null,
            "max_height": null,
            "align_content": null,
            "visibility": null,
            "align_self": null,
            "height": null,
            "min_height": null,
            "padding": null,
            "grid_auto_rows": null,
            "grid_gap": null,
            "max_width": null,
            "order": null,
            "_view_module_version": "1.2.0",
            "grid_template_areas": null,
            "object_position": null,
            "object_fit": null,
            "grid_auto_columns": null,
            "margin": null,
            "display": null,
            "left": null
          }
        },
        "c501354dc9e540639637b969e5a59287": {
          "model_module": "@jupyter-widgets/controls",
          "model_name": "VBoxModel",
          "model_module_version": "1.5.0",
          "state": {
            "_view_name": "VBoxView",
            "_dom_classes": [],
            "_model_name": "VBoxModel",
            "_view_module": "@jupyter-widgets/controls",
            "_model_module_version": "1.5.0",
            "_view_count": null,
            "_view_module_version": "1.5.0",
            "box_style": "",
            "layout": "IPY_MODEL_d163a6ebbf9a4ad7af85f47a89f39c11",
            "_model_module": "@jupyter-widgets/controls",
            "children": [
              "IPY_MODEL_313664397a5e4a41bb3b6ecf66634e9d",
              "IPY_MODEL_16119637bf554a698cf3b73ece4e3475"
            ]
          }
        },
        "d163a6ebbf9a4ad7af85f47a89f39c11": {
          "model_module": "@jupyter-widgets/base",
          "model_name": "LayoutModel",
          "model_module_version": "1.2.0",
          "state": {
            "_view_name": "LayoutView",
            "grid_template_rows": null,
            "right": null,
            "justify_content": null,
            "_view_module": "@jupyter-widgets/base",
            "overflow": null,
            "_model_module_version": "1.2.0",
            "_view_count": null,
            "flex_flow": null,
            "width": null,
            "min_width": null,
            "border": null,
            "align_items": null,
            "bottom": null,
            "_model_module": "@jupyter-widgets/base",
            "top": null,
            "grid_column": null,
            "overflow_y": null,
            "overflow_x": null,
            "grid_auto_flow": null,
            "grid_area": null,
            "grid_template_columns": null,
            "flex": null,
            "_model_name": "LayoutModel",
            "justify_items": null,
            "grid_row": null,
            "max_height": null,
            "align_content": null,
            "visibility": null,
            "align_self": null,
            "height": null,
            "min_height": null,
            "padding": null,
            "grid_auto_rows": null,
            "grid_gap": null,
            "max_width": null,
            "order": null,
            "_view_module_version": "1.2.0",
            "grid_template_areas": null,
            "object_position": null,
            "object_fit": null,
            "grid_auto_columns": null,
            "margin": null,
            "display": null,
            "left": null
          }
        },
        "313664397a5e4a41bb3b6ecf66634e9d": {
          "model_module": "@jupyter-widgets/controls",
          "model_name": "LabelModel",
          "model_module_version": "1.5.0",
          "state": {
            "_view_name": "LabelView",
            "style": "IPY_MODEL_4e68da45e49847298bfca3c00d99c5c0",
            "_dom_classes": [],
            "description": "",
            "_model_name": "LabelModel",
            "placeholder": "​",
            "_view_module": "@jupyter-widgets/controls",
            "_model_module_version": "1.5.0",
            "value": " 0.01MB of 0.01MB uploaded (0.00MB deduped)\r",
            "_view_count": null,
            "_view_module_version": "1.5.0",
            "description_tooltip": null,
            "_model_module": "@jupyter-widgets/controls",
            "layout": "IPY_MODEL_7a1cd9a9ded54be9945ea888737651e0"
          }
        },
        "16119637bf554a698cf3b73ece4e3475": {
          "model_module": "@jupyter-widgets/controls",
          "model_name": "FloatProgressModel",
          "model_module_version": "1.5.0",
          "state": {
            "_view_name": "ProgressView",
            "style": "IPY_MODEL_32f8a47f93f9482e828b3dd42cb86062",
            "_dom_classes": [],
            "description": "",
            "_model_name": "FloatProgressModel",
            "bar_style": "",
            "max": 1,
            "_view_module": "@jupyter-widgets/controls",
            "_model_module_version": "1.5.0",
            "value": 1,
            "_view_count": null,
            "_view_module_version": "1.5.0",
            "orientation": "horizontal",
            "min": 0,
            "description_tooltip": null,
            "_model_module": "@jupyter-widgets/controls",
            "layout": "IPY_MODEL_1ad56781da8a4d43a56ea96091ad572d"
          }
        },
        "4e68da45e49847298bfca3c00d99c5c0": {
          "model_module": "@jupyter-widgets/controls",
          "model_name": "DescriptionStyleModel",
          "model_module_version": "1.5.0",
          "state": {
            "_view_name": "StyleView",
            "_model_name": "DescriptionStyleModel",
            "description_width": "",
            "_view_module": "@jupyter-widgets/base",
            "_model_module_version": "1.5.0",
            "_view_count": null,
            "_view_module_version": "1.2.0",
            "_model_module": "@jupyter-widgets/controls"
          }
        },
        "7a1cd9a9ded54be9945ea888737651e0": {
          "model_module": "@jupyter-widgets/base",
          "model_name": "LayoutModel",
          "model_module_version": "1.2.0",
          "state": {
            "_view_name": "LayoutView",
            "grid_template_rows": null,
            "right": null,
            "justify_content": null,
            "_view_module": "@jupyter-widgets/base",
            "overflow": null,
            "_model_module_version": "1.2.0",
            "_view_count": null,
            "flex_flow": null,
            "width": null,
            "min_width": null,
            "border": null,
            "align_items": null,
            "bottom": null,
            "_model_module": "@jupyter-widgets/base",
            "top": null,
            "grid_column": null,
            "overflow_y": null,
            "overflow_x": null,
            "grid_auto_flow": null,
            "grid_area": null,
            "grid_template_columns": null,
            "flex": null,
            "_model_name": "LayoutModel",
            "justify_items": null,
            "grid_row": null,
            "max_height": null,
            "align_content": null,
            "visibility": null,
            "align_self": null,
            "height": null,
            "min_height": null,
            "padding": null,
            "grid_auto_rows": null,
            "grid_gap": null,
            "max_width": null,
            "order": null,
            "_view_module_version": "1.2.0",
            "grid_template_areas": null,
            "object_position": null,
            "object_fit": null,
            "grid_auto_columns": null,
            "margin": null,
            "display": null,
            "left": null
          }
        },
        "32f8a47f93f9482e828b3dd42cb86062": {
          "model_module": "@jupyter-widgets/controls",
          "model_name": "ProgressStyleModel",
          "model_module_version": "1.5.0",
          "state": {
            "_view_name": "StyleView",
            "_model_name": "ProgressStyleModel",
            "description_width": "",
            "_view_module": "@jupyter-widgets/base",
            "_model_module_version": "1.5.0",
            "_view_count": null,
            "_view_module_version": "1.2.0",
            "bar_color": null,
            "_model_module": "@jupyter-widgets/controls"
          }
        },
        "1ad56781da8a4d43a56ea96091ad572d": {
          "model_module": "@jupyter-widgets/base",
          "model_name": "LayoutModel",
          "model_module_version": "1.2.0",
          "state": {
            "_view_name": "LayoutView",
            "grid_template_rows": null,
            "right": null,
            "justify_content": null,
            "_view_module": "@jupyter-widgets/base",
            "overflow": null,
            "_model_module_version": "1.2.0",
            "_view_count": null,
            "flex_flow": null,
            "width": null,
            "min_width": null,
            "border": null,
            "align_items": null,
            "bottom": null,
            "_model_module": "@jupyter-widgets/base",
            "top": null,
            "grid_column": null,
            "overflow_y": null,
            "overflow_x": null,
            "grid_auto_flow": null,
            "grid_area": null,
            "grid_template_columns": null,
            "flex": null,
            "_model_name": "LayoutModel",
            "justify_items": null,
            "grid_row": null,
            "max_height": null,
            "align_content": null,
            "visibility": null,
            "align_self": null,
            "height": null,
            "min_height": null,
            "padding": null,
            "grid_auto_rows": null,
            "grid_gap": null,
            "max_width": null,
            "order": null,
            "_view_module_version": "1.2.0",
            "grid_template_areas": null,
            "object_position": null,
            "object_fit": null,
            "grid_auto_columns": null,
            "margin": null,
            "display": null,
            "left": null
          }
        },
        "473e6cf3a0b143068af33ef06fbcbb67": {
          "model_module": "@jupyter-widgets/controls",
          "model_name": "VBoxModel",
          "model_module_version": "1.5.0",
          "state": {
            "_view_name": "VBoxView",
            "_dom_classes": [],
            "_model_name": "VBoxModel",
            "_view_module": "@jupyter-widgets/controls",
            "_model_module_version": "1.5.0",
            "_view_count": null,
            "_view_module_version": "1.5.0",
            "box_style": "",
            "layout": "IPY_MODEL_c1a9f4a83bbc4760b99b043ab1d7fa0c",
            "_model_module": "@jupyter-widgets/controls",
            "children": [
              "IPY_MODEL_c001062cab1f43ab946b8c8e698fd153",
              "IPY_MODEL_ca120d3c1d2e4a2ca6817c9085f5ca82"
            ]
          }
        },
        "c1a9f4a83bbc4760b99b043ab1d7fa0c": {
          "model_module": "@jupyter-widgets/base",
          "model_name": "LayoutModel",
          "model_module_version": "1.2.0",
          "state": {
            "_view_name": "LayoutView",
            "grid_template_rows": null,
            "right": null,
            "justify_content": null,
            "_view_module": "@jupyter-widgets/base",
            "overflow": null,
            "_model_module_version": "1.2.0",
            "_view_count": null,
            "flex_flow": null,
            "width": null,
            "min_width": null,
            "border": null,
            "align_items": null,
            "bottom": null,
            "_model_module": "@jupyter-widgets/base",
            "top": null,
            "grid_column": null,
            "overflow_y": null,
            "overflow_x": null,
            "grid_auto_flow": null,
            "grid_area": null,
            "grid_template_columns": null,
            "flex": null,
            "_model_name": "LayoutModel",
            "justify_items": null,
            "grid_row": null,
            "max_height": null,
            "align_content": null,
            "visibility": null,
            "align_self": null,
            "height": null,
            "min_height": null,
            "padding": null,
            "grid_auto_rows": null,
            "grid_gap": null,
            "max_width": null,
            "order": null,
            "_view_module_version": "1.2.0",
            "grid_template_areas": null,
            "object_position": null,
            "object_fit": null,
            "grid_auto_columns": null,
            "margin": null,
            "display": null,
            "left": null
          }
        },
        "c001062cab1f43ab946b8c8e698fd153": {
          "model_module": "@jupyter-widgets/controls",
          "model_name": "LabelModel",
          "model_module_version": "1.5.0",
          "state": {
            "_view_name": "LabelView",
            "style": "IPY_MODEL_cfeb7f6d98514a44b419110f933eec7c",
            "_dom_classes": [],
            "description": "",
            "_model_name": "LabelModel",
            "placeholder": "​",
            "_view_module": "@jupyter-widgets/controls",
            "_model_module_version": "1.5.0",
            "value": " 0.01MB of 0.01MB uploaded (0.00MB deduped)\r",
            "_view_count": null,
            "_view_module_version": "1.5.0",
            "description_tooltip": null,
            "_model_module": "@jupyter-widgets/controls",
            "layout": "IPY_MODEL_43986e83174349a5a9b1f19c960830b6"
          }
        },
        "ca120d3c1d2e4a2ca6817c9085f5ca82": {
          "model_module": "@jupyter-widgets/controls",
          "model_name": "FloatProgressModel",
          "model_module_version": "1.5.0",
          "state": {
            "_view_name": "ProgressView",
            "style": "IPY_MODEL_1459dde971774567a5ca5f5bb5487ee5",
            "_dom_classes": [],
            "description": "",
            "_model_name": "FloatProgressModel",
            "bar_style": "",
            "max": 1,
            "_view_module": "@jupyter-widgets/controls",
            "_model_module_version": "1.5.0",
            "value": 1,
            "_view_count": null,
            "_view_module_version": "1.5.0",
            "orientation": "horizontal",
            "min": 0,
            "description_tooltip": null,
            "_model_module": "@jupyter-widgets/controls",
            "layout": "IPY_MODEL_2a0e959414184a588a96bd3b52345120"
          }
        },
        "cfeb7f6d98514a44b419110f933eec7c": {
          "model_module": "@jupyter-widgets/controls",
          "model_name": "DescriptionStyleModel",
          "model_module_version": "1.5.0",
          "state": {
            "_view_name": "StyleView",
            "_model_name": "DescriptionStyleModel",
            "description_width": "",
            "_view_module": "@jupyter-widgets/base",
            "_model_module_version": "1.5.0",
            "_view_count": null,
            "_view_module_version": "1.2.0",
            "_model_module": "@jupyter-widgets/controls"
          }
        },
        "43986e83174349a5a9b1f19c960830b6": {
          "model_module": "@jupyter-widgets/base",
          "model_name": "LayoutModel",
          "model_module_version": "1.2.0",
          "state": {
            "_view_name": "LayoutView",
            "grid_template_rows": null,
            "right": null,
            "justify_content": null,
            "_view_module": "@jupyter-widgets/base",
            "overflow": null,
            "_model_module_version": "1.2.0",
            "_view_count": null,
            "flex_flow": null,
            "width": null,
            "min_width": null,
            "border": null,
            "align_items": null,
            "bottom": null,
            "_model_module": "@jupyter-widgets/base",
            "top": null,
            "grid_column": null,
            "overflow_y": null,
            "overflow_x": null,
            "grid_auto_flow": null,
            "grid_area": null,
            "grid_template_columns": null,
            "flex": null,
            "_model_name": "LayoutModel",
            "justify_items": null,
            "grid_row": null,
            "max_height": null,
            "align_content": null,
            "visibility": null,
            "align_self": null,
            "height": null,
            "min_height": null,
            "padding": null,
            "grid_auto_rows": null,
            "grid_gap": null,
            "max_width": null,
            "order": null,
            "_view_module_version": "1.2.0",
            "grid_template_areas": null,
            "object_position": null,
            "object_fit": null,
            "grid_auto_columns": null,
            "margin": null,
            "display": null,
            "left": null
          }
        },
        "1459dde971774567a5ca5f5bb5487ee5": {
          "model_module": "@jupyter-widgets/controls",
          "model_name": "ProgressStyleModel",
          "model_module_version": "1.5.0",
          "state": {
            "_view_name": "StyleView",
            "_model_name": "ProgressStyleModel",
            "description_width": "",
            "_view_module": "@jupyter-widgets/base",
            "_model_module_version": "1.5.0",
            "_view_count": null,
            "_view_module_version": "1.2.0",
            "bar_color": null,
            "_model_module": "@jupyter-widgets/controls"
          }
        },
        "2a0e959414184a588a96bd3b52345120": {
          "model_module": "@jupyter-widgets/base",
          "model_name": "LayoutModel",
          "model_module_version": "1.2.0",
          "state": {
            "_view_name": "LayoutView",
            "grid_template_rows": null,
            "right": null,
            "justify_content": null,
            "_view_module": "@jupyter-widgets/base",
            "overflow": null,
            "_model_module_version": "1.2.0",
            "_view_count": null,
            "flex_flow": null,
            "width": null,
            "min_width": null,
            "border": null,
            "align_items": null,
            "bottom": null,
            "_model_module": "@jupyter-widgets/base",
            "top": null,
            "grid_column": null,
            "overflow_y": null,
            "overflow_x": null,
            "grid_auto_flow": null,
            "grid_area": null,
            "grid_template_columns": null,
            "flex": null,
            "_model_name": "LayoutModel",
            "justify_items": null,
            "grid_row": null,
            "max_height": null,
            "align_content": null,
            "visibility": null,
            "align_self": null,
            "height": null,
            "min_height": null,
            "padding": null,
            "grid_auto_rows": null,
            "grid_gap": null,
            "max_width": null,
            "order": null,
            "_view_module_version": "1.2.0",
            "grid_template_areas": null,
            "object_position": null,
            "object_fit": null,
            "grid_auto_columns": null,
            "margin": null,
            "display": null,
            "left": null
          }
        }
      }
    }
  },
  "cells": [
    {
      "cell_type": "markdown",
      "metadata": {
        "id": "view-in-github",
        "colab_type": "text"
      },
      "source": [
        "<a href=\"https://colab.research.google.com/github/maheravi/Deep-Learning/blob/main/PyTorch%20Persian%20Mnist%20TL/Persian_Mnist_Sweep.ipynb\" target=\"_parent\"><img src=\"https://colab.research.google.com/assets/colab-badge.svg\" alt=\"Open In Colab\"/></a>"
      ]
    },
    {
      "cell_type": "code",
      "execution_count": 1,
      "metadata": {
        "id": "UDycXg9AInMh",
        "colab": {
          "base_uri": "https://localhost:8080/"
        },
        "outputId": "d44b9316-e7e4-4430-c43d-b095da6d9b55"
      },
      "outputs": [
        {
          "output_type": "stream",
          "name": "stdout",
          "text": [
            "Collecting wandb\n",
            "  Downloading wandb-0.12.9-py2.py3-none-any.whl (1.7 MB)\n",
            "\u001b[?25l\r\u001b[K     |▏                               | 10 kB 24.5 MB/s eta 0:00:01\r\u001b[K     |▍                               | 20 kB 29.7 MB/s eta 0:00:01\r\u001b[K     |▋                               | 30 kB 33.5 MB/s eta 0:00:01\r\u001b[K     |▊                               | 40 kB 35.6 MB/s eta 0:00:01\r\u001b[K     |█                               | 51 kB 38.3 MB/s eta 0:00:01\r\u001b[K     |█▏                              | 61 kB 31.1 MB/s eta 0:00:01\r\u001b[K     |█▍                              | 71 kB 27.5 MB/s eta 0:00:01\r\u001b[K     |█▌                              | 81 kB 29.0 MB/s eta 0:00:01\r\u001b[K     |█▊                              | 92 kB 31.1 MB/s eta 0:00:01\r\u001b[K     |██                              | 102 kB 29.9 MB/s eta 0:00:01\r\u001b[K     |██                              | 112 kB 29.9 MB/s eta 0:00:01\r\u001b[K     |██▎                             | 122 kB 29.9 MB/s eta 0:00:01\r\u001b[K     |██▌                             | 133 kB 29.9 MB/s eta 0:00:01\r\u001b[K     |██▊                             | 143 kB 29.9 MB/s eta 0:00:01\r\u001b[K     |██▉                             | 153 kB 29.9 MB/s eta 0:00:01\r\u001b[K     |███                             | 163 kB 29.9 MB/s eta 0:00:01\r\u001b[K     |███▎                            | 174 kB 29.9 MB/s eta 0:00:01\r\u001b[K     |███▍                            | 184 kB 29.9 MB/s eta 0:00:01\r\u001b[K     |███▋                            | 194 kB 29.9 MB/s eta 0:00:01\r\u001b[K     |███▉                            | 204 kB 29.9 MB/s eta 0:00:01\r\u001b[K     |████                            | 215 kB 29.9 MB/s eta 0:00:01\r\u001b[K     |████▏                           | 225 kB 29.9 MB/s eta 0:00:01\r\u001b[K     |████▍                           | 235 kB 29.9 MB/s eta 0:00:01\r\u001b[K     |████▋                           | 245 kB 29.9 MB/s eta 0:00:01\r\u001b[K     |████▉                           | 256 kB 29.9 MB/s eta 0:00:01\r\u001b[K     |█████                           | 266 kB 29.9 MB/s eta 0:00:01\r\u001b[K     |█████▏                          | 276 kB 29.9 MB/s eta 0:00:01\r\u001b[K     |█████▍                          | 286 kB 29.9 MB/s eta 0:00:01\r\u001b[K     |█████▌                          | 296 kB 29.9 MB/s eta 0:00:01\r\u001b[K     |█████▊                          | 307 kB 29.9 MB/s eta 0:00:01\r\u001b[K     |██████                          | 317 kB 29.9 MB/s eta 0:00:01\r\u001b[K     |██████▏                         | 327 kB 29.9 MB/s eta 0:00:01\r\u001b[K     |██████▎                         | 337 kB 29.9 MB/s eta 0:00:01\r\u001b[K     |██████▌                         | 348 kB 29.9 MB/s eta 0:00:01\r\u001b[K     |██████▊                         | 358 kB 29.9 MB/s eta 0:00:01\r\u001b[K     |██████▉                         | 368 kB 29.9 MB/s eta 0:00:01\r\u001b[K     |███████                         | 378 kB 29.9 MB/s eta 0:00:01\r\u001b[K     |███████▎                        | 389 kB 29.9 MB/s eta 0:00:01\r\u001b[K     |███████▌                        | 399 kB 29.9 MB/s eta 0:00:01\r\u001b[K     |███████▋                        | 409 kB 29.9 MB/s eta 0:00:01\r\u001b[K     |███████▉                        | 419 kB 29.9 MB/s eta 0:00:01\r\u001b[K     |████████                        | 430 kB 29.9 MB/s eta 0:00:01\r\u001b[K     |████████▎                       | 440 kB 29.9 MB/s eta 0:00:01\r\u001b[K     |████████▍                       | 450 kB 29.9 MB/s eta 0:00:01\r\u001b[K     |████████▋                       | 460 kB 29.9 MB/s eta 0:00:01\r\u001b[K     |████████▉                       | 471 kB 29.9 MB/s eta 0:00:01\r\u001b[K     |█████████                       | 481 kB 29.9 MB/s eta 0:00:01\r\u001b[K     |█████████▏                      | 491 kB 29.9 MB/s eta 0:00:01\r\u001b[K     |█████████▍                      | 501 kB 29.9 MB/s eta 0:00:01\r\u001b[K     |█████████▋                      | 512 kB 29.9 MB/s eta 0:00:01\r\u001b[K     |█████████▊                      | 522 kB 29.9 MB/s eta 0:00:01\r\u001b[K     |██████████                      | 532 kB 29.9 MB/s eta 0:00:01\r\u001b[K     |██████████▏                     | 542 kB 29.9 MB/s eta 0:00:01\r\u001b[K     |██████████▎                     | 552 kB 29.9 MB/s eta 0:00:01\r\u001b[K     |██████████▌                     | 563 kB 29.9 MB/s eta 0:00:01\r\u001b[K     |██████████▊                     | 573 kB 29.9 MB/s eta 0:00:01\r\u001b[K     |███████████                     | 583 kB 29.9 MB/s eta 0:00:01\r\u001b[K     |███████████                     | 593 kB 29.9 MB/s eta 0:00:01\r\u001b[K     |███████████▎                    | 604 kB 29.9 MB/s eta 0:00:01\r\u001b[K     |███████████▌                    | 614 kB 29.9 MB/s eta 0:00:01\r\u001b[K     |███████████▋                    | 624 kB 29.9 MB/s eta 0:00:01\r\u001b[K     |███████████▉                    | 634 kB 29.9 MB/s eta 0:00:01\r\u001b[K     |████████████                    | 645 kB 29.9 MB/s eta 0:00:01\r\u001b[K     |████████████▎                   | 655 kB 29.9 MB/s eta 0:00:01\r\u001b[K     |████████████▍                   | 665 kB 29.9 MB/s eta 0:00:01\r\u001b[K     |████████████▋                   | 675 kB 29.9 MB/s eta 0:00:01\r\u001b[K     |████████████▉                   | 686 kB 29.9 MB/s eta 0:00:01\r\u001b[K     |█████████████                   | 696 kB 29.9 MB/s eta 0:00:01\r\u001b[K     |█████████████▏                  | 706 kB 29.9 MB/s eta 0:00:01\r\u001b[K     |█████████████▍                  | 716 kB 29.9 MB/s eta 0:00:01\r\u001b[K     |█████████████▋                  | 727 kB 29.9 MB/s eta 0:00:01\r\u001b[K     |█████████████▊                  | 737 kB 29.9 MB/s eta 0:00:01\r\u001b[K     |██████████████                  | 747 kB 29.9 MB/s eta 0:00:01\r\u001b[K     |██████████████▏                 | 757 kB 29.9 MB/s eta 0:00:01\r\u001b[K     |██████████████▍                 | 768 kB 29.9 MB/s eta 0:00:01\r\u001b[K     |██████████████▌                 | 778 kB 29.9 MB/s eta 0:00:01\r\u001b[K     |██████████████▊                 | 788 kB 29.9 MB/s eta 0:00:01\r\u001b[K     |███████████████                 | 798 kB 29.9 MB/s eta 0:00:01\r\u001b[K     |███████████████                 | 808 kB 29.9 MB/s eta 0:00:01\r\u001b[K     |███████████████▎                | 819 kB 29.9 MB/s eta 0:00:01\r\u001b[K     |███████████████▌                | 829 kB 29.9 MB/s eta 0:00:01\r\u001b[K     |███████████████▊                | 839 kB 29.9 MB/s eta 0:00:01\r\u001b[K     |███████████████▉                | 849 kB 29.9 MB/s eta 0:00:01\r\u001b[K     |████████████████                | 860 kB 29.9 MB/s eta 0:00:01\r\u001b[K     |████████████████▎               | 870 kB 29.9 MB/s eta 0:00:01\r\u001b[K     |████████████████▌               | 880 kB 29.9 MB/s eta 0:00:01\r\u001b[K     |████████████████▋               | 890 kB 29.9 MB/s eta 0:00:01\r\u001b[K     |████████████████▉               | 901 kB 29.9 MB/s eta 0:00:01\r\u001b[K     |█████████████████               | 911 kB 29.9 MB/s eta 0:00:01\r\u001b[K     |█████████████████▏              | 921 kB 29.9 MB/s eta 0:00:01\r\u001b[K     |█████████████████▍              | 931 kB 29.9 MB/s eta 0:00:01\r\u001b[K     |█████████████████▋              | 942 kB 29.9 MB/s eta 0:00:01\r\u001b[K     |█████████████████▉              | 952 kB 29.9 MB/s eta 0:00:01\r\u001b[K     |██████████████████              | 962 kB 29.9 MB/s eta 0:00:01\r\u001b[K     |██████████████████▏             | 972 kB 29.9 MB/s eta 0:00:01\r\u001b[K     |██████████████████▍             | 983 kB 29.9 MB/s eta 0:00:01\r\u001b[K     |██████████████████▌             | 993 kB 29.9 MB/s eta 0:00:01\r\u001b[K     |██████████████████▊             | 1.0 MB 29.9 MB/s eta 0:00:01\r\u001b[K     |███████████████████             | 1.0 MB 29.9 MB/s eta 0:00:01\r\u001b[K     |███████████████████▏            | 1.0 MB 29.9 MB/s eta 0:00:01\r\u001b[K     |███████████████████▎            | 1.0 MB 29.9 MB/s eta 0:00:01\r\u001b[K     |███████████████████▌            | 1.0 MB 29.9 MB/s eta 0:00:01\r\u001b[K     |███████████████████▊            | 1.1 MB 29.9 MB/s eta 0:00:01\r\u001b[K     |███████████████████▉            | 1.1 MB 29.9 MB/s eta 0:00:01\r\u001b[K     |████████████████████            | 1.1 MB 29.9 MB/s eta 0:00:01\r\u001b[K     |████████████████████▎           | 1.1 MB 29.9 MB/s eta 0:00:01\r\u001b[K     |████████████████████▌           | 1.1 MB 29.9 MB/s eta 0:00:01\r\u001b[K     |████████████████████▋           | 1.1 MB 29.9 MB/s eta 0:00:01\r\u001b[K     |████████████████████▉           | 1.1 MB 29.9 MB/s eta 0:00:01\r\u001b[K     |█████████████████████           | 1.1 MB 29.9 MB/s eta 0:00:01\r\u001b[K     |█████████████████████▎          | 1.1 MB 29.9 MB/s eta 0:00:01\r\u001b[K     |█████████████████████▍          | 1.1 MB 29.9 MB/s eta 0:00:01\r\u001b[K     |█████████████████████▋          | 1.2 MB 29.9 MB/s eta 0:00:01\r\u001b[K     |█████████████████████▉          | 1.2 MB 29.9 MB/s eta 0:00:01\r\u001b[K     |██████████████████████          | 1.2 MB 29.9 MB/s eta 0:00:01\r\u001b[K     |██████████████████████▏         | 1.2 MB 29.9 MB/s eta 0:00:01\r\u001b[K     |██████████████████████▍         | 1.2 MB 29.9 MB/s eta 0:00:01\r\u001b[K     |██████████████████████▋         | 1.2 MB 29.9 MB/s eta 0:00:01\r\u001b[K     |██████████████████████▊         | 1.2 MB 29.9 MB/s eta 0:00:01\r\u001b[K     |███████████████████████         | 1.2 MB 29.9 MB/s eta 0:00:01\r\u001b[K     |███████████████████████▏        | 1.2 MB 29.9 MB/s eta 0:00:01\r\u001b[K     |███████████████████████▎        | 1.2 MB 29.9 MB/s eta 0:00:01\r\u001b[K     |███████████████████████▌        | 1.3 MB 29.9 MB/s eta 0:00:01\r\u001b[K     |███████████████████████▊        | 1.3 MB 29.9 MB/s eta 0:00:01\r\u001b[K     |████████████████████████        | 1.3 MB 29.9 MB/s eta 0:00:01\r\u001b[K     |████████████████████████        | 1.3 MB 29.9 MB/s eta 0:00:01\r\u001b[K     |████████████████████████▎       | 1.3 MB 29.9 MB/s eta 0:00:01\r\u001b[K     |████████████████████████▌       | 1.3 MB 29.9 MB/s eta 0:00:01\r\u001b[K     |████████████████████████▊       | 1.3 MB 29.9 MB/s eta 0:00:01\r\u001b[K     |████████████████████████▉       | 1.3 MB 29.9 MB/s eta 0:00:01\r\u001b[K     |█████████████████████████       | 1.3 MB 29.9 MB/s eta 0:00:01\r\u001b[K     |█████████████████████████▎      | 1.4 MB 29.9 MB/s eta 0:00:01\r\u001b[K     |█████████████████████████▍      | 1.4 MB 29.9 MB/s eta 0:00:01\r\u001b[K     |█████████████████████████▋      | 1.4 MB 29.9 MB/s eta 0:00:01\r\u001b[K     |█████████████████████████▉      | 1.4 MB 29.9 MB/s eta 0:00:01\r\u001b[K     |██████████████████████████      | 1.4 MB 29.9 MB/s eta 0:00:01\r\u001b[K     |██████████████████████████▏     | 1.4 MB 29.9 MB/s eta 0:00:01\r\u001b[K     |██████████████████████████▍     | 1.4 MB 29.9 MB/s eta 0:00:01\r\u001b[K     |██████████████████████████▋     | 1.4 MB 29.9 MB/s eta 0:00:01\r\u001b[K     |██████████████████████████▊     | 1.4 MB 29.9 MB/s eta 0:00:01\r\u001b[K     |███████████████████████████     | 1.4 MB 29.9 MB/s eta 0:00:01\r\u001b[K     |███████████████████████████▏    | 1.5 MB 29.9 MB/s eta 0:00:01\r\u001b[K     |███████████████████████████▍    | 1.5 MB 29.9 MB/s eta 0:00:01\r\u001b[K     |███████████████████████████▌    | 1.5 MB 29.9 MB/s eta 0:00:01\r\u001b[K     |███████████████████████████▊    | 1.5 MB 29.9 MB/s eta 0:00:01\r\u001b[K     |████████████████████████████    | 1.5 MB 29.9 MB/s eta 0:00:01\r\u001b[K     |████████████████████████████▏   | 1.5 MB 29.9 MB/s eta 0:00:01\r\u001b[K     |████████████████████████████▎   | 1.5 MB 29.9 MB/s eta 0:00:01\r\u001b[K     |████████████████████████████▌   | 1.5 MB 29.9 MB/s eta 0:00:01\r\u001b[K     |████████████████████████████▊   | 1.5 MB 29.9 MB/s eta 0:00:01\r\u001b[K     |████████████████████████████▉   | 1.5 MB 29.9 MB/s eta 0:00:01\r\u001b[K     |█████████████████████████████   | 1.6 MB 29.9 MB/s eta 0:00:01\r\u001b[K     |█████████████████████████████▎  | 1.6 MB 29.9 MB/s eta 0:00:01\r\u001b[K     |█████████████████████████████▌  | 1.6 MB 29.9 MB/s eta 0:00:01\r\u001b[K     |█████████████████████████████▋  | 1.6 MB 29.9 MB/s eta 0:00:01\r\u001b[K     |█████████████████████████████▉  | 1.6 MB 29.9 MB/s eta 0:00:01\r\u001b[K     |██████████████████████████████  | 1.6 MB 29.9 MB/s eta 0:00:01\r\u001b[K     |██████████████████████████████▏ | 1.6 MB 29.9 MB/s eta 0:00:01\r\u001b[K     |██████████████████████████████▍ | 1.6 MB 29.9 MB/s eta 0:00:01\r\u001b[K     |██████████████████████████████▋ | 1.6 MB 29.9 MB/s eta 0:00:01\r\u001b[K     |██████████████████████████████▉ | 1.6 MB 29.9 MB/s eta 0:00:01\r\u001b[K     |███████████████████████████████ | 1.7 MB 29.9 MB/s eta 0:00:01\r\u001b[K     |███████████████████████████████▏| 1.7 MB 29.9 MB/s eta 0:00:01\r\u001b[K     |███████████████████████████████▍| 1.7 MB 29.9 MB/s eta 0:00:01\r\u001b[K     |███████████████████████████████▌| 1.7 MB 29.9 MB/s eta 0:00:01\r\u001b[K     |███████████████████████████████▊| 1.7 MB 29.9 MB/s eta 0:00:01\r\u001b[K     |████████████████████████████████| 1.7 MB 29.9 MB/s eta 0:00:01\r\u001b[K     |████████████████████████████████| 1.7 MB 29.9 MB/s \n",
            "\u001b[?25hCollecting shortuuid>=0.5.0\n",
            "  Downloading shortuuid-1.0.8-py3-none-any.whl (9.5 kB)\n",
            "Requirement already satisfied: requests<3,>=2.0.0 in /usr/local/lib/python3.7/dist-packages (from wandb) (2.23.0)\n",
            "Requirement already satisfied: promise<3,>=2.0 in /usr/local/lib/python3.7/dist-packages (from wandb) (2.3)\n",
            "Requirement already satisfied: PyYAML in /usr/local/lib/python3.7/dist-packages (from wandb) (3.13)\n",
            "Requirement already satisfied: protobuf>=3.12.0 in /usr/local/lib/python3.7/dist-packages (from wandb) (3.17.3)\n",
            "Requirement already satisfied: psutil>=5.0.0 in /usr/local/lib/python3.7/dist-packages (from wandb) (5.4.8)\n",
            "Collecting pathtools\n",
            "  Downloading pathtools-0.1.2.tar.gz (11 kB)\n",
            "Collecting yaspin>=1.0.0\n",
            "  Downloading yaspin-2.1.0-py3-none-any.whl (18 kB)\n",
            "Collecting GitPython>=1.0.0\n",
            "  Downloading GitPython-3.1.26-py3-none-any.whl (180 kB)\n",
            "\u001b[K     |████████████████████████████████| 180 kB 57.9 MB/s \n",
            "\u001b[?25hRequirement already satisfied: Click!=8.0.0,>=7.0 in /usr/local/lib/python3.7/dist-packages (from wandb) (7.1.2)\n",
            "Requirement already satisfied: six>=1.13.0 in /usr/local/lib/python3.7/dist-packages (from wandb) (1.15.0)\n",
            "Collecting configparser>=3.8.1\n",
            "  Downloading configparser-5.2.0-py3-none-any.whl (19 kB)\n",
            "Collecting sentry-sdk>=1.0.0\n",
            "  Downloading sentry_sdk-1.5.2-py2.py3-none-any.whl (142 kB)\n",
            "\u001b[K     |████████████████████████████████| 142 kB 58.1 MB/s \n",
            "\u001b[?25hCollecting docker-pycreds>=0.4.0\n",
            "  Downloading docker_pycreds-0.4.0-py2.py3-none-any.whl (9.0 kB)\n",
            "Collecting subprocess32>=3.5.3\n",
            "  Downloading subprocess32-3.5.4.tar.gz (97 kB)\n",
            "\u001b[K     |████████████████████████████████| 97 kB 7.0 MB/s \n",
            "\u001b[?25hRequirement already satisfied: python-dateutil>=2.6.1 in /usr/local/lib/python3.7/dist-packages (from wandb) (2.8.2)\n",
            "Collecting gitdb<5,>=4.0.1\n",
            "  Downloading gitdb-4.0.9-py3-none-any.whl (63 kB)\n",
            "\u001b[K     |████████████████████████████████| 63 kB 1.7 MB/s \n",
            "\u001b[?25hRequirement already satisfied: typing-extensions>=3.7.4.3 in /usr/local/lib/python3.7/dist-packages (from GitPython>=1.0.0->wandb) (3.10.0.2)\n",
            "Collecting smmap<6,>=3.0.1\n",
            "  Downloading smmap-5.0.0-py3-none-any.whl (24 kB)\n",
            "Requirement already satisfied: idna<3,>=2.5 in /usr/local/lib/python3.7/dist-packages (from requests<3,>=2.0.0->wandb) (2.10)\n",
            "Requirement already satisfied: urllib3!=1.25.0,!=1.25.1,<1.26,>=1.21.1 in /usr/local/lib/python3.7/dist-packages (from requests<3,>=2.0.0->wandb) (1.24.3)\n",
            "Requirement already satisfied: certifi>=2017.4.17 in /usr/local/lib/python3.7/dist-packages (from requests<3,>=2.0.0->wandb) (2021.10.8)\n",
            "Requirement already satisfied: chardet<4,>=3.0.2 in /usr/local/lib/python3.7/dist-packages (from requests<3,>=2.0.0->wandb) (3.0.4)\n",
            "Requirement already satisfied: termcolor<2.0.0,>=1.1.0 in /usr/local/lib/python3.7/dist-packages (from yaspin>=1.0.0->wandb) (1.1.0)\n",
            "Building wheels for collected packages: subprocess32, pathtools\n",
            "  Building wheel for subprocess32 (setup.py) ... \u001b[?25l\u001b[?25hdone\n",
            "  Created wheel for subprocess32: filename=subprocess32-3.5.4-py3-none-any.whl size=6502 sha256=cdeac01a20d5a171288df125701957bfbc200dd0388ce85e785e650a7131d82f\n",
            "  Stored in directory: /root/.cache/pip/wheels/50/ca/fa/8fca8d246e64f19488d07567547ddec8eb084e8c0d7a59226a\n",
            "  Building wheel for pathtools (setup.py) ... \u001b[?25l\u001b[?25hdone\n",
            "  Created wheel for pathtools: filename=pathtools-0.1.2-py3-none-any.whl size=8806 sha256=355e1d1eb195d0eb297a397cb560893f73be7afab964544be5fc09250137c2cd\n",
            "  Stored in directory: /root/.cache/pip/wheels/3e/31/09/fa59cef12cdcfecc627b3d24273699f390e71828921b2cbba2\n",
            "Successfully built subprocess32 pathtools\n",
            "Installing collected packages: smmap, gitdb, yaspin, subprocess32, shortuuid, sentry-sdk, pathtools, GitPython, docker-pycreds, configparser, wandb\n",
            "Successfully installed GitPython-3.1.26 configparser-5.2.0 docker-pycreds-0.4.0 gitdb-4.0.9 pathtools-0.1.2 sentry-sdk-1.5.2 shortuuid-1.0.8 smmap-5.0.0 subprocess32-3.5.4 wandb-0.12.9 yaspin-2.1.0\n"
          ]
        }
      ],
      "source": [
        "!pip install wandb --upgrade"
      ]
    },
    {
      "cell_type": "code",
      "source": [
        "import wandb\n",
        "\n",
        "wandb.login()"
      ],
      "metadata": {
        "colab": {
          "base_uri": "https://localhost:8080/",
          "height": 69
        },
        "id": "lDLcb4VJIorz",
        "outputId": "2fa62f8c-df4f-4070-d405-064edceaa975"
      },
      "execution_count": 2,
      "outputs": [
        {
          "output_type": "display_data",
          "data": {
            "application/javascript": [
              "\n",
              "        window._wandbApiKey = new Promise((resolve, reject) => {\n",
              "            function loadScript(url) {\n",
              "            return new Promise(function(resolve, reject) {\n",
              "                let newScript = document.createElement(\"script\");\n",
              "                newScript.onerror = reject;\n",
              "                newScript.onload = resolve;\n",
              "                document.body.appendChild(newScript);\n",
              "                newScript.src = url;\n",
              "            });\n",
              "            }\n",
              "            loadScript(\"https://cdn.jsdelivr.net/npm/postmate/build/postmate.min.js\").then(() => {\n",
              "            const iframe = document.createElement('iframe')\n",
              "            iframe.style.cssText = \"width:0;height:0;border:none\"\n",
              "            document.body.appendChild(iframe)\n",
              "            const handshake = new Postmate({\n",
              "                container: iframe,\n",
              "                url: 'https://wandb.ai/authorize'\n",
              "            });\n",
              "            const timeout = setTimeout(() => reject(\"Couldn't auto authenticate\"), 5000)\n",
              "            handshake.then(function(child) {\n",
              "                child.on('authorize', data => {\n",
              "                    clearTimeout(timeout)\n",
              "                    resolve(data)\n",
              "                });\n",
              "            });\n",
              "            })\n",
              "        });\n",
              "    "
            ],
            "text/plain": [
              "<IPython.core.display.Javascript object>"
            ]
          },
          "metadata": {}
        },
        {
          "output_type": "stream",
          "name": "stderr",
          "text": [
            "\u001b[34m\u001b[1mwandb\u001b[0m: Appending key for api.wandb.ai to your netrc file: /root/.netrc\n"
          ]
        },
        {
          "output_type": "execute_result",
          "data": {
            "text/plain": [
              "True"
            ]
          },
          "metadata": {},
          "execution_count": 2
        }
      ]
    },
    {
      "cell_type": "code",
      "source": [
        "import torch\n",
        "from torch import nn\n",
        "import torchvision\n",
        "from torch.utils.data import DataLoader\n",
        "import torchvision.models as models\n"
      ],
      "metadata": {
        "id": "msiaBj8PNpI4"
      },
      "execution_count": 3,
      "outputs": []
    },
    {
      "cell_type": "code",
      "source": [
        "sweep_config = {\n",
        "    'method': 'random'\n",
        "    }"
      ],
      "metadata": {
        "id": "_5r50kxiIqmK"
      },
      "execution_count": 4,
      "outputs": []
    },
    {
      "cell_type": "code",
      "source": [
        "metric = {\n",
        "    'name': 'loss',\n",
        "    'goal': 'minimize'   \n",
        "    }\n",
        "\n",
        "sweep_config['metric'] = metric"
      ],
      "metadata": {
        "id": "nweR1Wf3IsEp"
      },
      "execution_count": 5,
      "outputs": []
    },
    {
      "cell_type": "code",
      "source": [
        "parameters_dict = {\n",
        "    'optimizer': {\n",
        "        'values': ['adam', 'sgd']\n",
        "        },\n",
        "    'fc_layer_size': {\n",
        "        'values': [128, 256, 512]\n",
        "        },\n",
        "    'dropout': {\n",
        "          'values': [0.3, 0.4, 0.5]\n",
        "        },\n",
        "    }\n",
        "\n",
        "sweep_config['parameters'] = parameters_dict"
      ],
      "metadata": {
        "id": "ByUi9cJGItTR"
      },
      "execution_count": 6,
      "outputs": []
    },
    {
      "cell_type": "code",
      "source": [
        "parameters_dict.update({\n",
        "    'epochs': {\n",
        "        'value': 1}\n",
        "    })"
      ],
      "metadata": {
        "id": "9tKb-7tGIu25"
      },
      "execution_count": 7,
      "outputs": []
    },
    {
      "cell_type": "code",
      "source": [
        "import math\n",
        "\n",
        "parameters_dict.update({\n",
        "    'learning_rate': {\n",
        "        # a flat distribution between 0 and 0.1\n",
        "        'distribution': 'uniform',\n",
        "        'min': 0,\n",
        "        'max': 0.1\n",
        "      },\n",
        "    'batch_size': {\n",
        "        # integers between 32 and 256\n",
        "        # with evenly-distributed logarithms \n",
        "        'distribution': 'q_log_uniform',\n",
        "        'q': 1,\n",
        "        'min': math.log(32),\n",
        "        'max': math.log(256),\n",
        "      }\n",
        "    })"
      ],
      "metadata": {
        "id": "eXOXMWZwIwtB"
      },
      "execution_count": 8,
      "outputs": []
    },
    {
      "cell_type": "code",
      "source": [
        "import pprint\n",
        "\n",
        "pprint.pprint(sweep_config)"
      ],
      "metadata": {
        "colab": {
          "base_uri": "https://localhost:8080/"
        },
        "id": "DWS0_dyEI2J5",
        "outputId": "91f5f4de-e6d2-4866-af1a-7be081d1da58"
      },
      "execution_count": 9,
      "outputs": [
        {
          "output_type": "stream",
          "name": "stdout",
          "text": [
            "{'method': 'random',\n",
            " 'metric': {'goal': 'minimize', 'name': 'loss'},\n",
            " 'parameters': {'batch_size': {'distribution': 'q_log_uniform',\n",
            "                               'max': 5.545177444479562,\n",
            "                               'min': 3.4657359027997265,\n",
            "                               'q': 1},\n",
            "                'dropout': {'values': [0.3, 0.4, 0.5]},\n",
            "                'epochs': {'value': 1},\n",
            "                'fc_layer_size': {'values': [128, 256, 512]},\n",
            "                'learning_rate': {'distribution': 'uniform',\n",
            "                                  'max': 0.1,\n",
            "                                  'min': 0},\n",
            "                'optimizer': {'values': ['adam', 'sgd']}}}\n"
          ]
        }
      ]
    },
    {
      "cell_type": "code",
      "source": [
        "sweep_id = wandb.sweep(sweep_config, project=\"pytorch-sweeps-PesianMnist\")"
      ],
      "metadata": {
        "colab": {
          "base_uri": "https://localhost:8080/"
        },
        "id": "jb2KWEdFI3hB",
        "outputId": "7ddfd46c-4a83-47c0-bbac-ae7f07850204"
      },
      "execution_count": 24,
      "outputs": [
        {
          "output_type": "stream",
          "name": "stdout",
          "text": [
            "Create sweep with ID: 1sj0kr8y\n",
            "Sweep URL: https://wandb.ai/ma_heravi/pytorch-sweeps-PesianMnist/sweeps/1sj0kr8y\n"
          ]
        }
      ]
    },
    {
      "cell_type": "code",
      "source": [
        "epochs = 10\n",
        "loss_function = nn.CrossEntropyLoss()\n",
        "\n",
        "def calc_acc(preds, labels):\n",
        "    _, preds_max = torch.max(preds, 1)\n",
        "    acc = torch.sum(preds_max == labels.data, dtype=torch.float64) / len(preds)\n",
        "    return acc"
      ],
      "metadata": {
        "id": "SslDbXI9Wi2z"
      },
      "execution_count": 35,
      "outputs": []
    },
    {
      "cell_type": "code",
      "source": [
        "import torch\n",
        "import torch.optim as optim\n",
        "import torch.nn.functional as F\n",
        "import torch.nn as nn\n",
        "from torchvision import datasets, transforms\n",
        "\n",
        "device = torch.device(\"cuda\" if torch.cuda.is_available() else \"cpu\")\n",
        "\n",
        "def train(config=None):\n",
        "    # Initialize a new wandb run\n",
        "    with wandb.init(config=config):\n",
        "        # If called by wandb.agent, as below,\n",
        "        # this config will be set by Sweep Controller\n",
        "        config = wandb.config\n",
        "\n",
        "        loader = build_dataset(config.batch_size)\n",
        "        network = build_network(config.fc_layer_size, config.dropout)\n",
        "        optimizer = build_optimizer(network, config.optimizer, config.learning_rate)\n",
        "\n",
        "        for epoch in range(1, epochs+1):\n",
        "            total_loss, total_acc = train_epoch(network, loader, optimizer)\n",
        "            print(f\"Epoch: {epoch+1}, Loss: {total_loss}\")\n",
        "            wandb.log({'epochs':  epoch + 1,\n",
        "              'loss': total_loss,\n",
        "              'acc': total_acc\n",
        "                              })           "
      ],
      "metadata": {
        "id": "q66fm2Y5I5IZ"
      },
      "execution_count": 36,
      "outputs": []
    },
    {
      "cell_type": "code",
      "source": [
        "def build_dataset(batch_size):\n",
        "   \n",
        "    transform = torchvision.transforms.Compose([\n",
        "            torchvision.transforms.Resize((28, 28)),\n",
        "            torchvision.transforms.ToTensor(),\n",
        "            torchvision.transforms.Normalize((0.485, 0.456, 0.406), (0.229, 0.224, 0.225))\n",
        "    ])\n",
        "\n",
        "\n",
        "    dataset = torchvision.datasets.ImageFolder(\"/content/drive/MyDrive/MNIST_persian\", transform=transform)\n",
        "    loader = torch.utils.data.DataLoader(dataset, batch_size=batch_size, shuffle=True)\n",
        "    return loader\n",
        "\n",
        "\n",
        "def build_network(fc_layer_size, dropout):\n",
        "    network = models.resnet50(pretrained=True)\n",
        "    in_fetures = network.fc.in_features\n",
        "    network.fc = nn.Linear(in_fetures, 10)\n",
        "    device = torch.device(\"cuda\" if torch.cuda.is_available() else \"cpu\")\n",
        "\n",
        "    network = network.to(device)\n",
        "    # This freezes layers 1-6 in the total 10 layers of Resnet50\n",
        "    ct = 0\n",
        "    for child in network.children():\n",
        "        ct += 1\n",
        "        if ct < 7:\n",
        "            for param in child.parameters():\n",
        "                param.requires_grad = False\n",
        "                \n",
        "    return network\n",
        "        \n",
        "\n",
        "def build_optimizer(network, optimizer, learning_rate):\n",
        "    if optimizer == \"sgd\":\n",
        "        optimizer = optim.SGD(network.parameters(),\n",
        "                              lr=learning_rate, momentum=0.9)\n",
        "    elif optimizer == \"adam\":\n",
        "        optimizer = optim.Adam(network.parameters(),\n",
        "                               lr=learning_rate)\n",
        "    return optimizer\n"
      ],
      "metadata": {
        "id": "4KBajjH4I6pJ"
      },
      "execution_count": 37,
      "outputs": []
    },
    {
      "cell_type": "code",
      "source": [
        "def train_epoch(network, loader, optimizer):\n",
        "\n",
        "    train_loss = 0.0\n",
        "    train_acc = 0.0\n",
        "    for images, labels in loader:\n",
        "        images = images.to(device)\n",
        "        labels = labels.to(device)\n",
        "        optimizer.zero_grad()\n",
        "        # 1- forwarding\n",
        "        preds = network(images)\n",
        "        # 2- backwarding \n",
        "        loss = loss_function(preds, labels)\n",
        "        loss.backward()\n",
        "        # 3- Update\n",
        "        optimizer.step()\n",
        "\n",
        "        train_loss += loss\n",
        "        train_acc += calc_acc(preds, labels)\n",
        "    \n",
        "    total_loss = train_loss / len(loader)\n",
        "    total_acc = train_acc / len(loader)\n",
        "    print(f\"loss_train:{total_loss},accuracy_train:{total_acc}\")\n",
        "  \n",
        "    return total_loss, total_acc"
      ],
      "metadata": {
        "id": "VHM6AO-9MX7r"
      },
      "execution_count": 38,
      "outputs": []
    },
    {
      "cell_type": "code",
      "source": [
        "wandb.agent(sweep_id, train, count=5)"
      ],
      "metadata": {
        "colab": {
          "base_uri": "https://localhost:8080/",
          "height": 1000,
          "referenced_widgets": [
            "de23210c8c2c48678664eddedc28a6f9",
            "0b14d0325fbe4c74ac48e873d16edace",
            "a2dc3186d33649b886ba3f76053729a5",
            "caa713f9808c4f859533a76c4eb6455c",
            "a5c5ea881f9d4efe988ca1262616d864",
            "d04f786976724c39affeb025e2efbc29",
            "af579620d8d24f6fb58418a377bb7de7",
            "bc60ef500e8545f396212cb4095ee591",
            "9482f742bb104cb0a9203afeda38dc6f",
            "65f49f014c0f48198290c7e8e54985df",
            "9a88a129860f4523bf03a3d2f49e4a5a",
            "77ee46c8fdc14f49b44784c79bffc157",
            "eb15b561e1794d38bc6bad75023bcc16",
            "42056eace5624dc5a4198fa97a804cf7",
            "ddfd151ab804478ba1583e789d1b1b74",
            "6628c797f1b2447488e8f55e60ccf462",
            "f44a910c7abd43eaa806f067d09a6bef",
            "73c470fa99ac4b41a93b75ed39de8d11",
            "a9152e9ffbdb480cb69db3bd725d0a71",
            "feaae06e003d4399a1e6ade46bc9e1d5",
            "9667e5dcea3a4915880c11556e16a433",
            "90fb07c7d8024c3493d98d554d1d5a7c",
            "0bb9dd70c8b54630b55cb290043c764a",
            "8109592b79be417db2812a210ae51b0e",
            "c501354dc9e540639637b969e5a59287",
            "d163a6ebbf9a4ad7af85f47a89f39c11",
            "313664397a5e4a41bb3b6ecf66634e9d",
            "16119637bf554a698cf3b73ece4e3475",
            "4e68da45e49847298bfca3c00d99c5c0",
            "7a1cd9a9ded54be9945ea888737651e0",
            "32f8a47f93f9482e828b3dd42cb86062",
            "1ad56781da8a4d43a56ea96091ad572d",
            "473e6cf3a0b143068af33ef06fbcbb67",
            "c1a9f4a83bbc4760b99b043ab1d7fa0c",
            "c001062cab1f43ab946b8c8e698fd153",
            "ca120d3c1d2e4a2ca6817c9085f5ca82",
            "cfeb7f6d98514a44b419110f933eec7c",
            "43986e83174349a5a9b1f19c960830b6",
            "1459dde971774567a5ca5f5bb5487ee5",
            "2a0e959414184a588a96bd3b52345120"
          ]
        },
        "id": "gyX2aXeEI8-5",
        "outputId": "50eff428-a771-45f5-c4c0-c690c193e660"
      },
      "execution_count": 39,
      "outputs": [
        {
          "output_type": "stream",
          "name": "stderr",
          "text": [
            "\u001b[34m\u001b[1mwandb\u001b[0m: Agent Starting Run: j8jndt45 with config:\n",
            "\u001b[34m\u001b[1mwandb\u001b[0m: \tbatch_size: 102\n",
            "\u001b[34m\u001b[1mwandb\u001b[0m: \tdropout: 0.4\n",
            "\u001b[34m\u001b[1mwandb\u001b[0m: \tepochs: 1\n",
            "\u001b[34m\u001b[1mwandb\u001b[0m: \tfc_layer_size: 512\n",
            "\u001b[34m\u001b[1mwandb\u001b[0m: \tlearning_rate: 0.01847258268541586\n",
            "\u001b[34m\u001b[1mwandb\u001b[0m: \toptimizer: adam\n"
          ]
        },
        {
          "output_type": "display_data",
          "data": {
            "text/html": [
              "\n",
              "                    Syncing run <strong><a href=\"https://wandb.ai/ma_heravi/pytorch-sweeps-PesianMnist/runs/j8jndt45\" target=\"_blank\">genial-sweep-7</a></strong> to <a href=\"https://wandb.ai/ma_heravi/pytorch-sweeps-PesianMnist\" target=\"_blank\">Weights & Biases</a> (<a href=\"https://docs.wandb.com/integrations/jupyter.html\" target=\"_blank\">docs</a>).<br/>\n",
              "Sweep page: <a href=\"https://wandb.ai/ma_heravi/pytorch-sweeps-PesianMnist/sweeps/1sj0kr8y\" target=\"_blank\">https://wandb.ai/ma_heravi/pytorch-sweeps-PesianMnist/sweeps/1sj0kr8y</a><br/>\n",
              "\n",
              "                "
            ],
            "text/plain": [
              "<IPython.core.display.HTML object>"
            ]
          },
          "metadata": {}
        },
        {
          "output_type": "stream",
          "name": "stdout",
          "text": [
            "loss_train:3.591172218322754,accuracy_train:0.16327300150829563\n",
            "Epoch: 2, Loss: 3.591172218322754\n",
            "loss_train:1.7755763530731201,accuracy_train:0.47410759175465056\n",
            "Epoch: 3, Loss: 1.7755763530731201\n",
            "loss_train:0.6114603281021118,accuracy_train:0.7741955756661639\n",
            "Epoch: 4, Loss: 0.6114603281021118\n",
            "loss_train:0.2777659595012665,accuracy_train:0.896870286576169\n",
            "Epoch: 5, Loss: 0.2777659595012665\n",
            "loss_train:0.1447882354259491,accuracy_train:0.9504776269482151\n",
            "Epoch: 6, Loss: 0.1447882354259491\n",
            "loss_train:0.1050422415137291,accuracy_train:0.9678858722976369\n",
            "Epoch: 7, Loss: 0.1050422415137291\n",
            "loss_train:0.07511337101459503,accuracy_train:0.9744218200100554\n",
            "Epoch: 8, Loss: 0.07511337101459503\n",
            "loss_train:0.07653386145830154,accuracy_train:0.9775012569130217\n",
            "Epoch: 9, Loss: 0.07653386145830154\n",
            "loss_train:0.060092609375715256,accuracy_train:0.9780040221216693\n",
            "Epoch: 10, Loss: 0.060092609375715256\n",
            "loss_train:0.0756952092051506,accuracy_train:0.973667672197084\n",
            "Epoch: 11, Loss: 0.0756952092051506\n"
          ]
        },
        {
          "output_type": "display_data",
          "data": {
            "text/html": [
              "<br/>Waiting for W&B process to finish, PID 1478... <strong style=\"color:green\">(success).</strong>"
            ],
            "text/plain": [
              "<IPython.core.display.HTML object>"
            ]
          },
          "metadata": {}
        },
        {
          "output_type": "display_data",
          "data": {
            "application/vnd.jupyter.widget-view+json": {
              "model_id": "de23210c8c2c48678664eddedc28a6f9",
              "version_minor": 0,
              "version_major": 2
            },
            "text/plain": [
              "VBox(children=(Label(value=' 0.00MB of 0.00MB uploaded (0.00MB deduped)\\r'), FloatProgress(value=1.0, max=1.0)…"
            ]
          },
          "metadata": {}
        },
        {
          "output_type": "display_data",
          "data": {
            "text/html": [
              "<style>\n",
              "    table.wandb td:nth-child(1) { padding: 0 10px; text-align: right }\n",
              "    .wandb-row { display: flex; flex-direction: row; flex-wrap: wrap; width: 100% }\n",
              "    .wandb-col { display: flex; flex-direction: column; flex-basis: 100%; flex: 1; padding: 10px; }\n",
              "    </style>\n",
              "<div class=\"wandb-row\"><div class=\"wandb-col\">\n",
              "<h3>Run history:</h3><br/><table class=\"wandb\"><tr><td>acc</td><td>▁▄▆▇██████</td></tr><tr><td>epochs</td><td>▁▂▃▃▄▅▆▆▇█</td></tr><tr><td>loss</td><td>█▄▂▁▁▁▁▁▁▁</td></tr></table><br/></div><div class=\"wandb-col\">\n",
              "<h3>Run summary:</h3><br/><table class=\"wandb\"><tr><td>acc</td><td>0.97367</td></tr><tr><td>epochs</td><td>11</td></tr><tr><td>loss</td><td>0.0757</td></tr></table>\n",
              "</div></div>\n",
              "Synced 5 W&B file(s), 0 media file(s), 0 artifact file(s) and 0 other file(s)\n",
              "<br/>Synced <strong style=\"color:#cdcd00\">genial-sweep-7</strong>: <a href=\"https://wandb.ai/ma_heravi/pytorch-sweeps-PesianMnist/runs/j8jndt45\" target=\"_blank\">https://wandb.ai/ma_heravi/pytorch-sweeps-PesianMnist/runs/j8jndt45</a><br/>\n",
              "Find logs at: <code>./wandb/run-20220114_162215-j8jndt45/logs</code><br/>\n"
            ],
            "text/plain": [
              "<IPython.core.display.HTML object>"
            ]
          },
          "metadata": {}
        },
        {
          "output_type": "stream",
          "name": "stderr",
          "text": [
            "\u001b[34m\u001b[1mwandb\u001b[0m: Agent Starting Run: 5b8n9r6d with config:\n",
            "\u001b[34m\u001b[1mwandb\u001b[0m: \tbatch_size: 73\n",
            "\u001b[34m\u001b[1mwandb\u001b[0m: \tdropout: 0.4\n",
            "\u001b[34m\u001b[1mwandb\u001b[0m: \tepochs: 1\n",
            "\u001b[34m\u001b[1mwandb\u001b[0m: \tfc_layer_size: 128\n",
            "\u001b[34m\u001b[1mwandb\u001b[0m: \tlearning_rate: 0.057846578822503825\n",
            "\u001b[34m\u001b[1mwandb\u001b[0m: \toptimizer: adam\n"
          ]
        },
        {
          "output_type": "display_data",
          "data": {
            "text/html": [
              "\n",
              "                    Syncing run <strong><a href=\"https://wandb.ai/ma_heravi/pytorch-sweeps-PesianMnist/runs/5b8n9r6d\" target=\"_blank\">lyric-sweep-8</a></strong> to <a href=\"https://wandb.ai/ma_heravi/pytorch-sweeps-PesianMnist\" target=\"_blank\">Weights & Biases</a> (<a href=\"https://docs.wandb.com/integrations/jupyter.html\" target=\"_blank\">docs</a>).<br/>\n",
              "Sweep page: <a href=\"https://wandb.ai/ma_heravi/pytorch-sweeps-PesianMnist/sweeps/1sj0kr8y\" target=\"_blank\">https://wandb.ai/ma_heravi/pytorch-sweeps-PesianMnist/sweeps/1sj0kr8y</a><br/>\n",
              "\n",
              "                "
            ],
            "text/plain": [
              "<IPython.core.display.HTML object>"
            ]
          },
          "metadata": {}
        },
        {
          "output_type": "stream",
          "name": "stdout",
          "text": [
            "loss_train:4.497877597808838,accuracy_train:0.17770447219983881\n",
            "Epoch: 2, Loss: 4.497877597808838\n",
            "loss_train:1.685288667678833,accuracy_train:0.4410505640612409\n",
            "Epoch: 3, Loss: 1.685288667678833\n",
            "loss_train:0.9928544163703918,accuracy_train:0.6360545930701049\n",
            "Epoch: 4, Loss: 0.9928544163703918\n",
            "loss_train:0.4982936680316925,accuracy_train:0.8081184528605962\n",
            "Epoch: 5, Loss: 0.4982936680316925\n",
            "loss_train:0.27892425656318665,accuracy_train:0.8966307413376308\n",
            "Epoch: 6, Loss: 0.27892425656318665\n",
            "loss_train:0.21645592153072357,accuracy_train:0.9183873892022562\n",
            "Epoch: 7, Loss: 0.21645592153072357\n",
            "loss_train:0.18998916447162628,accuracy_train:0.938079170024174\n",
            "Epoch: 8, Loss: 0.18998916447162628\n",
            "loss_train:0.13645130395889282,accuracy_train:0.9582242143432715\n",
            "Epoch: 9, Loss: 0.13645130395889282\n",
            "loss_train:0.11285076290369034,accuracy_train:0.9661563255439161\n",
            "Epoch: 10, Loss: 0.11285076290369034\n",
            "loss_train:0.0896410271525383,accuracy_train:0.9731819097502014\n",
            "Epoch: 11, Loss: 0.0896410271525383\n"
          ]
        },
        {
          "output_type": "display_data",
          "data": {
            "text/html": [
              "<br/>Waiting for W&B process to finish, PID 1521... <strong style=\"color:green\">(success).</strong>"
            ],
            "text/plain": [
              "<IPython.core.display.HTML object>"
            ]
          },
          "metadata": {}
        },
        {
          "output_type": "display_data",
          "data": {
            "application/vnd.jupyter.widget-view+json": {
              "model_id": "9482f742bb104cb0a9203afeda38dc6f",
              "version_minor": 0,
              "version_major": 2
            },
            "text/plain": [
              "VBox(children=(Label(value=' 0.00MB of 0.00MB uploaded (0.00MB deduped)\\r'), FloatProgress(value=1.0, max=1.0)…"
            ]
          },
          "metadata": {}
        },
        {
          "output_type": "display_data",
          "data": {
            "text/html": [
              "<style>\n",
              "    table.wandb td:nth-child(1) { padding: 0 10px; text-align: right }\n",
              "    .wandb-row { display: flex; flex-direction: row; flex-wrap: wrap; width: 100% }\n",
              "    .wandb-col { display: flex; flex-direction: column; flex-basis: 100%; flex: 1; padding: 10px; }\n",
              "    </style>\n",
              "<div class=\"wandb-row\"><div class=\"wandb-col\">\n",
              "<h3>Run history:</h3><br/><table class=\"wandb\"><tr><td>acc</td><td>▁▃▅▇▇█████</td></tr><tr><td>epochs</td><td>▁▂▃▃▄▅▆▆▇█</td></tr><tr><td>loss</td><td>█▄▂▂▁▁▁▁▁▁</td></tr></table><br/></div><div class=\"wandb-col\">\n",
              "<h3>Run summary:</h3><br/><table class=\"wandb\"><tr><td>acc</td><td>0.97318</td></tr><tr><td>epochs</td><td>11</td></tr><tr><td>loss</td><td>0.08964</td></tr></table>\n",
              "</div></div>\n",
              "Synced 5 W&B file(s), 0 media file(s), 0 artifact file(s) and 0 other file(s)\n",
              "<br/>Synced <strong style=\"color:#cdcd00\">lyric-sweep-8</strong>: <a href=\"https://wandb.ai/ma_heravi/pytorch-sweeps-PesianMnist/runs/5b8n9r6d\" target=\"_blank\">https://wandb.ai/ma_heravi/pytorch-sweeps-PesianMnist/runs/5b8n9r6d</a><br/>\n",
              "Find logs at: <code>./wandb/run-20220114_162255-5b8n9r6d/logs</code><br/>\n"
            ],
            "text/plain": [
              "<IPython.core.display.HTML object>"
            ]
          },
          "metadata": {}
        },
        {
          "output_type": "stream",
          "name": "stderr",
          "text": [
            "\u001b[34m\u001b[1mwandb\u001b[0m: Agent Starting Run: 242pt454 with config:\n",
            "\u001b[34m\u001b[1mwandb\u001b[0m: \tbatch_size: 162\n",
            "\u001b[34m\u001b[1mwandb\u001b[0m: \tdropout: 0.4\n",
            "\u001b[34m\u001b[1mwandb\u001b[0m: \tepochs: 1\n",
            "\u001b[34m\u001b[1mwandb\u001b[0m: \tfc_layer_size: 128\n",
            "\u001b[34m\u001b[1mwandb\u001b[0m: \tlearning_rate: 0.09864128685962284\n",
            "\u001b[34m\u001b[1mwandb\u001b[0m: \toptimizer: sgd\n"
          ]
        },
        {
          "output_type": "display_data",
          "data": {
            "text/html": [
              "\n",
              "                    Syncing run <strong><a href=\"https://wandb.ai/ma_heravi/pytorch-sweeps-PesianMnist/runs/242pt454\" target=\"_blank\">rare-sweep-9</a></strong> to <a href=\"https://wandb.ai/ma_heravi/pytorch-sweeps-PesianMnist\" target=\"_blank\">Weights & Biases</a> (<a href=\"https://docs.wandb.com/integrations/jupyter.html\" target=\"_blank\">docs</a>).<br/>\n",
              "Sweep page: <a href=\"https://wandb.ai/ma_heravi/pytorch-sweeps-PesianMnist/sweeps/1sj0kr8y\" target=\"_blank\">https://wandb.ai/ma_heravi/pytorch-sweeps-PesianMnist/sweeps/1sj0kr8y</a><br/>\n",
              "\n",
              "                "
            ],
            "text/plain": [
              "<IPython.core.display.HTML object>"
            ]
          },
          "metadata": {}
        },
        {
          "output_type": "stream",
          "name": "stdout",
          "text": [
            "loss_train:2.569227933883667,accuracy_train:0.3943602693602693\n",
            "Epoch: 2, Loss: 2.569227933883667\n",
            "loss_train:0.8794772028923035,accuracy_train:0.7189253647586981\n",
            "Epoch: 3, Loss: 0.8794772028923035\n",
            "loss_train:0.47122275829315186,accuracy_train:0.8394360269360269\n",
            "Epoch: 4, Loss: 0.47122275829315186\n",
            "loss_train:0.32574617862701416,accuracy_train:0.9036195286195285\n",
            "Epoch: 5, Loss: 0.32574617862701416\n",
            "loss_train:0.18385858833789825,accuracy_train:0.9421997755331089\n",
            "Epoch: 6, Loss: 0.18385858833789825\n",
            "loss_train:0.08291301131248474,accuracy_train:0.9769219977553311\n",
            "Epoch: 7, Loss: 0.08291301131248474\n",
            "loss_train:0.05020197480916977,accuracy_train:0.9830246913580245\n",
            "Epoch: 8, Loss: 0.05020197480916977\n",
            "loss_train:0.09632593393325806,accuracy_train:0.9762906846240179\n",
            "Epoch: 9, Loss: 0.09632593393325806\n",
            "loss_train:0.06912099570035934,accuracy_train:0.9814814814814815\n",
            "Epoch: 10, Loss: 0.06912099570035934\n",
            "loss_train:0.08081506937742233,accuracy_train:0.9762906846240179\n",
            "Epoch: 11, Loss: 0.08081506937742233\n"
          ]
        },
        {
          "output_type": "display_data",
          "data": {
            "text/html": [
              "<br/>Waiting for W&B process to finish, PID 1562... <strong style=\"color:green\">(success).</strong>"
            ],
            "text/plain": [
              "<IPython.core.display.HTML object>"
            ]
          },
          "metadata": {}
        },
        {
          "output_type": "display_data",
          "data": {
            "application/vnd.jupyter.widget-view+json": {
              "model_id": "f44a910c7abd43eaa806f067d09a6bef",
              "version_minor": 0,
              "version_major": 2
            },
            "text/plain": [
              "VBox(children=(Label(value=' 0.00MB of 0.00MB uploaded (0.00MB deduped)\\r'), FloatProgress(value=1.0, max=1.0)…"
            ]
          },
          "metadata": {}
        },
        {
          "output_type": "display_data",
          "data": {
            "text/html": [
              "<style>\n",
              "    table.wandb td:nth-child(1) { padding: 0 10px; text-align: right }\n",
              "    .wandb-row { display: flex; flex-direction: row; flex-wrap: wrap; width: 100% }\n",
              "    .wandb-col { display: flex; flex-direction: column; flex-basis: 100%; flex: 1; padding: 10px; }\n",
              "    </style>\n",
              "<div class=\"wandb-row\"><div class=\"wandb-col\">\n",
              "<h3>Run history:</h3><br/><table class=\"wandb\"><tr><td>acc</td><td>▁▅▆▇██████</td></tr><tr><td>epochs</td><td>▁▂▃▃▄▅▆▆▇█</td></tr><tr><td>loss</td><td>█▃▂▂▁▁▁▁▁▁</td></tr></table><br/></div><div class=\"wandb-col\">\n",
              "<h3>Run summary:</h3><br/><table class=\"wandb\"><tr><td>acc</td><td>0.97629</td></tr><tr><td>epochs</td><td>11</td></tr><tr><td>loss</td><td>0.08082</td></tr></table>\n",
              "</div></div>\n",
              "Synced 5 W&B file(s), 0 media file(s), 0 artifact file(s) and 0 other file(s)\n",
              "<br/>Synced <strong style=\"color:#cdcd00\">rare-sweep-9</strong>: <a href=\"https://wandb.ai/ma_heravi/pytorch-sweeps-PesianMnist/runs/242pt454\" target=\"_blank\">https://wandb.ai/ma_heravi/pytorch-sweeps-PesianMnist/runs/242pt454</a><br/>\n",
              "Find logs at: <code>./wandb/run-20220114_162342-242pt454/logs</code><br/>\n"
            ],
            "text/plain": [
              "<IPython.core.display.HTML object>"
            ]
          },
          "metadata": {}
        },
        {
          "output_type": "stream",
          "name": "stderr",
          "text": [
            "\u001b[34m\u001b[1mwandb\u001b[0m: Agent Starting Run: y6kvhirv with config:\n",
            "\u001b[34m\u001b[1mwandb\u001b[0m: \tbatch_size: 231\n",
            "\u001b[34m\u001b[1mwandb\u001b[0m: \tdropout: 0.5\n",
            "\u001b[34m\u001b[1mwandb\u001b[0m: \tepochs: 1\n",
            "\u001b[34m\u001b[1mwandb\u001b[0m: \tfc_layer_size: 256\n",
            "\u001b[34m\u001b[1mwandb\u001b[0m: \tlearning_rate: 0.035274123437077476\n",
            "\u001b[34m\u001b[1mwandb\u001b[0m: \toptimizer: sgd\n"
          ]
        },
        {
          "output_type": "display_data",
          "data": {
            "text/html": [
              "\n",
              "                    Syncing run <strong><a href=\"https://wandb.ai/ma_heravi/pytorch-sweeps-PesianMnist/runs/y6kvhirv\" target=\"_blank\">pious-sweep-10</a></strong> to <a href=\"https://wandb.ai/ma_heravi/pytorch-sweeps-PesianMnist\" target=\"_blank\">Weights & Biases</a> (<a href=\"https://docs.wandb.com/integrations/jupyter.html\" target=\"_blank\">docs</a>).<br/>\n",
              "Sweep page: <a href=\"https://wandb.ai/ma_heravi/pytorch-sweeps-PesianMnist/sweeps/1sj0kr8y\" target=\"_blank\">https://wandb.ai/ma_heravi/pytorch-sweeps-PesianMnist/sweeps/1sj0kr8y</a><br/>\n",
              "\n",
              "                "
            ],
            "text/plain": [
              "<IPython.core.display.HTML object>"
            ]
          },
          "metadata": {}
        },
        {
          "output_type": "stream",
          "name": "stdout",
          "text": [
            "loss_train:1.78464937210083,accuracy_train:0.4157287157287157\n",
            "Epoch: 2, Loss: 1.78464937210083\n",
            "loss_train:0.3159542977809906,accuracy_train:0.896007696007696\n",
            "Epoch: 3, Loss: 0.3159542977809906\n",
            "loss_train:0.2256239652633667,accuracy_train:0.939009139009139\n",
            "Epoch: 4, Loss: 0.2256239652633667\n",
            "loss_train:0.38771745562553406,accuracy_train:0.9392015392015393\n",
            "Epoch: 5, Loss: 0.38771745562553406\n",
            "loss_train:0.41507193446159363,accuracy_train:0.9107744107744107\n",
            "Epoch: 6, Loss: 0.41507193446159363\n",
            "loss_train:0.20149096846580505,accuracy_train:0.9360269360269361\n",
            "Epoch: 7, Loss: 0.20149096846580505\n",
            "loss_train:0.15587183833122253,accuracy_train:0.9499278499278498\n",
            "Epoch: 8, Loss: 0.15587183833122253\n",
            "loss_train:0.10358169674873352,accuracy_train:0.9673400673400674\n",
            "Epoch: 9, Loss: 0.10358169674873352\n",
            "loss_train:0.07414284348487854,accuracy_train:0.9817700817700816\n",
            "Epoch: 10, Loss: 0.07414284348487854\n",
            "loss_train:0.05978706479072571,accuracy_train:0.975998075998076\n",
            "Epoch: 11, Loss: 0.05978706479072571\n"
          ]
        },
        {
          "output_type": "display_data",
          "data": {
            "text/html": [
              "<br/>Waiting for W&B process to finish, PID 1607... <strong style=\"color:green\">(success).</strong>"
            ],
            "text/plain": [
              "<IPython.core.display.HTML object>"
            ]
          },
          "metadata": {}
        },
        {
          "output_type": "display_data",
          "data": {
            "application/vnd.jupyter.widget-view+json": {
              "model_id": "c501354dc9e540639637b969e5a59287",
              "version_minor": 0,
              "version_major": 2
            },
            "text/plain": [
              "VBox(children=(Label(value=' 0.00MB of 0.00MB uploaded (0.00MB deduped)\\r'), FloatProgress(value=1.0, max=1.0)…"
            ]
          },
          "metadata": {}
        },
        {
          "output_type": "display_data",
          "data": {
            "text/html": [
              "<style>\n",
              "    table.wandb td:nth-child(1) { padding: 0 10px; text-align: right }\n",
              "    .wandb-row { display: flex; flex-direction: row; flex-wrap: wrap; width: 100% }\n",
              "    .wandb-col { display: flex; flex-direction: column; flex-basis: 100%; flex: 1; padding: 10px; }\n",
              "    </style>\n",
              "<div class=\"wandb-row\"><div class=\"wandb-col\">\n",
              "<h3>Run history:</h3><br/><table class=\"wandb\"><tr><td>acc</td><td>▁▇▇▇▇▇████</td></tr><tr><td>epochs</td><td>▁▂▃▃▄▅▆▆▇█</td></tr><tr><td>loss</td><td>█▂▂▂▂▂▁▁▁▁</td></tr></table><br/></div><div class=\"wandb-col\">\n",
              "<h3>Run summary:</h3><br/><table class=\"wandb\"><tr><td>acc</td><td>0.976</td></tr><tr><td>epochs</td><td>11</td></tr><tr><td>loss</td><td>0.05979</td></tr></table>\n",
              "</div></div>\n",
              "Synced 5 W&B file(s), 0 media file(s), 0 artifact file(s) and 0 other file(s)\n",
              "<br/>Synced <strong style=\"color:#cdcd00\">pious-sweep-10</strong>: <a href=\"https://wandb.ai/ma_heravi/pytorch-sweeps-PesianMnist/runs/y6kvhirv\" target=\"_blank\">https://wandb.ai/ma_heravi/pytorch-sweeps-PesianMnist/runs/y6kvhirv</a><br/>\n",
              "Find logs at: <code>./wandb/run-20220114_162423-y6kvhirv/logs</code><br/>\n"
            ],
            "text/plain": [
              "<IPython.core.display.HTML object>"
            ]
          },
          "metadata": {}
        },
        {
          "output_type": "stream",
          "name": "stderr",
          "text": [
            "\u001b[34m\u001b[1mwandb\u001b[0m: Agent Starting Run: o2ecpjwj with config:\n",
            "\u001b[34m\u001b[1mwandb\u001b[0m: \tbatch_size: 45\n",
            "\u001b[34m\u001b[1mwandb\u001b[0m: \tdropout: 0.3\n",
            "\u001b[34m\u001b[1mwandb\u001b[0m: \tepochs: 1\n",
            "\u001b[34m\u001b[1mwandb\u001b[0m: \tfc_layer_size: 256\n",
            "\u001b[34m\u001b[1mwandb\u001b[0m: \tlearning_rate: 0.0651755112269236\n",
            "\u001b[34m\u001b[1mwandb\u001b[0m: \toptimizer: sgd\n"
          ]
        },
        {
          "output_type": "display_data",
          "data": {
            "text/html": [
              "\n",
              "                    Syncing run <strong><a href=\"https://wandb.ai/ma_heravi/pytorch-sweeps-PesianMnist/runs/o2ecpjwj\" target=\"_blank\">different-sweep-11</a></strong> to <a href=\"https://wandb.ai/ma_heravi/pytorch-sweeps-PesianMnist\" target=\"_blank\">Weights & Biases</a> (<a href=\"https://docs.wandb.com/integrations/jupyter.html\" target=\"_blank\">docs</a>).<br/>\n",
              "Sweep page: <a href=\"https://wandb.ai/ma_heravi/pytorch-sweeps-PesianMnist/sweeps/1sj0kr8y\" target=\"_blank\">https://wandb.ai/ma_heravi/pytorch-sweeps-PesianMnist/sweeps/1sj0kr8y</a><br/>\n",
              "\n",
              "                "
            ],
            "text/plain": [
              "<IPython.core.display.HTML object>"
            ]
          },
          "metadata": {}
        },
        {
          "output_type": "stream",
          "name": "stdout",
          "text": [
            "loss_train:1.7072601318359375,accuracy_train:0.5563786008230451\n",
            "Epoch: 2, Loss: 1.7072601318359375\n",
            "loss_train:2.7587695121765137,accuracy_train:0.6831275720164608\n",
            "Epoch: 3, Loss: 2.7587695121765137\n",
            "loss_train:0.626624345779419,accuracy_train:0.7860082304526752\n",
            "Epoch: 4, Loss: 0.626624345779419\n",
            "loss_train:0.3697603642940521,accuracy_train:0.8748971193415639\n",
            "Epoch: 5, Loss: 0.3697603642940521\n",
            "loss_train:1.0771573781967163,accuracy_train:0.9069958847736627\n",
            "Epoch: 6, Loss: 1.0771573781967163\n",
            "loss_train:0.16874054074287415,accuracy_train:0.9432098765432099\n",
            "Epoch: 7, Loss: 0.16874054074287415\n",
            "loss_train:0.1087624579668045,accuracy_train:0.9580246913580248\n",
            "Epoch: 8, Loss: 0.1087624579668045\n",
            "loss_train:0.8997863531112671,accuracy_train:0.9016460905349797\n",
            "Epoch: 9, Loss: 0.8997863531112671\n",
            "loss_train:1.390612244606018,accuracy_train:0.8831275720164612\n",
            "Epoch: 10, Loss: 1.390612244606018\n",
            "loss_train:0.27761682868003845,accuracy_train:0.9193415637860083\n",
            "Epoch: 11, Loss: 0.27761682868003845\n"
          ]
        },
        {
          "output_type": "display_data",
          "data": {
            "text/html": [
              "<br/>Waiting for W&B process to finish, PID 1654... <strong style=\"color:green\">(success).</strong>"
            ],
            "text/plain": [
              "<IPython.core.display.HTML object>"
            ]
          },
          "metadata": {}
        },
        {
          "output_type": "display_data",
          "data": {
            "application/vnd.jupyter.widget-view+json": {
              "model_id": "473e6cf3a0b143068af33ef06fbcbb67",
              "version_minor": 0,
              "version_major": 2
            },
            "text/plain": [
              "VBox(children=(Label(value=' 0.00MB of 0.00MB uploaded (0.00MB deduped)\\r'), FloatProgress(value=1.0, max=1.0)…"
            ]
          },
          "metadata": {}
        },
        {
          "output_type": "display_data",
          "data": {
            "text/html": [
              "<style>\n",
              "    table.wandb td:nth-child(1) { padding: 0 10px; text-align: right }\n",
              "    .wandb-row { display: flex; flex-direction: row; flex-wrap: wrap; width: 100% }\n",
              "    .wandb-col { display: flex; flex-direction: column; flex-basis: 100%; flex: 1; padding: 10px; }\n",
              "    </style>\n",
              "<div class=\"wandb-row\"><div class=\"wandb-col\">\n",
              "<h3>Run history:</h3><br/><table class=\"wandb\"><tr><td>acc</td><td>▁▃▅▇▇██▇▇▇</td></tr><tr><td>epochs</td><td>▁▂▃▃▄▅▆▆▇█</td></tr><tr><td>loss</td><td>▅█▂▂▄▁▁▃▄▁</td></tr></table><br/></div><div class=\"wandb-col\">\n",
              "<h3>Run summary:</h3><br/><table class=\"wandb\"><tr><td>acc</td><td>0.91934</td></tr><tr><td>epochs</td><td>11</td></tr><tr><td>loss</td><td>0.27762</td></tr></table>\n",
              "</div></div>\n",
              "Synced 5 W&B file(s), 0 media file(s), 0 artifact file(s) and 0 other file(s)\n",
              "<br/>Synced <strong style=\"color:#cdcd00\">different-sweep-11</strong>: <a href=\"https://wandb.ai/ma_heravi/pytorch-sweeps-PesianMnist/runs/o2ecpjwj\" target=\"_blank\">https://wandb.ai/ma_heravi/pytorch-sweeps-PesianMnist/runs/o2ecpjwj</a><br/>\n",
              "Find logs at: <code>./wandb/run-20220114_162540-o2ecpjwj/logs</code><br/>\n"
            ],
            "text/plain": [
              "<IPython.core.display.HTML object>"
            ]
          },
          "metadata": {}
        }
      ]
    },
    {
      "cell_type": "code",
      "source": [
        "torch.save(models.state_dict(), \"PersianMnistSweepTL.pth\")"
      ],
      "metadata": {
        "id": "NOtRhg6vWkWx"
      },
      "execution_count": null,
      "outputs": []
    }
  ]
}