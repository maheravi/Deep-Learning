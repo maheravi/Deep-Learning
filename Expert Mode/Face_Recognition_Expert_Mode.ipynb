{
  "nbformat": 4,
  "nbformat_minor": 0,
  "metadata": {
    "colab": {
      "name": "Face_Recognition_Expert_Mode.ipynb",
      "provenance": [],
      "mount_file_id": "1JftROFTya-CjICcHgx7_iiFfWqvIDLu-",
      "authorship_tag": "ABX9TyO4kwQ+0DgeGsXktI1YzVmu",
      "include_colab_link": true
    },
    "kernelspec": {
      "name": "python3",
      "display_name": "Python 3"
    },
    "language_info": {
      "name": "python"
    }
  },
  "cells": [
    {
      "cell_type": "markdown",
      "metadata": {
        "id": "view-in-github",
        "colab_type": "text"
      },
      "source": [
        "<a href=\"https://colab.research.google.com/github/maheravi/Deep-Learning/blob/main/Expert%20Mode/Face_Recognition_Expert_Mode.ipynb\" target=\"_parent\"><img src=\"https://colab.research.google.com/assets/colab-badge.svg\" alt=\"Open In Colab\"/></a>"
      ]
    },
    {
      "cell_type": "code",
      "metadata": {
        "id": "VWQD1JlOHnMr"
      },
      "source": [
        "import tensorflow as tf\n",
        "from tensorflow.keras.layers import Dense,Flatten,Conv2D,MaxPooling2D\n",
        "from tensorflow.keras.preprocessing.image import ImageDataGenerator\n",
        "import matplotlib.pyplot as plt"
      ],
      "execution_count": 1,
      "outputs": []
    },
    {
      "cell_type": "code",
      "metadata": {
        "colab": {
          "base_uri": "https://localhost:8080/"
        },
        "id": "8kkN49D6HpbU",
        "outputId": "9bb3e25b-e9ca-4573-81a4-b4c4a733b462"
      },
      "source": [
        "print(tf.__version__)"
      ],
      "execution_count": 2,
      "outputs": [
        {
          "output_type": "stream",
          "name": "stdout",
          "text": [
            "2.6.0\n"
          ]
        }
      ]
    },
    {
      "cell_type": "markdown",
      "metadata": {
        "id": "PD_OHkafH_gc"
      },
      "source": [
        "# Preparing Dataset\n",
        "  "
      ]
    },
    {
      "cell_type": "code",
      "metadata": {
        "id": "iGti9kAEH3Eb"
      },
      "source": [
        "dataset_path = '/content/drive/MyDrive/7-7 dataset'"
      ],
      "execution_count": 3,
      "outputs": []
    },
    {
      "cell_type": "code",
      "metadata": {
        "id": "PEcH4m4NIUXj"
      },
      "source": [
        "data_generation = ImageDataGenerator(rescale = 1./255,\n",
        "                                     validation_split= 0.2,\n",
        "                                    fill_mode = 'nearst')\n",
        "\n",
        "width = height = 178\n",
        "batch_size = 32"
      ],
      "execution_count": 4,
      "outputs": []
    },
    {
      "cell_type": "code",
      "metadata": {
        "colab": {
          "base_uri": "https://localhost:8080/"
        },
        "id": "6YRsolZxQ6kd",
        "outputId": "eab8779b-fc17-446c-b0f3-00cccc184905"
      },
      "source": [
        "train_data = data_generation.flow_from_directory(\n",
        "    dataset_path,\n",
        "    target_size = (width,height),\n",
        "    class_mode = 'categorical',\n",
        "    batch_size = batch_size,\n",
        "    shuffle = True,\n",
        "    subset= 'training'\n",
        ")\n",
        "\n",
        "val_data = data_generation.flow_from_directory(\n",
        "    dataset_path,\n",
        "    target_size = (width,height),\n",
        "    class_mode = 'categorical',\n",
        "    batch_size = batch_size,\n",
        "    shuffle = False,\n",
        "    subset= 'validation'\n",
        ")"
      ],
      "execution_count": 5,
      "outputs": [
        {
          "output_type": "stream",
          "name": "stdout",
          "text": [
            "Found 1091 images belonging to 14 classes.\n",
            "Found 268 images belonging to 14 classes.\n"
          ]
        }
      ]
    },
    {
      "cell_type": "markdown",
      "metadata": {
        "id": "tKhJheizJATJ"
      },
      "source": [
        "# Define Model"
      ]
    },
    {
      "cell_type": "code",
      "metadata": {
        "id": "e1eTIT52I-3D"
      },
      "source": [
        "class MyModel(tf.keras.Model):\n",
        "\n",
        "  def __init__(self,number_of_classes):\n",
        "    super().__init__()\n",
        "    self.conv1=Conv2D(32,(3,3),activation='relu', input_shape = (width ,height ,3))\n",
        "    self.conv2=Conv2D(64,(3,3),activation='relu',)\n",
        "    self.max1  = MaxPooling2D((2,2))\n",
        "    self.conv3=Conv2D(128,(3,3),activation='relu')\n",
        "\n",
        "    self.flatten=Flatten()\n",
        "    self.fc1=Dense(128,activation='relu')\n",
        "    self.fc2=Dense(number_of_classes, activation='sigmoid')\n",
        "\n",
        "  def call(self,x):\n",
        "\n",
        "    y = self.conv1(x)\n",
        "\n",
        "    v = self.conv2(y)\n",
        "\n",
        "    m = self.max1(v)\n",
        "\n",
        "    p = self.conv3(m)\n",
        "\n",
        "    w = self.flatten(p)\n",
        "\n",
        "    z = self.fc1(w)\n",
        "\n",
        "    output = self.fc2(z)\n",
        "     \n",
        "    return output\n",
        "  \n",
        "model = MyModel(14)"
      ],
      "execution_count": 65,
      "outputs": []
    },
    {
      "cell_type": "code",
      "metadata": {
        "id": "rn-7_RfRKWzM"
      },
      "source": [
        "loss_function = tf.keras.losses.CategoricalCrossentropy(from_logits=True)\n",
        "\n",
        "optimizer = tf.keras.optimizers.Adam()"
      ],
      "execution_count": 66,
      "outputs": []
    },
    {
      "cell_type": "code",
      "metadata": {
        "id": "44I3DgfrKpnT"
      },
      "source": [
        "train_loss = tf.keras.metrics.Mean(name = 'train_loss')\n",
        "train_acc = tf.keras.metrics.CategoricalAccuracy(name = 'train_loss')\n",
        "\n",
        "test_loss = tf.keras.metrics.Mean(name = 'test_loss')\n",
        "test_acc = tf.keras.metrics.CategoricalAccuracy(name = 'test_loss')"
      ],
      "execution_count": 67,
      "outputs": []
    },
    {
      "cell_type": "code",
      "metadata": {
        "id": "TyX23lRTK9bD"
      },
      "source": [
        "def train_step(images, y):\n",
        "  with tf.GradientTape() as tape:\n",
        "    y_pred = model(images, training=True)\n",
        "    loss = loss_function(y, y_pred)\n",
        "\n",
        "  gradients = tape.gradient(loss, model.trainable_variables)\n",
        "\n",
        "  optimizer.apply_gradients(zip(gradients, model.trainable_variables))\n",
        "\n",
        "  train_loss(loss)\n",
        "  train_acc(y,y_pred)"
      ],
      "execution_count": 68,
      "outputs": []
    },
    {
      "cell_type": "code",
      "metadata": {
        "id": "hbOvMm3RLrEc"
      },
      "source": [
        "def test_step(images, y):\n",
        "  y_pred = model(images, training=False)\n",
        "  loss = loss_function(y, y_pred)\n",
        "\n",
        "  test_loss(loss)\n",
        "  test_acc(y, y_pred)"
      ],
      "execution_count": 69,
      "outputs": []
    },
    {
      "cell_type": "code",
      "metadata": {
        "id": "UJ6ZGVWsMGKT"
      },
      "source": [
        "from tqdm import tqdm"
      ],
      "execution_count": 70,
      "outputs": []
    },
    {
      "cell_type": "code",
      "metadata": {
        "id": "jWPT1BZDMK8K"
      },
      "source": [
        "def train():\n",
        "    epochs = 30\n",
        "    c1 = 0\n",
        "    c2 = 0\n",
        "    for epoch  in range(epochs):\n",
        "        train_loss.reset_state()\n",
        "        train_acc.reset_state()\n",
        "\n",
        "        test_loss.reset_state()\n",
        "        test_acc.reset_state()\n",
        "        \n",
        "        for images,labels in train_data:\n",
        "            train_step(images, labels)\n",
        "            c1 += 1\n",
        "            if c1 > 39:\n",
        "                break\n",
        "\n",
        "        for images,labels in val_data:\n",
        "            test_step(images, labels) \n",
        "            c2 += 1\n",
        "            if c2 > 39:\n",
        "                break\n",
        "\n",
        "        print('epoch:', epoch + 1)\n",
        "        print('loss:', train_loss.result())\n",
        "        print('accuracy:', train_acc.result())\n",
        "        print('val loss:', test_loss.result())\n",
        "        print('val accuracy:', test_acc.result())"
      ],
      "execution_count": 71,
      "outputs": []
    },
    {
      "cell_type": "markdown",
      "metadata": {
        "id": "RvyzKI7sNUZC"
      },
      "source": [
        "# Fit"
      ]
    },
    {
      "cell_type": "code",
      "metadata": {
        "colab": {
          "base_uri": "https://localhost:8080/"
        },
        "id": "xpvJPZisNTmo",
        "outputId": "5656be58-5fe4-4319-984f-d8ef7d0d9702"
      },
      "source": [
        "train()"
      ],
      "execution_count": 72,
      "outputs": [
        {
          "output_type": "stream",
          "name": "stderr",
          "text": [
            "/usr/local/lib/python3.7/dist-packages/keras/backend.py:4847: UserWarning: \"`categorical_crossentropy` received `from_logits=True`, but the `output` argument was produced by a sigmoid or softmax activation and thus does not represent logits. Was this intended?\"\n",
            "  '\"`categorical_crossentropy` received `from_logits=True`, but '\n"
          ]
        },
        {
          "output_type": "stream",
          "name": "stdout",
          "text": [
            "epoch: 1\n",
            "loss: tf.Tensor(4.5147777, shape=(), dtype=float32)\n",
            "accuracy: tf.Tensor(0.2693845, shape=(), dtype=float32)\n",
            "val loss: tf.Tensor(1.6529385, shape=(), dtype=float32)\n",
            "val accuracy: tf.Tensor(0.45083332, shape=(), dtype=float32)\n",
            "epoch: 2\n",
            "loss: tf.Tensor(1.4856656, shape=(), dtype=float32)\n",
            "accuracy: tf.Tensor(0.53125, shape=(), dtype=float32)\n",
            "val loss: tf.Tensor(1.476138, shape=(), dtype=float32)\n",
            "val accuracy: tf.Tensor(0.5833333, shape=(), dtype=float32)\n",
            "epoch: 3\n",
            "loss: tf.Tensor(1.4266913, shape=(), dtype=float32)\n",
            "accuracy: tf.Tensor(0.5625, shape=(), dtype=float32)\n",
            "val loss: tf.Tensor(1.0190156, shape=(), dtype=float32)\n",
            "val accuracy: tf.Tensor(0.625, shape=(), dtype=float32)\n",
            "epoch: 4\n",
            "loss: tf.Tensor(1.1716357, shape=(), dtype=float32)\n",
            "accuracy: tf.Tensor(0.59375, shape=(), dtype=float32)\n",
            "val loss: tf.Tensor(1.532099, shape=(), dtype=float32)\n",
            "val accuracy: tf.Tensor(0.40625, shape=(), dtype=float32)\n",
            "epoch: 5\n",
            "loss: tf.Tensor(1.5637476, shape=(), dtype=float32)\n",
            "accuracy: tf.Tensor(0.5625, shape=(), dtype=float32)\n",
            "val loss: tf.Tensor(0.6294211, shape=(), dtype=float32)\n",
            "val accuracy: tf.Tensor(0.78125, shape=(), dtype=float32)\n",
            "epoch: 6\n",
            "loss: tf.Tensor(1.6117346, shape=(), dtype=float32)\n",
            "accuracy: tf.Tensor(0.53125, shape=(), dtype=float32)\n",
            "val loss: tf.Tensor(1.4144554, shape=(), dtype=float32)\n",
            "val accuracy: tf.Tensor(0.53125, shape=(), dtype=float32)\n",
            "epoch: 7\n",
            "loss: tf.Tensor(1.1612659, shape=(), dtype=float32)\n",
            "accuracy: tf.Tensor(0.6875, shape=(), dtype=float32)\n",
            "val loss: tf.Tensor(1.6679132, shape=(), dtype=float32)\n",
            "val accuracy: tf.Tensor(0.40625, shape=(), dtype=float32)\n",
            "epoch: 8\n",
            "loss: tf.Tensor(1.0307944, shape=(), dtype=float32)\n",
            "accuracy: tf.Tensor(0.71875, shape=(), dtype=float32)\n",
            "val loss: tf.Tensor(1.3478248, shape=(), dtype=float32)\n",
            "val accuracy: tf.Tensor(0.59375, shape=(), dtype=float32)\n",
            "epoch: 9\n",
            "loss: tf.Tensor(1.1082821, shape=(), dtype=float32)\n",
            "accuracy: tf.Tensor(0.6666667, shape=(), dtype=float32)\n",
            "val loss: tf.Tensor(2.6438472, shape=(), dtype=float32)\n",
            "val accuracy: tf.Tensor(0.3125, shape=(), dtype=float32)\n",
            "epoch: 10\n",
            "loss: tf.Tensor(1.627748, shape=(), dtype=float32)\n",
            "accuracy: tf.Tensor(0.46875, shape=(), dtype=float32)\n",
            "val loss: tf.Tensor(1.3537288, shape=(), dtype=float32)\n",
            "val accuracy: tf.Tensor(0.59375, shape=(), dtype=float32)\n",
            "epoch: 11\n",
            "loss: tf.Tensor(1.3311276, shape=(), dtype=float32)\n",
            "accuracy: tf.Tensor(0.59375, shape=(), dtype=float32)\n",
            "val loss: tf.Tensor(1.9481417, shape=(), dtype=float32)\n",
            "val accuracy: tf.Tensor(0.25, shape=(), dtype=float32)\n",
            "epoch: 12\n",
            "loss: tf.Tensor(1.163912, shape=(), dtype=float32)\n",
            "accuracy: tf.Tensor(0.59375, shape=(), dtype=float32)\n",
            "val loss: tf.Tensor(1.4497418, shape=(), dtype=float32)\n",
            "val accuracy: tf.Tensor(0.53125, shape=(), dtype=float32)\n",
            "epoch: 13\n",
            "loss: tf.Tensor(0.7361636, shape=(), dtype=float32)\n",
            "accuracy: tf.Tensor(0.75, shape=(), dtype=float32)\n",
            "val loss: tf.Tensor(0.99324346, shape=(), dtype=float32)\n",
            "val accuracy: tf.Tensor(0.71875, shape=(), dtype=float32)\n",
            "epoch: 14\n",
            "loss: tf.Tensor(1.1325673, shape=(), dtype=float32)\n",
            "accuracy: tf.Tensor(0.75, shape=(), dtype=float32)\n",
            "val loss: tf.Tensor(0.8372951, shape=(), dtype=float32)\n",
            "val accuracy: tf.Tensor(0.75, shape=(), dtype=float32)\n",
            "epoch: 15\n",
            "loss: tf.Tensor(0.7814374, shape=(), dtype=float32)\n",
            "accuracy: tf.Tensor(0.75, shape=(), dtype=float32)\n",
            "val loss: tf.Tensor(1.3785632, shape=(), dtype=float32)\n",
            "val accuracy: tf.Tensor(0.53125, shape=(), dtype=float32)\n",
            "epoch: 16\n",
            "loss: tf.Tensor(0.8477056, shape=(), dtype=float32)\n",
            "accuracy: tf.Tensor(0.6875, shape=(), dtype=float32)\n",
            "val loss: tf.Tensor(1.3440924, shape=(), dtype=float32)\n",
            "val accuracy: tf.Tensor(0.6875, shape=(), dtype=float32)\n",
            "epoch: 17\n",
            "loss: tf.Tensor(0.7143347, shape=(), dtype=float32)\n",
            "accuracy: tf.Tensor(0.65625, shape=(), dtype=float32)\n",
            "val loss: tf.Tensor(1.2177924, shape=(), dtype=float32)\n",
            "val accuracy: tf.Tensor(0.5625, shape=(), dtype=float32)\n",
            "epoch: 18\n",
            "loss: tf.Tensor(0.6450026, shape=(), dtype=float32)\n",
            "accuracy: tf.Tensor(0.8125, shape=(), dtype=float32)\n",
            "val loss: tf.Tensor(0.9063015, shape=(), dtype=float32)\n",
            "val accuracy: tf.Tensor(0.65625, shape=(), dtype=float32)\n",
            "epoch: 19\n",
            "loss: tf.Tensor(1.2892492, shape=(), dtype=float32)\n",
            "accuracy: tf.Tensor(0.5625, shape=(), dtype=float32)\n",
            "val loss: tf.Tensor(1.3743525, shape=(), dtype=float32)\n",
            "val accuracy: tf.Tensor(0.53125, shape=(), dtype=float32)\n",
            "epoch: 20\n",
            "loss: tf.Tensor(0.8360856, shape=(), dtype=float32)\n",
            "accuracy: tf.Tensor(0.71875, shape=(), dtype=float32)\n",
            "val loss: tf.Tensor(2.6263208, shape=(), dtype=float32)\n",
            "val accuracy: tf.Tensor(0.16666667, shape=(), dtype=float32)\n",
            "epoch: 21\n",
            "loss: tf.Tensor(0.6267171, shape=(), dtype=float32)\n",
            "accuracy: tf.Tensor(0.8125, shape=(), dtype=float32)\n",
            "val loss: tf.Tensor(1.432025, shape=(), dtype=float32)\n",
            "val accuracy: tf.Tensor(0.625, shape=(), dtype=float32)\n",
            "epoch: 22\n",
            "loss: tf.Tensor(0.6126067, shape=(), dtype=float32)\n",
            "accuracy: tf.Tensor(0.8125, shape=(), dtype=float32)\n",
            "val loss: tf.Tensor(1.550416, shape=(), dtype=float32)\n",
            "val accuracy: tf.Tensor(0.59375, shape=(), dtype=float32)\n",
            "epoch: 23\n",
            "loss: tf.Tensor(0.756176, shape=(), dtype=float32)\n",
            "accuracy: tf.Tensor(0.71875, shape=(), dtype=float32)\n",
            "val loss: tf.Tensor(0.7928303, shape=(), dtype=float32)\n",
            "val accuracy: tf.Tensor(0.8125, shape=(), dtype=float32)\n",
            "epoch: 24\n",
            "loss: tf.Tensor(0.36548394, shape=(), dtype=float32)\n",
            "accuracy: tf.Tensor(0.90625, shape=(), dtype=float32)\n",
            "val loss: tf.Tensor(0.6832771, shape=(), dtype=float32)\n",
            "val accuracy: tf.Tensor(0.8125, shape=(), dtype=float32)\n",
            "epoch: 25\n",
            "loss: tf.Tensor(0.46059644, shape=(), dtype=float32)\n",
            "accuracy: tf.Tensor(0.875, shape=(), dtype=float32)\n",
            "val loss: tf.Tensor(1.7721683, shape=(), dtype=float32)\n",
            "val accuracy: tf.Tensor(0.59375, shape=(), dtype=float32)\n",
            "epoch: 26\n",
            "loss: tf.Tensor(0.61231685, shape=(), dtype=float32)\n",
            "accuracy: tf.Tensor(0.8125, shape=(), dtype=float32)\n",
            "val loss: tf.Tensor(1.0327076, shape=(), dtype=float32)\n",
            "val accuracy: tf.Tensor(0.6875, shape=(), dtype=float32)\n",
            "epoch: 27\n",
            "loss: tf.Tensor(0.4199431, shape=(), dtype=float32)\n",
            "accuracy: tf.Tensor(0.875, shape=(), dtype=float32)\n",
            "val loss: tf.Tensor(0.79375196, shape=(), dtype=float32)\n",
            "val accuracy: tf.Tensor(0.84375, shape=(), dtype=float32)\n",
            "epoch: 28\n",
            "loss: tf.Tensor(0.43837598, shape=(), dtype=float32)\n",
            "accuracy: tf.Tensor(0.90625, shape=(), dtype=float32)\n",
            "val loss: tf.Tensor(1.1191115, shape=(), dtype=float32)\n",
            "val accuracy: tf.Tensor(0.625, shape=(), dtype=float32)\n",
            "epoch: 29\n",
            "loss: tf.Tensor(0.5362505, shape=(), dtype=float32)\n",
            "accuracy: tf.Tensor(0.84375, shape=(), dtype=float32)\n",
            "val loss: tf.Tensor(1.6797558, shape=(), dtype=float32)\n",
            "val accuracy: tf.Tensor(0.41666666, shape=(), dtype=float32)\n",
            "epoch: 30\n",
            "loss: tf.Tensor(0.5482291, shape=(), dtype=float32)\n",
            "accuracy: tf.Tensor(0.8125, shape=(), dtype=float32)\n",
            "val loss: tf.Tensor(0.61367023, shape=(), dtype=float32)\n",
            "val accuracy: tf.Tensor(0.78125, shape=(), dtype=float32)\n"
          ]
        }
      ]
    },
    {
      "cell_type": "code",
      "metadata": {
        "id": "f0JwyIIcNPxd"
      },
      "source": [
        ""
      ],
      "execution_count": null,
      "outputs": []
    }
  ]
}