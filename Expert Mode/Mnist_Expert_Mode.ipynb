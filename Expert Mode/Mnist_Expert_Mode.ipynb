{
  "nbformat": 4,
  "nbformat_minor": 0,
  "metadata": {
    "colab": {
      "name": "Mnist_Expert_Mode.ipynb",
      "provenance": [],
      "authorship_tag": "ABX9TyOxiunXar5Y1P3e2PMoCTLP",
      "include_colab_link": true
    },
    "kernelspec": {
      "name": "python3",
      "display_name": "Python 3"
    },
    "language_info": {
      "name": "python"
    }
  },
  "cells": [
    {
      "cell_type": "markdown",
      "metadata": {
        "id": "view-in-github",
        "colab_type": "text"
      },
      "source": [
        "<a href=\"https://colab.research.google.com/github/maheravi/Deep-Learning/blob/main/Expert%20Mode/Mnist_Expert_Mode.ipynb\" target=\"_parent\"><img src=\"https://colab.research.google.com/assets/colab-badge.svg\" alt=\"Open In Colab\"/></a>"
      ]
    },
    {
      "cell_type": "code",
      "metadata": {
        "id": "VWQD1JlOHnMr"
      },
      "source": [
        "import tensorflow as tf\n",
        "from tensorflow.keras.layers import Dense, Flatten, Conv2D"
      ],
      "execution_count": 2,
      "outputs": []
    },
    {
      "cell_type": "code",
      "metadata": {
        "colab": {
          "base_uri": "https://localhost:8080/"
        },
        "id": "8kkN49D6HpbU",
        "outputId": "d1f1babb-4775-45b5-9652-fe61d936262e"
      },
      "source": [
        "print(tf.__version__)"
      ],
      "execution_count": 5,
      "outputs": [
        {
          "output_type": "stream",
          "name": "stdout",
          "text": [
            "2.6.0\n"
          ]
        }
      ]
    },
    {
      "cell_type": "markdown",
      "metadata": {
        "id": "PD_OHkafH_gc"
      },
      "source": [
        "# Preparing Dataset\n",
        "  "
      ]
    },
    {
      "cell_type": "code",
      "metadata": {
        "colab": {
          "base_uri": "https://localhost:8080/"
        },
        "id": "iGti9kAEH3Eb",
        "outputId": "ca9f4753-d7f4-46c0-a50e-05589e1160d2"
      },
      "source": [
        "mnist = tf.keras.datasets.mnist\n",
        "\n",
        "(x_train, y_train), (x_test, y_test) = mnist.load_data()\n",
        "x_train = x_train/255.0\n",
        "x_test = x_test/255.0"
      ],
      "execution_count": 7,
      "outputs": [
        {
          "output_type": "stream",
          "name": "stdout",
          "text": [
            "Downloading data from https://storage.googleapis.com/tensorflow/tf-keras-datasets/mnist.npz\n",
            "11493376/11490434 [==============================] - 0s 0us/step\n",
            "11501568/11490434 [==============================] - 0s 0us/step\n"
          ]
        }
      ]
    },
    {
      "cell_type": "code",
      "metadata": {
        "colab": {
          "base_uri": "https://localhost:8080/"
        },
        "id": "PEcH4m4NIUXj",
        "outputId": "08624520-0e3a-4554-a5de-2dd361f3aa1f"
      },
      "source": [
        " x_train.shape"
      ],
      "execution_count": 9,
      "outputs": [
        {
          "output_type": "execute_result",
          "data": {
            "text/plain": [
              "(60000, 28, 28)"
            ]
          },
          "metadata": {},
          "execution_count": 9
        }
      ]
    },
    {
      "cell_type": "code",
      "metadata": {
        "id": "s1NNbf3sIZPb"
      },
      "source": [
        "x_train = x_train[...,tf.newaxis].astype('float32')\n",
        "x_test = x_test[...,tf.newaxis].astype('float32')"
      ],
      "execution_count": 10,
      "outputs": []
    },
    {
      "cell_type": "code",
      "metadata": {
        "colab": {
          "base_uri": "https://localhost:8080/"
        },
        "id": "kNEsJagsIo_j",
        "outputId": "7717be1c-88df-4c73-b7f0-b1df8bf254f4"
      },
      "source": [
        "x_train.shape"
      ],
      "execution_count": 11,
      "outputs": [
        {
          "output_type": "execute_result",
          "data": {
            "text/plain": [
              "(60000, 28, 28, 1)"
            ]
          },
          "metadata": {},
          "execution_count": 11
        }
      ]
    },
    {
      "cell_type": "code",
      "metadata": {
        "id": "pwD2oiY9Iqyy"
      },
      "source": [
        "train_data = tf.data.Dataset.from_tensor_slices((x_train, y_train)).shuffle(10000).batch(32)\n",
        "test_data = tf.data.Dataset.from_tensor_slices((x_train, y_train)).batch(32)"
      ],
      "execution_count": 12,
      "outputs": []
    },
    {
      "cell_type": "markdown",
      "metadata": {
        "id": "tKhJheizJATJ"
      },
      "source": [
        "# Define Model"
      ]
    },
    {
      "cell_type": "code",
      "metadata": {
        "id": "e1eTIT52I-3D"
      },
      "source": [
        "class MyModel(tf.keras.Model):\n",
        "\n",
        "  def __init__(self,number_of_classes):\n",
        "    super().__init__()\n",
        "    self.conv1=Conv2D(32,(3,3),activation='relu')\n",
        "    self.flatten=Flatten()\n",
        "    self.fc1=Dense(128,activation='relu')\n",
        "    self.fc2=Dense(number_of_classes, activation='softmax')\n",
        "\n",
        "  def call(self,x):\n",
        "\n",
        "    y = self.conv1(x)\n",
        "\n",
        "    w = self.flatten(y)\n",
        "\n",
        "    z = self.fc1(w)\n",
        "\n",
        "    output = self.fc2(z)\n",
        "     \n",
        "    return output\n",
        "  \n",
        "model = MyModel(10)"
      ],
      "execution_count": 15,
      "outputs": []
    },
    {
      "cell_type": "code",
      "metadata": {
        "id": "rn-7_RfRKWzM"
      },
      "source": [
        " loss_function = tf.keras.losses.SparseCategoricalCrossentropy(from_logits=True)\n",
        "\n",
        " optimizer = tf.keras.optimizers.Adam()"
      ],
      "execution_count": 16,
      "outputs": []
    },
    {
      "cell_type": "code",
      "metadata": {
        "id": "44I3DgfrKpnT"
      },
      "source": [
        "train_loss = tf.keras.metrics.Mean(name = 'train_loss')\n",
        "train_acc = tf.keras.metrics.SparseCategoricalAccuracy(name = 'train_loss')\n",
        "\n",
        "test_loss = tf.keras.metrics.Mean(name = 'test_loss')\n",
        "test_acc = tf.keras.metrics.SparseCategoricalAccuracy(name = 'test_loss')"
      ],
      "execution_count": 18,
      "outputs": []
    },
    {
      "cell_type": "code",
      "metadata": {
        "id": "TyX23lRTK9bD"
      },
      "source": [
        "def train_step(images, y):\n",
        "  with tf.GradientTape() as tape:\n",
        "    y_pred = model(images, training=True)\n",
        "    loss = loss_function(y, y_pred)\n",
        "\n",
        "  gradients = tape.gradient(loss, model.trainable_variables)\n",
        "\n",
        "  optimizer.apply_gradients(zip(gradients, model.trainable_variables))\n",
        "\n",
        "  train_loss(loss)\n",
        "  train_acc(y,y_pred)"
      ],
      "execution_count": 30,
      "outputs": []
    },
    {
      "cell_type": "code",
      "metadata": {
        "id": "hbOvMm3RLrEc"
      },
      "source": [
        "def test_step(images, y):\n",
        "  y_pred = model(images, training=False)\n",
        "  loss = loss_function(y, y_pred)\n",
        "\n",
        "  test_loss(loss)\n",
        "  test_acc(y, y_pred)"
      ],
      "execution_count": 31,
      "outputs": []
    },
    {
      "cell_type": "code",
      "metadata": {
        "id": "UJ6ZGVWsMGKT"
      },
      "source": [
        "from tqdm import tqdm"
      ],
      "execution_count": 32,
      "outputs": []
    },
    {
      "cell_type": "code",
      "metadata": {
        "id": "jWPT1BZDMK8K"
      },
      "source": [
        "def train():\n",
        "  epochs = 5\n",
        "\n",
        "  for epoch in range(epochs):\n",
        "    train_loss.reset_states()\n",
        "    train_acc.reset_states()\n",
        "    test_loss.reset_states()\n",
        "    test_acc.reset_states()\n",
        "\n",
        "    for images, labels in tqdm(train_data):\n",
        "      train_step(images, labels)\n",
        "\n",
        "    for images, labels in tqdm(test_data):\n",
        "      test_step(images, labels)\n",
        "\n",
        "    print('epoch:', epoch + 1)\n",
        "    print('loss:', train_loss.result())\n",
        "    print('accuracy:', train_acc.result())\n",
        "    print('val loss:', test_loss.result())\n",
        "    print('val accuracy:', test_acc.result())"
      ],
      "execution_count": 33,
      "outputs": []
    },
    {
      "cell_type": "markdown",
      "metadata": {
        "id": "RvyzKI7sNUZC"
      },
      "source": [
        "# Fit"
      ]
    },
    {
      "cell_type": "code",
      "metadata": {
        "colab": {
          "base_uri": "https://localhost:8080/"
        },
        "id": "xpvJPZisNTmo",
        "outputId": "725b0544-1fd7-415d-bdd6-5bc5667a2123"
      },
      "source": [
        "train()"
      ],
      "execution_count": 34,
      "outputs": [
        {
          "output_type": "stream",
          "name": "stderr",
          "text": [
            "  0%|          | 0/1875 [00:00<?, ?it/s]/usr/local/lib/python3.7/dist-packages/keras/backend.py:4907: UserWarning: \"`sparse_categorical_crossentropy` received `from_logits=True`, but the `output` argument was produced by a sigmoid or softmax activation and thus does not represent logits. Was this intended?\"\n",
            "  '\"`sparse_categorical_crossentropy` received `from_logits=True`, but '\n",
            "100%|██████████| 1875/1875 [01:22<00:00, 22.84it/s]\n",
            "100%|██████████| 1875/1875 [00:41<00:00, 45.59it/s]\n"
          ]
        },
        {
          "output_type": "stream",
          "name": "stdout",
          "text": [
            "epoch: 1\n",
            "loss: tf.Tensor(0.13839418, shape=(), dtype=float32)\n",
            "accuracy: tf.Tensor(0.9579833, shape=(), dtype=float32)\n",
            "val loss: tf.Tensor(0.051397692, shape=(), dtype=float32)\n",
            "val accuracy: tf.Tensor(0.9848667, shape=(), dtype=float32)\n"
          ]
        },
        {
          "output_type": "stream",
          "name": "stderr",
          "text": [
            "100%|██████████| 1875/1875 [01:20<00:00, 23.28it/s]\n",
            "100%|██████████| 1875/1875 [00:23<00:00, 80.32it/s]\n"
          ]
        },
        {
          "output_type": "stream",
          "name": "stdout",
          "text": [
            "epoch: 2\n",
            "loss: tf.Tensor(0.044776816, shape=(), dtype=float32)\n",
            "accuracy: tf.Tensor(0.98628336, shape=(), dtype=float32)\n",
            "val loss: tf.Tensor(0.03450815, shape=(), dtype=float32)\n",
            "val accuracy: tf.Tensor(0.98915, shape=(), dtype=float32)\n"
          ]
        },
        {
          "output_type": "stream",
          "name": "stderr",
          "text": [
            "100%|██████████| 1875/1875 [01:20<00:00, 23.33it/s]\n",
            "100%|██████████| 1875/1875 [00:41<00:00, 45.67it/s]\n"
          ]
        },
        {
          "output_type": "stream",
          "name": "stdout",
          "text": [
            "epoch: 3\n",
            "loss: tf.Tensor(0.024143366, shape=(), dtype=float32)\n",
            "accuracy: tf.Tensor(0.99226665, shape=(), dtype=float32)\n",
            "val loss: tf.Tensor(0.013415097, shape=(), dtype=float32)\n",
            "val accuracy: tf.Tensor(0.99558336, shape=(), dtype=float32)\n"
          ]
        },
        {
          "output_type": "stream",
          "name": "stderr",
          "text": [
            "100%|██████████| 1875/1875 [01:19<00:00, 23.48it/s]\n",
            "100%|██████████| 1875/1875 [00:23<00:00, 80.35it/s]\n"
          ]
        },
        {
          "output_type": "stream",
          "name": "stdout",
          "text": [
            "epoch: 4\n",
            "loss: tf.Tensor(0.014977431, shape=(), dtype=float32)\n",
            "accuracy: tf.Tensor(0.99506664, shape=(), dtype=float32)\n",
            "val loss: tf.Tensor(0.00744355, shape=(), dtype=float32)\n",
            "val accuracy: tf.Tensor(0.9975833, shape=(), dtype=float32)\n"
          ]
        },
        {
          "output_type": "stream",
          "name": "stderr",
          "text": [
            "100%|██████████| 1875/1875 [01:20<00:00, 23.24it/s]\n",
            "100%|██████████| 1875/1875 [00:23<00:00, 81.26it/s]"
          ]
        },
        {
          "output_type": "stream",
          "name": "stdout",
          "text": [
            "epoch: 5\n",
            "loss: tf.Tensor(0.010906981, shape=(), dtype=float32)\n",
            "accuracy: tf.Tensor(0.99635, shape=(), dtype=float32)\n",
            "val loss: tf.Tensor(0.0036947704, shape=(), dtype=float32)\n",
            "val accuracy: tf.Tensor(0.99876666, shape=(), dtype=float32)\n"
          ]
        },
        {
          "output_type": "stream",
          "name": "stderr",
          "text": [
            "\n"
          ]
        }
      ]
    },
    {
      "cell_type": "code",
      "metadata": {
        "id": "f0JwyIIcNPxd"
      },
      "source": [
        ""
      ],
      "execution_count": null,
      "outputs": []
    }
  ]
}