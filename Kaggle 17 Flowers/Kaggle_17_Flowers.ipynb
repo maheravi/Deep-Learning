{
  "nbformat": 4,
  "nbformat_minor": 0,
  "metadata": {
    "colab": {
      "name": "Kaggle 17 Flowers.ipynb",
      "provenance": [],
      "mount_file_id": "1sSdnCJFV9jNIPytkxrbm_xLlLvt4l8nR",
      "authorship_tag": "ABX9TyP/1uEKy7fRw3AkEZW/RwFy",
      "include_colab_link": true
    },
    "kernelspec": {
      "name": "python3",
      "display_name": "Python 3"
    },
    "language_info": {
      "name": "python"
    },
    "accelerator": "GPU"
  },
  "cells": [
    {
      "cell_type": "markdown",
      "metadata": {
        "id": "view-in-github",
        "colab_type": "text"
      },
      "source": [
        "<a href=\"https://colab.research.google.com/github/maheravi/Deep-Learning/blob/main/Kaggle%2017%20Flowers/Kaggle_17_Flowers.ipynb\" target=\"_parent\"><img src=\"https://colab.research.google.com/assets/colab-badge.svg\" alt=\"Open In Colab\"/></a>"
      ]
    },
    {
      "cell_type": "code",
      "metadata": {
        "id": "39VCmxUayShx"
      },
      "source": [
        "import tensorflow as tf\n",
        "from tensorflow.keras import layers,optimizers, losses\n",
        "from tensorflow.keras.preprocessing.image import ImageDataGenerator\n",
        "from matplotlib import pyplot as plt\n",
        "import numpy as np\n",
        "import os\n",
        "import datetime"
      ],
      "execution_count": 2,
      "outputs": []
    },
    {
      "cell_type": "code",
      "metadata": {
        "colab": {
          "base_uri": "https://localhost:8080/"
        },
        "id": "6XU_2WkHzLuX",
        "outputId": "e365c957-7907-4266-8a09-3fc8707beb79"
      },
      "source": [
        "from google.colab import drive\n",
        "drive.mount('/content/drive')"
      ],
      "execution_count": 3,
      "outputs": [
        {
          "output_type": "stream",
          "name": "stdout",
          "text": [
            "Drive already mounted at /content/drive; to attempt to forcibly remount, call drive.mount(\"/content/drive\", force_remount=True).\n"
          ]
        }
      ]
    },
    {
      "cell_type": "code",
      "metadata": {
        "id": "5CzoHVAxzboe"
      },
      "source": [
        "dataset_path = '/content/drive/MyDrive/Flowers'\n",
        "width = height = 224\n",
        "batch_size = 32\n",
        "data_generator = ImageDataGenerator(\n",
        "    rescale=1./255,\n",
        "    horizontal_flip = True,\n",
        "    rotation_range = 20,\n",
        "    zoom_range = 0.1,\n",
        "    validation_split = 0.2\n",
        ")"
      ],
      "execution_count": 4,
      "outputs": []
    },
    {
      "cell_type": "code",
      "metadata": {
        "colab": {
          "base_uri": "https://localhost:8080/"
        },
        "id": "tn2VLAhxzhKX",
        "outputId": "2c0ee492-dc4c-4ded-c81f-ace81e888d02"
      },
      "source": [
        "train_data = data_generator.flow_from_directory(\n",
        "    os.path.join(dataset_path,'Train'),\n",
        "    target_size = (width,height),\n",
        "    class_mode = 'categorical',\n",
        "    batch_size = batch_size,\n",
        "    shuffle = True,\n",
        "    subset= 'training'\n",
        ")"
      ],
      "execution_count": 5,
      "outputs": [
        {
          "output_type": "stream",
          "name": "stdout",
          "text": [
            "Found 884 images belonging to 17 classes.\n"
          ]
        }
      ]
    },
    {
      "cell_type": "code",
      "metadata": {
        "colab": {
          "base_uri": "https://localhost:8080/"
        },
        "id": "1xwpj8yrzjS_",
        "outputId": "f493706d-57f6-4c9c-c6fe-3b7572e45b62"
      },
      "source": [
        "val_data = data_generator.flow_from_directory(\n",
        "    os.path.join(dataset_path,'Train'),\n",
        "    target_size = (width,height),\n",
        "    class_mode = 'categorical',\n",
        "    batch_size = batch_size,\n",
        "    shuffle = True,\n",
        "    subset= 'validation'\n",
        ")"
      ],
      "execution_count": 6,
      "outputs": [
        {
          "output_type": "stream",
          "name": "stdout",
          "text": [
            "Found 204 images belonging to 17 classes.\n"
          ]
        }
      ]
    },
    {
      "cell_type": "code",
      "metadata": {
        "colab": {
          "base_uri": "https://localhost:8080/"
        },
        "id": "zx1iwBdYzqeG",
        "outputId": "83ae14e8-c36c-4bcb-f524-ad456c95fb1a"
      },
      "source": [
        "base_model = tf.keras.applications.VGG16(\n",
        "    input_shape = (width,height,3),\n",
        "    include_top = False,\n",
        "    weights = 'imagenet',\n",
        ")"
      ],
      "execution_count": 7,
      "outputs": [
        {
          "output_type": "stream",
          "name": "stdout",
          "text": [
            "Downloading data from https://storage.googleapis.com/tensorflow/keras-applications/vgg16/vgg16_weights_tf_dim_ordering_tf_kernels_notop.h5\n",
            "58892288/58889256 [==============================] - 1s 0us/step\n",
            "58900480/58889256 [==============================] - 1s 0us/step\n"
          ]
        }
      ]
    },
    {
      "cell_type": "code",
      "metadata": {
        "id": "gSRdDtFlzr9-"
      },
      "source": [
        "for layer in base_model.layers:\n",
        "  layer.trainable = False"
      ],
      "execution_count": 8,
      "outputs": []
    },
    {
      "cell_type": "code",
      "metadata": {
        "colab": {
          "base_uri": "https://localhost:8080/"
        },
        "id": "2hoGITHizv1-",
        "outputId": "ba45ee40-4715-46b4-a565-b1d4ba0a3486"
      },
      "source": [
        "base_model.summary()"
      ],
      "execution_count": 9,
      "outputs": [
        {
          "output_type": "stream",
          "name": "stdout",
          "text": [
            "Model: \"vgg16\"\n",
            "_________________________________________________________________\n",
            "Layer (type)                 Output Shape              Param #   \n",
            "=================================================================\n",
            "input_1 (InputLayer)         [(None, 224, 224, 3)]     0         \n",
            "_________________________________________________________________\n",
            "block1_conv1 (Conv2D)        (None, 224, 224, 64)      1792      \n",
            "_________________________________________________________________\n",
            "block1_conv2 (Conv2D)        (None, 224, 224, 64)      36928     \n",
            "_________________________________________________________________\n",
            "block1_pool (MaxPooling2D)   (None, 112, 112, 64)      0         \n",
            "_________________________________________________________________\n",
            "block2_conv1 (Conv2D)        (None, 112, 112, 128)     73856     \n",
            "_________________________________________________________________\n",
            "block2_conv2 (Conv2D)        (None, 112, 112, 128)     147584    \n",
            "_________________________________________________________________\n",
            "block2_pool (MaxPooling2D)   (None, 56, 56, 128)       0         \n",
            "_________________________________________________________________\n",
            "block3_conv1 (Conv2D)        (None, 56, 56, 256)       295168    \n",
            "_________________________________________________________________\n",
            "block3_conv2 (Conv2D)        (None, 56, 56, 256)       590080    \n",
            "_________________________________________________________________\n",
            "block3_conv3 (Conv2D)        (None, 56, 56, 256)       590080    \n",
            "_________________________________________________________________\n",
            "block3_pool (MaxPooling2D)   (None, 28, 28, 256)       0         \n",
            "_________________________________________________________________\n",
            "block4_conv1 (Conv2D)        (None, 28, 28, 512)       1180160   \n",
            "_________________________________________________________________\n",
            "block4_conv2 (Conv2D)        (None, 28, 28, 512)       2359808   \n",
            "_________________________________________________________________\n",
            "block4_conv3 (Conv2D)        (None, 28, 28, 512)       2359808   \n",
            "_________________________________________________________________\n",
            "block4_pool (MaxPooling2D)   (None, 14, 14, 512)       0         \n",
            "_________________________________________________________________\n",
            "block5_conv1 (Conv2D)        (None, 14, 14, 512)       2359808   \n",
            "_________________________________________________________________\n",
            "block5_conv2 (Conv2D)        (None, 14, 14, 512)       2359808   \n",
            "_________________________________________________________________\n",
            "block5_conv3 (Conv2D)        (None, 14, 14, 512)       2359808   \n",
            "_________________________________________________________________\n",
            "block5_pool (MaxPooling2D)   (None, 7, 7, 512)         0         \n",
            "=================================================================\n",
            "Total params: 14,714,688\n",
            "Trainable params: 0\n",
            "Non-trainable params: 14,714,688\n",
            "_________________________________________________________________\n"
          ]
        }
      ]
    },
    {
      "cell_type": "code",
      "metadata": {
        "id": "M1AEKHhSzxGX"
      },
      "source": [
        "model = tf.keras.Sequential([\n",
        "    base_model, \n",
        "    layers.Flatten(),\n",
        "    layers.Dense(1024,activation='relu'),\n",
        "    layers.Dense(128, activation='relu'),\n",
        "    layers.Dense(17,activation='softmax')\n",
        "])"
      ],
      "execution_count": 10,
      "outputs": []
    },
    {
      "cell_type": "code",
      "metadata": {
        "id": "_iaPuh49zzj2"
      },
      "source": [
        "model.compile( optimizer = optimizers.Adam(learning_rate=0.001),\n",
        "              loss = losses.categorical_crossentropy,\n",
        "              metrics =  ['accuracy'])"
      ],
      "execution_count": 11,
      "outputs": []
    },
    {
      "cell_type": "code",
      "metadata": {
        "colab": {
          "base_uri": "https://localhost:8080/"
        },
        "id": "WRkJ5pWEz3qH",
        "outputId": "aae139af-5db7-49fa-ab3b-0351f0a515a3"
      },
      "source": [
        "model.fit(train_data,\n",
        "          steps_per_epoch = train_data.samples/batch_size,\n",
        "          validation_data = val_data,\n",
        "          validation_steps = val_data.samples/batch_size,\n",
        "          epochs = 10,\n",
        "          )"
      ],
      "execution_count": 12,
      "outputs": [
        {
          "output_type": "stream",
          "name": "stdout",
          "text": [
            "Epoch 1/10\n",
            "27/27 [==============================] - 319s 10s/step - loss: 3.4546 - accuracy: 0.2817 - val_loss: 1.1841 - val_accuracy: 0.6912\n",
            "Epoch 2/10\n",
            "27/27 [==============================] - 22s 790ms/step - loss: 0.9653 - accuracy: 0.7149 - val_loss: 1.1038 - val_accuracy: 0.6961\n",
            "Epoch 3/10\n",
            "27/27 [==============================] - 22s 793ms/step - loss: 0.5066 - accuracy: 0.8382 - val_loss: 0.6646 - val_accuracy: 0.8137\n",
            "Epoch 4/10\n",
            "27/27 [==============================] - 22s 791ms/step - loss: 0.2761 - accuracy: 0.9253 - val_loss: 0.5564 - val_accuracy: 0.8235\n",
            "Epoch 5/10\n",
            "27/27 [==============================] - 22s 791ms/step - loss: 0.1830 - accuracy: 0.9593 - val_loss: 0.5599 - val_accuracy: 0.8431\n",
            "Epoch 6/10\n",
            "27/27 [==============================] - 22s 786ms/step - loss: 0.1887 - accuracy: 0.9559 - val_loss: 0.5046 - val_accuracy: 0.8676\n",
            "Epoch 7/10\n",
            "27/27 [==============================] - 22s 782ms/step - loss: 0.1301 - accuracy: 0.9740 - val_loss: 0.4998 - val_accuracy: 0.8431\n",
            "Epoch 8/10\n",
            "27/27 [==============================] - 22s 789ms/step - loss: 0.0830 - accuracy: 0.9853 - val_loss: 0.5550 - val_accuracy: 0.8431\n",
            "Epoch 9/10\n",
            "27/27 [==============================] - 22s 787ms/step - loss: 0.0694 - accuracy: 0.9830 - val_loss: 0.5088 - val_accuracy: 0.8480\n",
            "Epoch 10/10\n",
            "27/27 [==============================] - 21s 771ms/step - loss: 0.0515 - accuracy: 0.9876 - val_loss: 0.4280 - val_accuracy: 0.8627\n"
          ]
        },
        {
          "output_type": "execute_result",
          "data": {
            "text/plain": [
              "<keras.callbacks.History at 0x7fe3c0802d10>"
            ]
          },
          "metadata": {},
          "execution_count": 12
        }
      ]
    },
    {
      "cell_type": "code",
      "metadata": {
        "colab": {
          "base_uri": "https://localhost:8080/"
        },
        "id": "q79KVNXlz6XP",
        "outputId": "b8c711dd-d2fa-4ced-c694-ea2f0456a98a"
      },
      "source": [
        "test_data = data_generator.flow_from_directory(\n",
        "    os.path.join(dataset_path,'Test'),\n",
        "    target_size = (width,height),\n",
        "    class_mode = 'categorical',\n",
        "    batch_size = batch_size,\n",
        "    shuffle = True,\n",
        "    )"
      ],
      "execution_count": 13,
      "outputs": [
        {
          "output_type": "stream",
          "name": "stdout",
          "text": [
            "Found 272 images belonging to 17 classes.\n"
          ]
        }
      ]
    },
    {
      "cell_type": "code",
      "metadata": {
        "colab": {
          "base_uri": "https://localhost:8080/"
        },
        "id": "agIqTCCEz--V",
        "outputId": "948a8a62-00ce-4e81-f88f-1b1da3f0ccc0"
      },
      "source": [
        "model.evaluate(test_data)"
      ],
      "execution_count": 14,
      "outputs": [
        {
          "output_type": "stream",
          "name": "stdout",
          "text": [
            "9/9 [==============================] - 66s 8s/step - loss: 1.2259 - accuracy: 0.6471\n"
          ]
        },
        {
          "output_type": "execute_result",
          "data": {
            "text/plain": [
              "[1.225874423980713, 0.6470588445663452]"
            ]
          },
          "metadata": {},
          "execution_count": 14
        }
      ]
    },
    {
      "cell_type": "code",
      "metadata": {
        "id": "IYt0uIl296x2"
      },
      "source": [
        ""
      ],
      "execution_count": null,
      "outputs": []
    }
  ]
}