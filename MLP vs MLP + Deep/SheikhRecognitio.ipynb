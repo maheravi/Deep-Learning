{
  "nbformat": 4,
  "nbformat_minor": 0,
  "metadata": {
    "colab": {
      "name": "Copy of SheykhRecognition.ipynb",
      "provenance": [],
      "mount_file_id": "1CcP5zCsLG8mOzv_NZK1cUhBO6YoF22Ys",
      "authorship_tag": "ABX9TyNxmJeXRYUm9w8smDM8xTwT",
      "include_colab_link": true
    },
    "kernelspec": {
      "name": "python3",
      "display_name": "Python 3"
    },
    "language_info": {
      "name": "python"
    },
    "accelerator": "GPU"
  },
  "cells": [
    {
      "cell_type": "markdown",
      "metadata": {
        "id": "view-in-github",
        "colab_type": "text"
      },
      "source": [
        "<a href=\"https://colab.research.google.com/github/maheravi/Deep-Learning/blob/main/MLP%20vs%20MLP%20%2B%20Deep/SheikhRecognitio.ipynb\" target=\"_parent\"><img src=\"https://colab.research.google.com/assets/colab-badge.svg\" alt=\"Open In Colab\"/></a>"
      ]
    },
    {
      "cell_type": "code",
      "metadata": {
        "id": "DhYh6V4qo3YY"
      },
      "source": [
        "import tensorflow as tf\n",
        "import numpy as np\n",
        "from tensorflow.keras.preprocessing.image import ImageDataGenerator\n",
        "from tensorflow.keras.layers import Conv2D, Dense, MaxPool2D, Flatten\n",
        "from tensorflow.keras.optimizers import SGD, Adam\n",
        "from sklearn.model_selection import train_test_split"
      ],
      "execution_count": null,
      "outputs": []
    },
    {
      "cell_type": "code",
      "metadata": {
        "id": "rs9iyqx3mIEx"
      },
      "source": [
        "image_data_generator = ImageDataGenerator(rescale=1./255, horizontal_flip=True)\n",
        "width, height = 224, 224"
      ],
      "execution_count": null,
      "outputs": []
    },
    {
      "cell_type": "code",
      "metadata": {
        "colab": {
          "base_uri": "https://localhost:8080/"
        },
        "id": "6D_fB7ZknzvT",
        "outputId": "59494421-26b3-4045-adf2-dcf65722619c"
      },
      "source": [
        "train_data = image_data_generator.flow_from_directory('/content/drive/MyDrive/Sheykh-Recognition',\n",
        "                                         target_size=(width,height),\n",
        "                                         class_mode='categorical',\n",
        ")"
      ],
      "execution_count": null,
      "outputs": [
        {
          "output_type": "stream",
          "name": "stdout",
          "text": [
            "Found 155 images belonging to 2 classes.\n"
          ]
        }
      ]
    },
    {
      "cell_type": "code",
      "metadata": {
        "id": "bYHRkiX4ngZx"
      },
      "source": [
        "model = tf.keras.models.Sequential([\n",
        "         Conv2D(32, (3, 3), activation='relu', input_shape = (width, height, 3)),\n",
        "         Conv2D(32, (3, 3), activation='relu'),\n",
        "         MaxPool2D((2, 2)),\n",
        "         Conv2D(32, (3, 3), activation='relu'),\n",
        "         Conv2D(32, (3, 3), activation='relu'),\n",
        "         MaxPool2D((2, 2)),\n",
        "         Conv2D(64, (3, 3), activation='relu'),\n",
        "         Conv2D(64, (3, 3), activation='relu'),\n",
        "         MaxPool2D((2, 2)),\n",
        "         Conv2D(64, (3, 3), activation='relu'),\n",
        "         Conv2D(64, (3, 3), activation='relu'),\n",
        "         MaxPool2D((2, 2)),\n",
        "         Flatten(),\n",
        "         Dense(128, activation='relu'),\n",
        "         Dense(32, activation='relu'),\n",
        "         Dense(2, activation='softmax')                          \n",
        "])"
      ],
      "execution_count": null,
      "outputs": []
    },
    {
      "cell_type": "code",
      "metadata": {
        "colab": {
          "base_uri": "https://localhost:8080/",
          "height": 163
        },
        "id": "yV1F4aWZqoPh",
        "outputId": "53ea49e6-24f9-4391-cc26-123c973a7db7"
      },
      "source": [
        "X_train, X_test, Y_train, Y_test = train_test_split(train_data, test_size=0.25,random_state=4)"
      ],
      "execution_count": null,
      "outputs": [
        {
          "output_type": "error",
          "ename": "ValueError",
          "evalue": "ignored",
          "traceback": [
            "\u001b[0;31m---------------------------------------------------------------------------\u001b[0m",
            "\u001b[0;31mValueError\u001b[0m                                Traceback (most recent call last)",
            "\u001b[0;32m<ipython-input-86-bf42962d12c9>\u001b[0m in \u001b[0;36m<module>\u001b[0;34m()\u001b[0m\n\u001b[0;32m----> 1\u001b[0;31m \u001b[0mX_train\u001b[0m\u001b[0;34m,\u001b[0m \u001b[0mX_test\u001b[0m\u001b[0;34m,\u001b[0m \u001b[0mY_train\u001b[0m\u001b[0;34m,\u001b[0m \u001b[0mY_test\u001b[0m \u001b[0;34m=\u001b[0m \u001b[0mtrain_test_split\u001b[0m\u001b[0;34m(\u001b[0m\u001b[0mtrain_data\u001b[0m\u001b[0;34m,\u001b[0m \u001b[0mtest_size\u001b[0m\u001b[0;34m=\u001b[0m\u001b[0;36m0.25\u001b[0m\u001b[0;34m,\u001b[0m\u001b[0mrandom_state\u001b[0m\u001b[0;34m=\u001b[0m\u001b[0;36m4\u001b[0m\u001b[0;34m)\u001b[0m\u001b[0;34m\u001b[0m\u001b[0;34m\u001b[0m\u001b[0m\n\u001b[0m",
            "\u001b[0;31mValueError\u001b[0m: not enough values to unpack (expected 4, got 2)"
          ]
        }
      ]
    },
    {
      "cell_type": "code",
      "metadata": {
        "id": "MYQbt3jbrCKp"
      },
      "source": [
        "model.compile(optimizer=Adam(),\n",
        "              loss=tf.keras.losses.categorical_crossentropy,\n",
        "              metrics='accuracy')"
      ],
      "execution_count": null,
      "outputs": []
    },
    {
      "cell_type": "code",
      "metadata": {
        "colab": {
          "base_uri": "https://localhost:8080/"
        },
        "id": "rMr9e50hrMuw",
        "outputId": "26f6069f-ed2c-4e99-b1c7-5c30d5e2c2fc"
      },
      "source": [
        "model.fit(train_data, epochs=10)"
      ],
      "execution_count": null,
      "outputs": [
        {
          "output_type": "stream",
          "name": "stdout",
          "text": [
            "Epoch 1/10\n",
            "5/5 [==============================] - 3s 410ms/step - loss: 0.6948 - accuracy: 0.4710\n",
            "Epoch 2/10\n",
            "5/5 [==============================] - 2s 412ms/step - loss: 0.6968 - accuracy: 0.5097\n",
            "Epoch 3/10\n",
            "5/5 [==============================] - 2s 400ms/step - loss: 0.6845 - accuracy: 0.6323\n",
            "Epoch 4/10\n",
            "5/5 [==============================] - 2s 345ms/step - loss: 0.6052 - accuracy: 0.7742\n",
            "Epoch 5/10\n",
            "5/5 [==============================] - 2s 400ms/step - loss: 0.4846 - accuracy: 0.7677\n",
            "Epoch 6/10\n",
            "5/5 [==============================] - 2s 402ms/step - loss: 0.4320 - accuracy: 0.7677\n",
            "Epoch 7/10\n",
            "5/5 [==============================] - 2s 432ms/step - loss: 0.3896 - accuracy: 0.8000\n",
            "Epoch 8/10\n",
            "5/5 [==============================] - 2s 417ms/step - loss: 0.3437 - accuracy: 0.8258\n",
            "Epoch 9/10\n",
            "5/5 [==============================] - 2s 406ms/step - loss: 0.2947 - accuracy: 0.8581\n",
            "Epoch 10/10\n",
            "5/5 [==============================] - 2s 396ms/step - loss: 0.3764 - accuracy: 0.8258\n"
          ]
        },
        {
          "output_type": "execute_result",
          "data": {
            "text/plain": [
              "<keras.callbacks.History at 0x7f856193c910>"
            ]
          },
          "metadata": {},
          "execution_count": 84
        }
      ]
    },
    {
      "cell_type": "code",
      "metadata": {
        "id": "rKBeZq2hsWuh"
      },
      "source": [
        "model.save('sheykh.h5')"
      ],
      "execution_count": null,
      "outputs": []
    },
    {
      "cell_type": "code",
      "metadata": {
        "id": "CvtlHiWas2qY",
        "colab": {
          "base_uri": "https://localhost:8080/"
        },
        "outputId": "9b57ffeb-317c-4be2-ab9b-c5fba7947f10"
      },
      "source": [
        "print(tf. __version__)"
      ],
      "execution_count": null,
      "outputs": [
        {
          "output_type": "stream",
          "name": "stdout",
          "text": [
            "2.6.0\n"
          ]
        }
      ]
    },
    {
      "cell_type": "code",
      "metadata": {
        "id": "EFK2Cdmzx8LL"
      },
      "source": [
        ""
      ],
      "execution_count": null,
      "outputs": []
    }
  ]
}