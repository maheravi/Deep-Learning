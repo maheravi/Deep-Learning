{
  "cells": [
    {
      "cell_type": "markdown",
      "metadata": {
        "id": "view-in-github",
        "colab_type": "text"
      },
      "source": [
        "<a href=\"https://colab.research.google.com/github/maheravi/Deep-Learning/blob/main/PyTorch%20Age%20Prediction%20Using%20Face%20Image%20TL/PyTorch_Age_Prediction_Using_Face_Image_Transfer_Learning.ipynb\" target=\"_parent\"><img src=\"https://colab.research.google.com/assets/colab-badge.svg\" alt=\"Open In Colab\"/></a>"
      ]
    },
    {
      "cell_type": "code",
      "execution_count": 1,
      "metadata": {
        "id": "FpXvrCR8v3R9"
      },
      "outputs": [],
      "source": [
        "!pip install -q kaggle\n",
        "!mkdir ~/.kaggle\n",
        "! cp kaggle.json ~/.kaggle/"
      ]
    },
    {
      "cell_type": "code",
      "execution_count": 2,
      "metadata": {
        "colab": {
          "base_uri": "https://localhost:8080/"
        },
        "id": "8NoBJZjNw2FG",
        "outputId": "3d60671c-4226-4b1d-b07a-23bc0ca5f78f"
      },
      "outputs": [
        {
          "output_type": "stream",
          "name": "stdout",
          "text": [
            "Warning: Your Kaggle API key is readable by other users on this system! To fix this, you can run 'chmod 600 /root/.kaggle/kaggle.json'\n",
            "Downloading utkface-new.zip to /content\n",
            " 97% 321M/331M [00:06<00:00, 47.0MB/s]\n",
            "100% 331M/331M [00:06<00:00, 54.7MB/s]\n"
          ]
        }
      ],
      "source": [
        "!kaggle datasets download -d jangedoo/utkface-new\n"
      ]
    },
    {
      "cell_type": "code",
      "execution_count": 3,
      "metadata": {
        "id": "lMpnvQDSw9F9"
      },
      "outputs": [],
      "source": [
        "!unzip -qq utkface-new.zip"
      ]
    },
    {
      "cell_type": "code",
      "source": [
        "!pip install wandb\n",
        "import wandb"
      ],
      "metadata": {
        "id": "pj2TSxeRb4um",
        "colab": {
          "base_uri": "https://localhost:8080/"
        },
        "outputId": "cffa2434-08d3-413c-f035-06a478252851"
      },
      "execution_count": 4,
      "outputs": [
        {
          "output_type": "stream",
          "name": "stdout",
          "text": [
            "Collecting wandb\n",
            "  Downloading wandb-0.12.9-py2.py3-none-any.whl (1.7 MB)\n",
            "\u001b[?25l\r\u001b[K     |▏                               | 10 kB 30.8 MB/s eta 0:00:01\r\u001b[K     |▍                               | 20 kB 34.9 MB/s eta 0:00:01\r\u001b[K     |▋                               | 30 kB 26.6 MB/s eta 0:00:01\r\u001b[K     |▊                               | 40 kB 18.2 MB/s eta 0:00:01\r\u001b[K     |█                               | 51 kB 17.8 MB/s eta 0:00:01\r\u001b[K     |█▏                              | 61 kB 15.8 MB/s eta 0:00:01\r\u001b[K     |█▍                              | 71 kB 13.7 MB/s eta 0:00:01\r\u001b[K     |█▌                              | 81 kB 15.2 MB/s eta 0:00:01\r\u001b[K     |█▊                              | 92 kB 13.4 MB/s eta 0:00:01\r\u001b[K     |██                              | 102 kB 13.8 MB/s eta 0:00:01\r\u001b[K     |██                              | 112 kB 13.8 MB/s eta 0:00:01\r\u001b[K     |██▎                             | 122 kB 13.8 MB/s eta 0:00:01\r\u001b[K     |██▌                             | 133 kB 13.8 MB/s eta 0:00:01\r\u001b[K     |██▊                             | 143 kB 13.8 MB/s eta 0:00:01\r\u001b[K     |██▉                             | 153 kB 13.8 MB/s eta 0:00:01\r\u001b[K     |███                             | 163 kB 13.8 MB/s eta 0:00:01\r\u001b[K     |███▎                            | 174 kB 13.8 MB/s eta 0:00:01\r\u001b[K     |███▍                            | 184 kB 13.8 MB/s eta 0:00:01\r\u001b[K     |███▋                            | 194 kB 13.8 MB/s eta 0:00:01\r\u001b[K     |███▉                            | 204 kB 13.8 MB/s eta 0:00:01\r\u001b[K     |████                            | 215 kB 13.8 MB/s eta 0:00:01\r\u001b[K     |████▏                           | 225 kB 13.8 MB/s eta 0:00:01\r\u001b[K     |████▍                           | 235 kB 13.8 MB/s eta 0:00:01\r\u001b[K     |████▋                           | 245 kB 13.8 MB/s eta 0:00:01\r\u001b[K     |████▉                           | 256 kB 13.8 MB/s eta 0:00:01\r\u001b[K     |█████                           | 266 kB 13.8 MB/s eta 0:00:01\r\u001b[K     |█████▏                          | 276 kB 13.8 MB/s eta 0:00:01\r\u001b[K     |█████▍                          | 286 kB 13.8 MB/s eta 0:00:01\r\u001b[K     |█████▌                          | 296 kB 13.8 MB/s eta 0:00:01\r\u001b[K     |█████▊                          | 307 kB 13.8 MB/s eta 0:00:01\r\u001b[K     |██████                          | 317 kB 13.8 MB/s eta 0:00:01\r\u001b[K     |██████▏                         | 327 kB 13.8 MB/s eta 0:00:01\r\u001b[K     |██████▎                         | 337 kB 13.8 MB/s eta 0:00:01\r\u001b[K     |██████▌                         | 348 kB 13.8 MB/s eta 0:00:01\r\u001b[K     |██████▊                         | 358 kB 13.8 MB/s eta 0:00:01\r\u001b[K     |██████▉                         | 368 kB 13.8 MB/s eta 0:00:01\r\u001b[K     |███████                         | 378 kB 13.8 MB/s eta 0:00:01\r\u001b[K     |███████▎                        | 389 kB 13.8 MB/s eta 0:00:01\r\u001b[K     |███████▌                        | 399 kB 13.8 MB/s eta 0:00:01\r\u001b[K     |███████▋                        | 409 kB 13.8 MB/s eta 0:00:01\r\u001b[K     |███████▉                        | 419 kB 13.8 MB/s eta 0:00:01\r\u001b[K     |████████                        | 430 kB 13.8 MB/s eta 0:00:01\r\u001b[K     |████████▎                       | 440 kB 13.8 MB/s eta 0:00:01\r\u001b[K     |████████▍                       | 450 kB 13.8 MB/s eta 0:00:01\r\u001b[K     |████████▋                       | 460 kB 13.8 MB/s eta 0:00:01\r\u001b[K     |████████▉                       | 471 kB 13.8 MB/s eta 0:00:01\r\u001b[K     |█████████                       | 481 kB 13.8 MB/s eta 0:00:01\r\u001b[K     |█████████▏                      | 491 kB 13.8 MB/s eta 0:00:01\r\u001b[K     |█████████▍                      | 501 kB 13.8 MB/s eta 0:00:01\r\u001b[K     |█████████▋                      | 512 kB 13.8 MB/s eta 0:00:01\r\u001b[K     |█████████▊                      | 522 kB 13.8 MB/s eta 0:00:01\r\u001b[K     |██████████                      | 532 kB 13.8 MB/s eta 0:00:01\r\u001b[K     |██████████▏                     | 542 kB 13.8 MB/s eta 0:00:01\r\u001b[K     |██████████▎                     | 552 kB 13.8 MB/s eta 0:00:01\r\u001b[K     |██████████▌                     | 563 kB 13.8 MB/s eta 0:00:01\r\u001b[K     |██████████▊                     | 573 kB 13.8 MB/s eta 0:00:01\r\u001b[K     |███████████                     | 583 kB 13.8 MB/s eta 0:00:01\r\u001b[K     |███████████                     | 593 kB 13.8 MB/s eta 0:00:01\r\u001b[K     |███████████▎                    | 604 kB 13.8 MB/s eta 0:00:01\r\u001b[K     |███████████▌                    | 614 kB 13.8 MB/s eta 0:00:01\r\u001b[K     |███████████▋                    | 624 kB 13.8 MB/s eta 0:00:01\r\u001b[K     |███████████▉                    | 634 kB 13.8 MB/s eta 0:00:01\r\u001b[K     |████████████                    | 645 kB 13.8 MB/s eta 0:00:01\r\u001b[K     |████████████▎                   | 655 kB 13.8 MB/s eta 0:00:01\r\u001b[K     |████████████▍                   | 665 kB 13.8 MB/s eta 0:00:01\r\u001b[K     |████████████▋                   | 675 kB 13.8 MB/s eta 0:00:01\r\u001b[K     |████████████▉                   | 686 kB 13.8 MB/s eta 0:00:01\r\u001b[K     |█████████████                   | 696 kB 13.8 MB/s eta 0:00:01\r\u001b[K     |█████████████▏                  | 706 kB 13.8 MB/s eta 0:00:01\r\u001b[K     |█████████████▍                  | 716 kB 13.8 MB/s eta 0:00:01\r\u001b[K     |█████████████▋                  | 727 kB 13.8 MB/s eta 0:00:01\r\u001b[K     |█████████████▊                  | 737 kB 13.8 MB/s eta 0:00:01\r\u001b[K     |██████████████                  | 747 kB 13.8 MB/s eta 0:00:01\r\u001b[K     |██████████████▏                 | 757 kB 13.8 MB/s eta 0:00:01\r\u001b[K     |██████████████▍                 | 768 kB 13.8 MB/s eta 0:00:01\r\u001b[K     |██████████████▌                 | 778 kB 13.8 MB/s eta 0:00:01\r\u001b[K     |██████████████▊                 | 788 kB 13.8 MB/s eta 0:00:01\r\u001b[K     |███████████████                 | 798 kB 13.8 MB/s eta 0:00:01\r\u001b[K     |███████████████                 | 808 kB 13.8 MB/s eta 0:00:01\r\u001b[K     |███████████████▎                | 819 kB 13.8 MB/s eta 0:00:01\r\u001b[K     |███████████████▌                | 829 kB 13.8 MB/s eta 0:00:01\r\u001b[K     |███████████████▊                | 839 kB 13.8 MB/s eta 0:00:01\r\u001b[K     |███████████████▉                | 849 kB 13.8 MB/s eta 0:00:01\r\u001b[K     |████████████████                | 860 kB 13.8 MB/s eta 0:00:01\r\u001b[K     |████████████████▎               | 870 kB 13.8 MB/s eta 0:00:01\r\u001b[K     |████████████████▌               | 880 kB 13.8 MB/s eta 0:00:01\r\u001b[K     |████████████████▋               | 890 kB 13.8 MB/s eta 0:00:01\r\u001b[K     |████████████████▉               | 901 kB 13.8 MB/s eta 0:00:01\r\u001b[K     |█████████████████               | 911 kB 13.8 MB/s eta 0:00:01\r\u001b[K     |█████████████████▏              | 921 kB 13.8 MB/s eta 0:00:01\r\u001b[K     |█████████████████▍              | 931 kB 13.8 MB/s eta 0:00:01\r\u001b[K     |█████████████████▋              | 942 kB 13.8 MB/s eta 0:00:01\r\u001b[K     |█████████████████▉              | 952 kB 13.8 MB/s eta 0:00:01\r\u001b[K     |██████████████████              | 962 kB 13.8 MB/s eta 0:00:01\r\u001b[K     |██████████████████▏             | 972 kB 13.8 MB/s eta 0:00:01\r\u001b[K     |██████████████████▍             | 983 kB 13.8 MB/s eta 0:00:01\r\u001b[K     |██████████████████▌             | 993 kB 13.8 MB/s eta 0:00:01\r\u001b[K     |██████████████████▊             | 1.0 MB 13.8 MB/s eta 0:00:01\r\u001b[K     |███████████████████             | 1.0 MB 13.8 MB/s eta 0:00:01\r\u001b[K     |███████████████████▏            | 1.0 MB 13.8 MB/s eta 0:00:01\r\u001b[K     |███████████████████▎            | 1.0 MB 13.8 MB/s eta 0:00:01\r\u001b[K     |███████████████████▌            | 1.0 MB 13.8 MB/s eta 0:00:01\r\u001b[K     |███████████████████▊            | 1.1 MB 13.8 MB/s eta 0:00:01\r\u001b[K     |███████████████████▉            | 1.1 MB 13.8 MB/s eta 0:00:01\r\u001b[K     |████████████████████            | 1.1 MB 13.8 MB/s eta 0:00:01\r\u001b[K     |████████████████████▎           | 1.1 MB 13.8 MB/s eta 0:00:01\r\u001b[K     |████████████████████▌           | 1.1 MB 13.8 MB/s eta 0:00:01\r\u001b[K     |████████████████████▋           | 1.1 MB 13.8 MB/s eta 0:00:01\r\u001b[K     |████████████████████▉           | 1.1 MB 13.8 MB/s eta 0:00:01\r\u001b[K     |█████████████████████           | 1.1 MB 13.8 MB/s eta 0:00:01\r\u001b[K     |█████████████████████▎          | 1.1 MB 13.8 MB/s eta 0:00:01\r\u001b[K     |█████████████████████▍          | 1.1 MB 13.8 MB/s eta 0:00:01\r\u001b[K     |█████████████████████▋          | 1.2 MB 13.8 MB/s eta 0:00:01\r\u001b[K     |█████████████████████▉          | 1.2 MB 13.8 MB/s eta 0:00:01\r\u001b[K     |██████████████████████          | 1.2 MB 13.8 MB/s eta 0:00:01\r\u001b[K     |██████████████████████▏         | 1.2 MB 13.8 MB/s eta 0:00:01\r\u001b[K     |██████████████████████▍         | 1.2 MB 13.8 MB/s eta 0:00:01\r\u001b[K     |██████████████████████▋         | 1.2 MB 13.8 MB/s eta 0:00:01\r\u001b[K     |██████████████████████▊         | 1.2 MB 13.8 MB/s eta 0:00:01\r\u001b[K     |███████████████████████         | 1.2 MB 13.8 MB/s eta 0:00:01\r\u001b[K     |███████████████████████▏        | 1.2 MB 13.8 MB/s eta 0:00:01\r\u001b[K     |███████████████████████▎        | 1.2 MB 13.8 MB/s eta 0:00:01\r\u001b[K     |███████████████████████▌        | 1.3 MB 13.8 MB/s eta 0:00:01\r\u001b[K     |███████████████████████▊        | 1.3 MB 13.8 MB/s eta 0:00:01\r\u001b[K     |████████████████████████        | 1.3 MB 13.8 MB/s eta 0:00:01\r\u001b[K     |████████████████████████        | 1.3 MB 13.8 MB/s eta 0:00:01\r\u001b[K     |████████████████████████▎       | 1.3 MB 13.8 MB/s eta 0:00:01\r\u001b[K     |████████████████████████▌       | 1.3 MB 13.8 MB/s eta 0:00:01\r\u001b[K     |████████████████████████▊       | 1.3 MB 13.8 MB/s eta 0:00:01\r\u001b[K     |████████████████████████▉       | 1.3 MB 13.8 MB/s eta 0:00:01\r\u001b[K     |█████████████████████████       | 1.3 MB 13.8 MB/s eta 0:00:01\r\u001b[K     |█████████████████████████▎      | 1.4 MB 13.8 MB/s eta 0:00:01\r\u001b[K     |█████████████████████████▍      | 1.4 MB 13.8 MB/s eta 0:00:01\r\u001b[K     |█████████████████████████▋      | 1.4 MB 13.8 MB/s eta 0:00:01\r\u001b[K     |█████████████████████████▉      | 1.4 MB 13.8 MB/s eta 0:00:01\r\u001b[K     |██████████████████████████      | 1.4 MB 13.8 MB/s eta 0:00:01\r\u001b[K     |██████████████████████████▏     | 1.4 MB 13.8 MB/s eta 0:00:01\r\u001b[K     |██████████████████████████▍     | 1.4 MB 13.8 MB/s eta 0:00:01\r\u001b[K     |██████████████████████████▋     | 1.4 MB 13.8 MB/s eta 0:00:01\r\u001b[K     |██████████████████████████▊     | 1.4 MB 13.8 MB/s eta 0:00:01\r\u001b[K     |███████████████████████████     | 1.4 MB 13.8 MB/s eta 0:00:01\r\u001b[K     |███████████████████████████▏    | 1.5 MB 13.8 MB/s eta 0:00:01\r\u001b[K     |███████████████████████████▍    | 1.5 MB 13.8 MB/s eta 0:00:01\r\u001b[K     |███████████████████████████▌    | 1.5 MB 13.8 MB/s eta 0:00:01\r\u001b[K     |███████████████████████████▊    | 1.5 MB 13.8 MB/s eta 0:00:01\r\u001b[K     |████████████████████████████    | 1.5 MB 13.8 MB/s eta 0:00:01\r\u001b[K     |████████████████████████████▏   | 1.5 MB 13.8 MB/s eta 0:00:01\r\u001b[K     |████████████████████████████▎   | 1.5 MB 13.8 MB/s eta 0:00:01\r\u001b[K     |████████████████████████████▌   | 1.5 MB 13.8 MB/s eta 0:00:01\r\u001b[K     |████████████████████████████▊   | 1.5 MB 13.8 MB/s eta 0:00:01\r\u001b[K     |████████████████████████████▉   | 1.5 MB 13.8 MB/s eta 0:00:01\r\u001b[K     |█████████████████████████████   | 1.6 MB 13.8 MB/s eta 0:00:01\r\u001b[K     |█████████████████████████████▎  | 1.6 MB 13.8 MB/s eta 0:00:01\r\u001b[K     |█████████████████████████████▌  | 1.6 MB 13.8 MB/s eta 0:00:01\r\u001b[K     |█████████████████████████████▋  | 1.6 MB 13.8 MB/s eta 0:00:01\r\u001b[K     |█████████████████████████████▉  | 1.6 MB 13.8 MB/s eta 0:00:01\r\u001b[K     |██████████████████████████████  | 1.6 MB 13.8 MB/s eta 0:00:01\r\u001b[K     |██████████████████████████████▏ | 1.6 MB 13.8 MB/s eta 0:00:01\r\u001b[K     |██████████████████████████████▍ | 1.6 MB 13.8 MB/s eta 0:00:01\r\u001b[K     |██████████████████████████████▋ | 1.6 MB 13.8 MB/s eta 0:00:01\r\u001b[K     |██████████████████████████████▉ | 1.6 MB 13.8 MB/s eta 0:00:01\r\u001b[K     |███████████████████████████████ | 1.7 MB 13.8 MB/s eta 0:00:01\r\u001b[K     |███████████████████████████████▏| 1.7 MB 13.8 MB/s eta 0:00:01\r\u001b[K     |███████████████████████████████▍| 1.7 MB 13.8 MB/s eta 0:00:01\r\u001b[K     |███████████████████████████████▌| 1.7 MB 13.8 MB/s eta 0:00:01\r\u001b[K     |███████████████████████████████▊| 1.7 MB 13.8 MB/s eta 0:00:01\r\u001b[K     |████████████████████████████████| 1.7 MB 13.8 MB/s eta 0:00:01\r\u001b[K     |████████████████████████████████| 1.7 MB 13.8 MB/s \n",
            "\u001b[?25hRequirement already satisfied: PyYAML in /usr/local/lib/python3.7/dist-packages (from wandb) (3.13)\n",
            "Requirement already satisfied: python-dateutil>=2.6.1 in /usr/local/lib/python3.7/dist-packages (from wandb) (2.8.2)\n",
            "Requirement already satisfied: protobuf>=3.12.0 in /usr/local/lib/python3.7/dist-packages (from wandb) (3.17.3)\n",
            "Requirement already satisfied: promise<3,>=2.0 in /usr/local/lib/python3.7/dist-packages (from wandb) (2.3)\n",
            "Collecting subprocess32>=3.5.3\n",
            "  Downloading subprocess32-3.5.4.tar.gz (97 kB)\n",
            "\u001b[K     |████████████████████████████████| 97 kB 6.1 MB/s \n",
            "\u001b[?25hCollecting docker-pycreds>=0.4.0\n",
            "  Downloading docker_pycreds-0.4.0-py2.py3-none-any.whl (9.0 kB)\n",
            "Collecting shortuuid>=0.5.0\n",
            "  Downloading shortuuid-1.0.8-py3-none-any.whl (9.5 kB)\n",
            "Requirement already satisfied: psutil>=5.0.0 in /usr/local/lib/python3.7/dist-packages (from wandb) (5.4.8)\n",
            "Requirement already satisfied: six>=1.13.0 in /usr/local/lib/python3.7/dist-packages (from wandb) (1.15.0)\n",
            "Collecting pathtools\n",
            "  Downloading pathtools-0.1.2.tar.gz (11 kB)\n",
            "Requirement already satisfied: requests<3,>=2.0.0 in /usr/local/lib/python3.7/dist-packages (from wandb) (2.23.0)\n",
            "Requirement already satisfied: Click!=8.0.0,>=7.0 in /usr/local/lib/python3.7/dist-packages (from wandb) (7.1.2)\n",
            "Collecting sentry-sdk>=1.0.0\n",
            "  Downloading sentry_sdk-1.5.2-py2.py3-none-any.whl (142 kB)\n",
            "\u001b[K     |████████████████████████████████| 142 kB 84.9 MB/s \n",
            "\u001b[?25hCollecting yaspin>=1.0.0\n",
            "  Downloading yaspin-2.1.0-py3-none-any.whl (18 kB)\n",
            "Collecting GitPython>=1.0.0\n",
            "  Downloading GitPython-3.1.26-py3-none-any.whl (180 kB)\n",
            "\u001b[K     |████████████████████████████████| 180 kB 96.1 MB/s \n",
            "\u001b[?25hCollecting configparser>=3.8.1\n",
            "  Downloading configparser-5.2.0-py3-none-any.whl (19 kB)\n",
            "Requirement already satisfied: typing-extensions>=3.7.4.3 in /usr/local/lib/python3.7/dist-packages (from GitPython>=1.0.0->wandb) (3.10.0.2)\n",
            "Collecting gitdb<5,>=4.0.1\n",
            "  Downloading gitdb-4.0.9-py3-none-any.whl (63 kB)\n",
            "\u001b[K     |████████████████████████████████| 63 kB 1.7 MB/s \n",
            "\u001b[?25hCollecting smmap<6,>=3.0.1\n",
            "  Downloading smmap-5.0.0-py3-none-any.whl (24 kB)\n",
            "Requirement already satisfied: chardet<4,>=3.0.2 in /usr/local/lib/python3.7/dist-packages (from requests<3,>=2.0.0->wandb) (3.0.4)\n",
            "Requirement already satisfied: certifi>=2017.4.17 in /usr/local/lib/python3.7/dist-packages (from requests<3,>=2.0.0->wandb) (2021.10.8)\n",
            "Requirement already satisfied: urllib3!=1.25.0,!=1.25.1,<1.26,>=1.21.1 in /usr/local/lib/python3.7/dist-packages (from requests<3,>=2.0.0->wandb) (1.24.3)\n",
            "Requirement already satisfied: idna<3,>=2.5 in /usr/local/lib/python3.7/dist-packages (from requests<3,>=2.0.0->wandb) (2.10)\n",
            "Requirement already satisfied: termcolor<2.0.0,>=1.1.0 in /usr/local/lib/python3.7/dist-packages (from yaspin>=1.0.0->wandb) (1.1.0)\n",
            "Building wheels for collected packages: subprocess32, pathtools\n",
            "  Building wheel for subprocess32 (setup.py) ... \u001b[?25l\u001b[?25hdone\n",
            "  Created wheel for subprocess32: filename=subprocess32-3.5.4-py3-none-any.whl size=6502 sha256=7ecf1952780b698af205604ead7865998826aeca68a4a5728d53ff76f3e33b34\n",
            "  Stored in directory: /root/.cache/pip/wheels/50/ca/fa/8fca8d246e64f19488d07567547ddec8eb084e8c0d7a59226a\n",
            "  Building wheel for pathtools (setup.py) ... \u001b[?25l\u001b[?25hdone\n",
            "  Created wheel for pathtools: filename=pathtools-0.1.2-py3-none-any.whl size=8806 sha256=2f0c2575021f95c20e2e34bea996facd2e34bf165e44665233a07346163aee45\n",
            "  Stored in directory: /root/.cache/pip/wheels/3e/31/09/fa59cef12cdcfecc627b3d24273699f390e71828921b2cbba2\n",
            "Successfully built subprocess32 pathtools\n",
            "Installing collected packages: smmap, gitdb, yaspin, subprocess32, shortuuid, sentry-sdk, pathtools, GitPython, docker-pycreds, configparser, wandb\n",
            "Successfully installed GitPython-3.1.26 configparser-5.2.0 docker-pycreds-0.4.0 gitdb-4.0.9 pathtools-0.1.2 sentry-sdk-1.5.2 shortuuid-1.0.8 smmap-5.0.0 subprocess32-3.5.4 wandb-0.12.9 yaspin-2.1.0\n"
          ]
        }
      ]
    },
    {
      "cell_type": "code",
      "execution_count": 5,
      "metadata": {
        "id": "o5Cv_mGAxETF"
      },
      "outputs": [],
      "source": [
        "import torch\n",
        "from torch import nn\n",
        "import torchvision\n",
        "from torch.utils.data import Dataset, DataLoader\n",
        "import pandas as pd\n",
        "from matplotlib import pyplot as plt\n",
        "from sklearn.model_selection import train_test_split\n",
        "import os\n",
        "import cv2\n",
        "import numpy as np"
      ]
    },
    {
      "cell_type": "code",
      "source": [
        "import wandb\n",
        "\n",
        "wandb.init(project=\"AgePredictionTL\", entity=\"ma_heravi\")"
      ],
      "metadata": {
        "colab": {
          "base_uri": "https://localhost:8080/",
          "height": 90
        },
        "id": "fkDVGPgjcTrc",
        "outputId": "65c55128-478f-4f9c-baea-13c1292ee85d"
      },
      "execution_count": 7,
      "outputs": [
        {
          "output_type": "display_data",
          "data": {
            "application/javascript": [
              "\n",
              "        window._wandbApiKey = new Promise((resolve, reject) => {\n",
              "            function loadScript(url) {\n",
              "            return new Promise(function(resolve, reject) {\n",
              "                let newScript = document.createElement(\"script\");\n",
              "                newScript.onerror = reject;\n",
              "                newScript.onload = resolve;\n",
              "                document.body.appendChild(newScript);\n",
              "                newScript.src = url;\n",
              "            });\n",
              "            }\n",
              "            loadScript(\"https://cdn.jsdelivr.net/npm/postmate/build/postmate.min.js\").then(() => {\n",
              "            const iframe = document.createElement('iframe')\n",
              "            iframe.style.cssText = \"width:0;height:0;border:none\"\n",
              "            document.body.appendChild(iframe)\n",
              "            const handshake = new Postmate({\n",
              "                container: iframe,\n",
              "                url: 'https://wandb.ai/authorize'\n",
              "            });\n",
              "            const timeout = setTimeout(() => reject(\"Couldn't auto authenticate\"), 5000)\n",
              "            handshake.then(function(child) {\n",
              "                child.on('authorize', data => {\n",
              "                    clearTimeout(timeout)\n",
              "                    resolve(data)\n",
              "                });\n",
              "            });\n",
              "            })\n",
              "        });\n",
              "    "
            ],
            "text/plain": [
              "<IPython.core.display.Javascript object>"
            ]
          },
          "metadata": {}
        },
        {
          "output_type": "stream",
          "name": "stderr",
          "text": [
            "\u001b[34m\u001b[1mwandb\u001b[0m: Appending key for api.wandb.ai to your netrc file: /root/.netrc\n"
          ]
        },
        {
          "output_type": "display_data",
          "data": {
            "text/html": [
              "\n",
              "                    Syncing run <strong><a href=\"https://wandb.ai/ma_heravi/AgePredictionTL/runs/tt9sejlh\" target=\"_blank\">dulcet-hill-1</a></strong> to <a href=\"https://wandb.ai/ma_heravi/AgePredictionTL\" target=\"_blank\">Weights & Biases</a> (<a href=\"https://docs.wandb.com/integrations/jupyter.html\" target=\"_blank\">docs</a>).<br/>\n",
              "\n",
              "                "
            ],
            "text/plain": [
              "<IPython.core.display.HTML object>"
            ]
          },
          "metadata": {}
        },
        {
          "output_type": "execute_result",
          "data": {
            "text/plain": [
              "<wandb.sdk.wandb_run.Run at 0x7f27f9f83890>"
            ],
            "text/html": [
              "<button onClick=\"this.nextSibling.style.display='block';this.style.display='none';\">Display W&B run</button><iframe src=\"https://wandb.ai/ma_heravi/AgePredictionTL/runs/tt9sejlh?jupyter=true\" style=\"border:none;width:100%;height:420px;display:none;\"></iframe>"
            ]
          },
          "metadata": {},
          "execution_count": 7
        }
      ]
    },
    {
      "cell_type": "code",
      "execution_count": 22,
      "metadata": {
        "id": "fWEOSR56xbG9"
      },
      "outputs": [],
      "source": [
        "# hyperparameters\n",
        "latent_size = 10\n",
        "disc_inp_sz = 224*224\n",
        "img_size = 224\n",
        "epochs = 10\n",
        "batch_size = 32\n",
        "lr = 0.001\n",
        "width = height = 224\n",
        "wandb.config = {\n",
        "  \"learning_rate\": lr,\n",
        "  \"epochs\": epochs,\n",
        "  \"batch_size\": batch_size\n",
        "}"
      ]
    },
    {
      "cell_type": "code",
      "execution_count": 9,
      "metadata": {
        "id": "VQqYEWjlxdI8"
      },
      "outputs": [],
      "source": [
        "images = []\n",
        "ages = []\n",
        "\n",
        "for image_name in os.listdir('crop_part1')[0:9000]:\n",
        "    part = image_name.split('_')\n",
        "    ages.append(int(part[0]))\n",
        "\n",
        "    image = cv2.imread(f'crop_part1/{image_name}')\n",
        "    image = cv2.cvtColor(image, cv2.COLOR_BGR2RGB)\n",
        "    images.append(image)"
      ]
    },
    {
      "cell_type": "code",
      "execution_count": 10,
      "metadata": {
        "colab": {
          "base_uri": "https://localhost:8080/",
          "height": 206
        },
        "id": "Q0ZzY9UHxept",
        "outputId": "a3b18a4a-53d0-485a-fb70-b56643e7493b"
      },
      "outputs": [
        {
          "output_type": "execute_result",
          "data": {
            "text/html": [
              "\n",
              "  <div id=\"df-8a1e49f3-dd3a-4a31-bfbe-109768737914\">\n",
              "    <div class=\"colab-df-container\">\n",
              "      <div>\n",
              "<style scoped>\n",
              "    .dataframe tbody tr th:only-of-type {\n",
              "        vertical-align: middle;\n",
              "    }\n",
              "\n",
              "    .dataframe tbody tr th {\n",
              "        vertical-align: top;\n",
              "    }\n",
              "\n",
              "    .dataframe thead th {\n",
              "        text-align: right;\n",
              "    }\n",
              "</style>\n",
              "<table border=\"1\" class=\"dataframe\">\n",
              "  <thead>\n",
              "    <tr style=\"text-align: right;\">\n",
              "      <th></th>\n",
              "      <th>Images</th>\n",
              "      <th>Ages</th>\n",
              "    </tr>\n",
              "  </thead>\n",
              "  <tbody>\n",
              "    <tr>\n",
              "      <th>0</th>\n",
              "      <td>[[[177, 158, 128], [160, 141, 111], [148, 127,...</td>\n",
              "      <td>85</td>\n",
              "    </tr>\n",
              "    <tr>\n",
              "      <th>1</th>\n",
              "      <td>[[[130, 142, 164], [130, 142, 164], [131, 142,...</td>\n",
              "      <td>54</td>\n",
              "    </tr>\n",
              "    <tr>\n",
              "      <th>2</th>\n",
              "      <td>[[[248, 253, 255], [248, 253, 255], [248, 254,...</td>\n",
              "      <td>5</td>\n",
              "    </tr>\n",
              "    <tr>\n",
              "      <th>3</th>\n",
              "      <td>[[[122, 67, 36], [110, 55, 24], [95, 42, 11], ...</td>\n",
              "      <td>52</td>\n",
              "    </tr>\n",
              "    <tr>\n",
              "      <th>4</th>\n",
              "      <td>[[[201, 200, 195], [209, 208, 203], [220, 219,...</td>\n",
              "      <td>32</td>\n",
              "    </tr>\n",
              "  </tbody>\n",
              "</table>\n",
              "</div>\n",
              "      <button class=\"colab-df-convert\" onclick=\"convertToInteractive('df-8a1e49f3-dd3a-4a31-bfbe-109768737914')\"\n",
              "              title=\"Convert this dataframe to an interactive table.\"\n",
              "              style=\"display:none;\">\n",
              "        \n",
              "  <svg xmlns=\"http://www.w3.org/2000/svg\" height=\"24px\"viewBox=\"0 0 24 24\"\n",
              "       width=\"24px\">\n",
              "    <path d=\"M0 0h24v24H0V0z\" fill=\"none\"/>\n",
              "    <path d=\"M18.56 5.44l.94 2.06.94-2.06 2.06-.94-2.06-.94-.94-2.06-.94 2.06-2.06.94zm-11 1L8.5 8.5l.94-2.06 2.06-.94-2.06-.94L8.5 2.5l-.94 2.06-2.06.94zm10 10l.94 2.06.94-2.06 2.06-.94-2.06-.94-.94-2.06-.94 2.06-2.06.94z\"/><path d=\"M17.41 7.96l-1.37-1.37c-.4-.4-.92-.59-1.43-.59-.52 0-1.04.2-1.43.59L10.3 9.45l-7.72 7.72c-.78.78-.78 2.05 0 2.83L4 21.41c.39.39.9.59 1.41.59.51 0 1.02-.2 1.41-.59l7.78-7.78 2.81-2.81c.8-.78.8-2.07 0-2.86zM5.41 20L4 18.59l7.72-7.72 1.47 1.35L5.41 20z\"/>\n",
              "  </svg>\n",
              "      </button>\n",
              "      \n",
              "  <style>\n",
              "    .colab-df-container {\n",
              "      display:flex;\n",
              "      flex-wrap:wrap;\n",
              "      gap: 12px;\n",
              "    }\n",
              "\n",
              "    .colab-df-convert {\n",
              "      background-color: #E8F0FE;\n",
              "      border: none;\n",
              "      border-radius: 50%;\n",
              "      cursor: pointer;\n",
              "      display: none;\n",
              "      fill: #1967D2;\n",
              "      height: 32px;\n",
              "      padding: 0 0 0 0;\n",
              "      width: 32px;\n",
              "    }\n",
              "\n",
              "    .colab-df-convert:hover {\n",
              "      background-color: #E2EBFA;\n",
              "      box-shadow: 0px 1px 2px rgba(60, 64, 67, 0.3), 0px 1px 3px 1px rgba(60, 64, 67, 0.15);\n",
              "      fill: #174EA6;\n",
              "    }\n",
              "\n",
              "    [theme=dark] .colab-df-convert {\n",
              "      background-color: #3B4455;\n",
              "      fill: #D2E3FC;\n",
              "    }\n",
              "\n",
              "    [theme=dark] .colab-df-convert:hover {\n",
              "      background-color: #434B5C;\n",
              "      box-shadow: 0px 1px 3px 1px rgba(0, 0, 0, 0.15);\n",
              "      filter: drop-shadow(0px 1px 2px rgba(0, 0, 0, 0.3));\n",
              "      fill: #FFFFFF;\n",
              "    }\n",
              "  </style>\n",
              "\n",
              "      <script>\n",
              "        const buttonEl =\n",
              "          document.querySelector('#df-8a1e49f3-dd3a-4a31-bfbe-109768737914 button.colab-df-convert');\n",
              "        buttonEl.style.display =\n",
              "          google.colab.kernel.accessAllowed ? 'block' : 'none';\n",
              "\n",
              "        async function convertToInteractive(key) {\n",
              "          const element = document.querySelector('#df-8a1e49f3-dd3a-4a31-bfbe-109768737914');\n",
              "          const dataTable =\n",
              "            await google.colab.kernel.invokeFunction('convertToInteractive',\n",
              "                                                     [key], {});\n",
              "          if (!dataTable) return;\n",
              "\n",
              "          const docLinkHtml = 'Like what you see? Visit the ' +\n",
              "            '<a target=\"_blank\" href=https://colab.research.google.com/notebooks/data_table.ipynb>data table notebook</a>'\n",
              "            + ' to learn more about interactive tables.';\n",
              "          element.innerHTML = '';\n",
              "          dataTable['output_type'] = 'display_data';\n",
              "          await google.colab.output.renderOutput(dataTable, element);\n",
              "          const docLink = document.createElement('div');\n",
              "          docLink.innerHTML = docLinkHtml;\n",
              "          element.appendChild(docLink);\n",
              "        }\n",
              "      </script>\n",
              "    </div>\n",
              "  </div>\n",
              "  "
            ],
            "text/plain": [
              "                                              Images  Ages\n",
              "0  [[[177, 158, 128], [160, 141, 111], [148, 127,...    85\n",
              "1  [[[130, 142, 164], [130, 142, 164], [131, 142,...    54\n",
              "2  [[[248, 253, 255], [248, 253, 255], [248, 254,...     5\n",
              "3  [[[122, 67, 36], [110, 55, 24], [95, 42, 11], ...    52\n",
              "4  [[[201, 200, 195], [209, 208, 203], [220, 219,...    32"
            ]
          },
          "metadata": {},
          "execution_count": 10
        }
      ],
      "source": [
        "images = pd.Series(images, name= 'Images')\n",
        "ages = pd.Series(ages, name= 'Ages')\n",
        "\n",
        "df = pd.concat([images, ages], axis= 1)\n",
        "df.head()"
      ]
    },
    {
      "cell_type": "code",
      "execution_count": 11,
      "metadata": {
        "colab": {
          "base_uri": "https://localhost:8080/",
          "height": 413
        },
        "id": "ajzyIz7TzvPn",
        "outputId": "d62bf8a9-82fc-47f2-8118-3b59842a4e90"
      },
      "outputs": [
        {
          "output_type": "display_data",
          "data": {
            "image/png": "[encoded data removed]",
            "text/plain": [
              "<Figure size 1728x576 with 1 Axes>"
            ]
          },
          "metadata": {
            "needs_background": "light"
          }
        }
      ],
      "source": [
        "plt.figure(figsize=(24, 8))\n",
        "plt.hist(df['Ages'], bins= 116)\n",
        "plt.show()"
      ]
    },
    {
      "cell_type": "code",
      "execution_count": 12,
      "metadata": {
        "id": "7kh60NhSzwyU"
      },
      "outputs": [],
      "source": [
        "under4 = []\n",
        "\n",
        "for i in range(len(df)):\n",
        "    if df['Ages'].iloc[i] <= 4:\n",
        "        under4.append(df.iloc[i])\n",
        "\n",
        "under4 = pd.DataFrame(under4)\n",
        "under4 = under4.sample(frac= 0.3)\n",
        "\n",
        "up4 = df[df['Ages'] > 4]\n",
        "\n",
        "df = pd.concat([under4, up4])"
      ]
    },
    {
      "cell_type": "code",
      "execution_count": 13,
      "metadata": {
        "id": "dfDeb_L6zyVT"
      },
      "outputs": [],
      "source": [
        "df = df[df['Ages'] < 90]"
      ]
    },
    {
      "cell_type": "code",
      "execution_count": 14,
      "metadata": {
        "colab": {
          "base_uri": "https://localhost:8080/",
          "height": 415
        },
        "id": "GLFvk0Ipzz3D",
        "outputId": "fd0f7ec8-8641-4c7e-8b95-89d5f3ff5909"
      },
      "outputs": [
        {
          "output_type": "display_data",
          "data": {
            "image/png": "[encoded data removed]",
            "text/plain": [
              "<Figure size 1728x576 with 1 Axes>"
            ]
          },
          "metadata": {
            "needs_background": "light"
          }
        }
      ],
      "source": [
        "plt.figure(figsize=(24, 8))\n",
        "plt.hist(df['Ages'], bins= 89)\n",
        "plt.show()"
      ]
    },
    {
      "cell_type": "code",
      "execution_count": 15,
      "metadata": {
        "colab": {
          "base_uri": "https://localhost:8080/"
        },
        "id": "0wSxme9Vz1tj",
        "outputId": "4ad28a6e-e385-43ef-f0d1-7f2ed2b6e6aa"
      },
      "outputs": [
        {
          "output_type": "stream",
          "name": "stderr",
          "text": [
            "/usr/local/lib/python3.7/dist-packages/pandas/core/indexing.py:670: SettingWithCopyWarning: \n",
            "A value is trying to be set on a copy of a slice from a DataFrame\n",
            "\n",
            "See the caveats in the documentation: https://pandas.pydata.org/pandas-docs/stable/user_guide/indexing.html#returning-a-view-versus-a-copy\n",
            "  iloc._setitem_with_indexer(indexer, value)\n"
          ]
        }
      ],
      "source": [
        "X = []\n",
        "Y = []\n",
        "\n",
        "for i in range(len(df)):\n",
        "    df['Images'].iloc[i] = cv2.resize(df['Images'].iloc[i], (width, height))\n",
        "\n",
        "    X.append(df['Images'].iloc[i])\n",
        "    Y.append(df['Ages'].iloc[i])\n",
        "\n",
        "X = np.array(X)\n",
        "Y = np.array(Y)"
      ]
    },
    {
      "cell_type": "code",
      "execution_count": 16,
      "metadata": {
        "id": "A0P2fHSaz4RL"
      },
      "outputs": [],
      "source": [
        "X_train, X_val, Y_train, Y_val = train_test_split(X, Y, test_size = 0.2)"
      ]
    },
    {
      "cell_type": "code",
      "execution_count": 17,
      "metadata": {
        "id": "jqKbFByTlwgk"
      },
      "outputs": [],
      "source": [
        "# X_train = X_train.astype(np.float32)"
      ]
    },
    {
      "cell_type": "code",
      "execution_count": 18,
      "metadata": {
        "id": "MXpviJ5Hc2Ai"
      },
      "outputs": [],
      "source": [
        "X_train = torch.tensor(X_train)\n",
        "Y_train = torch.tensor(Y_train)\n",
        "X_train = torch.permute(X_train, (0, 3, 2, 1))"
      ]
    },
    {
      "cell_type": "code",
      "execution_count": 19,
      "metadata": {
        "id": "HXpu7e97f57Z"
      },
      "outputs": [],
      "source": [
        "# from torch.utils.data import TensorDataset"
      ]
    },
    {
      "cell_type": "code",
      "source": [
        "class MyDataset(Dataset):\n",
        "    def __init__(self, X, y, transform=None):\n",
        "        self.data = X\n",
        "        self.target = y\n",
        "        self.transform = transform\n",
        "        \n",
        "    def __getitem__(self, index):\n",
        "        x = self.data[index]\n",
        "        y = self.target[index]\n",
        "\n",
        "        # Normalize your data here\n",
        "        if self.transform:\n",
        "            x = self.transform(x)\n",
        "\n",
        "        return x, y\n",
        "    \n",
        "    def __len__(self):\n",
        "        return len(self.data)\n",
        "\n",
        "transform = torchvision.transforms.Compose([\n",
        "        torchvision.transforms.ToPILImage(),\n",
        "        torchvision.transforms.Resize((28, 28)),\n",
        "        torchvision.transforms.RandomHorizontalFlip(),\n",
        "        torchvision.transforms.ToTensor(),\n",
        "        torchvision.transforms.Normalize((0.485, 0.456, 0.406), (0.229, 0.224, 0.225))\n",
        "])"
      ],
      "metadata": {
        "id": "Z2my2tazRRyo"
      },
      "execution_count": 20,
      "outputs": []
    },
    {
      "cell_type": "code",
      "source": [
        "dataset = MyDataset(X_train, Y_train, transform)\n",
        "train_data_loader = torch.utils.data.DataLoader(dataset, batch_size=batch_size)"
      ],
      "metadata": {
        "id": "5JdSyZV4RW3F"
      },
      "execution_count": 21,
      "outputs": []
    },
    {
      "cell_type": "code",
      "execution_count": 26,
      "metadata": {
        "id": "gY5XATfw0ATm"
      },
      "outputs": [],
      "source": [
        "device = torch.device('cuda' if torch.cuda.is_available() else 'cpu')\n",
        "\n",
        "model = torchvision.models.resnet50(pretrained=True)\n",
        "in_features = model.fc.in_features\n",
        "model.fc = nn.Linear(in_features,1)\n",
        "\n",
        "ct = 0\n",
        "for child in model.children():\n",
        "    ct += 1\n",
        "    if ct < 7:\n",
        "        for param in child.parameters():\n",
        "            param.requires_grad = False\n",
        "\n",
        "model = model.to(device)\n"
      ]
    },
    {
      "cell_type": "code",
      "execution_count": 27,
      "metadata": {
        "id": "aYb7RowhhO8E"
      },
      "outputs": [],
      "source": [
        " # compile\n",
        "optimizer = torch.optim.Adam(model.parameters(), lr=lr)\n",
        "loss_function = torch.nn.MSELoss()"
      ]
    },
    {
      "cell_type": "code",
      "execution_count": 28,
      "metadata": {
        "colab": {
          "base_uri": "https://localhost:8080/"
        },
        "id": "BNtXs1aw0EDc",
        "outputId": "60272d4c-f4b7-4c87-f3ff-2cb98ced7854"
      },
      "outputs": [
        {
          "output_type": "stream",
          "name": "stderr",
          "text": [
            "/usr/local/lib/python3.7/dist-packages/torch/nn/modules/loss.py:520: UserWarning: Using a target size (torch.Size([32])) that is different to the input size (torch.Size([32, 1])). This will likely lead to incorrect results due to broadcasting. Please ensure they have the same size.\n",
            "  return F.mse_loss(input, target, reduction=self.reduction)\n",
            "/usr/local/lib/python3.7/dist-packages/torch/nn/modules/loss.py:520: UserWarning: Using a target size (torch.Size([18])) that is different to the input size (torch.Size([18, 1])). This will likely lead to incorrect results due to broadcasting. Please ensure they have the same size.\n",
            "  return F.mse_loss(input, target, reduction=self.reduction)\n"
          ]
        },
        {
          "output_type": "stream",
          "name": "stdout",
          "text": [
            "Epoch: 1, Loss: 599.234130859375\n",
            "Epoch: 2, Loss: 533.0835571289062\n",
            "Epoch: 3, Loss: 531.4361572265625\n",
            "Epoch: 4, Loss: 531.2455444335938\n",
            "Epoch: 5, Loss: 531.7100830078125\n",
            "Epoch: 6, Loss: 531.7698364257812\n",
            "Epoch: 7, Loss: 531.0797119140625\n",
            "Epoch: 8, Loss: 531.2728881835938\n",
            "Epoch: 9, Loss: 530.3558349609375\n",
            "Epoch: 10, Loss: 531.17626953125\n"
          ]
        }
      ],
      "source": [
        "# train\n",
        "wandb.watch(model)\n",
        "\n",
        "for epoch in range(1, epochs+1):\n",
        "    train_loss = 0.0\n",
        "    train_acc = 0.0\n",
        "    for images, labels in train_data_loader:\n",
        "        images = images.to(device)\n",
        "        labels = labels.to(device)\n",
        "        optimizer.zero_grad()\n",
        "        # 1- forwarding\n",
        "        preds = model(images)\n",
        "        # print(labels)\n",
        "        # print(preds)\n",
        "        # 2- backwarding\n",
        "        loss = loss_function(preds, labels.float())\n",
        "        loss.backward()\n",
        "        # 3- Update\n",
        "        optimizer.step()\n",
        "\n",
        "        train_loss += loss\n",
        "    \n",
        "    total_loss = train_loss / len(train_data_loader)\n",
        "\n",
        "    print(f\"Epoch: {epoch}, Loss: {total_loss}\")\n",
        "    wandb.log({'epochs':  epoch,\n",
        "              'loss': total_loss,\n",
        "                              })"
      ]
    },
    {
      "cell_type": "code",
      "execution_count": 29,
      "metadata": {
        "id": "jes77SFI0MUs"
      },
      "outputs": [],
      "source": [
        "# save\n",
        "torch.save(model.state_dict(), \"FaceAgePredictionTL.pth\")"
      ]
    },
    {
      "cell_type": "code",
      "source": [
        ""
      ],
      "metadata": {
        "id": "wkEpbDUIeRBV"
      },
      "execution_count": null,
      "outputs": []
    }
  ],
  "metadata": {
    "colab": {
      "name": "PyTorch Age Prediction Using Face Image Transfer Learning.ipynb",
      "provenance": [],
      "authorship_tag": "ABX9TyPtnjLxIW5HQyLCkKdw3Qqb",
      "include_colab_link": true
    },
    "kernelspec": {
      "display_name": "Python 3",
      "name": "python3"
    },
    "language_info": {
      "name": "python"
    }
  },
  "nbformat": 4,
  "nbformat_minor": 0
}