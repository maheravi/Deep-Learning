{
  "nbformat": 4,
  "nbformat_minor": 0,
  "metadata": {
    "colab": {
      "name": "Persian_Recognition.ipynb",
      "provenance": [],
      "mount_file_id": "1hBw6u5Z1L18jJpdfPJRyszZJPgVe7Nc3",
      "authorship_tag": "ABX9TyPHns0Be2TmD3bVoShV90we",
      "include_colab_link": true
    },
    "kernelspec": {
      "name": "python3",
      "display_name": "Python 3"
    },
    "language_info": {
      "name": "python"
    },
    "accelerator": "GPU"
  },
  "cells": [
    {
      "cell_type": "markdown",
      "metadata": {
        "id": "view-in-github",
        "colab_type": "text"
      },
      "source": [
        "<a href=\"https://colab.research.google.com/github/maheravi/Deep-Learning/blob/main/PersianRecognition/Persian_Recognition.ipynb\" target=\"_parent\"><img src=\"https://colab.research.google.com/assets/colab-badge.svg\" alt=\"Open In Colab\"/></a>"
      ]
    },
    {
      "cell_type": "code",
      "metadata": {
        "id": "DhYh6V4qo3YY"
      },
      "source": [
        "import tensorflow as tf\n",
        "import numpy as np\n",
        "from tensorflow.keras.preprocessing.image import ImageDataGenerator\n",
        "from tensorflow.keras.layers import Conv2D, Dense, MaxPool2D, Flatten\n",
        "from tensorflow.keras.optimizers import SGD, Adam\n",
        "from sklearn.model_selection import train_test_split"
      ],
      "execution_count": 11,
      "outputs": []
    },
    {
      "cell_type": "code",
      "metadata": {
        "id": "rs9iyqx3mIEx"
      },
      "source": [
        "image_data_generator = ImageDataGenerator(rescale=1./255,\n",
        "                                          horizontal_flip=True,\n",
        "                                          rotation_range=45,\n",
        "                                          zoom_range=0.1,\n",
        "                                          validation_split=0.2)\n",
        "width, height = 224, 224\n",
        "batch_size = 32"
      ],
      "execution_count": 12,
      "outputs": []
    },
    {
      "cell_type": "code",
      "metadata": {
        "colab": {
          "base_uri": "https://localhost:8080/"
        },
        "id": "6D_fB7ZknzvT",
        "outputId": "223270ce-68f6-45db-8016-4ee8b333132c"
      },
      "source": [
        "train_data = image_data_generator.flow_from_directory('/content/drive/MyDrive/Persian_Recognition',\n",
        "                                         target_size=(width,height),\n",
        "                                         class_mode='categorical',\n",
        "                                         batch_size=batch_size,\n",
        "                                         shuffle=True,\n",
        "                                         subset='training' ,\n",
        ")\n",
        "\n",
        "val_data = image_data_generator.flow_from_directory('/content/drive/MyDrive/Persian_Recognition',\n",
        "                                         target_size=(width,height),\n",
        "                                         class_mode='categorical',\n",
        "                                         batch_size=batch_size,\n",
        "                                         shuffle=True,\n",
        "                                         subset='validation',\n",
        ")"
      ],
      "execution_count": 13,
      "outputs": [
        {
          "output_type": "stream",
          "name": "stdout",
          "text": [
            "Found 2302 images belonging to 2 classes.\n",
            "Found 575 images belonging to 2 classes.\n"
          ]
        }
      ]
    },
    {
      "cell_type": "code",
      "metadata": {
        "id": "QDW0aEJip_r_"
      },
      "source": [
        "base_model = tf.keras.applications.VGG16(\n",
        "    input_shape=(width, height, 3),\n",
        "    include_top=False,\n",
        "    weights='imagenet')"
      ],
      "execution_count": 14,
      "outputs": []
    },
    {
      "cell_type": "code",
      "metadata": {
        "colab": {
          "base_uri": "https://localhost:8080/"
        },
        "id": "zDErTQsarUSZ",
        "outputId": "a2484064-a0bb-4a67-f8fa-73165be43ca3"
      },
      "source": [
        "base_model.summary()"
      ],
      "execution_count": 15,
      "outputs": [
        {
          "output_type": "stream",
          "name": "stdout",
          "text": [
            "Model: \"vgg16\"\n",
            "_________________________________________________________________\n",
            "Layer (type)                 Output Shape              Param #   \n",
            "=================================================================\n",
            "input_2 (InputLayer)         [(None, 224, 224, 3)]     0         \n",
            "_________________________________________________________________\n",
            "block1_conv1 (Conv2D)        (None, 224, 224, 64)      1792      \n",
            "_________________________________________________________________\n",
            "block1_conv2 (Conv2D)        (None, 224, 224, 64)      36928     \n",
            "_________________________________________________________________\n",
            "block1_pool (MaxPooling2D)   (None, 112, 112, 64)      0         \n",
            "_________________________________________________________________\n",
            "block2_conv1 (Conv2D)        (None, 112, 112, 128)     73856     \n",
            "_________________________________________________________________\n",
            "block2_conv2 (Conv2D)        (None, 112, 112, 128)     147584    \n",
            "_________________________________________________________________\n",
            "block2_pool (MaxPooling2D)   (None, 56, 56, 128)       0         \n",
            "_________________________________________________________________\n",
            "block3_conv1 (Conv2D)        (None, 56, 56, 256)       295168    \n",
            "_________________________________________________________________\n",
            "block3_conv2 (Conv2D)        (None, 56, 56, 256)       590080    \n",
            "_________________________________________________________________\n",
            "block3_conv3 (Conv2D)        (None, 56, 56, 256)       590080    \n",
            "_________________________________________________________________\n",
            "block3_pool (MaxPooling2D)   (None, 28, 28, 256)       0         \n",
            "_________________________________________________________________\n",
            "block4_conv1 (Conv2D)        (None, 28, 28, 512)       1180160   \n",
            "_________________________________________________________________\n",
            "block4_conv2 (Conv2D)        (None, 28, 28, 512)       2359808   \n",
            "_________________________________________________________________\n",
            "block4_conv3 (Conv2D)        (None, 28, 28, 512)       2359808   \n",
            "_________________________________________________________________\n",
            "block4_pool (MaxPooling2D)   (None, 14, 14, 512)       0         \n",
            "_________________________________________________________________\n",
            "block5_conv1 (Conv2D)        (None, 14, 14, 512)       2359808   \n",
            "_________________________________________________________________\n",
            "block5_conv2 (Conv2D)        (None, 14, 14, 512)       2359808   \n",
            "_________________________________________________________________\n",
            "block5_conv3 (Conv2D)        (None, 14, 14, 512)       2359808   \n",
            "_________________________________________________________________\n",
            "block5_pool (MaxPooling2D)   (None, 7, 7, 512)         0         \n",
            "=================================================================\n",
            "Total params: 14,714,688\n",
            "Trainable params: 14,714,688\n",
            "Non-trainable params: 0\n",
            "_________________________________________________________________\n"
          ]
        }
      ]
    },
    {
      "cell_type": "code",
      "metadata": {
        "id": "V3JqAiY9rv2T"
      },
      "source": [
        "for layer in base_model.layers:\n",
        "  layer.trainable=False"
      ],
      "execution_count": 16,
      "outputs": []
    },
    {
      "cell_type": "code",
      "metadata": {
        "id": "bYHRkiX4ngZx"
      },
      "source": [
        "model = tf.keras.models.Sequential([\n",
        "         base_model,\n",
        "         Flatten(),\n",
        "         Dense(128, activation='relu'),\n",
        "         Dense(32, activation='relu'),\n",
        "         Dense(2, activation='softmax')                          \n",
        "])"
      ],
      "execution_count": 17,
      "outputs": []
    },
    {
      "cell_type": "code",
      "metadata": {
        "id": "MYQbt3jbrCKp"
      },
      "source": [
        "model.compile(optimizer=Adam(),\n",
        "              loss=tf.keras.losses.categorical_crossentropy,\n",
        "              metrics='accuracy')"
      ],
      "execution_count": 18,
      "outputs": []
    },
    {
      "cell_type": "code",
      "metadata": {
        "colab": {
          "base_uri": "https://localhost:8080/"
        },
        "id": "KJUwTvhQuAeS",
        "outputId": "634f410a-c551-49f1-a589-bde5ed41d49d"
      },
      "source": [
        "train_data.samples"
      ],
      "execution_count": 19,
      "outputs": [
        {
          "output_type": "execute_result",
          "data": {
            "text/plain": [
              "2302"
            ]
          },
          "metadata": {},
          "execution_count": 19
        }
      ]
    },
    {
      "cell_type": "code",
      "metadata": {
        "colab": {
          "base_uri": "https://localhost:8080/"
        },
        "id": "rMr9e50hrMuw",
        "outputId": "23c52317-d0d7-4e8d-a91b-68fd0e26a93a"
      },
      "source": [
        "model.fit(train_data,\n",
        "           steps_per_epoch=train_data.samples/batch_size,\n",
        "           validation_data=val_data,\n",
        "           validation_steps=val_data.samples/batch_size,\n",
        "           epochs=10,\n",
        "          )"
      ],
      "execution_count": 20,
      "outputs": [
        {
          "output_type": "stream",
          "name": "stdout",
          "text": [
            "Epoch 1/10\n",
            "71/71 [==============================] - 1183s 16s/step - loss: 0.4762 - accuracy: 0.8388 - val_loss: 0.3227 - val_accuracy: 0.8800\n",
            "Epoch 2/10\n",
            "71/71 [==============================] - 58s 806ms/step - loss: 0.1916 - accuracy: 0.9279 - val_loss: 0.2661 - val_accuracy: 0.8922\n",
            "Epoch 3/10\n",
            "71/71 [==============================] - 58s 807ms/step - loss: 0.1745 - accuracy: 0.9353 - val_loss: 0.2464 - val_accuracy: 0.9026\n",
            "Epoch 4/10\n",
            "71/71 [==============================] - 58s 805ms/step - loss: 0.1349 - accuracy: 0.9509 - val_loss: 0.4937 - val_accuracy: 0.8296\n",
            "Epoch 5/10\n",
            "71/71 [==============================] - 58s 810ms/step - loss: 0.1345 - accuracy: 0.9483 - val_loss: 0.2808 - val_accuracy: 0.8870\n",
            "Epoch 6/10\n",
            "71/71 [==============================] - 59s 813ms/step - loss: 0.1570 - accuracy: 0.9370 - val_loss: 0.3183 - val_accuracy: 0.8783\n",
            "Epoch 7/10\n",
            "71/71 [==============================] - 58s 810ms/step - loss: 0.1213 - accuracy: 0.9548 - val_loss: 0.2474 - val_accuracy: 0.8922\n",
            "Epoch 8/10\n",
            "71/71 [==============================] - 58s 808ms/step - loss: 0.1307 - accuracy: 0.9470 - val_loss: 0.2562 - val_accuracy: 0.8904\n",
            "Epoch 9/10\n",
            "71/71 [==============================] - 58s 811ms/step - loss: 0.1053 - accuracy: 0.9561 - val_loss: 0.2532 - val_accuracy: 0.8939\n",
            "Epoch 10/10\n",
            "71/71 [==============================] - 58s 812ms/step - loss: 0.1062 - accuracy: 0.9609 - val_loss: 0.3058 - val_accuracy: 0.8957\n"
          ]
        },
        {
          "output_type": "execute_result",
          "data": {
            "text/plain": [
              "<keras.callbacks.History at 0x7f975ea67290>"
            ]
          },
          "metadata": {},
          "execution_count": 20
        }
      ]
    },
    {
      "cell_type": "code",
      "metadata": {
        "id": "jKBKy91MzJmZ",
        "colab": {
          "base_uri": "https://localhost:8080/"
        },
        "outputId": "128b3873-731e-4e76-a8b8-4fc3ec827ed8"
      },
      "source": [
        "from google.colab import drive\n",
        "drive.mount('/content/drive')"
      ],
      "execution_count": 21,
      "outputs": [
        {
          "output_type": "stream",
          "name": "stdout",
          "text": [
            "Drive already mounted at /content/drive; to attempt to forcibly remount, call drive.mount(\"/content/drive\", force_remount=True).\n"
          ]
        }
      ]
    },
    {
      "cell_type": "code",
      "metadata": {
        "id": "rKBeZq2hsWuh"
      },
      "source": [
        "model.save('Persian.h5')"
      ],
      "execution_count": 22,
      "outputs": []
    },
    {
      "cell_type": "code",
      "metadata": {
        "id": "CvtlHiWas2qY",
        "colab": {
          "base_uri": "https://localhost:8080/"
        },
        "outputId": "c5d69070-e666-471a-f84f-eda0f931e042"
      },
      "source": [
        "print(tf. __version__)"
      ],
      "execution_count": 23,
      "outputs": [
        {
          "output_type": "stream",
          "name": "stdout",
          "text": [
            "2.6.0\n"
          ]
        }
      ]
    },
    {
      "cell_type": "code",
      "metadata": {
        "id": "EFK2Cdmzx8LL"
      },
      "source": [
        ""
      ],
      "execution_count": null,
      "outputs": []
    }
  ]
}