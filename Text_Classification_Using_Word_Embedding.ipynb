{
  "nbformat": 4,
  "nbformat_minor": 0,
  "metadata": {
    "colab": {
      "provenance": [],
      "authorship_tag": "ABX9TyPdRz5+SNSLlu3LYxMJBpoi",
      "include_colab_link": true
    },
    "kernelspec": {
      "name": "python3",
      "display_name": "Python 3"
    },
    "language_info": {
      "name": "python"
    },
    "accelerator": "GPU",
    "gpuClass": "standard"
  },
  "cells": [
    {
      "cell_type": "markdown",
      "metadata": {
        "id": "view-in-github",
        "colab_type": "text"
      },
      "source": [
        "<a href=\"https://colab.research.google.com/github/maheravi/Deep-Learning/blob/main/Text_Classification_Using_Word_Embedding.ipynb\" target=\"_parent\"><img src=\"https://colab.research.google.com/assets/colab-badge.svg\" alt=\"Open In Colab\"/></a>"
      ]
    },
    {
      "cell_type": "code",
      "execution_count": 4,
      "metadata": {
        "id": "OMHmYwrNI5FI"
      },
      "outputs": [],
      "source": [
        "import tensorflow as tf\n",
        "import numpy as np\n",
        "import pandas as pd\n",
        "from tensorflow.keras.layers import Dense, Dropout, LSTM ,GRU, SimpleRNN\n",
        "from tensorflow.keras.models import Model\n",
        "from tensorflow.keras.preprocessing import sequence"
      ]
    },
    {
      "cell_type": "code",
      "source": [
        "from google.colab import drive\n",
        "drive.mount(\"/content/drive\")"
      ],
      "metadata": {
        "colab": {
          "base_uri": "https://localhost:8080/"
        },
        "id": "ooy7xUdrJoLa",
        "outputId": "9adaa9fd-1703-4bfa-ba62-51c3ca733cec"
      },
      "execution_count": 3,
      "outputs": [
        {
          "output_type": "stream",
          "name": "stdout",
          "text": [
            "Mounted at /content/drive\n"
          ]
        }
      ]
    },
    {
      "cell_type": "code",
      "source": [
        "def read_csv(filename):\n",
        "  data_frame = pd.read_csv(filename)\n",
        "  X = np.asarray(data_frame['sentence'])\n",
        "  Y = np.asarray(data_frame['label'], dtype=int)\n",
        "  return X, Y"
      ],
      "metadata": {
        "id": "EWRtLB0HKePR"
      },
      "execution_count": 5,
      "outputs": []
    },
    {
      "cell_type": "code",
      "source": [
        "X_train, Y_train = read_csv('/content/drive/MyDrive/Emoji_Text_Classification/train.csv')\n",
        "X_test, Y_test = read_csv('/content/drive/MyDrive/Emoji_Text_Classification/test.csv')"
      ],
      "metadata": {
        "id": "X4V9V1s1KiyR"
      },
      "execution_count": 6,
      "outputs": []
    },
    {
      "cell_type": "code",
      "source": [
        "def label_to_emoji(label):\n",
        "  emojies=[\"❤️\",'⚽','😂','😔','🍽️']\n",
        "  return emojies[label]"
      ],
      "metadata": {
        "id": "krxChrLFKlO5"
      },
      "execution_count": 7,
      "outputs": []
    },
    {
      "cell_type": "code",
      "source": [
        "X_train[1],label_to_emoji(Y_train[1])\n"
      ],
      "metadata": {
        "colab": {
          "base_uri": "https://localhost:8080/"
        },
        "id": "fz30cwgSKtOY",
        "outputId": "72297d06-2a31-4aeb-d2e1-7d6357c0c25a"
      },
      "execution_count": 8,
      "outputs": [
        {
          "output_type": "execute_result",
          "data": {
            "text/plain": [
              "('I am proud of your achievements', '😂')"
            ]
          },
          "metadata": {},
          "execution_count": 8
        }
      ]
    },
    {
      "cell_type": "code",
      "source": [
        "#the largest sentence by word count\n",
        "max_len = len(max(X_train,key=len).split())\n",
        "max_len"
      ],
      "metadata": {
        "colab": {
          "base_uri": "https://localhost:8080/"
        },
        "id": "jL97O8FTKwEI",
        "outputId": "674af396-45b4-4364-810f-066e83ab1464"
      },
      "execution_count": 9,
      "outputs": [
        {
          "output_type": "execute_result",
          "data": {
            "text/plain": [
              "10"
            ]
          },
          "metadata": {},
          "execution_count": 9
        }
      ]
    },
    {
      "cell_type": "code",
      "source": [
        "unique, counts = np.unique(Y_train, return_counts=True)\n",
        "dict(zip(unique, counts))"
      ],
      "metadata": {
        "colab": {
          "base_uri": "https://localhost:8080/"
        },
        "id": "PXyRzPLbLKex",
        "outputId": "a8aac2db-879c-4351-dcdb-7e368f2ff66c"
      },
      "execution_count": 10,
      "outputs": [
        {
          "output_type": "execute_result",
          "data": {
            "text/plain": [
              "{0: 22, 1: 19, 2: 38, 3: 36, 4: 17}"
            ]
          },
          "metadata": {},
          "execution_count": 10
        }
      ]
    },
    {
      "cell_type": "code",
      "source": [
        "Y_train_oh = tf.keras.utils.to_categorical(Y_train, 5)\n",
        "Y_test_oh = tf.keras.utils.to_categorical(Y_test, 5)\n",
        "\n",
        "X_train[1],Y_train_oh[1]"
      ],
      "metadata": {
        "colab": {
          "base_uri": "https://localhost:8080/"
        },
        "id": "62In2D_xLM-S",
        "outputId": "4772d8f2-179e-47f0-fdc8-3c11c1c6d64b"
      },
      "execution_count": 11,
      "outputs": [
        {
          "output_type": "execute_result",
          "data": {
            "text/plain": [
              "('I am proud of your achievements', array([0., 0., 1., 0., 0.], dtype=float32))"
            ]
          },
          "metadata": {},
          "execution_count": 11
        }
      ]
    },
    {
      "cell_type": "code",
      "source": [
        "def read_glove_vectors(glove_file):\n",
        "\n",
        "  f = open(glove_file , encoding = 'utf8')\n",
        "  words = set()\n",
        "  words_to_vec = dict()\n",
        "\n",
        "  for line in f:\n",
        "    line = line.strip().split()\n",
        "    word = line[0]\n",
        "    vec = line[1:]\n",
        "    words.add(word)\n",
        "    words_to_vec[word] = np.array(vec, dtype=np.float64)\n",
        "\n",
        "  return words_to_vec"
      ],
      "metadata": {
        "id": "4yoB2p3yLXz4"
      },
      "execution_count": 12,
      "outputs": []
    },
    {
      "cell_type": "code",
      "source": [
        "!wget http://nlp.stanford.edu/data/glove.6B.zip\n",
        "!unzip -q glove.6B.zip -d glov.6B"
      ],
      "metadata": {
        "colab": {
          "base_uri": "https://localhost:8080/"
        },
        "id": "9seJL9h4Ld2o",
        "outputId": "f7b8cf8e-025d-42a3-c51d-013cb5a4aee1"
      },
      "execution_count": 13,
      "outputs": [
        {
          "output_type": "stream",
          "name": "stdout",
          "text": [
            "--2022-11-24 17:11:46--  http://nlp.stanford.edu/data/glove.6B.zip\n",
            "Resolving nlp.stanford.edu (nlp.stanford.edu)... 171.64.67.140\n",
            "Connecting to nlp.stanford.edu (nlp.stanford.edu)|171.64.67.140|:80... connected.\n",
            "HTTP request sent, awaiting response... 302 Found\n",
            "Location: https://nlp.stanford.edu/data/glove.6B.zip [following]\n",
            "--2022-11-24 17:11:47--  https://nlp.stanford.edu/data/glove.6B.zip\n",
            "Connecting to nlp.stanford.edu (nlp.stanford.edu)|171.64.67.140|:443... connected.\n",
            "HTTP request sent, awaiting response... 301 Moved Permanently\n",
            "Location: https://downloads.cs.stanford.edu/nlp/data/glove.6B.zip [following]\n",
            "--2022-11-24 17:11:47--  https://downloads.cs.stanford.edu/nlp/data/glove.6B.zip\n",
            "Resolving downloads.cs.stanford.edu (downloads.cs.stanford.edu)... 171.64.64.22\n",
            "Connecting to downloads.cs.stanford.edu (downloads.cs.stanford.edu)|171.64.64.22|:443... connected.\n",
            "HTTP request sent, awaiting response... 200 OK\n",
            "Length: 862182613 (822M) [application/zip]\n",
            "Saving to: ‘glove.6B.zip’\n",
            "\n",
            "glove.6B.zip        100%[===================>] 822.24M  2.88MB/s    in 2m 51s  \n",
            "\n",
            "2022-11-24 17:14:39 (4.82 MB/s) - ‘glove.6B.zip’ saved [862182613/862182613]\n",
            "\n"
          ]
        }
      ]
    },
    {
      "cell_type": "code",
      "source": [
        "words_to_vec = read_glove_vectors('/content/glov.6B/glove.6B.50d.txt')"
      ],
      "metadata": {
        "id": "lmgKpPjbLhPA"
      },
      "execution_count": 14,
      "outputs": []
    },
    {
      "cell_type": "code",
      "source": [
        "words_to_vec['flower']"
      ],
      "metadata": {
        "colab": {
          "base_uri": "https://localhost:8080/"
        },
        "id": "NCgJmj_3LifQ",
        "outputId": "7fc94b02-88cf-4c2d-c3e1-34b2cc411ccd"
      },
      "execution_count": 15,
      "outputs": [
        {
          "output_type": "execute_result",
          "data": {
            "text/plain": [
              "array([ 0.075439 ,  1.2659   , -1.3179   ,  0.11341  ,  1.4513   ,\n",
              "        0.17337  , -0.56265  , -1.0706   ,  0.54898  ,  0.30163  ,\n",
              "       -0.11471  ,  0.38498  ,  0.9205   , -0.2491   ,  0.3308   ,\n",
              "        0.060113 , -0.0068846,  0.086864 , -0.20535  , -0.86098  ,\n",
              "        0.10007  , -0.75486  ,  0.48225  , -0.33253  , -0.23791  ,\n",
              "        0.17345  ,  0.49777  ,  0.88761  ,  0.089471 , -0.56217  ,\n",
              "        1.8535   , -0.0055493,  0.45845  ,  0.53943  ,  0.3247   ,\n",
              "        0.43479  , -0.027253 ,  0.44744  , -0.27514  , -0.016152 ,\n",
              "       -0.51024  , -0.10113  , -0.80985  , -0.31571  ,  1.5817   ,\n",
              "        0.2105   , -0.1844   , -1.7266   ,  0.092685 , -0.55696  ])"
            ]
          },
          "metadata": {},
          "execution_count": 15
        }
      ]
    },
    {
      "cell_type": "code",
      "source": [
        "def sentence_to_avg(sentence):\n",
        "\n",
        "  words = sentence.lower().split() # Convert uppercase to lowercase\n",
        "  sum_vectors = np.zeros((50,))\n",
        "\n",
        "  for w in words:\n",
        "    sum_vectors += words_to_vec[w]\n",
        "  avg_vectors = sum_vectors / len(words)\n",
        "\n",
        "  return avg_vectors"
      ],
      "metadata": {
        "id": "x1Bg8UFxLjUR"
      },
      "execution_count": 16,
      "outputs": []
    },
    {
      "cell_type": "code",
      "source": [
        "sentence_to_avg(\"Pasta is my favorite food\")"
      ],
      "metadata": {
        "colab": {
          "base_uri": "https://localhost:8080/"
        },
        "id": "vLyklpDPLoYZ",
        "outputId": "be6b9f51-a2be-43ef-8a9d-9e04ad73d6c2"
      },
      "execution_count": 17,
      "outputs": [
        {
          "output_type": "execute_result",
          "data": {
            "text/plain": [
              "array([ 0.242832  ,  0.370774  , -0.524396  ,  0.018644  ,  0.568756  ,\n",
              "        0.0219878 , -0.48206322, -0.152204  ,  0.235412  ,  0.1979466 ,\n",
              "       -0.178818  ,  0.3203976 ,  0.3379962 ,  0.1399654 ,  0.56775044,\n",
              "        0.118648  , -0.04531252,  0.335416  ,  0.149832  , -0.522814  ,\n",
              "        0.095746  , -0.0468764 ,  0.5508066 ,  0.39369132,  0.275182  ,\n",
              "       -1.275018  , -0.76076   ,  0.449102  ,  0.7542772 , -0.2332608 ,\n",
              "        2.82554   ,  0.287742  , -0.325976  ,  0.608572  , -0.020543  ,\n",
              "        0.286476  , -0.24984   ,  0.899408  ,  0.38995   , -0.270266  ,\n",
              "        0.3004734 ,  0.315962  , -0.2408782 ,  0.1586226 ,  0.5400462 ,\n",
              "        0.412066  , -0.1657008 , -0.253566  ,  0.3091806 ,  0.371192  ])"
            ]
          },
          "metadata": {},
          "execution_count": 17
        }
      ]
    },
    {
      "cell_type": "code",
      "source": [
        "X_train_avg = []\n",
        "\n",
        "for i in range(X_train.shape[0]):\n",
        "  X_train_avg.append(sentence_to_avg(X_train[i]))\n",
        "\n",
        "X_train_avg = np.array(X_train_avg)\n",
        "X_train_avg.shape, Y_train_oh.shape"
      ],
      "metadata": {
        "colab": {
          "base_uri": "https://localhost:8080/"
        },
        "id": "PFNejeDiLp4w",
        "outputId": "369896b5-3d0e-4112-ecb7-7d719ca943b7"
      },
      "execution_count": 18,
      "outputs": [
        {
          "output_type": "execute_result",
          "data": {
            "text/plain": [
              "((132, 50), (132, 5))"
            ]
          },
          "metadata": {},
          "execution_count": 18
        }
      ]
    },
    {
      "cell_type": "markdown",
      "source": [
        "##Network1: EmojiNet V2"
      ],
      "metadata": {
        "id": "os2e8hOwLvbI"
      }
    },
    {
      "cell_type": "code",
      "source": [
        "class EmojiNet_V1(Model):\n",
        "    def __init__(self):\n",
        "        super().__init__()\n",
        "        self.dense = Dense(5, input_shape=(50,), activation='softmax')\n",
        "\n",
        "    def call(self, x):\n",
        "        x = self.dense(x)\n",
        "        return x"
      ],
      "metadata": {
        "id": "Fz1QWZShLtFA"
      },
      "execution_count": 19,
      "outputs": []
    },
    {
      "cell_type": "code",
      "source": [
        "model = EmojiNet_V1()\n",
        "model.compile(optimizer=tf.keras.optimizers.Adam(),\n",
        "              loss='categorical_crossentropy', \n",
        "              metrics=['accuracy'])\n",
        "\n",
        "model.fit(X_train_avg, Y_train_oh, epochs=400, shuffle=True)"
      ],
      "metadata": {
        "colab": {
          "base_uri": "https://localhost:8080/"
        },
        "id": "80-seYZ_L1Gw",
        "outputId": "1274cf1d-bace-4c8c-b53c-3fb3c03b02c8"
      },
      "execution_count": 20,
      "outputs": [
        {
          "output_type": "stream",
          "name": "stdout",
          "text": [
            "Epoch 1/400\n",
            "5/5 [==============================] - 3s 4ms/step - loss: 1.7479 - accuracy: 0.1894\n",
            "Epoch 2/400\n",
            "5/5 [==============================] - 0s 3ms/step - loss: 1.7217 - accuracy: 0.2121\n",
            "Epoch 3/400\n",
            "5/5 [==============================] - 0s 3ms/step - loss: 1.7006 - accuracy: 0.2348\n",
            "Epoch 4/400\n",
            "5/5 [==============================] - 0s 3ms/step - loss: 1.6834 - accuracy: 0.2424\n",
            "Epoch 5/400\n",
            "5/5 [==============================] - 0s 3ms/step - loss: 1.6681 - accuracy: 0.2576\n",
            "Epoch 6/400\n",
            "5/5 [==============================] - 0s 3ms/step - loss: 1.6552 - accuracy: 0.2727\n",
            "Epoch 7/400\n",
            "5/5 [==============================] - 0s 4ms/step - loss: 1.6418 - accuracy: 0.2803\n",
            "Epoch 8/400\n",
            "5/5 [==============================] - 0s 3ms/step - loss: 1.6276 - accuracy: 0.2879\n",
            "Epoch 9/400\n",
            "5/5 [==============================] - 0s 4ms/step - loss: 1.6150 - accuracy: 0.2955\n",
            "Epoch 10/400\n",
            "5/5 [==============================] - 0s 3ms/step - loss: 1.6034 - accuracy: 0.3030\n",
            "Epoch 11/400\n",
            "5/5 [==============================] - 0s 3ms/step - loss: 1.5925 - accuracy: 0.3182\n",
            "Epoch 12/400\n",
            "5/5 [==============================] - 0s 3ms/step - loss: 1.5822 - accuracy: 0.3182\n",
            "Epoch 13/400\n",
            "5/5 [==============================] - 0s 3ms/step - loss: 1.5729 - accuracy: 0.3106\n",
            "Epoch 14/400\n",
            "5/5 [==============================] - 0s 3ms/step - loss: 1.5630 - accuracy: 0.3182\n",
            "Epoch 15/400\n",
            "5/5 [==============================] - 0s 3ms/step - loss: 1.5540 - accuracy: 0.3333\n",
            "Epoch 16/400\n",
            "5/5 [==============================] - 0s 4ms/step - loss: 1.5459 - accuracy: 0.3258\n",
            "Epoch 17/400\n",
            "5/5 [==============================] - 0s 3ms/step - loss: 1.5369 - accuracy: 0.3333\n",
            "Epoch 18/400\n",
            "5/5 [==============================] - 0s 3ms/step - loss: 1.5280 - accuracy: 0.3333\n",
            "Epoch 19/400\n",
            "5/5 [==============================] - 0s 3ms/step - loss: 1.5186 - accuracy: 0.3485\n",
            "Epoch 20/400\n",
            "5/5 [==============================] - 0s 3ms/step - loss: 1.5100 - accuracy: 0.3485\n",
            "Epoch 21/400\n",
            "5/5 [==============================] - 0s 3ms/step - loss: 1.5026 - accuracy: 0.3485\n",
            "Epoch 22/400\n",
            "5/5 [==============================] - 0s 3ms/step - loss: 1.4941 - accuracy: 0.3561\n",
            "Epoch 23/400\n",
            "5/5 [==============================] - 0s 3ms/step - loss: 1.4846 - accuracy: 0.3712\n",
            "Epoch 24/400\n",
            "5/5 [==============================] - 0s 3ms/step - loss: 1.4768 - accuracy: 0.3788\n",
            "Epoch 25/400\n",
            "5/5 [==============================] - 0s 3ms/step - loss: 1.4673 - accuracy: 0.3939\n",
            "Epoch 26/400\n",
            "5/5 [==============================] - 0s 3ms/step - loss: 1.4581 - accuracy: 0.3864\n",
            "Epoch 27/400\n",
            "5/5 [==============================] - 0s 3ms/step - loss: 1.4502 - accuracy: 0.3864\n",
            "Epoch 28/400\n",
            "5/5 [==============================] - 0s 3ms/step - loss: 1.4425 - accuracy: 0.3864\n",
            "Epoch 29/400\n",
            "5/5 [==============================] - 0s 3ms/step - loss: 1.4335 - accuracy: 0.3939\n",
            "Epoch 30/400\n",
            "5/5 [==============================] - 0s 3ms/step - loss: 1.4243 - accuracy: 0.3939\n",
            "Epoch 31/400\n",
            "5/5 [==============================] - 0s 3ms/step - loss: 1.4172 - accuracy: 0.3939\n",
            "Epoch 32/400\n",
            "5/5 [==============================] - 0s 3ms/step - loss: 1.4104 - accuracy: 0.4015\n",
            "Epoch 33/400\n",
            "5/5 [==============================] - 0s 3ms/step - loss: 1.4034 - accuracy: 0.4091\n",
            "Epoch 34/400\n",
            "5/5 [==============================] - 0s 3ms/step - loss: 1.3965 - accuracy: 0.4091\n",
            "Epoch 35/400\n",
            "5/5 [==============================] - 0s 3ms/step - loss: 1.3891 - accuracy: 0.4167\n",
            "Epoch 36/400\n",
            "5/5 [==============================] - 0s 3ms/step - loss: 1.3812 - accuracy: 0.4242\n",
            "Epoch 37/400\n",
            "5/5 [==============================] - 0s 3ms/step - loss: 1.3735 - accuracy: 0.4318\n",
            "Epoch 38/400\n",
            "5/5 [==============================] - 0s 3ms/step - loss: 1.3671 - accuracy: 0.4242\n",
            "Epoch 39/400\n",
            "5/5 [==============================] - 0s 3ms/step - loss: 1.3592 - accuracy: 0.4470\n",
            "Epoch 40/400\n",
            "5/5 [==============================] - 0s 3ms/step - loss: 1.3521 - accuracy: 0.4545\n",
            "Epoch 41/400\n",
            "5/5 [==============================] - 0s 3ms/step - loss: 1.3451 - accuracy: 0.4621\n",
            "Epoch 42/400\n",
            "5/5 [==============================] - 0s 3ms/step - loss: 1.3379 - accuracy: 0.4773\n",
            "Epoch 43/400\n",
            "5/5 [==============================] - 0s 3ms/step - loss: 1.3311 - accuracy: 0.4697\n",
            "Epoch 44/400\n",
            "5/5 [==============================] - 0s 3ms/step - loss: 1.3228 - accuracy: 0.4470\n",
            "Epoch 45/400\n",
            "5/5 [==============================] - 0s 3ms/step - loss: 1.3165 - accuracy: 0.4545\n",
            "Epoch 46/400\n",
            "5/5 [==============================] - 0s 3ms/step - loss: 1.3094 - accuracy: 0.4621\n",
            "Epoch 47/400\n",
            "5/5 [==============================] - 0s 3ms/step - loss: 1.3027 - accuracy: 0.4621\n",
            "Epoch 48/400\n",
            "5/5 [==============================] - 0s 4ms/step - loss: 1.2964 - accuracy: 0.4848\n",
            "Epoch 49/400\n",
            "5/5 [==============================] - 0s 3ms/step - loss: 1.2898 - accuracy: 0.4924\n",
            "Epoch 50/400\n",
            "5/5 [==============================] - 0s 3ms/step - loss: 1.2827 - accuracy: 0.4697\n",
            "Epoch 51/400\n",
            "5/5 [==============================] - 0s 3ms/step - loss: 1.2767 - accuracy: 0.4697\n",
            "Epoch 52/400\n",
            "5/5 [==============================] - 0s 3ms/step - loss: 1.2702 - accuracy: 0.4773\n",
            "Epoch 53/400\n",
            "5/5 [==============================] - 0s 3ms/step - loss: 1.2638 - accuracy: 0.4924\n",
            "Epoch 54/400\n",
            "5/5 [==============================] - 0s 3ms/step - loss: 1.2587 - accuracy: 0.4924\n",
            "Epoch 55/400\n",
            "5/5 [==============================] - 0s 3ms/step - loss: 1.2519 - accuracy: 0.5000\n",
            "Epoch 56/400\n",
            "5/5 [==============================] - 0s 3ms/step - loss: 1.2452 - accuracy: 0.5076\n",
            "Epoch 57/400\n",
            "5/5 [==============================] - 0s 3ms/step - loss: 1.2391 - accuracy: 0.5455\n",
            "Epoch 58/400\n",
            "5/5 [==============================] - 0s 3ms/step - loss: 1.2320 - accuracy: 0.5303\n",
            "Epoch 59/400\n",
            "5/5 [==============================] - 0s 3ms/step - loss: 1.2264 - accuracy: 0.5303\n",
            "Epoch 60/400\n",
            "5/5 [==============================] - 0s 3ms/step - loss: 1.2209 - accuracy: 0.5379\n",
            "Epoch 61/400\n",
            "5/5 [==============================] - 0s 3ms/step - loss: 1.2150 - accuracy: 0.5379\n",
            "Epoch 62/400\n",
            "5/5 [==============================] - 0s 3ms/step - loss: 1.2095 - accuracy: 0.5530\n",
            "Epoch 63/400\n",
            "5/5 [==============================] - 0s 3ms/step - loss: 1.2046 - accuracy: 0.5455\n",
            "Epoch 64/400\n",
            "5/5 [==============================] - 0s 3ms/step - loss: 1.1988 - accuracy: 0.5455\n",
            "Epoch 65/400\n",
            "5/5 [==============================] - 0s 3ms/step - loss: 1.1934 - accuracy: 0.5455\n",
            "Epoch 66/400\n",
            "5/5 [==============================] - 0s 3ms/step - loss: 1.1883 - accuracy: 0.5530\n",
            "Epoch 67/400\n",
            "5/5 [==============================] - 0s 4ms/step - loss: 1.1828 - accuracy: 0.5606\n",
            "Epoch 68/400\n",
            "5/5 [==============================] - 0s 3ms/step - loss: 1.1783 - accuracy: 0.5606\n",
            "Epoch 69/400\n",
            "5/5 [==============================] - 0s 3ms/step - loss: 1.1734 - accuracy: 0.5606\n",
            "Epoch 70/400\n",
            "5/5 [==============================] - 0s 6ms/step - loss: 1.1690 - accuracy: 0.5606\n",
            "Epoch 71/400\n",
            "5/5 [==============================] - 0s 3ms/step - loss: 1.1636 - accuracy: 0.5682\n",
            "Epoch 72/400\n",
            "5/5 [==============================] - 0s 3ms/step - loss: 1.1583 - accuracy: 0.5682\n",
            "Epoch 73/400\n",
            "5/5 [==============================] - 0s 3ms/step - loss: 1.1534 - accuracy: 0.5758\n",
            "Epoch 74/400\n",
            "5/5 [==============================] - 0s 3ms/step - loss: 1.1477 - accuracy: 0.5758\n",
            "Epoch 75/400\n",
            "5/5 [==============================] - 0s 3ms/step - loss: 1.1424 - accuracy: 0.5758\n",
            "Epoch 76/400\n",
            "5/5 [==============================] - 0s 3ms/step - loss: 1.1380 - accuracy: 0.5682\n",
            "Epoch 77/400\n",
            "5/5 [==============================] - 0s 3ms/step - loss: 1.1331 - accuracy: 0.5758\n",
            "Epoch 78/400\n",
            "5/5 [==============================] - 0s 4ms/step - loss: 1.1284 - accuracy: 0.5758\n",
            "Epoch 79/400\n",
            "5/5 [==============================] - 0s 3ms/step - loss: 1.1238 - accuracy: 0.5833\n",
            "Epoch 80/400\n",
            "5/5 [==============================] - 0s 3ms/step - loss: 1.1194 - accuracy: 0.5833\n",
            "Epoch 81/400\n",
            "5/5 [==============================] - 0s 3ms/step - loss: 1.1151 - accuracy: 0.5909\n",
            "Epoch 82/400\n",
            "5/5 [==============================] - 0s 3ms/step - loss: 1.1109 - accuracy: 0.5985\n",
            "Epoch 83/400\n",
            "5/5 [==============================] - 0s 3ms/step - loss: 1.1061 - accuracy: 0.5985\n",
            "Epoch 84/400\n",
            "5/5 [==============================] - 0s 3ms/step - loss: 1.1022 - accuracy: 0.5985\n",
            "Epoch 85/400\n",
            "5/5 [==============================] - 0s 3ms/step - loss: 1.0976 - accuracy: 0.6061\n",
            "Epoch 86/400\n",
            "5/5 [==============================] - 0s 3ms/step - loss: 1.0933 - accuracy: 0.6061\n",
            "Epoch 87/400\n",
            "5/5 [==============================] - 0s 3ms/step - loss: 1.0891 - accuracy: 0.6136\n",
            "Epoch 88/400\n",
            "5/5 [==============================] - 0s 3ms/step - loss: 1.0853 - accuracy: 0.6136\n",
            "Epoch 89/400\n",
            "5/5 [==============================] - 0s 3ms/step - loss: 1.0806 - accuracy: 0.6364\n",
            "Epoch 90/400\n",
            "5/5 [==============================] - 0s 4ms/step - loss: 1.0760 - accuracy: 0.6288\n",
            "Epoch 91/400\n",
            "5/5 [==============================] - 0s 5ms/step - loss: 1.0717 - accuracy: 0.6288\n",
            "Epoch 92/400\n",
            "5/5 [==============================] - 0s 3ms/step - loss: 1.0673 - accuracy: 0.6364\n",
            "Epoch 93/400\n",
            "5/5 [==============================] - 0s 3ms/step - loss: 1.0633 - accuracy: 0.6364\n",
            "Epoch 94/400\n",
            "5/5 [==============================] - 0s 3ms/step - loss: 1.0590 - accuracy: 0.6288\n",
            "Epoch 95/400\n",
            "5/5 [==============================] - 0s 3ms/step - loss: 1.0553 - accuracy: 0.6288\n",
            "Epoch 96/400\n",
            "5/5 [==============================] - 0s 3ms/step - loss: 1.0515 - accuracy: 0.6288\n",
            "Epoch 97/400\n",
            "5/5 [==============================] - 0s 3ms/step - loss: 1.0474 - accuracy: 0.6212\n",
            "Epoch 98/400\n",
            "5/5 [==============================] - 0s 3ms/step - loss: 1.0431 - accuracy: 0.6212\n",
            "Epoch 99/400\n",
            "5/5 [==============================] - 0s 3ms/step - loss: 1.0393 - accuracy: 0.6212\n",
            "Epoch 100/400\n",
            "5/5 [==============================] - 0s 3ms/step - loss: 1.0353 - accuracy: 0.6288\n",
            "Epoch 101/400\n",
            "5/5 [==============================] - 0s 3ms/step - loss: 1.0319 - accuracy: 0.6288\n",
            "Epoch 102/400\n",
            "5/5 [==============================] - 0s 3ms/step - loss: 1.0283 - accuracy: 0.6288\n",
            "Epoch 103/400\n",
            "5/5 [==============================] - 0s 3ms/step - loss: 1.0245 - accuracy: 0.6212\n",
            "Epoch 104/400\n",
            "5/5 [==============================] - 0s 3ms/step - loss: 1.0208 - accuracy: 0.6364\n",
            "Epoch 105/400\n",
            "5/5 [==============================] - 0s 3ms/step - loss: 1.0172 - accuracy: 0.6288\n",
            "Epoch 106/400\n",
            "5/5 [==============================] - 0s 3ms/step - loss: 1.0135 - accuracy: 0.6288\n",
            "Epoch 107/400\n",
            "5/5 [==============================] - 0s 3ms/step - loss: 1.0101 - accuracy: 0.6288\n",
            "Epoch 108/400\n",
            "5/5 [==============================] - 0s 3ms/step - loss: 1.0066 - accuracy: 0.6364\n",
            "Epoch 109/400\n",
            "5/5 [==============================] - 0s 3ms/step - loss: 1.0031 - accuracy: 0.6591\n",
            "Epoch 110/400\n",
            "5/5 [==============================] - 0s 3ms/step - loss: 1.0007 - accuracy: 0.6591\n",
            "Epoch 111/400\n",
            "5/5 [==============================] - 0s 3ms/step - loss: 0.9968 - accuracy: 0.6667\n",
            "Epoch 112/400\n",
            "5/5 [==============================] - 0s 3ms/step - loss: 0.9932 - accuracy: 0.6667\n",
            "Epoch 113/400\n",
            "5/5 [==============================] - 0s 3ms/step - loss: 0.9903 - accuracy: 0.6364\n",
            "Epoch 114/400\n",
            "5/5 [==============================] - 0s 3ms/step - loss: 0.9862 - accuracy: 0.6439\n",
            "Epoch 115/400\n",
            "5/5 [==============================] - 0s 4ms/step - loss: 0.9830 - accuracy: 0.6364\n",
            "Epoch 116/400\n",
            "5/5 [==============================] - 0s 3ms/step - loss: 0.9797 - accuracy: 0.6515\n",
            "Epoch 117/400\n",
            "5/5 [==============================] - 0s 4ms/step - loss: 0.9766 - accuracy: 0.6818\n",
            "Epoch 118/400\n",
            "5/5 [==============================] - 0s 3ms/step - loss: 0.9737 - accuracy: 0.6894\n",
            "Epoch 119/400\n",
            "5/5 [==============================] - 0s 3ms/step - loss: 0.9710 - accuracy: 0.6894\n",
            "Epoch 120/400\n",
            "5/5 [==============================] - 0s 3ms/step - loss: 0.9676 - accuracy: 0.6894\n",
            "Epoch 121/400\n",
            "5/5 [==============================] - 0s 3ms/step - loss: 0.9651 - accuracy: 0.6667\n",
            "Epoch 122/400\n",
            "5/5 [==============================] - 0s 3ms/step - loss: 0.9621 - accuracy: 0.6591\n",
            "Epoch 123/400\n",
            "5/5 [==============================] - 0s 3ms/step - loss: 0.9588 - accuracy: 0.6742\n",
            "Epoch 124/400\n",
            "5/5 [==============================] - 0s 3ms/step - loss: 0.9557 - accuracy: 0.6667\n",
            "Epoch 125/400\n",
            "5/5 [==============================] - 0s 3ms/step - loss: 0.9525 - accuracy: 0.6742\n",
            "Epoch 126/400\n",
            "5/5 [==============================] - 0s 5ms/step - loss: 0.9495 - accuracy: 0.6742\n",
            "Epoch 127/400\n",
            "5/5 [==============================] - 0s 6ms/step - loss: 0.9467 - accuracy: 0.6742\n",
            "Epoch 128/400\n",
            "5/5 [==============================] - 0s 5ms/step - loss: 0.9436 - accuracy: 0.6667\n",
            "Epoch 129/400\n",
            "5/5 [==============================] - 0s 5ms/step - loss: 0.9407 - accuracy: 0.6818\n",
            "Epoch 130/400\n",
            "5/5 [==============================] - 0s 4ms/step - loss: 0.9381 - accuracy: 0.6894\n",
            "Epoch 131/400\n",
            "5/5 [==============================] - 0s 5ms/step - loss: 0.9352 - accuracy: 0.6894\n",
            "Epoch 132/400\n",
            "5/5 [==============================] - 0s 4ms/step - loss: 0.9323 - accuracy: 0.6894\n",
            "Epoch 133/400\n",
            "5/5 [==============================] - 0s 5ms/step - loss: 0.9297 - accuracy: 0.6894\n",
            "Epoch 134/400\n",
            "5/5 [==============================] - 0s 4ms/step - loss: 0.9268 - accuracy: 0.6742\n",
            "Epoch 135/400\n",
            "5/5 [==============================] - 0s 4ms/step - loss: 0.9238 - accuracy: 0.6591\n",
            "Epoch 136/400\n",
            "5/5 [==============================] - 0s 3ms/step - loss: 0.9219 - accuracy: 0.6667\n",
            "Epoch 137/400\n",
            "5/5 [==============================] - 0s 5ms/step - loss: 0.9196 - accuracy: 0.6742\n",
            "Epoch 138/400\n",
            "5/5 [==============================] - 0s 5ms/step - loss: 0.9165 - accuracy: 0.6818\n",
            "Epoch 139/400\n",
            "5/5 [==============================] - 0s 5ms/step - loss: 0.9138 - accuracy: 0.6742\n",
            "Epoch 140/400\n",
            "5/5 [==============================] - 0s 5ms/step - loss: 0.9112 - accuracy: 0.6742\n",
            "Epoch 141/400\n",
            "5/5 [==============================] - 0s 4ms/step - loss: 0.9082 - accuracy: 0.6818\n",
            "Epoch 142/400\n",
            "5/5 [==============================] - 0s 4ms/step - loss: 0.9050 - accuracy: 0.6894\n",
            "Epoch 143/400\n",
            "5/5 [==============================] - 0s 4ms/step - loss: 0.9031 - accuracy: 0.6970\n",
            "Epoch 144/400\n",
            "5/5 [==============================] - 0s 4ms/step - loss: 0.9005 - accuracy: 0.7045\n",
            "Epoch 145/400\n",
            "5/5 [==============================] - 0s 4ms/step - loss: 0.8978 - accuracy: 0.6894\n",
            "Epoch 146/400\n",
            "5/5 [==============================] - 0s 5ms/step - loss: 0.8951 - accuracy: 0.6894\n",
            "Epoch 147/400\n",
            "5/5 [==============================] - 0s 5ms/step - loss: 0.8932 - accuracy: 0.7045\n",
            "Epoch 148/400\n",
            "5/5 [==============================] - 0s 4ms/step - loss: 0.8904 - accuracy: 0.7121\n",
            "Epoch 149/400\n",
            "5/5 [==============================] - 0s 5ms/step - loss: 0.8882 - accuracy: 0.7121\n",
            "Epoch 150/400\n",
            "5/5 [==============================] - 0s 4ms/step - loss: 0.8861 - accuracy: 0.7197\n",
            "Epoch 151/400\n",
            "5/5 [==============================] - 0s 4ms/step - loss: 0.8839 - accuracy: 0.7045\n",
            "Epoch 152/400\n",
            "5/5 [==============================] - 0s 4ms/step - loss: 0.8817 - accuracy: 0.7121\n",
            "Epoch 153/400\n",
            "5/5 [==============================] - 0s 4ms/step - loss: 0.8793 - accuracy: 0.7121\n",
            "Epoch 154/400\n",
            "5/5 [==============================] - 0s 4ms/step - loss: 0.8769 - accuracy: 0.7197\n",
            "Epoch 155/400\n",
            "5/5 [==============================] - 0s 4ms/step - loss: 0.8746 - accuracy: 0.7197\n",
            "Epoch 156/400\n",
            "5/5 [==============================] - 0s 4ms/step - loss: 0.8721 - accuracy: 0.7197\n",
            "Epoch 157/400\n",
            "5/5 [==============================] - 0s 5ms/step - loss: 0.8697 - accuracy: 0.7121\n",
            "Epoch 158/400\n",
            "5/5 [==============================] - 0s 7ms/step - loss: 0.8673 - accuracy: 0.7121\n",
            "Epoch 159/400\n",
            "5/5 [==============================] - 0s 4ms/step - loss: 0.8649 - accuracy: 0.7121\n",
            "Epoch 160/400\n",
            "5/5 [==============================] - 0s 4ms/step - loss: 0.8624 - accuracy: 0.7045\n",
            "Epoch 161/400\n",
            "5/5 [==============================] - 0s 4ms/step - loss: 0.8601 - accuracy: 0.7045\n",
            "Epoch 162/400\n",
            "5/5 [==============================] - 0s 4ms/step - loss: 0.8587 - accuracy: 0.7121\n",
            "Epoch 163/400\n",
            "5/5 [==============================] - 0s 4ms/step - loss: 0.8558 - accuracy: 0.7121\n",
            "Epoch 164/400\n",
            "5/5 [==============================] - 0s 4ms/step - loss: 0.8536 - accuracy: 0.7273\n",
            "Epoch 165/400\n",
            "5/5 [==============================] - 0s 4ms/step - loss: 0.8517 - accuracy: 0.7273\n",
            "Epoch 166/400\n",
            "5/5 [==============================] - 0s 4ms/step - loss: 0.8506 - accuracy: 0.7348\n",
            "Epoch 167/400\n",
            "5/5 [==============================] - 0s 5ms/step - loss: 0.8480 - accuracy: 0.7500\n",
            "Epoch 168/400\n",
            "5/5 [==============================] - 0s 5ms/step - loss: 0.8458 - accuracy: 0.7348\n",
            "Epoch 169/400\n",
            "5/5 [==============================] - 0s 4ms/step - loss: 0.8436 - accuracy: 0.7500\n",
            "Epoch 170/400\n",
            "5/5 [==============================] - 0s 3ms/step - loss: 0.8415 - accuracy: 0.7424\n",
            "Epoch 171/400\n",
            "5/5 [==============================] - 0s 4ms/step - loss: 0.8391 - accuracy: 0.7424\n",
            "Epoch 172/400\n",
            "5/5 [==============================] - 0s 5ms/step - loss: 0.8370 - accuracy: 0.7424\n",
            "Epoch 173/400\n",
            "5/5 [==============================] - 0s 5ms/step - loss: 0.8349 - accuracy: 0.7424\n",
            "Epoch 174/400\n",
            "5/5 [==============================] - 0s 4ms/step - loss: 0.8327 - accuracy: 0.7424\n",
            "Epoch 175/400\n",
            "5/5 [==============================] - 0s 4ms/step - loss: 0.8304 - accuracy: 0.7424\n",
            "Epoch 176/400\n",
            "5/5 [==============================] - 0s 4ms/step - loss: 0.8284 - accuracy: 0.7500\n",
            "Epoch 177/400\n",
            "5/5 [==============================] - 0s 4ms/step - loss: 0.8266 - accuracy: 0.7500\n",
            "Epoch 178/400\n",
            "5/5 [==============================] - 0s 4ms/step - loss: 0.8247 - accuracy: 0.7500\n",
            "Epoch 179/400\n",
            "5/5 [==============================] - 0s 4ms/step - loss: 0.8224 - accuracy: 0.7500\n",
            "Epoch 180/400\n",
            "5/5 [==============================] - 0s 4ms/step - loss: 0.8205 - accuracy: 0.7424\n",
            "Epoch 181/400\n",
            "5/5 [==============================] - 0s 5ms/step - loss: 0.8186 - accuracy: 0.7424\n",
            "Epoch 182/400\n",
            "5/5 [==============================] - 0s 4ms/step - loss: 0.8167 - accuracy: 0.7348\n",
            "Epoch 183/400\n",
            "5/5 [==============================] - 0s 4ms/step - loss: 0.8149 - accuracy: 0.7348\n",
            "Epoch 184/400\n",
            "5/5 [==============================] - 0s 3ms/step - loss: 0.8129 - accuracy: 0.7348\n",
            "Epoch 185/400\n",
            "5/5 [==============================] - 0s 4ms/step - loss: 0.8112 - accuracy: 0.7348\n",
            "Epoch 186/400\n",
            "5/5 [==============================] - 0s 4ms/step - loss: 0.8092 - accuracy: 0.7273\n",
            "Epoch 187/400\n",
            "5/5 [==============================] - 0s 4ms/step - loss: 0.8074 - accuracy: 0.7348\n",
            "Epoch 188/400\n",
            "5/5 [==============================] - 0s 4ms/step - loss: 0.8061 - accuracy: 0.7273\n",
            "Epoch 189/400\n",
            "5/5 [==============================] - 0s 4ms/step - loss: 0.8044 - accuracy: 0.7273\n",
            "Epoch 190/400\n",
            "5/5 [==============================] - 0s 4ms/step - loss: 0.8027 - accuracy: 0.7273\n",
            "Epoch 191/400\n",
            "5/5 [==============================] - 0s 4ms/step - loss: 0.8008 - accuracy: 0.7348\n",
            "Epoch 192/400\n",
            "5/5 [==============================] - 0s 5ms/step - loss: 0.7987 - accuracy: 0.7424\n",
            "Epoch 193/400\n",
            "5/5 [==============================] - 0s 4ms/step - loss: 0.7963 - accuracy: 0.7500\n",
            "Epoch 194/400\n",
            "5/5 [==============================] - 0s 4ms/step - loss: 0.7946 - accuracy: 0.7500\n",
            "Epoch 195/400\n",
            "5/5 [==============================] - 0s 4ms/step - loss: 0.7925 - accuracy: 0.7500\n",
            "Epoch 196/400\n",
            "5/5 [==============================] - 0s 4ms/step - loss: 0.7906 - accuracy: 0.7500\n",
            "Epoch 197/400\n",
            "5/5 [==============================] - 0s 4ms/step - loss: 0.7888 - accuracy: 0.7576\n",
            "Epoch 198/400\n",
            "5/5 [==============================] - 0s 4ms/step - loss: 0.7873 - accuracy: 0.7500\n",
            "Epoch 199/400\n",
            "5/5 [==============================] - 0s 4ms/step - loss: 0.7855 - accuracy: 0.7500\n",
            "Epoch 200/400\n",
            "5/5 [==============================] - 0s 4ms/step - loss: 0.7840 - accuracy: 0.7576\n",
            "Epoch 201/400\n",
            "5/5 [==============================] - 0s 4ms/step - loss: 0.7828 - accuracy: 0.7500\n",
            "Epoch 202/400\n",
            "5/5 [==============================] - 0s 4ms/step - loss: 0.7811 - accuracy: 0.7500\n",
            "Epoch 203/400\n",
            "5/5 [==============================] - 0s 4ms/step - loss: 0.7794 - accuracy: 0.7500\n",
            "Epoch 204/400\n",
            "5/5 [==============================] - 0s 4ms/step - loss: 0.7778 - accuracy: 0.7424\n",
            "Epoch 205/400\n",
            "5/5 [==============================] - 0s 4ms/step - loss: 0.7759 - accuracy: 0.7424\n",
            "Epoch 206/400\n",
            "5/5 [==============================] - 0s 4ms/step - loss: 0.7742 - accuracy: 0.7424\n",
            "Epoch 207/400\n",
            "5/5 [==============================] - 0s 4ms/step - loss: 0.7725 - accuracy: 0.7424\n",
            "Epoch 208/400\n",
            "5/5 [==============================] - 0s 4ms/step - loss: 0.7711 - accuracy: 0.7424\n",
            "Epoch 209/400\n",
            "5/5 [==============================] - 0s 4ms/step - loss: 0.7694 - accuracy: 0.7500\n",
            "Epoch 210/400\n",
            "5/5 [==============================] - 0s 5ms/step - loss: 0.7673 - accuracy: 0.7576\n",
            "Epoch 211/400\n",
            "5/5 [==============================] - 0s 5ms/step - loss: 0.7655 - accuracy: 0.7652\n",
            "Epoch 212/400\n",
            "5/5 [==============================] - 0s 4ms/step - loss: 0.7639 - accuracy: 0.7576\n",
            "Epoch 213/400\n",
            "5/5 [==============================] - 0s 4ms/step - loss: 0.7625 - accuracy: 0.7576\n",
            "Epoch 214/400\n",
            "5/5 [==============================] - 0s 4ms/step - loss: 0.7614 - accuracy: 0.7576\n",
            "Epoch 215/400\n",
            "5/5 [==============================] - 0s 4ms/step - loss: 0.7595 - accuracy: 0.7652\n",
            "Epoch 216/400\n",
            "5/5 [==============================] - 0s 4ms/step - loss: 0.7580 - accuracy: 0.7803\n",
            "Epoch 217/400\n",
            "5/5 [==============================] - 0s 4ms/step - loss: 0.7563 - accuracy: 0.7803\n",
            "Epoch 218/400\n",
            "5/5 [==============================] - 0s 4ms/step - loss: 0.7546 - accuracy: 0.7803\n",
            "Epoch 219/400\n",
            "5/5 [==============================] - 0s 4ms/step - loss: 0.7531 - accuracy: 0.7879\n",
            "Epoch 220/400\n",
            "5/5 [==============================] - 0s 4ms/step - loss: 0.7511 - accuracy: 0.7727\n",
            "Epoch 221/400\n",
            "5/5 [==============================] - 0s 4ms/step - loss: 0.7499 - accuracy: 0.7955\n",
            "Epoch 222/400\n",
            "5/5 [==============================] - 0s 4ms/step - loss: 0.7477 - accuracy: 0.7879\n",
            "Epoch 223/400\n",
            "5/5 [==============================] - 0s 5ms/step - loss: 0.7464 - accuracy: 0.7803\n",
            "Epoch 224/400\n",
            "5/5 [==============================] - 0s 5ms/step - loss: 0.7452 - accuracy: 0.7955\n",
            "Epoch 225/400\n",
            "5/5 [==============================] - 0s 4ms/step - loss: 0.7433 - accuracy: 0.7879\n",
            "Epoch 226/400\n",
            "5/5 [==============================] - 0s 3ms/step - loss: 0.7418 - accuracy: 0.7803\n",
            "Epoch 227/400\n",
            "5/5 [==============================] - 0s 3ms/step - loss: 0.7402 - accuracy: 0.7803\n",
            "Epoch 228/400\n",
            "5/5 [==============================] - 0s 3ms/step - loss: 0.7386 - accuracy: 0.7803\n",
            "Epoch 229/400\n",
            "5/5 [==============================] - 0s 4ms/step - loss: 0.7371 - accuracy: 0.8030\n",
            "Epoch 230/400\n",
            "5/5 [==============================] - 0s 4ms/step - loss: 0.7353 - accuracy: 0.8030\n",
            "Epoch 231/400\n",
            "5/5 [==============================] - 0s 4ms/step - loss: 0.7345 - accuracy: 0.8106\n",
            "Epoch 232/400\n",
            "5/5 [==============================] - 0s 4ms/step - loss: 0.7328 - accuracy: 0.8030\n",
            "Epoch 233/400\n",
            "5/5 [==============================] - 0s 4ms/step - loss: 0.7312 - accuracy: 0.8030\n",
            "Epoch 234/400\n",
            "5/5 [==============================] - 0s 4ms/step - loss: 0.7297 - accuracy: 0.8030\n",
            "Epoch 235/400\n",
            "5/5 [==============================] - 0s 4ms/step - loss: 0.7289 - accuracy: 0.8030\n",
            "Epoch 236/400\n",
            "5/5 [==============================] - 0s 5ms/step - loss: 0.7268 - accuracy: 0.7879\n",
            "Epoch 237/400\n",
            "5/5 [==============================] - 0s 5ms/step - loss: 0.7255 - accuracy: 0.7879\n",
            "Epoch 238/400\n",
            "5/5 [==============================] - 0s 5ms/step - loss: 0.7241 - accuracy: 0.8030\n",
            "Epoch 239/400\n",
            "5/5 [==============================] - 0s 4ms/step - loss: 0.7226 - accuracy: 0.8030\n",
            "Epoch 240/400\n",
            "5/5 [==============================] - 0s 5ms/step - loss: 0.7211 - accuracy: 0.8030\n",
            "Epoch 241/400\n",
            "5/5 [==============================] - 0s 4ms/step - loss: 0.7200 - accuracy: 0.8030\n",
            "Epoch 242/400\n",
            "5/5 [==============================] - 0s 4ms/step - loss: 0.7183 - accuracy: 0.7955\n",
            "Epoch 243/400\n",
            "5/5 [==============================] - 0s 4ms/step - loss: 0.7169 - accuracy: 0.8030\n",
            "Epoch 244/400\n",
            "5/5 [==============================] - 0s 4ms/step - loss: 0.7153 - accuracy: 0.7955\n",
            "Epoch 245/400\n",
            "5/5 [==============================] - 0s 4ms/step - loss: 0.7142 - accuracy: 0.7955\n",
            "Epoch 246/400\n",
            "5/5 [==============================] - 0s 4ms/step - loss: 0.7127 - accuracy: 0.7955\n",
            "Epoch 247/400\n",
            "5/5 [==============================] - 0s 4ms/step - loss: 0.7116 - accuracy: 0.8106\n",
            "Epoch 248/400\n",
            "5/5 [==============================] - 0s 4ms/step - loss: 0.7103 - accuracy: 0.8106\n",
            "Epoch 249/400\n",
            "5/5 [==============================] - 0s 3ms/step - loss: 0.7096 - accuracy: 0.8030\n",
            "Epoch 250/400\n",
            "5/5 [==============================] - 0s 4ms/step - loss: 0.7081 - accuracy: 0.8106\n",
            "Epoch 251/400\n",
            "5/5 [==============================] - 0s 4ms/step - loss: 0.7067 - accuracy: 0.8182\n",
            "Epoch 252/400\n",
            "5/5 [==============================] - 0s 5ms/step - loss: 0.7055 - accuracy: 0.8106\n",
            "Epoch 253/400\n",
            "5/5 [==============================] - 0s 4ms/step - loss: 0.7044 - accuracy: 0.8106\n",
            "Epoch 254/400\n",
            "5/5 [==============================] - 0s 4ms/step - loss: 0.7025 - accuracy: 0.8182\n",
            "Epoch 255/400\n",
            "5/5 [==============================] - 0s 4ms/step - loss: 0.7008 - accuracy: 0.8182\n",
            "Epoch 256/400\n",
            "5/5 [==============================] - 0s 4ms/step - loss: 0.6995 - accuracy: 0.8106\n",
            "Epoch 257/400\n",
            "5/5 [==============================] - 0s 3ms/step - loss: 0.6981 - accuracy: 0.8106\n",
            "Epoch 258/400\n",
            "5/5 [==============================] - 0s 4ms/step - loss: 0.6969 - accuracy: 0.8182\n",
            "Epoch 259/400\n",
            "5/5 [==============================] - 0s 3ms/step - loss: 0.6960 - accuracy: 0.8182\n",
            "Epoch 260/400\n",
            "5/5 [==============================] - 0s 4ms/step - loss: 0.6949 - accuracy: 0.8182\n",
            "Epoch 261/400\n",
            "5/5 [==============================] - 0s 4ms/step - loss: 0.6933 - accuracy: 0.8030\n",
            "Epoch 262/400\n",
            "5/5 [==============================] - 0s 4ms/step - loss: 0.6916 - accuracy: 0.8030\n",
            "Epoch 263/400\n",
            "5/5 [==============================] - 0s 4ms/step - loss: 0.6908 - accuracy: 0.8030\n",
            "Epoch 264/400\n",
            "5/5 [==============================] - 0s 4ms/step - loss: 0.6896 - accuracy: 0.8106\n",
            "Epoch 265/400\n",
            "5/5 [==============================] - 0s 4ms/step - loss: 0.6883 - accuracy: 0.8030\n",
            "Epoch 266/400\n",
            "5/5 [==============================] - 0s 4ms/step - loss: 0.6870 - accuracy: 0.7955\n",
            "Epoch 267/400\n",
            "5/5 [==============================] - 0s 4ms/step - loss: 0.6856 - accuracy: 0.8106\n",
            "Epoch 268/400\n",
            "5/5 [==============================] - 0s 4ms/step - loss: 0.6844 - accuracy: 0.8182\n",
            "Epoch 269/400\n",
            "5/5 [==============================] - 0s 4ms/step - loss: 0.6835 - accuracy: 0.8106\n",
            "Epoch 270/400\n",
            "5/5 [==============================] - 0s 4ms/step - loss: 0.6819 - accuracy: 0.8030\n",
            "Epoch 271/400\n",
            "5/5 [==============================] - 0s 4ms/step - loss: 0.6811 - accuracy: 0.8106\n",
            "Epoch 272/400\n",
            "5/5 [==============================] - 0s 4ms/step - loss: 0.6798 - accuracy: 0.8258\n",
            "Epoch 273/400\n",
            "5/5 [==============================] - 0s 4ms/step - loss: 0.6791 - accuracy: 0.8258\n",
            "Epoch 274/400\n",
            "5/5 [==============================] - 0s 4ms/step - loss: 0.6773 - accuracy: 0.8030\n",
            "Epoch 275/400\n",
            "5/5 [==============================] - 0s 4ms/step - loss: 0.6765 - accuracy: 0.8106\n",
            "Epoch 276/400\n",
            "5/5 [==============================] - 0s 4ms/step - loss: 0.6751 - accuracy: 0.8106\n",
            "Epoch 277/400\n",
            "5/5 [==============================] - 0s 4ms/step - loss: 0.6736 - accuracy: 0.8030\n",
            "Epoch 278/400\n",
            "5/5 [==============================] - 0s 5ms/step - loss: 0.6726 - accuracy: 0.8182\n",
            "Epoch 279/400\n",
            "5/5 [==============================] - 0s 4ms/step - loss: 0.6711 - accuracy: 0.8182\n",
            "Epoch 280/400\n",
            "5/5 [==============================] - 0s 5ms/step - loss: 0.6699 - accuracy: 0.8182\n",
            "Epoch 281/400\n",
            "5/5 [==============================] - 0s 6ms/step - loss: 0.6684 - accuracy: 0.8182\n",
            "Epoch 282/400\n",
            "5/5 [==============================] - 0s 5ms/step - loss: 0.6678 - accuracy: 0.8258\n",
            "Epoch 283/400\n",
            "5/5 [==============================] - 0s 5ms/step - loss: 0.6665 - accuracy: 0.8106\n",
            "Epoch 284/400\n",
            "5/5 [==============================] - 0s 4ms/step - loss: 0.6655 - accuracy: 0.8182\n",
            "Epoch 285/400\n",
            "5/5 [==============================] - 0s 4ms/step - loss: 0.6642 - accuracy: 0.8258\n",
            "Epoch 286/400\n",
            "5/5 [==============================] - 0s 4ms/step - loss: 0.6632 - accuracy: 0.8182\n",
            "Epoch 287/400\n",
            "5/5 [==============================] - 0s 5ms/step - loss: 0.6616 - accuracy: 0.8106\n",
            "Epoch 288/400\n",
            "5/5 [==============================] - 0s 4ms/step - loss: 0.6604 - accuracy: 0.8182\n",
            "Epoch 289/400\n",
            "5/5 [==============================] - 0s 4ms/step - loss: 0.6594 - accuracy: 0.8258\n",
            "Epoch 290/400\n",
            "5/5 [==============================] - 0s 4ms/step - loss: 0.6586 - accuracy: 0.8333\n",
            "Epoch 291/400\n",
            "5/5 [==============================] - 0s 4ms/step - loss: 0.6577 - accuracy: 0.8258\n",
            "Epoch 292/400\n",
            "5/5 [==============================] - 0s 4ms/step - loss: 0.6565 - accuracy: 0.8258\n",
            "Epoch 293/400\n",
            "5/5 [==============================] - 0s 4ms/step - loss: 0.6554 - accuracy: 0.8258\n",
            "Epoch 294/400\n",
            "5/5 [==============================] - 0s 4ms/step - loss: 0.6542 - accuracy: 0.8258\n",
            "Epoch 295/400\n",
            "5/5 [==============================] - 0s 5ms/step - loss: 0.6531 - accuracy: 0.8258\n",
            "Epoch 296/400\n",
            "5/5 [==============================] - 0s 4ms/step - loss: 0.6517 - accuracy: 0.8182\n",
            "Epoch 297/400\n",
            "5/5 [==============================] - 0s 4ms/step - loss: 0.6507 - accuracy: 0.8182\n",
            "Epoch 298/400\n",
            "5/5 [==============================] - 0s 5ms/step - loss: 0.6494 - accuracy: 0.8258\n",
            "Epoch 299/400\n",
            "5/5 [==============================] - 0s 5ms/step - loss: 0.6486 - accuracy: 0.8258\n",
            "Epoch 300/400\n",
            "5/5 [==============================] - 0s 6ms/step - loss: 0.6475 - accuracy: 0.8333\n",
            "Epoch 301/400\n",
            "5/5 [==============================] - 0s 5ms/step - loss: 0.6462 - accuracy: 0.8258\n",
            "Epoch 302/400\n",
            "5/5 [==============================] - 0s 5ms/step - loss: 0.6452 - accuracy: 0.8333\n",
            "Epoch 303/400\n",
            "5/5 [==============================] - 0s 5ms/step - loss: 0.6447 - accuracy: 0.8333\n",
            "Epoch 304/400\n",
            "5/5 [==============================] - 0s 4ms/step - loss: 0.6439 - accuracy: 0.8409\n",
            "Epoch 305/400\n",
            "5/5 [==============================] - 0s 4ms/step - loss: 0.6431 - accuracy: 0.8409\n",
            "Epoch 306/400\n",
            "5/5 [==============================] - 0s 4ms/step - loss: 0.6421 - accuracy: 0.8333\n",
            "Epoch 307/400\n",
            "5/5 [==============================] - 0s 4ms/step - loss: 0.6409 - accuracy: 0.8333\n",
            "Epoch 308/400\n",
            "5/5 [==============================] - 0s 5ms/step - loss: 0.6397 - accuracy: 0.8333\n",
            "Epoch 309/400\n",
            "5/5 [==============================] - 0s 5ms/step - loss: 0.6384 - accuracy: 0.8333\n",
            "Epoch 310/400\n",
            "5/5 [==============================] - 0s 4ms/step - loss: 0.6369 - accuracy: 0.8409\n",
            "Epoch 311/400\n",
            "5/5 [==============================] - 0s 4ms/step - loss: 0.6357 - accuracy: 0.8409\n",
            "Epoch 312/400\n",
            "5/5 [==============================] - 0s 4ms/step - loss: 0.6345 - accuracy: 0.8485\n",
            "Epoch 313/400\n",
            "5/5 [==============================] - 0s 4ms/step - loss: 0.6332 - accuracy: 0.8485\n",
            "Epoch 314/400\n",
            "5/5 [==============================] - 0s 4ms/step - loss: 0.6322 - accuracy: 0.8485\n",
            "Epoch 315/400\n",
            "5/5 [==============================] - 0s 5ms/step - loss: 0.6311 - accuracy: 0.8409\n",
            "Epoch 316/400\n",
            "5/5 [==============================] - 0s 4ms/step - loss: 0.6300 - accuracy: 0.8333\n",
            "Epoch 317/400\n",
            "5/5 [==============================] - 0s 5ms/step - loss: 0.6292 - accuracy: 0.8333\n",
            "Epoch 318/400\n",
            "5/5 [==============================] - 0s 4ms/step - loss: 0.6286 - accuracy: 0.8409\n",
            "Epoch 319/400\n",
            "5/5 [==============================] - 0s 5ms/step - loss: 0.6277 - accuracy: 0.8409\n",
            "Epoch 320/400\n",
            "5/5 [==============================] - 0s 4ms/step - loss: 0.6266 - accuracy: 0.8409\n",
            "Epoch 321/400\n",
            "5/5 [==============================] - 0s 4ms/step - loss: 0.6253 - accuracy: 0.8409\n",
            "Epoch 322/400\n",
            "5/5 [==============================] - 0s 5ms/step - loss: 0.6244 - accuracy: 0.8333\n",
            "Epoch 323/400\n",
            "5/5 [==============================] - 0s 5ms/step - loss: 0.6230 - accuracy: 0.8485\n",
            "Epoch 324/400\n",
            "5/5 [==============================] - 0s 4ms/step - loss: 0.6221 - accuracy: 0.8409\n",
            "Epoch 325/400\n",
            "5/5 [==============================] - 0s 6ms/step - loss: 0.6213 - accuracy: 0.8409\n",
            "Epoch 326/400\n",
            "5/5 [==============================] - 0s 5ms/step - loss: 0.6201 - accuracy: 0.8409\n",
            "Epoch 327/400\n",
            "5/5 [==============================] - 0s 4ms/step - loss: 0.6200 - accuracy: 0.8409\n",
            "Epoch 328/400\n",
            "5/5 [==============================] - 0s 4ms/step - loss: 0.6185 - accuracy: 0.8333\n",
            "Epoch 329/400\n",
            "5/5 [==============================] - 0s 4ms/step - loss: 0.6178 - accuracy: 0.8409\n",
            "Epoch 330/400\n",
            "5/5 [==============================] - 0s 5ms/step - loss: 0.6176 - accuracy: 0.8409\n",
            "Epoch 331/400\n",
            "5/5 [==============================] - 0s 4ms/step - loss: 0.6168 - accuracy: 0.8409\n",
            "Epoch 332/400\n",
            "5/5 [==============================] - 0s 4ms/step - loss: 0.6160 - accuracy: 0.8409\n",
            "Epoch 333/400\n",
            "5/5 [==============================] - 0s 3ms/step - loss: 0.6151 - accuracy: 0.8409\n",
            "Epoch 334/400\n",
            "5/5 [==============================] - 0s 5ms/step - loss: 0.6141 - accuracy: 0.8409\n",
            "Epoch 335/400\n",
            "5/5 [==============================] - 0s 4ms/step - loss: 0.6128 - accuracy: 0.8409\n",
            "Epoch 336/400\n",
            "5/5 [==============================] - 0s 4ms/step - loss: 0.6116 - accuracy: 0.8409\n",
            "Epoch 337/400\n",
            "5/5 [==============================] - 0s 4ms/step - loss: 0.6110 - accuracy: 0.8485\n",
            "Epoch 338/400\n",
            "5/5 [==============================] - 0s 4ms/step - loss: 0.6100 - accuracy: 0.8485\n",
            "Epoch 339/400\n",
            "5/5 [==============================] - 0s 5ms/step - loss: 0.6093 - accuracy: 0.8409\n",
            "Epoch 340/400\n",
            "5/5 [==============================] - 0s 5ms/step - loss: 0.6084 - accuracy: 0.8409\n",
            "Epoch 341/400\n",
            "5/5 [==============================] - 0s 4ms/step - loss: 0.6072 - accuracy: 0.8409\n",
            "Epoch 342/400\n",
            "5/5 [==============================] - 0s 4ms/step - loss: 0.6062 - accuracy: 0.8485\n",
            "Epoch 343/400\n",
            "5/5 [==============================] - 0s 4ms/step - loss: 0.6050 - accuracy: 0.8485\n",
            "Epoch 344/400\n",
            "5/5 [==============================] - 0s 4ms/step - loss: 0.6036 - accuracy: 0.8636\n",
            "Epoch 345/400\n",
            "5/5 [==============================] - 0s 5ms/step - loss: 0.6027 - accuracy: 0.8636\n",
            "Epoch 346/400\n",
            "5/5 [==============================] - 0s 4ms/step - loss: 0.6024 - accuracy: 0.8561\n",
            "Epoch 347/400\n",
            "5/5 [==============================] - 0s 4ms/step - loss: 0.6011 - accuracy: 0.8636\n",
            "Epoch 348/400\n",
            "5/5 [==============================] - 0s 4ms/step - loss: 0.6002 - accuracy: 0.8636\n",
            "Epoch 349/400\n",
            "5/5 [==============================] - 0s 4ms/step - loss: 0.5996 - accuracy: 0.8561\n",
            "Epoch 350/400\n",
            "5/5 [==============================] - 0s 4ms/step - loss: 0.5986 - accuracy: 0.8636\n",
            "Epoch 351/400\n",
            "5/5 [==============================] - 0s 5ms/step - loss: 0.5980 - accuracy: 0.8561\n",
            "Epoch 352/400\n",
            "5/5 [==============================] - 0s 4ms/step - loss: 0.5973 - accuracy: 0.8561\n",
            "Epoch 353/400\n",
            "5/5 [==============================] - 0s 5ms/step - loss: 0.5964 - accuracy: 0.8561\n",
            "Epoch 354/400\n",
            "5/5 [==============================] - 0s 4ms/step - loss: 0.5954 - accuracy: 0.8636\n",
            "Epoch 355/400\n",
            "5/5 [==============================] - 0s 4ms/step - loss: 0.5945 - accuracy: 0.8636\n",
            "Epoch 356/400\n",
            "5/5 [==============================] - 0s 4ms/step - loss: 0.5933 - accuracy: 0.8636\n",
            "Epoch 357/400\n",
            "5/5 [==============================] - 0s 5ms/step - loss: 0.5923 - accuracy: 0.8561\n",
            "Epoch 358/400\n",
            "5/5 [==============================] - 0s 4ms/step - loss: 0.5913 - accuracy: 0.8561\n",
            "Epoch 359/400\n",
            "5/5 [==============================] - 0s 5ms/step - loss: 0.5907 - accuracy: 0.8561\n",
            "Epoch 360/400\n",
            "5/5 [==============================] - 0s 4ms/step - loss: 0.5895 - accuracy: 0.8561\n",
            "Epoch 361/400\n",
            "5/5 [==============================] - 0s 4ms/step - loss: 0.5887 - accuracy: 0.8561\n",
            "Epoch 362/400\n",
            "5/5 [==============================] - 0s 5ms/step - loss: 0.5878 - accuracy: 0.8636\n",
            "Epoch 363/400\n",
            "5/5 [==============================] - 0s 6ms/step - loss: 0.5873 - accuracy: 0.8561\n",
            "Epoch 364/400\n",
            "5/5 [==============================] - 0s 4ms/step - loss: 0.5862 - accuracy: 0.8561\n",
            "Epoch 365/400\n",
            "5/5 [==============================] - 0s 4ms/step - loss: 0.5854 - accuracy: 0.8561\n",
            "Epoch 366/400\n",
            "5/5 [==============================] - 0s 3ms/step - loss: 0.5846 - accuracy: 0.8561\n",
            "Epoch 367/400\n",
            "5/5 [==============================] - 0s 4ms/step - loss: 0.5840 - accuracy: 0.8561\n",
            "Epoch 368/400\n",
            "5/5 [==============================] - 0s 4ms/step - loss: 0.5829 - accuracy: 0.8636\n",
            "Epoch 369/400\n",
            "5/5 [==============================] - 0s 4ms/step - loss: 0.5821 - accuracy: 0.8636\n",
            "Epoch 370/400\n",
            "5/5 [==============================] - 0s 6ms/step - loss: 0.5815 - accuracy: 0.8561\n",
            "Epoch 371/400\n",
            "5/5 [==============================] - 0s 4ms/step - loss: 0.5805 - accuracy: 0.8636\n",
            "Epoch 372/400\n",
            "5/5 [==============================] - 0s 4ms/step - loss: 0.5798 - accuracy: 0.8712\n",
            "Epoch 373/400\n",
            "5/5 [==============================] - 0s 3ms/step - loss: 0.5790 - accuracy: 0.8636\n",
            "Epoch 374/400\n",
            "5/5 [==============================] - 0s 4ms/step - loss: 0.5781 - accuracy: 0.8561\n",
            "Epoch 375/400\n",
            "5/5 [==============================] - 0s 4ms/step - loss: 0.5775 - accuracy: 0.8636\n",
            "Epoch 376/400\n",
            "5/5 [==============================] - 0s 5ms/step - loss: 0.5766 - accuracy: 0.8561\n",
            "Epoch 377/400\n",
            "5/5 [==============================] - 0s 4ms/step - loss: 0.5762 - accuracy: 0.8636\n",
            "Epoch 378/400\n",
            "5/5 [==============================] - 0s 4ms/step - loss: 0.5754 - accuracy: 0.8485\n",
            "Epoch 379/400\n",
            "5/5 [==============================] - 0s 4ms/step - loss: 0.5748 - accuracy: 0.8561\n",
            "Epoch 380/400\n",
            "5/5 [==============================] - 0s 4ms/step - loss: 0.5739 - accuracy: 0.8561\n",
            "Epoch 381/400\n",
            "5/5 [==============================] - 0s 4ms/step - loss: 0.5733 - accuracy: 0.8712\n",
            "Epoch 382/400\n",
            "5/5 [==============================] - 0s 4ms/step - loss: 0.5717 - accuracy: 0.8788\n",
            "Epoch 383/400\n",
            "5/5 [==============================] - 0s 4ms/step - loss: 0.5712 - accuracy: 0.8788\n",
            "Epoch 384/400\n",
            "5/5 [==============================] - 0s 4ms/step - loss: 0.5704 - accuracy: 0.8788\n",
            "Epoch 385/400\n",
            "5/5 [==============================] - 0s 4ms/step - loss: 0.5694 - accuracy: 0.8788\n",
            "Epoch 386/400\n",
            "5/5 [==============================] - 0s 5ms/step - loss: 0.5686 - accuracy: 0.8788\n",
            "Epoch 387/400\n",
            "5/5 [==============================] - 0s 3ms/step - loss: 0.5681 - accuracy: 0.8788\n",
            "Epoch 388/400\n",
            "5/5 [==============================] - 0s 4ms/step - loss: 0.5675 - accuracy: 0.8788\n",
            "Epoch 389/400\n",
            "5/5 [==============================] - 0s 4ms/step - loss: 0.5669 - accuracy: 0.8712\n",
            "Epoch 390/400\n",
            "5/5 [==============================] - 0s 4ms/step - loss: 0.5659 - accuracy: 0.8864\n",
            "Epoch 391/400\n",
            "5/5 [==============================] - 0s 5ms/step - loss: 0.5649 - accuracy: 0.8864\n",
            "Epoch 392/400\n",
            "5/5 [==============================] - 0s 4ms/step - loss: 0.5635 - accuracy: 0.8788\n",
            "Epoch 393/400\n",
            "5/5 [==============================] - 0s 4ms/step - loss: 0.5629 - accuracy: 0.8788\n",
            "Epoch 394/400\n",
            "5/5 [==============================] - 0s 3ms/step - loss: 0.5620 - accuracy: 0.8788\n",
            "Epoch 395/400\n",
            "5/5 [==============================] - 0s 4ms/step - loss: 0.5620 - accuracy: 0.8788\n",
            "Epoch 396/400\n",
            "5/5 [==============================] - 0s 4ms/step - loss: 0.5611 - accuracy: 0.8788\n",
            "Epoch 397/400\n",
            "5/5 [==============================] - 0s 4ms/step - loss: 0.5608 - accuracy: 0.8712\n",
            "Epoch 398/400\n",
            "5/5 [==============================] - 0s 5ms/step - loss: 0.5606 - accuracy: 0.8788\n",
            "Epoch 399/400\n",
            "5/5 [==============================] - 0s 4ms/step - loss: 0.5597 - accuracy: 0.8788\n",
            "Epoch 400/400\n",
            "5/5 [==============================] - 0s 4ms/step - loss: 0.5593 - accuracy: 0.8788\n"
          ]
        },
        {
          "output_type": "execute_result",
          "data": {
            "text/plain": [
              "<keras.callbacks.History at 0x7effd03c88d0>"
            ]
          },
          "metadata": {},
          "execution_count": 20
        }
      ]
    },
    {
      "cell_type": "code",
      "source": [
        "X_me = np.array([\"not happy\", \"not sad\", \"i adore you\", \"i love you\", \"funny lol\", \"lets play with a ball\", \"food is ready\", \"not feeling happy and funny\", \"i love airplane\"])\n",
        "Y_me = np.array([[2], [0], [0], [2], [1], [4], [3], [0]])\n",
        "X_me_avg = []\n",
        "\n",
        "for x in X_me:\n",
        "    X_me_avg.append(sentence_to_avg(x))\n",
        "\n",
        "X_me_avg = np.array(X_me_avg)\n",
        "pred = model.predict(X_me_avg)\n",
        "\n",
        "for i in range(X_me.shape[0]):\n",
        "    print(X_me[i], label_to_emoji(np.argmax(pred[i])))\n",
        "\n",
        "print(\"\")\n",
        "print(\"Number of classification error\", len(np.nonzero(Y_me-np.argmax(pred[i]))))"
      ],
      "metadata": {
        "colab": {
          "base_uri": "https://localhost:8080/"
        },
        "id": "TU7JOS4DL2_5",
        "outputId": "e6782dce-275b-445e-f2ff-267ee752badc"
      },
      "execution_count": 21,
      "outputs": [
        {
          "output_type": "stream",
          "name": "stdout",
          "text": [
            "1/1 [==============================] - 0s 62ms/step\n",
            "not happy 😔\n",
            "not sad 😔\n",
            "i adore you ❤️\n",
            "i love you ❤️\n",
            "funny lol 😂\n",
            "lets play with a ball ⚽\n",
            "food is ready 🍽️\n",
            "not feeling happy and funny 😂\n",
            "i love airplane ❤️\n",
            "\n",
            "Number of classification error 2\n"
          ]
        }
      ]
    },
    {
      "cell_type": "markdown",
      "source": [
        "##Network1: EmojiNet V2"
      ],
      "metadata": {
        "id": "U_beP-ZyPw5i"
      }
    },
    {
      "cell_type": "code",
      "source": [
        "def convert_sentences_to_embeddings(X):\n",
        "\n",
        "    emb_dim = words_to_vec[\"cucumber\"].shape[0]  # define dimensionality of your GloVe word vectors (= 50)\n",
        "    emb_matrix = np.zeros((X.shape[0], max_len, emb_dim))\n",
        "\n",
        "    for i in range(X.shape[0]):\n",
        "        words = X[i].lower().split()\n",
        "        for j in range(len(words)):\n",
        "            emb_matrix[i, j, :] = words_to_vec[words[j]]\n",
        "\n",
        "    return emb_matrix"
      ],
      "metadata": {
        "id": "LTlYG2G-RUL6"
      },
      "execution_count": 22,
      "outputs": []
    },
    {
      "cell_type": "code",
      "source": [
        "X_me = np.array([\"funny lol\", \"lets play baseball\", \"food is ready for you\"])\n",
        "print(X_me)\n",
        "print(convert_sentences_to_embeddings(X_me))"
      ],
      "metadata": {
        "colab": {
          "base_uri": "https://localhost:8080/"
        },
        "id": "xO5nxwB2RXdu",
        "outputId": "b58569ac-7da5-4c18-b5d6-15f9d279f3ef"
      },
      "execution_count": 23,
      "outputs": [
        {
          "output_type": "stream",
          "name": "stdout",
          "text": [
            "['funny lol' 'lets play baseball' 'food is ready for you']\n",
            "[[[-0.014547 -0.20208  -0.75278  ... -0.13429   0.21133   1.5368  ]\n",
            "  [-0.54289   0.053743 -0.46978  ...  0.20745  -0.074958  0.080575]\n",
            "  [ 0.        0.        0.       ...  0.        0.        0.      ]\n",
            "  ...\n",
            "  [ 0.        0.        0.       ...  0.        0.        0.      ]\n",
            "  [ 0.        0.        0.       ...  0.        0.        0.      ]\n",
            "  [ 0.        0.        0.       ...  0.        0.        0.      ]]\n",
            "\n",
            " [[ 0.30423  -0.24405   1.0303   ... -0.43296  -0.096168  0.43463 ]\n",
            "  [-0.73571   0.19937  -0.89408  ... -0.075279 -0.44448   0.47437 ]\n",
            "  [-1.9327    1.0421   -0.78515  ...  0.55667  -0.70315   0.17157 ]\n",
            "  ...\n",
            "  [ 0.        0.        0.       ...  0.        0.        0.      ]\n",
            "  [ 0.        0.        0.       ...  0.        0.        0.      ]\n",
            "  [ 0.        0.        0.       ...  0.        0.        0.      ]]\n",
            "\n",
            " [[ 0.47222  -0.44545  -0.51833  ...  0.34932   0.33934   0.25499 ]\n",
            "  [ 0.6185    0.64254  -0.46552  ... -0.27557   0.30899   0.48497 ]\n",
            "  [ 0.36825  -0.20512   0.36656  ...  0.40331  -0.47358   0.54165 ]\n",
            "  ...\n",
            "  [ 0.        0.        0.       ...  0.        0.        0.      ]\n",
            "  [ 0.        0.        0.       ...  0.        0.        0.      ]\n",
            "  [ 0.        0.        0.       ...  0.        0.        0.      ]]]\n"
          ]
        }
      ]
    },
    {
      "cell_type": "code",
      "source": [
        "X_train_embs =convert_sentences_to_embeddings(X_train)\n",
        "X_train_embs.shape"
      ],
      "metadata": {
        "colab": {
          "base_uri": "https://localhost:8080/"
        },
        "id": "tk5Bi33SRZcZ",
        "outputId": "97b12247-6c90-45f3-821e-595bc2d51834"
      },
      "execution_count": 24,
      "outputs": [
        {
          "output_type": "execute_result",
          "data": {
            "text/plain": [
              "(132, 10, 50)"
            ]
          },
          "metadata": {},
          "execution_count": 24
        }
      ]
    },
    {
      "cell_type": "code",
      "source": [
        "class EmojiNet_V2(Model):\n",
        "    def __init__(self):\n",
        "        super().__init__()\n",
        "        \n",
        "        self.GRU_1 = LSTM(500, return_sequences=True)\n",
        "        self.dropout_1 = Dropout(0.1)\n",
        "        self.GRU_2 = GRU(200, return_sequences=True)\n",
        "        self.dropout_2 = Dropout(0.1)\n",
        "        self.GRU_3 = SimpleRNN(100)\n",
        "        self.dense = Dense(5, activation='softmax')\n",
        "\n",
        "    def call(self, x):\n",
        "        x = self.GRU_1(x)\n",
        "        x = self.dropout_1(x)\n",
        "        x = self.GRU_2(x)\n",
        "        x = self.dropout_2(x)\n",
        "        x = self.GRU_3(x)\n",
        "        x = self.dense(x)\n",
        "        return x"
      ],
      "metadata": {
        "id": "mDZWKMjnORXZ"
      },
      "execution_count": 25,
      "outputs": []
    },
    {
      "cell_type": "code",
      "source": [
        "model2 = EmojiNet_V2()\n",
        "model2.compile(optimizer=tf.keras.optimizers.Adam(lr=0.001, beta1=0.9, beta2=0.999),\n",
        "              loss='categorical_crossentropy', \n",
        "              metrics=['accuracy'])\n",
        "\n",
        "model2.fit(X_train_embs, Y_train_oh, epochs=30, shuffle=True)"
      ],
      "metadata": {
        "colab": {
          "base_uri": "https://localhost:8080/"
        },
        "id": "7s5uWMQ3RGao",
        "outputId": "c1379743-e238-4bb7-bd99-8a9f052d71f0"
      },
      "execution_count": 26,
      "outputs": [
        {
          "output_type": "stream",
          "name": "stdout",
          "text": [
            "Epoch 1/30\n",
            "5/5 [==============================] - 6s 20ms/step - loss: 1.6767 - accuracy: 0.3409\n",
            "Epoch 2/30\n",
            "5/5 [==============================] - 0s 16ms/step - loss: 1.6470 - accuracy: 0.3409\n",
            "Epoch 3/30\n",
            "5/5 [==============================] - 0s 16ms/step - loss: 1.0754 - accuracy: 0.6742\n",
            "Epoch 4/30\n",
            "5/5 [==============================] - 0s 15ms/step - loss: 0.9802 - accuracy: 0.6515\n",
            "Epoch 5/30\n",
            "5/5 [==============================] - 0s 18ms/step - loss: 0.8180 - accuracy: 0.7273\n",
            "Epoch 6/30\n",
            "5/5 [==============================] - 0s 17ms/step - loss: 0.7108 - accuracy: 0.7348\n",
            "Epoch 7/30\n",
            "5/5 [==============================] - 0s 17ms/step - loss: 0.6539 - accuracy: 0.7348\n",
            "Epoch 8/30\n",
            "5/5 [==============================] - 0s 18ms/step - loss: 0.4773 - accuracy: 0.8258\n",
            "Epoch 9/30\n",
            "5/5 [==============================] - 0s 17ms/step - loss: 0.4242 - accuracy: 0.8561\n",
            "Epoch 10/30\n",
            "5/5 [==============================] - 0s 15ms/step - loss: 0.3888 - accuracy: 0.8712\n",
            "Epoch 11/30\n",
            "5/5 [==============================] - 0s 16ms/step - loss: 0.2915 - accuracy: 0.9015\n",
            "Epoch 12/30\n",
            "5/5 [==============================] - 0s 17ms/step - loss: 0.4998 - accuracy: 0.8182\n",
            "Epoch 13/30\n",
            "5/5 [==============================] - 0s 15ms/step - loss: 0.3433 - accuracy: 0.8788\n",
            "Epoch 14/30\n",
            "5/5 [==============================] - 0s 19ms/step - loss: 0.2398 - accuracy: 0.9318\n",
            "Epoch 15/30\n",
            "5/5 [==============================] - 0s 17ms/step - loss: 0.2210 - accuracy: 0.9242\n",
            "Epoch 16/30\n",
            "5/5 [==============================] - 0s 16ms/step - loss: 0.2261 - accuracy: 0.9318\n",
            "Epoch 17/30\n",
            "5/5 [==============================] - 0s 16ms/step - loss: 0.1513 - accuracy: 0.9470\n",
            "Epoch 18/30\n",
            "5/5 [==============================] - 0s 17ms/step - loss: 0.0800 - accuracy: 0.9773\n",
            "Epoch 19/30\n",
            "5/5 [==============================] - 0s 16ms/step - loss: 0.0785 - accuracy: 0.9697\n",
            "Epoch 20/30\n",
            "5/5 [==============================] - 0s 16ms/step - loss: 0.0657 - accuracy: 0.9848\n",
            "Epoch 21/30\n",
            "5/5 [==============================] - 0s 17ms/step - loss: 0.0392 - accuracy: 1.0000\n",
            "Epoch 22/30\n",
            "5/5 [==============================] - 0s 15ms/step - loss: 0.0248 - accuracy: 1.0000\n",
            "Epoch 23/30\n",
            "5/5 [==============================] - 0s 18ms/step - loss: 0.0178 - accuracy: 1.0000\n",
            "Epoch 24/30\n",
            "5/5 [==============================] - 0s 17ms/step - loss: 0.0143 - accuracy: 1.0000\n",
            "Epoch 25/30\n",
            "5/5 [==============================] - 0s 16ms/step - loss: 0.0130 - accuracy: 1.0000\n",
            "Epoch 26/30\n",
            "5/5 [==============================] - 0s 16ms/step - loss: 0.0091 - accuracy: 1.0000\n",
            "Epoch 27/30\n",
            "5/5 [==============================] - 0s 16ms/step - loss: 0.0086 - accuracy: 1.0000\n",
            "Epoch 28/30\n",
            "5/5 [==============================] - 0s 18ms/step - loss: 0.0083 - accuracy: 1.0000\n",
            "Epoch 29/30\n",
            "5/5 [==============================] - 0s 21ms/step - loss: 0.0061 - accuracy: 1.0000\n",
            "Epoch 30/30\n",
            "5/5 [==============================] - 0s 16ms/step - loss: 0.0055 - accuracy: 1.0000\n"
          ]
        },
        {
          "output_type": "execute_result",
          "data": {
            "text/plain": [
              "<keras.callbacks.History at 0x7effd0138510>"
            ]
          },
          "metadata": {},
          "execution_count": 26
        }
      ]
    },
    {
      "cell_type": "code",
      "source": [
        "X_test_embs = convert_sentences_to_embeddings(X_test)\n",
        "print(X_test_embs.shape)\n",
        "model2.evaluate(X_test_embs, Y_test_oh)"
      ],
      "metadata": {
        "colab": {
          "base_uri": "https://localhost:8080/"
        },
        "id": "s8QzLIweRPMI",
        "outputId": "4c7b1fd3-ce20-4cb0-b250-1acb1fc6f7ff"
      },
      "execution_count": 27,
      "outputs": [
        {
          "output_type": "stream",
          "name": "stdout",
          "text": [
            "(56, 10, 50)\n",
            "2/2 [==============================] - 1s 8ms/step - loss: 0.6367 - accuracy: 0.8214\n"
          ]
        },
        {
          "output_type": "execute_result",
          "data": {
            "text/plain": [
              "[0.6366869211196899, 0.8214285969734192]"
            ]
          },
          "metadata": {},
          "execution_count": 27
        }
      ]
    },
    {
      "cell_type": "code",
      "source": [
        "# Inference\n",
        "X_me = np.array([\"not sad\", \"i adore you\", \"i love you\", \"funny lol\", \"lets play with a ball\", \"food is ready\", \"not feeling happy\", \"not good\"])\n",
        "Y_me = np.array([2, 0, 0, 2, 1, 4, 3, 3])\n",
        "X_me_embed = convert_sentences_to_embeddings(X_me) \n",
        "\n",
        "pred = model2.predict(X_me_embed)\n",
        "prediction = []\n",
        "\n",
        "for i in range(X_me.shape[0]):\n",
        "  prediction.append(np.argmax(pred[i]))\n",
        "  print(X_me[i], label_to_emoji(np.argmax(pred[i])))\n",
        "\n",
        "print(\"\")\n",
        "print(\"Number of classification error\", len(np.nonzero(Y_me-prediction)))"
      ],
      "metadata": {
        "colab": {
          "base_uri": "https://localhost:8080/"
        },
        "id": "fBkfCOciRrto",
        "outputId": "049428d7-b936-47b8-86e2-c1358f0c2873"
      },
      "execution_count": 74,
      "outputs": [
        {
          "output_type": "stream",
          "name": "stdout",
          "text": [
            "1/1 [==============================] - 0s 20ms/step\n",
            "not sad 😔\n",
            "i adore you ❤️\n",
            "i love you ❤️\n",
            "funny lol 😂\n",
            "lets play with a ball ⚽\n",
            "food is ready 🍽️\n",
            "not feeling happy 😔\n",
            "not good 😔\n",
            "\n",
            "Number of classification error 1\n"
          ]
        }
      ]
    },
    {
      "cell_type": "code",
      "source": [],
      "metadata": {
        "id": "cY3JYk68vaXA"
      },
      "execution_count": null,
      "outputs": []
    }
  ]
}